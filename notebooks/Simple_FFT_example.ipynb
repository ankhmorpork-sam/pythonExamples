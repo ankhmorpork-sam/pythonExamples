{
 "cells": [
  {
   "cell_type": "code",
   "execution_count": 1,
   "metadata": {},
   "outputs": [],
   "source": [
    "%matplotlib inline\n",
    "import heapq\n",
    "import matplotlib.pyplot as plt\n",
    "import numpy as np\n",
    "\n",
    "from ipywidgets import widgets\n",
    "from IPython.display import display\n",
    "from ipywidgets import interact"
   ]
  },
  {
   "cell_type": "markdown",
   "metadata": {},
   "source": [
    "## Widget layout and functionality for input"
   ]
  },
  {
   "cell_type": "code",
   "execution_count": 2,
   "metadata": {},
   "outputs": [],
   "source": [
    "class signal_input():\n",
    "    def __init__(self,\n",
    "                 ts=1,  # sec\n",
    "                 fin50=True,\n",
    "                 fin50_amp=1,\n",
    "                 fin70=False,\n",
    "                 fin70_amp=1,\n",
    "                 fs=1000,  # Hz\n",
    "                 noise=0,\n",
    "                 padd=False,\n",
    "                ):\n",
    "        header_layout = {'width':'400px', 'min_width':'400px', 'height':'28px', 'min_height':'28px'}\n",
    "        text_style = {'description_width': 'initial'}\n",
    "        text_layout = {'width':'50px', 'min_width':'50px'}\n",
    "\n",
    "        \n",
    "        ts_label = widgets.Button(description='Signal length [seconds]',\n",
    "                                  disabled=True,\n",
    "                                  button_style='',\n",
    "                                  tooltip='',\n",
    "                                  icon='',\n",
    "                                  layout=header_layout)\n",
    "        self.ts_text = widgets.Text(value=str(ts),\n",
    "                                    placeholder='Signal length [s]',\n",
    "                                    disabled=False,\n",
    "                                    layout=text_layout,\n",
    "                                    style=text_style)\n",
    "        \n",
    "        noise_label = widgets.Button(description='Amplitude of added noise',\n",
    "                                     disabled=True,\n",
    "                                     button_style='',\n",
    "                                     tooltip='',\n",
    "                                     icon='',\n",
    "                                     layout=header_layout)\n",
    "        self.noise = widgets.Text(value=str(noise),\n",
    "                                  placeholder='Additive noise',\n",
    "                                  disabled=False,\n",
    "                                  layout=text_layout,\n",
    "                                  style=text_style)\n",
    "\n",
    "        fin_label = widgets.Button(description='Signal frequency',\n",
    "                                   disabled=True,\n",
    "                                   button_style='',\n",
    "                                   tooltip='',\n",
    "                                   icon='',\n",
    "                                   layout=header_layout)\n",
    "        self.fin50 = widgets.Checkbox(value=fin50,\n",
    "                                      description='50 Hz',\n",
    "                                      disabled=False,\n",
    "                                      indent=False)        \n",
    "        self.fin50_text = widgets.Text(value=str(fin50_amp),\n",
    "                                       placeholder='Amplitude (0 < x < 1)',\n",
    "                                       disabled=False,\n",
    "                                       layout=text_layout,\n",
    "                                       style=text_style)\n",
    "        fin50_label = widgets.Button(description='Signal amplitude (0 < x < 1)',\n",
    "                                     disabled=True,\n",
    "                                     button_style='',\n",
    "                                     tooltip='',\n",
    "                                     icon='',\n",
    "                                     layout=header_layout)\n",
    "        \n",
    "        self.fin70 = widgets.Checkbox(value=fin70,\n",
    "                                      description='70 Hz',\n",
    "                                      disabled=False,\n",
    "                                      indent=False) \n",
    "        self.fin70_text = widgets.Text(value=str(fin70_amp),\n",
    "                                       placeholder='Amplitude (0 < x < 1)',\n",
    "                                       disabled=False,\n",
    "                                       layout=text_layout,\n",
    "                                       style=text_style)\n",
    "        fin70_label = widgets.Button(description='Signal amplitude (0 < x < 1)',\n",
    "                                     disabled=True,\n",
    "                                     button_style='',\n",
    "                                     tooltip='',\n",
    "                                     icon='',\n",
    "                                     layout=header_layout)\n",
    "\n",
    "        padd_label = widgets.Button(description='Padd signal for FFT calculation',\n",
    "                                    disabled=True,\n",
    "                                    button_style='',\n",
    "                                    tooltip='',\n",
    "                                    icon='',\n",
    "                                    layout=header_layout)\n",
    "        self.padd = widgets.Checkbox(value=padd,\n",
    "                                     description='Apply padding',\n",
    "                                     disabled=False,\n",
    "                                     indent=False)        \n",
    "\n",
    "        fs_label = widgets.Button(description='Samples per seconds [Hz]',\n",
    "                                  disabled=True,\n",
    "                                  button_style='',\n",
    "                                  tooltip='',\n",
    "                                  icon='',\n",
    "                                  layout=header_layout)\n",
    "        self.fs = widgets.IntSlider(value=fs,\n",
    "                                    min=100,\n",
    "                                    max=3000,\n",
    "                                    step=10,\n",
    "                                    disabled=False,\n",
    "                                    continuous_update=False,\n",
    "                                    orientation='horizontal',\n",
    "                                    readout=True,\n",
    "                                    readout_format='d') \n",
    "        \n",
    "        self.generate_plot = widgets.Button(description='Generate plot',\n",
    "                                            layout={'width':'auto'})\n",
    "\n",
    "        texts =  widgets.HBox([ts_label, self.ts_text])\n",
    "        fin50 = widgets.HBox([self.fin50, self.fin50_text, fin50_label])\n",
    "        fin70 = widgets.HBox([self.fin70, self.fin70_text, fin70_label])\n",
    "        fin = widgets.HBox([fin_label, widgets.VBox([fin50, fin70])])\n",
    "        noise = widgets.HBox([noise_label, self.noise])\n",
    "        padding = widgets.HBox([padd_label, self.padd])\n",
    "        fs = widgets.HBox([fs_label, self.fs])\n",
    "        self.ui = widgets.VBox([texts, noise, fin, padding, fs, self.generate_plot])"
   ]
  },
  {
   "cell_type": "markdown",
   "metadata": {},
   "source": [
    "## FFT functionality"
   ]
  },
  {
   "cell_type": "code",
   "execution_count": 3,
   "metadata": {},
   "outputs": [],
   "source": [
    "def generateSine(fs,             # sampling frequency [Hz]\n",
    "                 fin,            # signal frequency [Hz]\n",
    "                 amplitude=[1.], # amplitude\n",
    "                 time=0.,        # signal generation time [sec]\n",
    "                 noise=0.):      # amplitude of additive white noise\n",
    "    # simulate time vector\n",
    "    t = np.arange(0, time, 1./fs) # [s]\n",
    "\n",
    "    fin = np.array(fin)\n",
    "    a = np.array(amplitude)\n",
    "    if len(amplitude) != len(fin):\n",
    "        if len(amplitude) == 1:\n",
    "            a = np.ones(fin.shape)\n",
    "        if len(amplitude) > len(fin):\n",
    "            noise_amp = a[-1]\n",
    "            a = a[:len(fin)]\n",
    "\n",
    "    # generate signal\n",
    "    signal = np.zeros(t.shape) # generate 0 vector of lenght 't'\n",
    "    for i in range(0, len(fin)):\n",
    "        signal = signal + amplitude[i]*np.sin(2*np.pi*fin[i]*t)\n",
    "\n",
    "    # add white noise to the signal\n",
    "    if noise > 0:\n",
    "        thenoise = np.random.randn(len(t),1)\n",
    "        signal = signal + thenoise.transpose().flatten()\n",
    "\n",
    "    return [t, signal]"
   ]
  },
  {
   "cell_type": "code",
   "execution_count": 4,
   "metadata": {},
   "outputs": [],
   "source": [
    "def FFT(fs,                 # sampling frequency [Hz]\n",
    "        data,               # sequence to process\n",
    "        withpadding=False): # add zero padding to FFT (generally only for noisy signals)\n",
    "    # Remove DC components\n",
    "    data = data - np.mean(data)\n",
    "    # Compute the FFT of the captured signal using an algorithm for the MATLAB helpdesk\n",
    "    L = len(data)\n",
    "    NFFT = L\n",
    "    if withpadding:\n",
    "        # Get the next power of 2 from the length of the data series\n",
    "        NFFT=int(2**np.ceil(np.log2(L)))\n",
    "\n",
    "    # Now use the fft function to compute the DFT of the sequence.\n",
    "    # Division by L because we want to use the fft to approximate\n",
    "    # the continuous Fourier transform under the assumption\n",
    "    # that the signal samples in y were taken at intervals of dt=1/L\n",
    "    Fourier = np.fft.fft(data, NFFT)/L\n",
    "\n",
    "    # All the following computation assumes that Fourier is a complex array -- ensure this assumption\n",
    "    if not np.iscomplexobj(Fourier):\n",
    "        # Make real array as complex with zero imaginary components\n",
    "        Fourier = np.array(Fourier, dtype=np.complex)\n",
    "\n",
    "    # Use the abs function to obtain the magnitude of the data, the angle\n",
    "    # function to obtain the phase information, and unwrap to remove phase\n",
    "    # jumps greater than pi to their 2*pi complement\n",
    "    # Magnitude\n",
    "    magnitude = 2*np.abs(Fourier[1:NFFT//2])\n",
    "    # The two-sided amplitude spectrum shows half the peak amplitude at the\n",
    "    # positive and half at the negative frequencies. To convert to the\n",
    "    # single-sided form, multiply each frequency other than DC by two, and\n",
    "    # discard the second half o the array\n",
    "    # Phase\n",
    "    phase = np.unwrap(np.angle(Fourier[1:NFFT//2])) # unwrapping needs to happen in radians!!\n",
    "\n",
    "    # Frequencies corresponding to FFT\n",
    "    frequencies = np.fft.fftfreq(NFFT, 1./fs)[1:NFFT//2]\n",
    "\n",
    "    return [frequencies, magnitude, phase]"
   ]
  },
  {
   "cell_type": "code",
   "execution_count": 5,
   "metadata": {},
   "outputs": [],
   "source": [
    "def displayFFT(wdgt):\n",
    "    fin = []\n",
    "    amplitude = []\n",
    "    if wdgt.fin50.value:\n",
    "        fin.append(50.)\n",
    "        amplitude.append(float(wdgt.fin50_text.value))\n",
    "    if wdgt.fin70.value:\n",
    "        fin.append(70.)\n",
    "        amplitude.append(float(wdgt.fin70_text.value))\n",
    "    if len(fin) < 1:\n",
    "        raise RuntimeError ('Select at least one signal frequency')\n",
    "    fs = wdgt.fs.value\n",
    "    ts = float(wdgt.ts_text.value)\n",
    "    noise = float(wdgt.noise.value)\n",
    "    padd = wdgt.padd.value\n",
    "    \n",
    "    msg = 'Signal = generateSine({:d}, {}, amplitude={}, time={:.1f}, noise={:.1f})'.format(\n",
    "          fs, fin, amplitude, ts, noise)\n",
    "    display(widgets.Label(value=msg))\n",
    "    [sampletime, sinewave] = generateSine(fs, fin, amplitude=amplitude, time=ts, noise=noise)\n",
    "    fig, ax = plt.subplots(nrows=1, ncols=1,\n",
    "                           facecolor='white',\n",
    "                           figsize=(15, 3))  # W x H\n",
    "    fig.set_canvas(plt.gcf().canvas)\n",
    "    plt.subplots_adjust(hspace=0,wspace=0)    \n",
    "    ax.plot(sampletime, sinewave,'b')\n",
    "    ax.set_ylabel('Sine Wave')\n",
    "    ax.set_xlabel('Time [sec]')\n",
    "    \n",
    "    [spectrum, magnitude, phase] = FFT(fs, sinewave, withpadding=padd)\n",
    "    if len(magnitude) > 1:\n",
    "        largest2_value = heapq.nlargest(2, magnitude)\n",
    "        largest2_index = list(map(list(magnitude).index, largest2_value))\n",
    "        msg_amp = 'Amplitude spectrum = [{:4.2f}, {:4.2f}] [V]]'.format(\n",
    "                  largest2_value[0], largest2_value[1])\n",
    "        msg_freq = 'Fundamental frequency from FFT = [{:4.2f}, {:4.2f}] [Hz]'.format(\n",
    "                   spectrum[largest2_index[0]], spectrum[largest2_index[1]])\n",
    "    else:\n",
    "        msg_amp = 'Amplitude spectrum = {:4.2f} [V]'.format(np.max(magnitude))\n",
    "        msg_freq = 'Fundamental frequency from FFT = {:4.2f} [Hz]'.format(spectrum[np.argmax(magnitude)])\n",
    "\n",
    "    display(widgets.Label(value=msg_amp))\n",
    "    display(widgets.Label(value=msg_freq))\n",
    "    fig, ax = plt.subplots(nrows=2, ncols=1,\n",
    "                           facecolor='white',\n",
    "                           figsize=(15, 5))  # W x H\n",
    "    fig.set_canvas(plt.gcf().canvas)\n",
    "    plt.subplots_adjust(hspace=0,wspace=0)        \n",
    "    # amplitude spectrum = amplitude vs frequency\n",
    "    # power spectrum = power vs frequency\n",
    "    # power = 20*np.log10(amplitude)\n",
    "    ax[0].plot(spectrum, magnitude, 'b')\n",
    "    ax[0].set_ylabel('Magnitude [V]')\n",
    "\n",
    "    # phase spectrum = phase vs frequency\n",
    "    ax[1].plot(spectrum, phase, 'b')\n",
    "    ax[1].set_ylabel('Phase [Deg]')\n",
    "    ax[1].set_xlabel('Frequency [Hertz]')"
   ]
  },
  {
   "cell_type": "markdown",
   "metadata": {},
   "source": [
    "## Generate a single frequency sinewave"
   ]
  },
  {
   "cell_type": "code",
   "execution_count": 6,
   "metadata": {},
   "outputs": [
    {
     "data": {
      "application/vnd.jupyter.widget-view+json": {
       "model_id": "ced46d90e49f40e5bdd400ffab1562dc",
       "version_major": 2,
       "version_minor": 0
      },
      "text/plain": [
       "Label(value='Signal = generateSine(1000, [50.0], amplitude=[1.0], time=0.3, noise=0.0)')"
      ]
     },
     "metadata": {},
     "output_type": "display_data"
    },
    {
     "data": {
      "application/vnd.jupyter.widget-view+json": {
       "model_id": "ca59d224d4014163be8e4b98f9c1d5ac",
       "version_major": 2,
       "version_minor": 0
      },
      "text/plain": [
       "Label(value='Amplitude spectrum = [1.00, 0.00] [V]]')"
      ]
     },
     "metadata": {},
     "output_type": "display_data"
    },
    {
     "data": {
      "application/vnd.jupyter.widget-view+json": {
       "model_id": "fbb6545ca9894126bb7a3c13bcc449e0",
       "version_major": 2,
       "version_minor": 0
      },
      "text/plain": [
       "Label(value='Fundamental frequency from FFT = [50.00, 63.33] [Hz]')"
      ]
     },
     "metadata": {},
     "output_type": "display_data"
    },
    {
     "data": {
      "image/png": "[encoded data removed]",
      "text/plain": [
       "<Figure size 1080x216 with 1 Axes>"
      ]
     },
     "metadata": {},
     "output_type": "display_data"
    },
    {
     "data": {
      "image/png": "[encoded data removed]",
      "text/plain": [
       "<Figure size 1080x360 with 2 Axes>"
      ]
     },
     "metadata": {},
     "output_type": "display_data"
    }
   ],
   "source": [
    "displayFFT(signal_input(ts=0.3))"
   ]
  },
  {
   "cell_type": "markdown",
   "metadata": {},
   "source": [
    "## Generate a single frequency sinewave with noise"
   ]
  },
  {
   "cell_type": "code",
   "execution_count": 7,
   "metadata": {},
   "outputs": [
    {
     "data": {
      "application/vnd.jupyter.widget-view+json": {
       "model_id": "8e8a23ac15df4e079b013dbc6e223c4c",
       "version_major": 2,
       "version_minor": 0
      },
      "text/plain": [
       "Label(value='Signal = generateSine(1000, [50.0], amplitude=[1.0], time=0.3, noise=0.2)')"
      ]
     },
     "metadata": {},
     "output_type": "display_data"
    },
    {
     "data": {
      "application/vnd.jupyter.widget-view+json": {
       "model_id": "a015b42ce12c4896b2db4a318d941e1e",
       "version_major": 2,
       "version_minor": 0
      },
      "text/plain": [
       "Label(value='Amplitude spectrum = [0.81, 0.79] [V]]')"
      ]
     },
     "metadata": {},
     "output_type": "display_data"
    },
    {
     "data": {
      "application/vnd.jupyter.widget-view+json": {
       "model_id": "b604eddc83494a81a9fb82c731387656",
       "version_major": 2,
       "version_minor": 0
      },
      "text/plain": [
       "Label(value='Fundamental frequency from FFT = [50.78, 48.83] [Hz]')"
      ]
     },
     "metadata": {},
     "output_type": "display_data"
    },
    {
     "data": {
      "image/png": "[encoded data removed]",
      "text/plain": [
       "<Figure size 1080x216 with 1 Axes>"
      ]
     },
     "metadata": {},
     "output_type": "display_data"
    },
    {
     "data": {
      "image/png": "[encoded data removed]",
      "text/plain": [
       "<Figure size 1080x360 with 2 Axes>"
      ]
     },
     "metadata": {},
     "output_type": "display_data"
    }
   ],
   "source": [
    "# Padding the FFT of a noisy signal improves the phase information\n",
    "displayFFT(signal_input(ts=0.3, noise=0.2, padd=True))"
   ]
  },
  {
   "cell_type": "markdown",
   "metadata": {},
   "source": [
    "## Generate a multiple frequency sinewave"
   ]
  },
  {
   "cell_type": "code",
   "execution_count": 8,
   "metadata": {},
   "outputs": [
    {
     "data": {
      "application/vnd.jupyter.widget-view+json": {
       "model_id": "56fe77cbd01444ee965dcdf99f63f0c4",
       "version_major": 2,
       "version_minor": 0
      },
      "text/plain": [
       "Label(value='Signal = generateSine(1000, [50.0, 70.0], amplitude=[1.0, 0.3], time=0.3, noise=0.0)')"
      ]
     },
     "metadata": {},
     "output_type": "display_data"
    },
    {
     "data": {
      "application/vnd.jupyter.widget-view+json": {
       "model_id": "a28c305a8c784ea28a308063a6c394b4",
       "version_major": 2,
       "version_minor": 0
      },
      "text/plain": [
       "Label(value='Amplitude spectrum = [1.00, 0.30] [V]]')"
      ]
     },
     "metadata": {},
     "output_type": "display_data"
    },
    {
     "data": {
      "application/vnd.jupyter.widget-view+json": {
       "model_id": "ae9e1eefcc6d41ca8d415efb42e430d5",
       "version_major": 2,
       "version_minor": 0
      },
      "text/plain": [
       "Label(value='Fundamental frequency from FFT = [50.00, 70.00] [Hz]')"
      ]
     },
     "metadata": {},
     "output_type": "display_data"
    },
    {
     "data": {
      "image/png": "[encoded data removed]",
      "text/plain": [
       "<Figure size 1080x216 with 1 Axes>"
      ]
     },
     "metadata": {},
     "output_type": "display_data"
    },
    {
     "data": {
      "image/png": "[encoded data removed]",
      "text/plain": [
       "<Figure size 1080x360 with 2 Axes>"
      ]
     },
     "metadata": {},
     "output_type": "display_data"
    }
   ],
   "source": [
    "displayFFT(signal_input(ts=0.3, fin50=True, fin50_amp=1, fin70=True, fin70_amp=0.3))"
   ]
  },
  {
   "cell_type": "markdown",
   "metadata": {},
   "source": [
    "## Generate a multiple frequency sinewave with noise"
   ]
  },
  {
   "cell_type": "code",
   "execution_count": 9,
   "metadata": {},
   "outputs": [
    {
     "data": {
      "application/vnd.jupyter.widget-view+json": {
       "model_id": "f8b57cda21c04793bf4d6cce6766489c",
       "version_major": 2,
       "version_minor": 0
      },
      "text/plain": [
       "Label(value='Signal = generateSine(1000, [50.0, 70.0], amplitude=[1.0, 0.3], time=0.3, noise=0.2)')"
      ]
     },
     "metadata": {},
     "output_type": "display_data"
    },
    {
     "data": {
      "application/vnd.jupyter.widget-view+json": {
       "model_id": "3ac3f716d77d49768231ab7ac21466d9",
       "version_major": 2,
       "version_minor": 0
      },
      "text/plain": [
       "Label(value='Amplitude spectrum = [0.96, 0.95] [V]]')"
      ]
     },
     "metadata": {},
     "output_type": "display_data"
    },
    {
     "data": {
      "application/vnd.jupyter.widget-view+json": {
       "model_id": "7b5ee51d00af4ab8ac1ddb4876a43164",
       "version_major": 2,
       "version_minor": 0
      },
      "text/plain": [
       "Label(value='Fundamental frequency from FFT = [50.78, 48.83] [Hz]')"
      ]
     },
     "metadata": {},
     "output_type": "display_data"
    },
    {
     "data": {
      "image/png": "[encoded data removed]",
      "text/plain": [
       "<Figure size 1080x216 with 1 Axes>"
      ]
     },
     "metadata": {},
     "output_type": "display_data"
    },
    {
     "data": {
      "image/png": "[encoded data removed]",
      "text/plain": [
       "<Figure size 1080x360 with 2 Axes>"
      ]
     },
     "metadata": {},
     "output_type": "display_data"
    }
   ],
   "source": [
    "displayFFT(signal_input(ts=0.3, fin50=True, fin50_amp=1, fin70=True, fin70_amp=0.3, noise=0.2, padd=True))"
   ]
  },
  {
   "cell_type": "markdown",
   "metadata": {},
   "source": [
    "## Generate your own signal"
   ]
  },
  {
   "cell_type": "code",
   "execution_count": 10,
   "metadata": {
    "scrolled": false
   },
   "outputs": [
    {
     "data": {
      "application/vnd.jupyter.widget-view+json": {
       "model_id": "0e5c2dcf771e49e9a03564c26088b6bd",
       "version_major": 2,
       "version_minor": 0
      },
      "text/plain": [
       "VBox(children=(HBox(children=(Button(description='Signal length [seconds]', disabled=True, layout=Layout(heigh…"
      ]
     },
     "metadata": {},
     "output_type": "display_data"
    }
   ],
   "source": [
    "from IPython.display import clear_output\n",
    "input_ = signal_input()\n",
    "display(input_.ui)\n",
    "\n",
    "def on_button_clicked(b):\n",
    "    clear_output(wait=True)\n",
    "    display(input_.ui)\n",
    "    displayFFT(input_)\n",
    "\n",
    "input_.generate_plot.on_click(on_button_clicked)"
   ]
  },
  {
   "cell_type": "code",
   "execution_count": null,
   "metadata": {},
   "outputs": [],
   "source": []
  }
 ],
 "metadata": {
  "finalized": {
   "timestamp": 1590755059372,
   "trusted": true
  },
  "kernelspec": {
   "display_name": "Python 3",
   "language": "python",
   "name": "python3"
  },
  "language_info": {
   "codemirror_mode": {
    "name": "ipython",
    "version": 3
   },
   "file_extension": ".py",
   "mimetype": "text/x-python",
   "name": "python",
   "nbconvert_exporter": "python",
   "pygments_lexer": "ipython3",
   "version": "3.6.9"
  },
  "widgets": {
   "application/vnd.jupyter.widget-state+json": {
    "state": {
     "000e79c1c0d24dc3bc6e6b3310c13843": {
      "model_module": "@jupyter-widgets/controls",
      "model_module_version": "1.5.0",
      "model_name": "HBoxModel",
      "state": {
       "children": [
        "IPY_MODEL_6546e007bd4a493e95ae903182fd8181",
        "IPY_MODEL_8a0009b215484908bac68bf6e48bf637",
        "IPY_MODEL_24755f9c4f9e419aa3726151f29550b9"
       ],
       "layout": "IPY_MODEL_88f61b227cfd40239daa863c14d55e53"
      }
     },
     "0021085be7f045efb94fb99bd1bdbf9f": {
      "model_module": "@jupyter-widgets/base",
      "model_module_version": "1.2.0",
      "model_name": "LayoutModel",
      "state": {}
     },
     "00539ac1351b475782a1bbb2df332f91": {
      "model_module": "@jupyter-widgets/controls",
      "model_module_version": "1.5.0",
      "model_name": "DescriptionStyleModel",
      "state": {
       "description_width": ""
      }
     },
     "0084480a89694e8cb0a28b390bdd5cc3": {
      "model_module": "@jupyter-widgets/base",
      "model_module_version": "1.2.0",
      "model_name": "LayoutModel",
      "state": {}
     },
     "00ab8d2ee85a4365bb2ac6bb0b7d2581": {
      "model_module": "@jupyter-widgets/base",
      "model_module_version": "1.2.0",
      "model_name": "LayoutModel",
      "state": {
       "height": "28px",
       "min_height": "28px",
       "min_width": "400px",
       "width": "400px"
      }
     },
     "0109bb4d2467417fae6a69af4e4beba8": {
      "model_module": "@jupyter-widgets/controls",
      "model_module_version": "1.5.0",
      "model_name": "DescriptionStyleModel",
      "state": {
       "description_width": ""
      }
     },
     "012ff9f9926b4639a23b3c13bb7087ae": {
      "model_module": "@jupyter-widgets/controls",
      "model_module_version": "1.5.0",
      "model_name": "ButtonModel",
      "state": {
       "description": "Signal amplitude (0 < x < 1)",
       "disabled": true,
       "layout": "IPY_MODEL_6401f4b09112476f9f3ac10d449060eb",
       "style": "IPY_MODEL_ac972f6c9fc3474aa47aeb09f4ff5b98"
      }
     },
     "0161be9c221e45ff8adcc48bfd8559c1": {
      "model_module": "@jupyter-widgets/controls",
      "model_module_version": "1.5.0",
      "model_name": "ButtonStyleModel",
      "state": {}
     },
     "02706d2c30094b43b37d75dce8d35545": {
      "model_module": "@jupyter-widgets/controls",
      "model_module_version": "1.5.0",
      "model_name": "CheckboxModel",
      "state": {
       "description": "Apply padding",
       "disabled": false,
       "indent": false,
       "layout": "IPY_MODEL_9523274050c64c75a916809c23410d4e",
       "style": "IPY_MODEL_2e839534d59b495bb01ef591f48d1763",
       "value": true
      }
     },
     "02b4b5d8219e40f4850d22df970e7c67": {
      "model_module": "@jupyter-widgets/controls",
      "model_module_version": "1.5.0",
      "model_name": "HBoxModel",
      "state": {
       "children": [
        "IPY_MODEL_cd422a7979f246a993bc614afe5f96e2",
        "IPY_MODEL_7a2613900110485e8e1299afc2fb646c"
       ],
       "layout": "IPY_MODEL_a5e198b3dbfc4792b273370e35701644"
      }
     },
     "02cc0c567836491ba5fe501c73b85f48": {
      "model_module": "@jupyter-widgets/controls",
      "model_module_version": "1.5.0",
      "model_name": "TextModel",
      "state": {
       "layout": "IPY_MODEL_6c94d38e5ee44ada9b431617855c5a21",
       "placeholder": "Signal length [s]",
       "style": "IPY_MODEL_bc5b0ba2d9c841e09390d25b24734ce6",
       "value": "0.3"
      }
     },
     "02d5211f8fd14184b8ce35d5949676aa": {
      "model_module": "@jupyter-widgets/base",
      "model_module_version": "1.2.0",
      "model_name": "LayoutModel",
      "state": {
       "height": "28px",
       "min_height": "28px",
       "min_width": "400px",
       "width": "400px"
      }
     },
     "03001568735b404299207dc4f39bd8f3": {
      "model_module": "@jupyter-widgets/controls",
      "model_module_version": "1.5.0",
      "model_name": "HBoxModel",
      "state": {
       "children": [
        "IPY_MODEL_4cf5b4a51dcb48fab7f284296a3abe85",
        "IPY_MODEL_cd2c6040d6834dd29b4a5b4f9e4c3318",
        "IPY_MODEL_78c92fcab2344c0cb53c468cfae409bf"
       ],
       "layout": "IPY_MODEL_f3fc3f3444ab48cb9b44782dfc627b44"
      }
     },
     "0300966227594270b1f0f959205787f6": {
      "model_module": "@jupyter-widgets/controls",
      "model_module_version": "1.5.0",
      "model_name": "ButtonStyleModel",
      "state": {}
     },
     "031cde479a9148ddb7c9c140290f1bf6": {
      "model_module": "@jupyter-widgets/controls",
      "model_module_version": "1.5.0",
      "model_name": "ButtonStyleModel",
      "state": {}
     },
     "032ad1636d60496c8685c9436c00334f": {
      "model_module": "@jupyter-widgets/base",
      "model_module_version": "1.2.0",
      "model_name": "LayoutModel",
      "state": {}
     },
     "033654e5ba4041a1b2b4e7f582826639": {
      "model_module": "@jupyter-widgets/controls",
      "model_module_version": "1.5.0",
      "model_name": "ButtonStyleModel",
      "state": {}
     },
     "03ca3d400bd74795a378acb3b8feca95": {
      "model_module": "@jupyter-widgets/base",
      "model_module_version": "1.2.0",
      "model_name": "LayoutModel",
      "state": {
       "height": "28px",
       "min_height": "28px",
       "min_width": "400px",
       "width": "400px"
      }
     },
     "03e52709f8e148d8b2cf8dae46c3fcce": {
      "model_module": "@jupyter-widgets/base",
      "model_module_version": "1.2.0",
      "model_name": "LayoutModel",
      "state": {}
     },
     "03f53a0723d54a90a8058f3e24b65e24": {
      "model_module": "@jupyter-widgets/controls",
      "model_module_version": "1.5.0",
      "model_name": "DescriptionStyleModel",
      "state": {
       "description_width": "initial"
      }
     },
     "040c355ff7144b57818fb7601d9d5bb8": {
      "model_module": "@jupyter-widgets/controls",
      "model_module_version": "1.5.0",
      "model_name": "SliderStyleModel",
      "state": {
       "description_width": ""
      }
     },
     "0425accb3c954bc4af3c051cbfebd9cb": {
      "model_module": "@jupyter-widgets/base",
      "model_module_version": "1.2.0",
      "model_name": "LayoutModel",
      "state": {}
     },
     "04feee54529c48d294a6b98684d4cdb9": {
      "model_module": "@jupyter-widgets/controls",
      "model_module_version": "1.5.0",
      "model_name": "VBoxModel",
      "state": {
       "children": [
        "IPY_MODEL_89e09dcf38ea414c8b34e2db5cca26b1",
        "IPY_MODEL_9568ab78929b48f8b4aa140233ff8751"
       ],
       "layout": "IPY_MODEL_7b0fa198b7424de8b0a582c791364838"
      }
     },
     "0551120443e741028efa9b2d8393968a": {
      "model_module": "@jupyter-widgets/controls",
      "model_module_version": "1.5.0",
      "model_name": "DescriptionStyleModel",
      "state": {
       "description_width": ""
      }
     },
     "05a0259a4b984e7cbbd39f9eb0c3d076": {
      "model_module": "@jupyter-widgets/controls",
      "model_module_version": "1.5.0",
      "model_name": "ButtonStyleModel",
      "state": {}
     },
     "05bf8b5220ea4b80908dfdb5101e099f": {
      "model_module": "@jupyter-widgets/controls",
      "model_module_version": "1.5.0",
      "model_name": "ButtonStyleModel",
      "state": {}
     },
     "05eee58d6ab14be39dca846d0ae2df16": {
      "model_module": "@jupyter-widgets/controls",
      "model_module_version": "1.5.0",
      "model_name": "SliderStyleModel",
      "state": {
       "description_width": ""
      }
     },
     "06641bd22dc24dda847eb094b39ccaf5": {
      "model_module": "@jupyter-widgets/base",
      "model_module_version": "1.2.0",
      "model_name": "LayoutModel",
      "state": {}
     },
     "0666cfe9715245fea4257a8982969573": {
      "model_module": "@jupyter-widgets/controls",
      "model_module_version": "1.5.0",
      "model_name": "HBoxModel",
      "state": {
       "children": [
        "IPY_MODEL_0c459d991a3045b2a99f0dea98e62a03",
        "IPY_MODEL_392da0d16b75480e98f7b59ab1d98c44"
       ],
       "layout": "IPY_MODEL_f5800729e3844d3b8a53b1843de8dfbb"
      }
     },
     "06f2b32bbc2348c59260ae1b142aec02": {
      "model_module": "@jupyter-widgets/base",
      "model_module_version": "1.2.0",
      "model_name": "LayoutModel",
      "state": {}
     },
     "0711bb20b76f4c3eacd13f3427a47d84": {
      "model_module": "@jupyter-widgets/base",
      "model_module_version": "1.2.0",
      "model_name": "LayoutModel",
      "state": {
       "min_width": "50px",
       "width": "50px"
      }
     },
     "07867b71a5594cccb2c84a33acc4240e": {
      "model_module": "@jupyter-widgets/base",
      "model_module_version": "1.2.0",
      "model_name": "LayoutModel",
      "state": {}
     },
     "07cb9c4846134d80ba3e43f9f7375748": {
      "model_module": "@jupyter-widgets/controls",
      "model_module_version": "1.5.0",
      "model_name": "VBoxModel",
      "state": {
       "children": [
        "IPY_MODEL_1fa5c6c1ecac4708b957fede6fb91636",
        "IPY_MODEL_4e640aba58a642359a5cb47bd998cc80"
       ],
       "layout": "IPY_MODEL_d9807fe3dca44f9187e0c9ba26328d03"
      }
     },
     "07d22553ccad41b6b47ccbb1154acaef": {
      "model_module": "@jupyter-widgets/base",
      "model_module_version": "1.2.0",
      "model_name": "LayoutModel",
      "state": {
       "height": "28px",
       "min_height": "28px",
       "min_width": "400px",
       "width": "400px"
      }
     },
     "07efad0e48e14da1842443e311c2f303": {
      "model_module": "@jupyter-widgets/controls",
      "model_module_version": "1.5.0",
      "model_name": "DescriptionStyleModel",
      "state": {
       "description_width": "initial"
      }
     },
     "08110c28923248bcbcf708050cc2c97f": {
      "model_module": "@jupyter-widgets/controls",
      "model_module_version": "1.5.0",
      "model_name": "LabelModel",
      "state": {
       "layout": "IPY_MODEL_1aed8b5322d342cd89c6d1fa0d55d7ea",
       "style": "IPY_MODEL_71a420aec1b1402cb2368fff50a67c16",
       "value": "Signal = generateSine(1000, [50.0], amplitude=[1.0], time=0.3, noise=0.0)"
      }
     },
     "081801891ee94ca697297bb12dd00971": {
      "model_module": "@jupyter-widgets/base",
      "model_module_version": "1.2.0",
      "model_name": "LayoutModel",
      "state": {
       "min_width": "50px",
       "width": "50px"
      }
     },
     "085585ed9cdc427ea371b83516264cc6": {
      "model_module": "@jupyter-widgets/controls",
      "model_module_version": "1.5.0",
      "model_name": "DescriptionStyleModel",
      "state": {
       "description_width": "initial"
      }
     },
     "086601eaad184457aab7bae63236bce0": {
      "model_module": "@jupyter-widgets/controls",
      "model_module_version": "1.5.0",
      "model_name": "ButtonModel",
      "state": {
       "description": "Samples per seconds [Hz]",
       "disabled": true,
       "layout": "IPY_MODEL_d24f5f98c6004503bbfbbb2079975d06",
       "style": "IPY_MODEL_131bfcc8d5f74ad09fe7a00a1bdd1860"
      }
     },
     "08799d123cf44452b1ed84dd3e2f89f8": {
      "model_module": "@jupyter-widgets/base",
      "model_module_version": "1.2.0",
      "model_name": "LayoutModel",
      "state": {}
     },
     "0898ebeabca94002830e75e2be92b1b3": {
      "model_module": "@jupyter-widgets/controls",
      "model_module_version": "1.5.0",
      "model_name": "SliderStyleModel",
      "state": {
       "description_width": ""
      }
     },
     "08b1a6517d864e58ac83d7124dffa29b": {
      "model_module": "@jupyter-widgets/base",
      "model_module_version": "1.2.0",
      "model_name": "LayoutModel",
      "state": {}
     },
     "08b5466fd5324f348c733a81e541304a": {
      "model_module": "@jupyter-widgets/base",
      "model_module_version": "1.2.0",
      "model_name": "LayoutModel",
      "state": {
       "min_width": "50px",
       "width": "50px"
      }
     },
     "08e40e5733f54c2cb783bf54750099d1": {
      "model_module": "@jupyter-widgets/controls",
      "model_module_version": "1.5.0",
      "model_name": "ButtonModel",
      "state": {
       "description": "Signal frequency",
       "disabled": true,
       "layout": "IPY_MODEL_d1cb74528f7a4db7b73839f296feaa27",
       "style": "IPY_MODEL_bf6ed718900545f384301e3c8726a13d"
      }
     },
     "09343906799e4d1fb656243c9509dff3": {
      "model_module": "@jupyter-widgets/base",
      "model_module_version": "1.2.0",
      "model_name": "LayoutModel",
      "state": {
       "height": "28px",
       "min_height": "28px",
       "min_width": "400px",
       "width": "400px"
      }
     },
     "09412538a9654b2cb58ec58f10bed982": {
      "model_module": "@jupyter-widgets/base",
      "model_module_version": "1.2.0",
      "model_name": "LayoutModel",
      "state": {}
     },
     "0990e5e42cd04ef8a19ae3837c698d3a": {
      "model_module": "@jupyter-widgets/controls",
      "model_module_version": "1.5.0",
      "model_name": "DescriptionStyleModel",
      "state": {
       "description_width": ""
      }
     },
     "09a6f112b9c949eeb28c51130a762bd8": {
      "model_module": "@jupyter-widgets/base",
      "model_module_version": "1.2.0",
      "model_name": "LayoutModel",
      "state": {}
     },
     "09dc10d0dbe848468e9d4f8fd4fc3a4f": {
      "model_module": "@jupyter-widgets/controls",
      "model_module_version": "1.5.0",
      "model_name": "ButtonStyleModel",
      "state": {}
     },
     "09e3787507294384b6c4095a38ad58ee": {
      "model_module": "@jupyter-widgets/controls",
      "model_module_version": "1.5.0",
      "model_name": "DescriptionStyleModel",
      "state": {
       "description_width": ""
      }
     },
     "0a513f805d594f5382ffdef1d1532172": {
      "model_module": "@jupyter-widgets/base",
      "model_module_version": "1.2.0",
      "model_name": "LayoutModel",
      "state": {}
     },
     "0a5f5ed41490466c9510c11e6e5a32b0": {
      "model_module": "@jupyter-widgets/controls",
      "model_module_version": "1.5.0",
      "model_name": "ButtonStyleModel",
      "state": {}
     },
     "0aa238fc60864d08866c49d2fad2659a": {
      "model_module": "@jupyter-widgets/controls",
      "model_module_version": "1.5.0",
      "model_name": "HBoxModel",
      "state": {
       "children": [
        "IPY_MODEL_9613558615674c03b4f1b4c1afe7996b",
        "IPY_MODEL_af203412150e4881be9e2a7afdc79135"
       ],
       "layout": "IPY_MODEL_b187f7039e8641a385b24766c639d37e"
      }
     },
     "0af457c0242447a0876664178487fcab": {
      "model_module": "@jupyter-widgets/controls",
      "model_module_version": "1.5.0",
      "model_name": "VBoxModel",
      "state": {
       "children": [
        "IPY_MODEL_4920636f9a4d499caf6a21135fca0c09",
        "IPY_MODEL_bb841ea201444a5f9d72397e0589e546"
       ],
       "layout": "IPY_MODEL_6301a3dad4fb4120b4562ede7255fc59"
      }
     },
     "0b41fc68650c4529b8f997dfce2f0652": {
      "model_module": "@jupyter-widgets/controls",
      "model_module_version": "1.5.0",
      "model_name": "ButtonStyleModel",
      "state": {}
     },
     "0b70a637c4274972b26dd8358956fa90": {
      "model_module": "@jupyter-widgets/controls",
      "model_module_version": "1.5.0",
      "model_name": "ButtonStyleModel",
      "state": {}
     },
     "0bcbda4c8c8144f58dd584d5640c5326": {
      "model_module": "@jupyter-widgets/base",
      "model_module_version": "1.2.0",
      "model_name": "LayoutModel",
      "state": {
       "height": "28px",
       "min_height": "28px",
       "min_width": "400px",
       "width": "400px"
      }
     },
     "0bd4cde090b64f07a9e05c6ac28f0094": {
      "model_module": "@jupyter-widgets/base",
      "model_module_version": "1.2.0",
      "model_name": "LayoutModel",
      "state": {}
     },
     "0c103c7d10f6471ea4419f72242f2602": {
      "model_module": "@jupyter-widgets/controls",
      "model_module_version": "1.5.0",
      "model_name": "IntSliderModel",
      "state": {
       "continuous_update": false,
       "layout": "IPY_MODEL_f23ee60a3e594c36b3794f6b1c69463f",
       "max": 3000,
       "min": 100,
       "step": 10,
       "style": "IPY_MODEL_05eee58d6ab14be39dca846d0ae2df16",
       "value": 1000
      }
     },
     "0c1bb92b3dc545c9ac9c15b144db1549": {
      "model_module": "@jupyter-widgets/base",
      "model_module_version": "1.2.0",
      "model_name": "LayoutModel",
      "state": {}
     },
     "0c459d991a3045b2a99f0dea98e62a03": {
      "model_module": "@jupyter-widgets/controls",
      "model_module_version": "1.5.0",
      "model_name": "ButtonModel",
      "state": {
       "description": "Padd signal for FFT calculation",
       "disabled": true,
       "layout": "IPY_MODEL_f18d95b363b54d21bbf673ab93e6a200",
       "style": "IPY_MODEL_39321e03e9d749ff955a86d4765d4352"
      }
     },
     "0cdb9ee7c0da4536b4e917c1da5235cc": {
      "model_module": "@jupyter-widgets/controls",
      "model_module_version": "1.5.0",
      "model_name": "ButtonStyleModel",
      "state": {}
     },
     "0cef3c23bd5e47cdba5659e022eacf58": {
      "model_module": "@jupyter-widgets/controls",
      "model_module_version": "1.5.0",
      "model_name": "ButtonModel",
      "state": {
       "description": "Signal amplitude (0 < x < 1)",
       "disabled": true,
       "layout": "IPY_MODEL_1d70f1ab00494961a6cc4cf921811ace",
       "style": "IPY_MODEL_cb74f88197bd44d8b1faaea43f1295b7"
      }
     },
     "0d5e1200dac54b289ed2fe4218ecf2f0": {
      "model_module": "@jupyter-widgets/base",
      "model_module_version": "1.2.0",
      "model_name": "LayoutModel",
      "state": {
       "height": "28px",
       "min_height": "28px",
       "min_width": "400px",
       "width": "400px"
      }
     },
     "0dcaec3931d1484fa6e7948d9b1f8b35": {
      "model_module": "@jupyter-widgets/base",
      "model_module_version": "1.2.0",
      "model_name": "LayoutModel",
      "state": {
       "height": "28px",
       "min_height": "28px",
       "min_width": "400px",
       "width": "400px"
      }
     },
     "0e19b57d41b641718db370c5599c3eba": {
      "model_module": "@jupyter-widgets/base",
      "model_module_version": "1.2.0",
      "model_name": "LayoutModel",
      "state": {}
     },
     "0e3ef805f3904377ac0fffb2d3238638": {
      "model_module": "@jupyter-widgets/base",
      "model_module_version": "1.2.0",
      "model_name": "LayoutModel",
      "state": {}
     },
     "0e5c2dcf771e49e9a03564c26088b6bd": {
      "model_module": "@jupyter-widgets/controls",
      "model_module_version": "1.5.0",
      "model_name": "VBoxModel",
      "state": {
       "children": [
        "IPY_MODEL_4f94bdb7f1a54c5197a804da6bbf8a2f",
        "IPY_MODEL_6ede9944ae9f4a81a02e00e7cf35bf7d",
        "IPY_MODEL_e1b52c6ce54346f981b8e608c6c32edb",
        "IPY_MODEL_6e61a2ec37bf4f37b33f57fa2b305659",
        "IPY_MODEL_73490538052143719087cfefa229ea5c",
        "IPY_MODEL_1378247dd0ef45e6a0ad8bdfb9f4bffc"
       ],
       "layout": "IPY_MODEL_190bee53cf214ffaa75d82184cfcb3bd"
      }
     },
     "0e900f5333cb4cde92e949a14bc1bb75": {
      "model_module": "@jupyter-widgets/controls",
      "model_module_version": "1.5.0",
      "model_name": "HBoxModel",
      "state": {
       "children": [
        "IPY_MODEL_484ec1dca215409390b7d39b126894d4",
        "IPY_MODEL_bb0d7b93d8b140f1bd10f77de9bd629d",
        "IPY_MODEL_95355b5afc1640fe88592f5d256e687c"
       ],
       "layout": "IPY_MODEL_4e18518eaf5e4145bee723fee65dc7df"
      }
     },
     "0ee509e40a604b4c8dc584a2e08e696d": {
      "model_module": "@jupyter-widgets/controls",
      "model_module_version": "1.5.0",
      "model_name": "ButtonModel",
      "state": {
       "description": "Samples per seconds [Hz]",
       "disabled": true,
       "layout": "IPY_MODEL_d0cf418c5ea54255b7c702f59bc83428",
       "style": "IPY_MODEL_fdd8c30831cc4c24bed00d02fc34958c"
      }
     },
     "0f0df029198a476cbaa3e45fb46714df": {
      "model_module": "@jupyter-widgets/base",
      "model_module_version": "1.2.0",
      "model_name": "LayoutModel",
      "state": {
       "height": "28px",
       "min_height": "28px",
       "min_width": "400px",
       "width": "400px"
      }
     },
     "0f43aa431cc24ee4af8aecb08e8a3050": {
      "model_module": "@jupyter-widgets/controls",
      "model_module_version": "1.5.0",
      "model_name": "ButtonStyleModel",
      "state": {}
     },
     "0f48ceac5c654cfb830776d5141c35d0": {
      "model_module": "@jupyter-widgets/controls",
      "model_module_version": "1.5.0",
      "model_name": "ButtonModel",
      "state": {
       "description": "Samples per seconds [Hz]",
       "disabled": true,
       "layout": "IPY_MODEL_3ca23b5f903f433b9a3ef9e2008eedd9",
       "style": "IPY_MODEL_a4ef907135304474bf812130c30313a6"
      }
     },
     "0f9e64ea4d7c47a2b94a89964549137a": {
      "model_module": "@jupyter-widgets/controls",
      "model_module_version": "1.5.0",
      "model_name": "ButtonStyleModel",
      "state": {}
     },
     "0faccd2f212d48c1811ed6f0b0f548d0": {
      "model_module": "@jupyter-widgets/controls",
      "model_module_version": "1.5.0",
      "model_name": "DescriptionStyleModel",
      "state": {
       "description_width": ""
      }
     },
     "10c39accdd06497ba004be7d5b1bb83a": {
      "model_module": "@jupyter-widgets/controls",
      "model_module_version": "1.5.0",
      "model_name": "DescriptionStyleModel",
      "state": {
       "description_width": "initial"
      }
     },
     "1177f8041376480a887c5de5ec9c9910": {
      "model_module": "@jupyter-widgets/controls",
      "model_module_version": "1.5.0",
      "model_name": "IntSliderModel",
      "state": {
       "continuous_update": false,
       "layout": "IPY_MODEL_7f3276e69a844082b0b50fa270be4b32",
       "max": 3000,
       "min": 100,
       "step": 10,
       "style": "IPY_MODEL_672dc4ce33a64cc19a1cce6670b39901",
       "value": 1000
      }
     },
     "124fd7744bf0445a8aa00f2487dff50b": {
      "model_module": "@jupyter-widgets/controls",
      "model_module_version": "1.5.0",
      "model_name": "HBoxModel",
      "state": {
       "children": [
        "IPY_MODEL_2eac6d3fe138471387160a7f7d9a6d2e",
        "IPY_MODEL_747fc05bcdda41b698286a20da75f607",
        "IPY_MODEL_a613577ff2a9420e9109fb80a09fc972"
       ],
       "layout": "IPY_MODEL_9e55d61c1fb64771a0c17b3cbf89e230"
      }
     },
     "1261229575d543bba9931c884154a8af": {
      "model_module": "@jupyter-widgets/base",
      "model_module_version": "1.2.0",
      "model_name": "LayoutModel",
      "state": {
       "width": "auto"
      }
     },
     "127cdb337fa1475d8cbf0e16e3091a45": {
      "model_module": "@jupyter-widgets/base",
      "model_module_version": "1.2.0",
      "model_name": "LayoutModel",
      "state": {
       "height": "28px",
       "min_height": "28px",
       "min_width": "400px",
       "width": "400px"
      }
     },
     "12fa9d0550e94c9da70f7ff7ed4bd78d": {
      "model_module": "@jupyter-widgets/controls",
      "model_module_version": "1.5.0",
      "model_name": "ButtonModel",
      "state": {
       "description": "Signal amplitude (0 < x < 1)",
       "disabled": true,
       "layout": "IPY_MODEL_09343906799e4d1fb656243c9509dff3",
       "style": "IPY_MODEL_c08d28f7f2bd44b5870369a97ed61f6a"
      }
     },
     "12fcc8ef57e84c3bbe4bea0de237cd16": {
      "model_module": "@jupyter-widgets/base",
      "model_module_version": "1.2.0",
      "model_name": "LayoutModel",
      "state": {}
     },
     "1304e08deb334501b8537baf0748c72c": {
      "model_module": "@jupyter-widgets/controls",
      "model_module_version": "1.5.0",
      "model_name": "HBoxModel",
      "state": {
       "children": [
        "IPY_MODEL_6fa8faccbd6f4caeb165edb685f45f5d",
        "IPY_MODEL_9aeaedb55a4a4cc8aa33d569ea8efea1"
       ],
       "layout": "IPY_MODEL_6fcbb4684c024cb4a2198523bafa0a9f"
      }
     },
     "131bfcc8d5f74ad09fe7a00a1bdd1860": {
      "model_module": "@jupyter-widgets/controls",
      "model_module_version": "1.5.0",
      "model_name": "ButtonStyleModel",
      "state": {}
     },
     "1329440b1f59438a98328e686ce5c6f0": {
      "model_module": "@jupyter-widgets/controls",
      "model_module_version": "1.5.0",
      "model_name": "ButtonModel",
      "state": {
       "description": "Samples per seconds [Hz]",
       "disabled": true,
       "layout": "IPY_MODEL_e7dd5a6c72cc4394bfb17df1308e0350",
       "style": "IPY_MODEL_c784576217744f50bd2270f2c6640b26"
      }
     },
     "134cd4ee575c4f0386d47f36bcf0446e": {
      "model_module": "@jupyter-widgets/controls",
      "model_module_version": "1.5.0",
      "model_name": "DescriptionStyleModel",
      "state": {
       "description_width": "initial"
      }
     },
     "13651a9f0cd9428c8a58ea6d485c01b2": {
      "model_module": "@jupyter-widgets/controls",
      "model_module_version": "1.5.0",
      "model_name": "ButtonModel",
      "state": {
       "description": "Padd signal for FFT calculation",
       "disabled": true,
       "layout": "IPY_MODEL_07d22553ccad41b6b47ccbb1154acaef",
       "style": "IPY_MODEL_2abb0b77b53d49cd92de96bf8524653d"
      }
     },
     "1378247dd0ef45e6a0ad8bdfb9f4bffc": {
      "model_module": "@jupyter-widgets/controls",
      "model_module_version": "1.5.0",
      "model_name": "ButtonModel",
      "state": {
       "description": "Generate plot",
       "layout": "IPY_MODEL_90f768460ce9457cacca28a2531f0572",
       "style": "IPY_MODEL_8d0d2d12a94d4f70a19417574cb2f45b"
      }
     },
     "139ad2e3a1c0408eaefed6820dd5b2bf": {
      "model_module": "@jupyter-widgets/base",
      "model_module_version": "1.2.0",
      "model_name": "LayoutModel",
      "state": {}
     },
     "13c4acffe3e143e58b77e4f69a91073c": {
      "model_module": "@jupyter-widgets/controls",
      "model_module_version": "1.5.0",
      "model_name": "DescriptionStyleModel",
      "state": {
       "description_width": ""
      }
     },
     "13dce0d8ab7c400489c99aed4a3eb359": {
      "model_module": "@jupyter-widgets/controls",
      "model_module_version": "1.5.0",
      "model_name": "ButtonModel",
      "state": {
       "description": "Signal length [seconds]",
       "disabled": true,
       "layout": "IPY_MODEL_f6b8957aaefb4a598d448846434e4b70",
       "style": "IPY_MODEL_896ccda729c54b6f8b6e4441e99066fa"
      }
     },
     "143740ede61147c781f133dbc5da6eaf": {
      "model_module": "@jupyter-widgets/base",
      "model_module_version": "1.2.0",
      "model_name": "LayoutModel",
      "state": {
       "height": "28px",
       "min_height": "28px",
       "min_width": "400px",
       "width": "400px"
      }
     },
     "1488e5e0eaf24e3884f827eb7a81aefe": {
      "model_module": "@jupyter-widgets/base",
      "model_module_version": "1.2.0",
      "model_name": "LayoutModel",
      "state": {}
     },
     "148ffbb1437d4cfbaf7e048c9440a54c": {
      "model_module": "@jupyter-widgets/base",
      "model_module_version": "1.2.0",
      "model_name": "LayoutModel",
      "state": {
       "height": "28px",
       "min_height": "28px",
       "min_width": "400px",
       "width": "400px"
      }
     },
     "14bfa6b178c14358afd4a19340fde277": {
      "model_module": "@jupyter-widgets/base",
      "model_module_version": "1.2.0",
      "model_name": "LayoutModel",
      "state": {}
     },
     "1556c7d5ea4c4532ab648372bee2c5fd": {
      "model_module": "@jupyter-widgets/controls",
      "model_module_version": "1.5.0",
      "model_name": "CheckboxModel",
      "state": {
       "description": "50 Hz",
       "disabled": false,
       "indent": false,
       "layout": "IPY_MODEL_b1f823d0dc5f4e57b596a01ed121bd84",
       "style": "IPY_MODEL_8d1ce0b8155746158e4558dace9a71aa",
       "value": true
      }
     },
     "15c6a8a71f464ba599fd647f6181d81a": {
      "model_module": "@jupyter-widgets/base",
      "model_module_version": "1.2.0",
      "model_name": "LayoutModel",
      "state": {
       "height": "28px",
       "min_height": "28px",
       "min_width": "400px",
       "width": "400px"
      }
     },
     "15d16fa5fc30472c84b1adba55047f0c": {
      "model_module": "@jupyter-widgets/controls",
      "model_module_version": "1.5.0",
      "model_name": "ButtonStyleModel",
      "state": {}
     },
     "162b1b908d974e47a002699f127b31a8": {
      "model_module": "@jupyter-widgets/controls",
      "model_module_version": "1.5.0",
      "model_name": "HBoxModel",
      "state": {
       "children": [
        "IPY_MODEL_654c20a74aed444ba128a854116cb0ab",
        "IPY_MODEL_d4052fcd7c324478896984fa9bc227ee"
       ],
       "layout": "IPY_MODEL_e5ccc0704fad40a9b4f31e67245d8235"
      }
     },
     "16761580d720474e9bbc0f8e7dd92621": {
      "model_module": "@jupyter-widgets/controls",
      "model_module_version": "1.5.0",
      "model_name": "TextModel",
      "state": {
       "layout": "IPY_MODEL_bcd4e07f22f0437088d77111c86befe5",
       "placeholder": "Amplitude (0 < x < 1)",
       "style": "IPY_MODEL_a9e7758f4f1e45da8c3ea0f1f283207f",
       "value": "1"
      }
     },
     "16c4405b15e04ba39707a41f71f4b036": {
      "model_module": "@jupyter-widgets/base",
      "model_module_version": "1.2.0",
      "model_name": "LayoutModel",
      "state": {
       "height": "28px",
       "min_height": "28px",
       "min_width": "400px",
       "width": "400px"
      }
     },
     "16eae9eb8918482c9a257abf0d27d302": {
      "model_module": "@jupyter-widgets/base",
      "model_module_version": "1.2.0",
      "model_name": "LayoutModel",
      "state": {}
     },
     "16fa4da9051d410bb555708c15a458cf": {
      "model_module": "@jupyter-widgets/controls",
      "model_module_version": "1.5.0",
      "model_name": "CheckboxModel",
      "state": {
       "description": "Apply padding",
       "disabled": false,
       "indent": false,
       "layout": "IPY_MODEL_c5ffd80bf7644de7b5641fb57301307b",
       "style": "IPY_MODEL_c378800113574070bd3e23f35d2e69c2",
       "value": false
      }
     },
     "1715ff128a8c476aa922a6f0c061c308": {
      "model_module": "@jupyter-widgets/base",
      "model_module_version": "1.2.0",
      "model_name": "LayoutModel",
      "state": {
       "height": "28px",
       "min_height": "28px",
       "min_width": "400px",
       "width": "400px"
      }
     },
     "1722fb3f36f5466fb161144b623662c8": {
      "model_module": "@jupyter-widgets/base",
      "model_module_version": "1.2.0",
      "model_name": "LayoutModel",
      "state": {
       "min_width": "50px",
       "width": "50px"
      }
     },
     "179ba3ba1b8b41819f722ba28f0c1cd9": {
      "model_module": "@jupyter-widgets/controls",
      "model_module_version": "1.5.0",
      "model_name": "ButtonStyleModel",
      "state": {}
     },
     "17ca1efdd2ed45c89df8617228d8e328": {
      "model_module": "@jupyter-widgets/base",
      "model_module_version": "1.2.0",
      "model_name": "LayoutModel",
      "state": {}
     },
     "17dd8819a2af4b44b41521cdb88733b7": {
      "model_module": "@jupyter-widgets/base",
      "model_module_version": "1.2.0",
      "model_name": "LayoutModel",
      "state": {}
     },
     "181e5033380c4cd2b3a4a210ae591937": {
      "model_module": "@jupyter-widgets/base",
      "model_module_version": "1.2.0",
      "model_name": "LayoutModel",
      "state": {}
     },
     "18242a5149ee4c63bc4e74a5b4c0bb3f": {
      "model_module": "@jupyter-widgets/base",
      "model_module_version": "1.2.0",
      "model_name": "LayoutModel",
      "state": {
       "height": "28px",
       "min_height": "28px",
       "min_width": "400px",
       "width": "400px"
      }
     },
     "18249ce48b8b481895e8918f0fef8b2c": {
      "model_module": "@jupyter-widgets/base",
      "model_module_version": "1.2.0",
      "model_name": "LayoutModel",
      "state": {
       "min_width": "50px",
       "width": "50px"
      }
     },
     "183359d4d9394845b99b96f6e366b125": {
      "model_module": "@jupyter-widgets/controls",
      "model_module_version": "1.5.0",
      "model_name": "LabelModel",
      "state": {
       "layout": "IPY_MODEL_dfae354c88334eb3926e0e1e4ec2159e",
       "style": "IPY_MODEL_d384e568829a4950b18ac5ef7b2e9211",
       "value": "Signal = generateSine(1000, [50.0], amplitude=[1.0], time=0.3, noise=0.0)"
      }
     },
     "18602f6c7d0e4dacadfae84de8ac0aad": {
      "model_module": "@jupyter-widgets/base",
      "model_module_version": "1.2.0",
      "model_name": "LayoutModel",
      "state": {
       "min_width": "50px",
       "width": "50px"
      }
     },
     "18864695482742238991025a06188139": {
      "model_module": "@jupyter-widgets/controls",
      "model_module_version": "1.5.0",
      "model_name": "HBoxModel",
      "state": {
       "children": [
        "IPY_MODEL_eabfb2a8133746fabda3701fff21df42",
        "IPY_MODEL_be167bdf64c34f6da08324109ad645b0"
       ],
       "layout": "IPY_MODEL_19081c089a174c3db5f7d2b60af70cf3"
      }
     },
     "189bac9bbe2d4230a4e738831b48f095": {
      "model_module": "@jupyter-widgets/base",
      "model_module_version": "1.2.0",
      "model_name": "LayoutModel",
      "state": {}
     },
     "18e34c7b8ddb4a28bfb3dd92d4e901b9": {
      "model_module": "@jupyter-widgets/controls",
      "model_module_version": "1.5.0",
      "model_name": "ButtonStyleModel",
      "state": {}
     },
     "19064706d45a4e34a6e1c1e1f0e4ea7d": {
      "model_module": "@jupyter-widgets/controls",
      "model_module_version": "1.5.0",
      "model_name": "TextModel",
      "state": {
       "layout": "IPY_MODEL_73c3b655ee7b4c49b88098790c1d5cc2",
       "placeholder": "Amplitude (0 < x < 1)",
       "style": "IPY_MODEL_2921a4d715c54aa2b7848531016caea4",
       "value": "1"
      }
     },
     "19081c089a174c3db5f7d2b60af70cf3": {
      "model_module": "@jupyter-widgets/base",
      "model_module_version": "1.2.0",
      "model_name": "LayoutModel",
      "state": {}
     },
     "190bee53cf214ffaa75d82184cfcb3bd": {
      "model_module": "@jupyter-widgets/base",
      "model_module_version": "1.2.0",
      "model_name": "LayoutModel",
      "state": {}
     },
     "195d10e0abda4241af47d631d6fda12c": {
      "model_module": "@jupyter-widgets/controls",
      "model_module_version": "1.5.0",
      "model_name": "ButtonStyleModel",
      "state": {}
     },
     "19a6dfc728a64a05ba125b29a74c95fd": {
      "model_module": "@jupyter-widgets/controls",
      "model_module_version": "1.5.0",
      "model_name": "ButtonStyleModel",
      "state": {}
     },
     "19bac0c4559a4d66aaac961cfb6a0469": {
      "model_module": "@jupyter-widgets/base",
      "model_module_version": "1.2.0",
      "model_name": "LayoutModel",
      "state": {}
     },
     "1a2097342b674d9cb14a16a6ea1260eb": {
      "model_module": "@jupyter-widgets/base",
      "model_module_version": "1.2.0",
      "model_name": "LayoutModel",
      "state": {}
     },
     "1a4ac139b683467094118fb5aa5014ab": {
      "model_module": "@jupyter-widgets/base",
      "model_module_version": "1.2.0",
      "model_name": "LayoutModel",
      "state": {}
     },
     "1a8f9327086a483ab6113f55288dccdf": {
      "model_module": "@jupyter-widgets/controls",
      "model_module_version": "1.5.0",
      "model_name": "ButtonModel",
      "state": {
       "description": "Signal amplitude (0 < x < 1)",
       "disabled": true,
       "layout": "IPY_MODEL_dcf8530a3b76446eb225922914548b40",
       "style": "IPY_MODEL_c171dbc5888d4f3fb1b8fb8e379189fc"
      }
     },
     "1ac274e984ab4cd39765c42d7f1a5340": {
      "model_module": "@jupyter-widgets/controls",
      "model_module_version": "1.5.0",
      "model_name": "HBoxModel",
      "state": {
       "children": [
        "IPY_MODEL_26180e39ae47413785024bd302e07cd9",
        "IPY_MODEL_27ab661af5974ed8ac4dedf2f9c61891"
       ],
       "layout": "IPY_MODEL_8299cf11dfe74d1ca7f750012a0155df"
      }
     },
     "1aed8b5322d342cd89c6d1fa0d55d7ea": {
      "model_module": "@jupyter-widgets/base",
      "model_module_version": "1.2.0",
      "model_name": "LayoutModel",
      "state": {}
     },
     "1b601fae6add4d50aa239e75b685d90d": {
      "model_module": "@jupyter-widgets/controls",
      "model_module_version": "1.5.0",
      "model_name": "ButtonStyleModel",
      "state": {}
     },
     "1b81721dfe9b4108a3d8b96f353227b1": {
      "model_module": "@jupyter-widgets/controls",
      "model_module_version": "1.5.0",
      "model_name": "TextModel",
      "state": {
       "layout": "IPY_MODEL_bb82c04262864fb7a61e7373d230f59e",
       "placeholder": "Amplitude (0 < x < 1)",
       "style": "IPY_MODEL_fb9c481e84204001a970267af89b5093",
       "value": "0.3"
      }
     },
     "1b9c11cde1c5489fa7efc923d6f46b13": {
      "model_module": "@jupyter-widgets/controls",
      "model_module_version": "1.5.0",
      "model_name": "DescriptionStyleModel",
      "state": {
       "description_width": ""
      }
     },
     "1bcf9e211bea4c20a2ea33dd24a90051": {
      "model_module": "@jupyter-widgets/controls",
      "model_module_version": "1.5.0",
      "model_name": "TextModel",
      "state": {
       "layout": "IPY_MODEL_a8ff19ea70a24642a326cf58eea9fd91",
       "placeholder": "Signal length [s]",
       "style": "IPY_MODEL_134cd4ee575c4f0386d47f36bcf0446e",
       "value": "0.3"
      }
     },
     "1be098d2c5f940d586c18996b7980644": {
      "model_module": "@jupyter-widgets/controls",
      "model_module_version": "1.5.0",
      "model_name": "ButtonModel",
      "state": {
       "description": "Padd signal for FFT calculation",
       "disabled": true,
       "layout": "IPY_MODEL_4af64a89177349ab89f0929c57a1a7bf",
       "style": "IPY_MODEL_40f90f6d9d9e42b7aae8ade43e33e185"
      }
     },
     "1be6da5480b04f7080c20c6bad2dc356": {
      "model_module": "@jupyter-widgets/controls",
      "model_module_version": "1.5.0",
      "model_name": "HBoxModel",
      "state": {
       "children": [
        "IPY_MODEL_938ab123ba93485792a754aa2d4f527a",
        "IPY_MODEL_dd8369ab3a8d4f17a77d60fcf63536ad",
        "IPY_MODEL_2d2d9c9d4fff42028599fa2b8e1abb90"
       ],
       "layout": "IPY_MODEL_ab46fa9f04dc4a98b86d514a289d3c6a"
      }
     },
     "1c07e6cd56f7494082e741824c11c333": {
      "model_module": "@jupyter-widgets/controls",
      "model_module_version": "1.5.0",
      "model_name": "ButtonStyleModel",
      "state": {}
     },
     "1c098cab79d340fabf7ca063f3061bce": {
      "model_module": "@jupyter-widgets/controls",
      "model_module_version": "1.5.0",
      "model_name": "DescriptionStyleModel",
      "state": {
       "description_width": "initial"
      }
     },
     "1c276da13c4d4ffe9e35128b33b2b30a": {
      "model_module": "@jupyter-widgets/controls",
      "model_module_version": "1.5.0",
      "model_name": "HBoxModel",
      "state": {
       "children": [
        "IPY_MODEL_ca0c73b535954ac4b0f264ce9dfa2393",
        "IPY_MODEL_577d6e032eb947288df6755a521cd562",
        "IPY_MODEL_fb81337209e84da395ba6c86446f2b31"
       ],
       "layout": "IPY_MODEL_629a7d65e05e47d28d8b6c9c4d69f2a2"
      }
     },
     "1c27ae15fa584300bbcd02119570f922": {
      "model_module": "@jupyter-widgets/controls",
      "model_module_version": "1.5.0",
      "model_name": "TextModel",
      "state": {
       "layout": "IPY_MODEL_fd272631f8f64095b6caaf16cd76ea9b",
       "placeholder": "Signal length [s]",
       "style": "IPY_MODEL_5777c65f58b544cf896ea157ba1f24ad",
       "value": "0.3"
      }
     },
     "1c6e106f009c46688a71d9762ddc9583": {
      "model_module": "@jupyter-widgets/base",
      "model_module_version": "1.2.0",
      "model_name": "LayoutModel",
      "state": {
       "min_width": "50px",
       "width": "50px"
      }
     },
     "1cc8ccf893434b5090ec8f596e04ac84": {
      "model_module": "@jupyter-widgets/base",
      "model_module_version": "1.2.0",
      "model_name": "LayoutModel",
      "state": {}
     },
     "1d03c2ea7a3e4c8099acee627eb00bd4": {
      "model_module": "@jupyter-widgets/controls",
      "model_module_version": "1.5.0",
      "model_name": "ButtonModel",
      "state": {
       "description": "Signal amplitude (0 < x < 1)",
       "disabled": true,
       "layout": "IPY_MODEL_73af6462fabf42ba82060eda2e30c7a1",
       "style": "IPY_MODEL_52c17e246cbc42dbab4b671d90801609"
      }
     },
     "1d70f1ab00494961a6cc4cf921811ace": {
      "model_module": "@jupyter-widgets/base",
      "model_module_version": "1.2.0",
      "model_name": "LayoutModel",
      "state": {
       "height": "28px",
       "min_height": "28px",
       "min_width": "400px",
       "width": "400px"
      }
     },
     "1db0282fc18b471e81542c67f1c2aba8": {
      "model_module": "@jupyter-widgets/base",
      "model_module_version": "1.2.0",
      "model_name": "LayoutModel",
      "state": {}
     },
     "1dbc590f3d4c47c8bbb0a9107f012b72": {
      "model_module": "@jupyter-widgets/controls",
      "model_module_version": "1.5.0",
      "model_name": "CheckboxModel",
      "state": {
       "description": "Apply padding",
       "disabled": false,
       "indent": false,
       "layout": "IPY_MODEL_17dd8819a2af4b44b41521cdb88733b7",
       "style": "IPY_MODEL_35ee87dcd67146f98edfed8f259d030d",
       "value": false
      }
     },
     "1dbfc6a03495462ea6133fbcfc19882a": {
      "model_module": "@jupyter-widgets/base",
      "model_module_version": "1.2.0",
      "model_name": "LayoutModel",
      "state": {}
     },
     "1dca42aeab8a466eb026733b51a82176": {
      "model_module": "@jupyter-widgets/controls",
      "model_module_version": "1.5.0",
      "model_name": "ButtonModel",
      "state": {
       "description": "Generate plot",
       "layout": "IPY_MODEL_1261229575d543bba9931c884154a8af",
       "style": "IPY_MODEL_80d64576e3404678912b3f41e079df24"
      }
     },
     "1eda0e0215be4893a0f02f88d88d8fae": {
      "model_module": "@jupyter-widgets/controls",
      "model_module_version": "1.5.0",
      "model_name": "DescriptionStyleModel",
      "state": {
       "description_width": ""
      }
     },
     "1f4f49556c63442781013fc257c3d50d": {
      "model_module": "@jupyter-widgets/base",
      "model_module_version": "1.2.0",
      "model_name": "LayoutModel",
      "state": {}
     },
     "1f70d5f074a045de8af60141dc3d4398": {
      "model_module": "@jupyter-widgets/base",
      "model_module_version": "1.2.0",
      "model_name": "LayoutModel",
      "state": {}
     },
     "1fa5c6c1ecac4708b957fede6fb91636": {
      "model_module": "@jupyter-widgets/controls",
      "model_module_version": "1.5.0",
      "model_name": "HBoxModel",
      "state": {
       "children": [
        "IPY_MODEL_bb4cc559f2c44b8794f54276b0e8a87c",
        "IPY_MODEL_c3298db9171e4b89a1844c025d0d75ed",
        "IPY_MODEL_2b26ed4f90ac4905bc6ee1b9072af394"
       ],
       "layout": "IPY_MODEL_5b8d4d7496574c70a7b13320b2ae0278"
      }
     },
     "1fedf46379254695a9571fe36034ca06": {
      "model_module": "@jupyter-widgets/base",
      "model_module_version": "1.2.0",
      "model_name": "LayoutModel",
      "state": {
       "width": "auto"
      }
     },
     "2004a4ef9ff14065b511ee1e03037105": {
      "model_module": "@jupyter-widgets/controls",
      "model_module_version": "1.5.0",
      "model_name": "ButtonModel",
      "state": {
       "description": "Signal amplitude (0 < x < 1)",
       "disabled": true,
       "layout": "IPY_MODEL_e1eca33d55cd49738ab13e092abb62ff",
       "style": "IPY_MODEL_3770b08dbeba4689aaf83da1817b4acd"
      }
     },
     "20096c3e8e9c4a58b2f0f1ebad66d5eb": {
      "model_module": "@jupyter-widgets/controls",
      "model_module_version": "1.5.0",
      "model_name": "TextModel",
      "state": {
       "layout": "IPY_MODEL_9750c46359dc4f41a7d5a994120670af",
       "placeholder": "Signal length [s]",
       "style": "IPY_MODEL_e5068b00a5344fb1abd3f66309e4d838",
       "value": "0.3"
      }
     },
     "20848fb0608c408b8c3f6554b5ccadc9": {
      "model_module": "@jupyter-widgets/base",
      "model_module_version": "1.2.0",
      "model_name": "LayoutModel",
      "state": {
       "height": "28px",
       "min_height": "28px",
       "min_width": "400px",
       "width": "400px"
      }
     },
     "20c338dc141848aa906a371e600bc586": {
      "model_module": "@jupyter-widgets/base",
      "model_module_version": "1.2.0",
      "model_name": "LayoutModel",
      "state": {
       "height": "28px",
       "min_height": "28px",
       "min_width": "400px",
       "width": "400px"
      }
     },
     "20dcea43e3234f79b8ac4050fea77896": {
      "model_module": "@jupyter-widgets/controls",
      "model_module_version": "1.5.0",
      "model_name": "VBoxModel",
      "state": {
       "children": [
        "IPY_MODEL_656e2d8407a749feb5e737667d11b02d",
        "IPY_MODEL_e49b0f1a341346ad850014d7bb75fe61",
        "IPY_MODEL_9c1b8fe4c1d441b1a2aac51e4ad65cb1",
        "IPY_MODEL_a7316be347fd4053813d6833aa7b463f",
        "IPY_MODEL_78136c5f75274733878551c30af1cf9b",
        "IPY_MODEL_ea917447925e435bb8467deb16f89496"
       ],
       "layout": "IPY_MODEL_dc8b58227a3b4b478f4c39de96201107"
      }
     },
     "20e8faaa4ee24fd08aceab84a96d8680": {
      "model_module": "@jupyter-widgets/base",
      "model_module_version": "1.2.0",
      "model_name": "LayoutModel",
      "state": {}
     },
     "21183f5b786e4cd0ba2c0c15cb4b4f33": {
      "model_module": "@jupyter-widgets/base",
      "model_module_version": "1.2.0",
      "model_name": "LayoutModel",
      "state": {}
     },
     "2147653cdbbd40d1afb5fabe39bfa9fc": {
      "model_module": "@jupyter-widgets/controls",
      "model_module_version": "1.5.0",
      "model_name": "ButtonModel",
      "state": {
       "description": "Samples per seconds [Hz]",
       "disabled": true,
       "layout": "IPY_MODEL_36f13339427b4f498755958312e9a563",
       "style": "IPY_MODEL_43f22dacc5f843e0909c45c88082b606"
      }
     },
     "21714580241a49aea7b39efc52882d7a": {
      "model_module": "@jupyter-widgets/controls",
      "model_module_version": "1.5.0",
      "model_name": "ButtonStyleModel",
      "state": {}
     },
     "21a10c4a022743e8b133417e2aa3e171": {
      "model_module": "@jupyter-widgets/controls",
      "model_module_version": "1.5.0",
      "model_name": "CheckboxModel",
      "state": {
       "description": "70 Hz",
       "disabled": false,
       "indent": false,
       "layout": "IPY_MODEL_5d8ab084cca9492b8c8447b378994a24",
       "style": "IPY_MODEL_fab8bae8c568454bbba1f0693f3ea3a4",
       "value": false
      }
     },
     "21c1496d7239439985cc6bf41fad059f": {
      "model_module": "@jupyter-widgets/controls",
      "model_module_version": "1.5.0",
      "model_name": "ButtonModel",
      "state": {
       "description": "Generate plot",
       "layout": "IPY_MODEL_71c9947a835a409fadd4428825b91c38",
       "style": "IPY_MODEL_9f664e7a2be44777afaaa09c8f384850"
      }
     },
     "21f84e6fe4704369ab5ade8293f884a4": {
      "model_module": "@jupyter-widgets/controls",
      "model_module_version": "1.5.0",
      "model_name": "HBoxModel",
      "state": {
       "children": [
        "IPY_MODEL_941732bf88fa40afaa05eb157ad95463",
        "IPY_MODEL_4dcec216a7354d04aeeb9267fc260645"
       ],
       "layout": "IPY_MODEL_0021085be7f045efb94fb99bd1bdbf9f"
      }
     },
     "21fed25755f2446e8e61c3495caf8b68": {
      "model_module": "@jupyter-widgets/controls",
      "model_module_version": "1.5.0",
      "model_name": "DescriptionStyleModel",
      "state": {
       "description_width": "initial"
      }
     },
     "226a0b8d25ba476a8003e587759b02f8": {
      "model_module": "@jupyter-widgets/controls",
      "model_module_version": "1.5.0",
      "model_name": "VBoxModel",
      "state": {
       "children": [
        "IPY_MODEL_0e900f5333cb4cde92e949a14bc1bb75",
        "IPY_MODEL_1c276da13c4d4ffe9e35128b33b2b30a"
       ],
       "layout": "IPY_MODEL_27ae22f4e54d407f9795a678c74006a4"
      }
     },
     "22825ad5819b425faeee7d6a0697adb2": {
      "model_module": "@jupyter-widgets/controls",
      "model_module_version": "1.5.0",
      "model_name": "HBoxModel",
      "state": {
       "children": [
        "IPY_MODEL_74016ec7cbc24b3abccf36debbfd0a1e",
        "IPY_MODEL_2929cd7ecf2a47e8a9c00309d66559c2"
       ],
       "layout": "IPY_MODEL_eb03175ca52c4e3fa3f0bc22fee293e2"
      }
     },
     "22c03937c1994035b0ee81fb7d87038a": {
      "model_module": "@jupyter-widgets/controls",
      "model_module_version": "1.5.0",
      "model_name": "ButtonModel",
      "state": {
       "description": "Signal frequency",
       "disabled": true,
       "layout": "IPY_MODEL_a8c965857a2a403e840999e1a892fd8c",
       "style": "IPY_MODEL_d25e49bb46af4a11bf866eef56bfb026"
      }
     },
     "22e856ad010a4cf7b5b3134823ae1506": {
      "model_module": "@jupyter-widgets/base",
      "model_module_version": "1.2.0",
      "model_name": "LayoutModel",
      "state": {
       "height": "28px",
       "min_height": "28px",
       "min_width": "400px",
       "width": "400px"
      }
     },
     "237c9ac609894574a31bb3e9eda1b973": {
      "model_module": "@jupyter-widgets/controls",
      "model_module_version": "1.5.0",
      "model_name": "TextModel",
      "state": {
       "layout": "IPY_MODEL_c1ae5bc3c25f4cf6b50427b8343160ce",
       "placeholder": "Signal length [s]",
       "style": "IPY_MODEL_484945648e594469bd5cc459c1e24e53",
       "value": "0.3"
      }
     },
     "2388af1b68e7461cbdfff05ceb2ea5d7": {
      "model_module": "@jupyter-widgets/base",
      "model_module_version": "1.2.0",
      "model_name": "LayoutModel",
      "state": {}
     },
     "23d6ae8dd1c0469faf5f248b8c43575d": {
      "model_module": "@jupyter-widgets/base",
      "model_module_version": "1.2.0",
      "model_name": "LayoutModel",
      "state": {}
     },
     "24653896ffdf48caae3f200fe86d3318": {
      "model_module": "@jupyter-widgets/base",
      "model_module_version": "1.2.0",
      "model_name": "LayoutModel",
      "state": {
       "height": "28px",
       "min_height": "28px",
       "min_width": "400px",
       "width": "400px"
      }
     },
     "247554b2e96847769094f7a58dc0abd1": {
      "model_module": "@jupyter-widgets/controls",
      "model_module_version": "1.5.0",
      "model_name": "DescriptionStyleModel",
      "state": {
       "description_width": "initial"
      }
     },
     "24755f9c4f9e419aa3726151f29550b9": {
      "model_module": "@jupyter-widgets/controls",
      "model_module_version": "1.5.0",
      "model_name": "ButtonModel",
      "state": {
       "description": "Signal amplitude (0 < x < 1)",
       "disabled": true,
       "layout": "IPY_MODEL_c7376a02d311473393f0c9e4118fca59",
       "style": "IPY_MODEL_033654e5ba4041a1b2b4e7f582826639"
      }
     },
     "249e9f5371054becaf16e1c792f312ff": {
      "model_module": "@jupyter-widgets/base",
      "model_module_version": "1.2.0",
      "model_name": "LayoutModel",
      "state": {}
     },
     "24c9503fa36d4699846dd3b25f7318ff": {
      "model_module": "@jupyter-widgets/controls",
      "model_module_version": "1.5.0",
      "model_name": "HBoxModel",
      "state": {
       "children": [
        "IPY_MODEL_424af557fada40b78ccc6b81527870d9",
        "IPY_MODEL_ba54884f11584ed8abcb94ba36a19188",
        "IPY_MODEL_9d3a685954ea436eace29efdb0a9b86d"
       ],
       "layout": "IPY_MODEL_818df1daadf54447a8be86ce4cd59d6e"
      }
     },
     "24cb67ebd9ca4af3b1739dbde6f718d2": {
      "model_module": "@jupyter-widgets/controls",
      "model_module_version": "1.5.0",
      "model_name": "TextModel",
      "state": {
       "layout": "IPY_MODEL_1c6e106f009c46688a71d9762ddc9583",
       "placeholder": "Amplitude (0 < x < 1)",
       "style": "IPY_MODEL_d4e1fd0d805d4951958ce227b81353e6",
       "value": "1"
      }
     },
     "24e48cc980e24744bea1c38b9ddf87a7": {
      "model_module": "@jupyter-widgets/controls",
      "model_module_version": "1.5.0",
      "model_name": "VBoxModel",
      "state": {
       "children": [
        "IPY_MODEL_7a4df0f6a61b440395185e082833609b",
        "IPY_MODEL_bdc78dff37af492bb6b11bd8ab17faa6",
        "IPY_MODEL_6fa89b72d01a49afa4310a513efc010f",
        "IPY_MODEL_d4ff73f9c6f64a3a9ed9f517365ade91",
        "IPY_MODEL_a00b848274a449a0bed94926244721e2",
        "IPY_MODEL_314b182caf514f0d90259d566bb33db2"
       ],
       "layout": "IPY_MODEL_2c6a5f36e21046478b471d93c011c769"
      }
     },
     "24edb03ce6b24bceb9fba013bd22e597": {
      "model_module": "@jupyter-widgets/controls",
      "model_module_version": "1.5.0",
      "model_name": "DescriptionStyleModel",
      "state": {
       "description_width": ""
      }
     },
     "256f032de61b41ecb5ae5146454257e4": {
      "model_module": "@jupyter-widgets/controls",
      "model_module_version": "1.5.0",
      "model_name": "CheckboxModel",
      "state": {
       "description": "70 Hz",
       "disabled": false,
       "indent": false,
       "layout": "IPY_MODEL_61be5fbba3194e509c498a5cf53556f2",
       "style": "IPY_MODEL_d54b8d15e0d9496287445c753d5c1576",
       "value": true
      }
     },
     "258dbfd1aee8446c81dd2419a073e946": {
      "model_module": "@jupyter-widgets/controls",
      "model_module_version": "1.5.0",
      "model_name": "ButtonModel",
      "state": {
       "description": "Signal frequency",
       "disabled": true,
       "layout": "IPY_MODEL_b805d177081e4992952453230a3a4187",
       "style": "IPY_MODEL_775c199374b442dea0034128a6443fb5"
      }
     },
     "259a32f43a9b449398adcfd4ffd40cb0": {
      "model_module": "@jupyter-widgets/controls",
      "model_module_version": "1.5.0",
      "model_name": "ButtonModel",
      "state": {
       "description": "Amplitude of added noise",
       "disabled": true,
       "layout": "IPY_MODEL_20848fb0608c408b8c3f6554b5ccadc9",
       "style": "IPY_MODEL_730f60f2220a4066afb4c975e44df3ca"
      }
     },
     "25b5e69e8c2a4e2cb714cc8204ba747b": {
      "model_module": "@jupyter-widgets/controls",
      "model_module_version": "1.5.0",
      "model_name": "TextModel",
      "state": {
       "layout": "IPY_MODEL_e8d97a64fd3d4b3ea94c125f62c661e0",
       "placeholder": "Signal length [s]",
       "style": "IPY_MODEL_21fed25755f2446e8e61c3495caf8b68",
       "value": "1"
      }
     },
     "25dc3c558b594a7f80f14f3d5f27a359": {
      "model_module": "@jupyter-widgets/base",
      "model_module_version": "1.2.0",
      "model_name": "LayoutModel",
      "state": {
       "height": "28px",
       "min_height": "28px",
       "min_width": "400px",
       "width": "400px"
      }
     },
     "26180e39ae47413785024bd302e07cd9": {
      "model_module": "@jupyter-widgets/controls",
      "model_module_version": "1.5.0",
      "model_name": "ButtonModel",
      "state": {
       "description": "Padd signal for FFT calculation",
       "disabled": true,
       "layout": "IPY_MODEL_b1c9d5bcf4af4a0bb313f08e8a9c4896",
       "style": "IPY_MODEL_f2b7eb5bf4ca4b6ea5d10fa77b650774"
      }
     },
     "26a327994e244290b1d14ffb2c4ee767": {
      "model_module": "@jupyter-widgets/controls",
      "model_module_version": "1.5.0",
      "model_name": "HBoxModel",
      "state": {
       "children": [
        "IPY_MODEL_bcb0dc70523a4d92b4eeee460689fd2c",
        "IPY_MODEL_563ebcbcca8840b4a812f0433657db65"
       ],
       "layout": "IPY_MODEL_294f41c34f1041649bc2ae92c9b72879"
      }
     },
     "26b386d2ccbe40eebbefb4dbc612db0c": {
      "model_module": "@jupyter-widgets/base",
      "model_module_version": "1.2.0",
      "model_name": "LayoutModel",
      "state": {}
     },
     "26d18497a41b4bee8d886eb13bb7dbc1": {
      "model_module": "@jupyter-widgets/base",
      "model_module_version": "1.2.0",
      "model_name": "LayoutModel",
      "state": {
       "min_width": "50px",
       "width": "50px"
      }
     },
     "26f51b472fe5446cb40525ec65dce5ee": {
      "model_module": "@jupyter-widgets/controls",
      "model_module_version": "1.5.0",
      "model_name": "HBoxModel",
      "state": {
       "children": [
        "IPY_MODEL_7674cccd367d4305bd5aa351d7cac06d",
        "IPY_MODEL_16761580d720474e9bbc0f8e7dd92621",
        "IPY_MODEL_667858722786474e993286542fdf53be"
       ],
       "layout": "IPY_MODEL_9d6565fee4c54d9c989b0b425bba361f"
      }
     },
     "27440cc1b5094eab93f78159d906473f": {
      "model_module": "@jupyter-widgets/controls",
      "model_module_version": "1.5.0",
      "model_name": "DescriptionStyleModel",
      "state": {
       "description_width": ""
      }
     },
     "2779417a7c514cdba4df4827a1454449": {
      "model_module": "@jupyter-widgets/base",
      "model_module_version": "1.2.0",
      "model_name": "LayoutModel",
      "state": {}
     },
     "2790675ef3664f27b6ff5e3a8e0f58db": {
      "model_module": "@jupyter-widgets/controls",
      "model_module_version": "1.5.0",
      "model_name": "ButtonModel",
      "state": {
       "description": "Padd signal for FFT calculation",
       "disabled": true,
       "layout": "IPY_MODEL_52b3118a066d49bb99c701f778733afa",
       "style": "IPY_MODEL_0300966227594270b1f0f959205787f6"
      }
     },
     "27ab661af5974ed8ac4dedf2f9c61891": {
      "model_module": "@jupyter-widgets/controls",
      "model_module_version": "1.5.0",
      "model_name": "CheckboxModel",
      "state": {
       "description": "Apply padding",
       "disabled": false,
       "indent": false,
       "layout": "IPY_MODEL_ebac7142aab3425385699c6471d6177b",
       "style": "IPY_MODEL_98c39c8ad2bb4e3fbc63d1a866c25e3f",
       "value": false
      }
     },
     "27ae22f4e54d407f9795a678c74006a4": {
      "model_module": "@jupyter-widgets/base",
      "model_module_version": "1.2.0",
      "model_name": "LayoutModel",
      "state": {}
     },
     "2807ef4f8532499ca97e23364186aaad": {
      "model_module": "@jupyter-widgets/base",
      "model_module_version": "1.2.0",
      "model_name": "LayoutModel",
      "state": {}
     },
     "280bf2d63277481989c371a30815300b": {
      "model_module": "@jupyter-widgets/base",
      "model_module_version": "1.2.0",
      "model_name": "LayoutModel",
      "state": {}
     },
     "28384ba7a8724ac081f4496ed348a495": {
      "model_module": "@jupyter-widgets/base",
      "model_module_version": "1.2.0",
      "model_name": "LayoutModel",
      "state": {}
     },
     "2841c9efa62a44be97c50177c686aee4": {
      "model_module": "@jupyter-widgets/base",
      "model_module_version": "1.2.0",
      "model_name": "LayoutModel",
      "state": {}
     },
     "2848b89b3ca94b378d096e7817d9c4a0": {
      "model_module": "@jupyter-widgets/controls",
      "model_module_version": "1.5.0",
      "model_name": "LabelModel",
      "state": {
       "layout": "IPY_MODEL_49f2c084e3c6496b86ea581bdae89099",
       "style": "IPY_MODEL_6a37a912f3b440baa6c401bc99cc3928",
       "value": "Signal = generateSine(1000, [50.0], amplitude=[1.0], time=0.3, noise=0.0)"
      }
     },
     "2855590c096042a5a5b4745e8fc92517": {
      "model_module": "@jupyter-widgets/controls",
      "model_module_version": "1.5.0",
      "model_name": "ButtonStyleModel",
      "state": {}
     },
     "28d681ee3b85493d9335a76e426d9be3": {
      "model_module": "@jupyter-widgets/controls",
      "model_module_version": "1.5.0",
      "model_name": "ButtonModel",
      "state": {
       "description": "Signal frequency",
       "disabled": true,
       "layout": "IPY_MODEL_6a18533e4b664100b8bb83e84353cb60",
       "style": "IPY_MODEL_d2f0f689763b4420810e1906346fa9e0"
      }
     },
     "2921a4d715c54aa2b7848531016caea4": {
      "model_module": "@jupyter-widgets/controls",
      "model_module_version": "1.5.0",
      "model_name": "DescriptionStyleModel",
      "state": {
       "description_width": "initial"
      }
     },
     "2929cd7ecf2a47e8a9c00309d66559c2": {
      "model_module": "@jupyter-widgets/controls",
      "model_module_version": "1.5.0",
      "model_name": "CheckboxModel",
      "state": {
       "description": "Apply padding",
       "disabled": false,
       "indent": false,
       "layout": "IPY_MODEL_ce7a2813f10b450f9f85dda352964a1b",
       "style": "IPY_MODEL_2c2c37b761234fe68e788e96e2a6cb68",
       "value": false
      }
     },
     "294f41c34f1041649bc2ae92c9b72879": {
      "model_module": "@jupyter-widgets/base",
      "model_module_version": "1.2.0",
      "model_name": "LayoutModel",
      "state": {}
     },
     "2979cdb75f3a4183b56dbfbaa49a6f88": {
      "model_module": "@jupyter-widgets/controls",
      "model_module_version": "1.5.0",
      "model_name": "HBoxModel",
      "state": {
       "children": [
        "IPY_MODEL_9e3f5599a19349a99dd7ddb4660babe0",
        "IPY_MODEL_3dcf22b34c7244ffa06748d9041d0adb"
       ],
       "layout": "IPY_MODEL_dc9fb14497f44ffc8595cfc5e59c4ed7"
      }
     },
     "297bc64ac48f4e9d8661bf0b1b753d1e": {
      "model_module": "@jupyter-widgets/base",
      "model_module_version": "1.2.0",
      "model_name": "LayoutModel",
      "state": {
       "height": "28px",
       "min_height": "28px",
       "min_width": "400px",
       "width": "400px"
      }
     },
     "2a249d84e8874353a033017c3e7070d9": {
      "model_module": "@jupyter-widgets/base",
      "model_module_version": "1.2.0",
      "model_name": "LayoutModel",
      "state": {
       "min_width": "50px",
       "width": "50px"
      }
     },
     "2a425925b828402086e10ca8ca2f8459": {
      "model_module": "@jupyter-widgets/controls",
      "model_module_version": "1.5.0",
      "model_name": "DescriptionStyleModel",
      "state": {
       "description_width": ""
      }
     },
     "2a768c698e4a4c3d9e1b203d2e758014": {
      "model_module": "@jupyter-widgets/controls",
      "model_module_version": "1.5.0",
      "model_name": "DescriptionStyleModel",
      "state": {
       "description_width": "initial"
      }
     },
     "2a83424515f94033864199a0382cf366": {
      "model_module": "@jupyter-widgets/base",
      "model_module_version": "1.2.0",
      "model_name": "LayoutModel",
      "state": {
       "min_width": "50px",
       "width": "50px"
      }
     },
     "2a8c1123c28b4d6e975419de7a32c040": {
      "model_module": "@jupyter-widgets/controls",
      "model_module_version": "1.5.0",
      "model_name": "DescriptionStyleModel",
      "state": {
       "description_width": "initial"
      }
     },
     "2abb0b77b53d49cd92de96bf8524653d": {
      "model_module": "@jupyter-widgets/controls",
      "model_module_version": "1.5.0",
      "model_name": "ButtonStyleModel",
      "state": {}
     },
     "2ad66a4458e546ee90818b85dacebf73": {
      "model_module": "@jupyter-widgets/controls",
      "model_module_version": "1.5.0",
      "model_name": "HBoxModel",
      "state": {
       "children": [
        "IPY_MODEL_21a10c4a022743e8b133417e2aa3e171",
        "IPY_MODEL_cc6e0c075e224319bf92afd28b963511",
        "IPY_MODEL_012ff9f9926b4639a23b3c13bb7087ae"
       ],
       "layout": "IPY_MODEL_d6260e5350884742b34136848c326fa4"
      }
     },
     "2ae303d2391249e3aa04fb13507afc05": {
      "model_module": "@jupyter-widgets/controls",
      "model_module_version": "1.5.0",
      "model_name": "IntSliderModel",
      "state": {
       "continuous_update": false,
       "layout": "IPY_MODEL_f899719acbac40948ec2e371bd01d664",
       "max": 3000,
       "min": 100,
       "step": 10,
       "style": "IPY_MODEL_eddfbb9635ab4436896af690a1211a3b",
       "value": 1000
      }
     },
     "2b26ed4f90ac4905bc6ee1b9072af394": {
      "model_module": "@jupyter-widgets/controls",
      "model_module_version": "1.5.0",
      "model_name": "ButtonModel",
      "state": {
       "description": "Signal amplitude (0 < x < 1)",
       "disabled": true,
       "layout": "IPY_MODEL_5ee75c6d327a4a9db5461a5565cf886d",
       "style": "IPY_MODEL_ca4e9764c5d0455b96feb794dd4fcb9a"
      }
     },
     "2b4659cb74bf43888d27d142379fdc33": {
      "model_module": "@jupyter-widgets/base",
      "model_module_version": "1.2.0",
      "model_name": "LayoutModel",
      "state": {
       "min_width": "50px",
       "width": "50px"
      }
     },
     "2b881d1737144a1999118f0d551b71cd": {
      "model_module": "@jupyter-widgets/base",
      "model_module_version": "1.2.0",
      "model_name": "LayoutModel",
      "state": {
       "height": "28px",
       "min_height": "28px",
       "min_width": "400px",
       "width": "400px"
      }
     },
     "2bab9715516a447f9ac37b5dcbde8590": {
      "model_module": "@jupyter-widgets/controls",
      "model_module_version": "1.5.0",
      "model_name": "ButtonModel",
      "state": {
       "description": "Signal amplitude (0 < x < 1)",
       "disabled": true,
       "layout": "IPY_MODEL_a66a464b4bb44d46ada6c3033f7fad7e",
       "style": "IPY_MODEL_9fa26710bae741249e1ef63446728623"
      }
     },
     "2bac29daaa6645e791cdda936803dc07": {
      "model_module": "@jupyter-widgets/controls",
      "model_module_version": "1.5.0",
      "model_name": "ButtonStyleModel",
      "state": {}
     },
     "2baf926fb8b549aeb35665366776dbeb": {
      "model_module": "@jupyter-widgets/controls",
      "model_module_version": "1.5.0",
      "model_name": "HBoxModel",
      "state": {
       "children": [
        "IPY_MODEL_ae808f7fb0fb42a3b327df9063bb0a19",
        "IPY_MODEL_5220127d482541e1a6be0ef27c42fd63"
       ],
       "layout": "IPY_MODEL_805ecbbbd5264f2aaa2f2465abdc7ff8"
      }
     },
     "2bc0232e1bb8489cab8d39820a178e85": {
      "model_module": "@jupyter-widgets/controls",
      "model_module_version": "1.5.0",
      "model_name": "ButtonStyleModel",
      "state": {}
     },
     "2c2c37b761234fe68e788e96e2a6cb68": {
      "model_module": "@jupyter-widgets/controls",
      "model_module_version": "1.5.0",
      "model_name": "DescriptionStyleModel",
      "state": {
       "description_width": ""
      }
     },
     "2c6a5f36e21046478b471d93c011c769": {
      "model_module": "@jupyter-widgets/base",
      "model_module_version": "1.2.0",
      "model_name": "LayoutModel",
      "state": {}
     },
     "2c87be10a1de410ba12dc027a946044f": {
      "model_module": "@jupyter-widgets/controls",
      "model_module_version": "1.5.0",
      "model_name": "DescriptionStyleModel",
      "state": {
       "description_width": ""
      }
     },
     "2c9bc39c57dc40dc8ddbc134347b9ca9": {
      "model_module": "@jupyter-widgets/base",
      "model_module_version": "1.2.0",
      "model_name": "LayoutModel",
      "state": {
       "min_width": "50px",
       "width": "50px"
      }
     },
     "2cbe672f51ad4256b0a3a84fa0a3ccc8": {
      "model_module": "@jupyter-widgets/controls",
      "model_module_version": "1.5.0",
      "model_name": "DescriptionStyleModel",
      "state": {
       "description_width": "initial"
      }
     },
     "2cd03df9acdc4623b60b635b9b9b2d65": {
      "model_module": "@jupyter-widgets/controls",
      "model_module_version": "1.5.0",
      "model_name": "ButtonModel",
      "state": {
       "description": "Signal frequency",
       "disabled": true,
       "layout": "IPY_MODEL_c2d97cf24ffe4d7aaa460fea8e384dde",
       "style": "IPY_MODEL_438c2b3c3eac45939dd01d0be442770c"
      }
     },
     "2d226e6cdf474bab831f834ffe7b712b": {
      "model_module": "@jupyter-widgets/controls",
      "model_module_version": "1.5.0",
      "model_name": "TextModel",
      "state": {
       "layout": "IPY_MODEL_bd69bcc747044d20865e1b0d17ff4138",
       "placeholder": "Additive noise",
       "style": "IPY_MODEL_7dfb8775e69d4aa3875f5badf221b673",
       "value": "0.2"
      }
     },
     "2d2d9c9d4fff42028599fa2b8e1abb90": {
      "model_module": "@jupyter-widgets/controls",
      "model_module_version": "1.5.0",
      "model_name": "ButtonModel",
      "state": {
       "description": "Signal amplitude (0 < x < 1)",
       "disabled": true,
       "layout": "IPY_MODEL_768948da89ab43cbbb5ccd801ca9f528",
       "style": "IPY_MODEL_05bf8b5220ea4b80908dfdb5101e099f"
      }
     },
     "2d729addff9c42f388278d57662f9a8c": {
      "model_module": "@jupyter-widgets/base",
      "model_module_version": "1.2.0",
      "model_name": "LayoutModel",
      "state": {}
     },
     "2d98f1104bbe4d36b95a8acd1e08bb15": {
      "model_module": "@jupyter-widgets/controls",
      "model_module_version": "1.5.0",
      "model_name": "HBoxModel",
      "state": {
       "children": [
        "IPY_MODEL_ae91ffa316544ced83b03ea9faba5d73",
        "IPY_MODEL_e87e2d048fca4272b60e0e596122f23e"
       ],
       "layout": "IPY_MODEL_fdd5995edc7f43ffa0ccafc679f4fe22"
      }
     },
     "2dc18a365713458fa22e22bd95517185": {
      "model_module": "@jupyter-widgets/controls",
      "model_module_version": "1.5.0",
      "model_name": "DescriptionStyleModel",
      "state": {
       "description_width": ""
      }
     },
     "2dda276329194a19a3542b8405eb84cc": {
      "model_module": "@jupyter-widgets/base",
      "model_module_version": "1.2.0",
      "model_name": "LayoutModel",
      "state": {
       "min_width": "50px",
       "width": "50px"
      }
     },
     "2e000f6ae853468e9dae79e20b41bba6": {
      "model_module": "@jupyter-widgets/base",
      "model_module_version": "1.2.0",
      "model_name": "LayoutModel",
      "state": {}
     },
     "2e1219945405465c9a90bd4b975e2068": {
      "model_module": "@jupyter-widgets/base",
      "model_module_version": "1.2.0",
      "model_name": "LayoutModel",
      "state": {
       "min_width": "50px",
       "width": "50px"
      }
     },
     "2e4443f6d5184d6899ecad38eb51e693": {
      "model_module": "@jupyter-widgets/base",
      "model_module_version": "1.2.0",
      "model_name": "LayoutModel",
      "state": {}
     },
     "2e839534d59b495bb01ef591f48d1763": {
      "model_module": "@jupyter-widgets/controls",
      "model_module_version": "1.5.0",
      "model_name": "DescriptionStyleModel",
      "state": {
       "description_width": ""
      }
     },
     "2e988f8059164ce886519ba4a67f0c6e": {
      "model_module": "@jupyter-widgets/base",
      "model_module_version": "1.2.0",
      "model_name": "LayoutModel",
      "state": {}
     },
     "2eac6d3fe138471387160a7f7d9a6d2e": {
      "model_module": "@jupyter-widgets/controls",
      "model_module_version": "1.5.0",
      "model_name": "CheckboxModel",
      "state": {
       "description": "70 Hz",
       "disabled": false,
       "indent": false,
       "layout": "IPY_MODEL_c6cb27900a0a443eae86b020fe0831a2",
       "style": "IPY_MODEL_6f51827052d14239a50e74193b98644e",
       "value": false
      }
     },
     "2ebf74a5dce64347a2c3608b9ecb5f64": {
      "model_module": "@jupyter-widgets/controls",
      "model_module_version": "1.5.0",
      "model_name": "VBoxModel",
      "state": {
       "children": [
        "IPY_MODEL_3902b3960f3a4d81bb98bf2cc6b6eaad",
        "IPY_MODEL_2baf926fb8b549aeb35665366776dbeb",
        "IPY_MODEL_38a99834e1934b57a8dbb9dd7acbb1b4",
        "IPY_MODEL_22825ad5819b425faeee7d6a0697adb2",
        "IPY_MODEL_46829c7ef9f54ddb8adae2ea618a15b8",
        "IPY_MODEL_9eb7183567f64eb2bc6e19ab8e96256d"
       ],
       "layout": "IPY_MODEL_5ef53d3db41a4bcf9fdfc1e9e15488b7"
      }
     },
     "2ee57ea15a2f4067a6cb909e2d575dc2": {
      "model_module": "@jupyter-widgets/controls",
      "model_module_version": "1.5.0",
      "model_name": "DescriptionStyleModel",
      "state": {
       "description_width": ""
      }
     },
     "2f02c9c5be1d4957be738cbe051f90be": {
      "model_module": "@jupyter-widgets/base",
      "model_module_version": "1.2.0",
      "model_name": "LayoutModel",
      "state": {}
     },
     "2f4af690f73b4d9c93385937ce80dedb": {
      "model_module": "@jupyter-widgets/controls",
      "model_module_version": "1.5.0",
      "model_name": "HBoxModel",
      "state": {
       "children": [
        "IPY_MODEL_e5a50012b3be40f781ca607b1bedd08b",
        "IPY_MODEL_19064706d45a4e34a6e1c1e1f0e4ea7d",
        "IPY_MODEL_1d03c2ea7a3e4c8099acee627eb00bd4"
       ],
       "layout": "IPY_MODEL_3d7dbf92f74d435791e977a12bb5ee1e"
      }
     },
     "2fe5c8c06f094db6959ad719efcf9ca2": {
      "model_module": "@jupyter-widgets/base",
      "model_module_version": "1.2.0",
      "model_name": "LayoutModel",
      "state": {
       "min_width": "50px",
       "width": "50px"
      }
     },
     "30399ca28186406590f95dfd2f9d65d0": {
      "model_module": "@jupyter-widgets/base",
      "model_module_version": "1.2.0",
      "model_name": "LayoutModel",
      "state": {}
     },
     "30c119c162cb4544bb50f0939069a4be": {
      "model_module": "@jupyter-widgets/base",
      "model_module_version": "1.2.0",
      "model_name": "LayoutModel",
      "state": {}
     },
     "314b182caf514f0d90259d566bb33db2": {
      "model_module": "@jupyter-widgets/controls",
      "model_module_version": "1.5.0",
      "model_name": "ButtonModel",
      "state": {
       "description": "Generate plot",
       "layout": "IPY_MODEL_73c2e8d6ac484754936266ed18a3ab6e",
       "style": "IPY_MODEL_5701fda3c5e84fcc8319071dff1a1b17"
      }
     },
     "31b30fa6e5b147699e3987ef489cac64": {
      "model_module": "@jupyter-widgets/controls",
      "model_module_version": "1.5.0",
      "model_name": "ButtonStyleModel",
      "state": {}
     },
     "31cd51d5f00d42ea8b909d044cc57994": {
      "model_module": "@jupyter-widgets/base",
      "model_module_version": "1.2.0",
      "model_name": "LayoutModel",
      "state": {
       "height": "28px",
       "min_height": "28px",
       "min_width": "400px",
       "width": "400px"
      }
     },
     "32292539a0504e5f9097a40ad7c5e18d": {
      "model_module": "@jupyter-widgets/controls",
      "model_module_version": "1.5.0",
      "model_name": "ButtonModel",
      "state": {
       "description": "Signal length [seconds]",
       "disabled": true,
       "layout": "IPY_MODEL_337908864fec4d6b91e7789f04bdba15",
       "style": "IPY_MODEL_195d10e0abda4241af47d631d6fda12c"
      }
     },
     "328939fc147144b091eb28fd7fe70a13": {
      "model_module": "@jupyter-widgets/controls",
      "model_module_version": "1.5.0",
      "model_name": "IntSliderModel",
      "state": {
       "continuous_update": false,
       "layout": "IPY_MODEL_280bf2d63277481989c371a30815300b",
       "max": 3000,
       "min": 100,
       "step": 10,
       "style": "IPY_MODEL_7e20db0f0b904e87ac50859089e0503c",
       "value": 1000
      }
     },
     "32f236e3bd0c48a896bab5a1ffcc3cb2": {
      "model_module": "@jupyter-widgets/base",
      "model_module_version": "1.2.0",
      "model_name": "LayoutModel",
      "state": {
       "min_width": "50px",
       "width": "50px"
      }
     },
     "337908864fec4d6b91e7789f04bdba15": {
      "model_module": "@jupyter-widgets/base",
      "model_module_version": "1.2.0",
      "model_name": "LayoutModel",
      "state": {
       "height": "28px",
       "min_height": "28px",
       "min_width": "400px",
       "width": "400px"
      }
     },
     "33a3f8c8b81441a1922b419401d6ef49": {
      "model_module": "@jupyter-widgets/controls",
      "model_module_version": "1.5.0",
      "model_name": "ButtonModel",
      "state": {
       "description": "Generate plot",
       "layout": "IPY_MODEL_605ba32f9fe54e0f9f5899996c8e720c",
       "style": "IPY_MODEL_0b41fc68650c4529b8f997dfce2f0652"
      }
     },
     "33a50d6c7f7e43aba032605a3556b12c": {
      "model_module": "@jupyter-widgets/controls",
      "model_module_version": "1.5.0",
      "model_name": "HBoxModel",
      "state": {
       "children": [
        "IPY_MODEL_8cda9ae750714fac986662725091b2f3",
        "IPY_MODEL_abc73dc4ecfd408ab94e0bfa90ff3042",
        "IPY_MODEL_8eb8052313cc4c7c83c133ba2ec4ca47"
       ],
       "layout": "IPY_MODEL_91b09652290645a881b90af3b380ecab"
      }
     },
     "33ae5102e0174773a558a574ae07e75d": {
      "model_module": "@jupyter-widgets/controls",
      "model_module_version": "1.5.0",
      "model_name": "TextModel",
      "state": {
       "layout": "IPY_MODEL_df6d229850824f06835067eebadccb48",
       "placeholder": "Amplitude (0 < x < 1)",
       "style": "IPY_MODEL_cb8b1dae80b341758070b6b2c1772bff",
       "value": "1"
      }
     },
     "33fb20f770cb4607b6070fdfb58b74e3": {
      "model_module": "@jupyter-widgets/controls",
      "model_module_version": "1.5.0",
      "model_name": "ButtonModel",
      "state": {
       "description": "Signal frequency",
       "disabled": true,
       "layout": "IPY_MODEL_899eb944ea544adcb2034c1a4a0980e5",
       "style": "IPY_MODEL_58474abed4bb44deb49d04177a0fd5ba"
      }
     },
     "344b4f327b474f788890485cdddd11b6": {
      "model_module": "@jupyter-widgets/controls",
      "model_module_version": "1.5.0",
      "model_name": "DescriptionStyleModel",
      "state": {
       "description_width": "initial"
      }
     },
     "34b2d12bd1824f85a7cfb500f92d87d8": {
      "model_module": "@jupyter-widgets/controls",
      "model_module_version": "1.5.0",
      "model_name": "ButtonStyleModel",
      "state": {}
     },
     "34f67e91e4a044ee899f7d0ac5bc7716": {
      "model_module": "@jupyter-widgets/controls",
      "model_module_version": "1.5.0",
      "model_name": "ButtonStyleModel",
      "state": {}
     },
     "35161470c92d46e49f915efd2d60095f": {
      "model_module": "@jupyter-widgets/base",
      "model_module_version": "1.2.0",
      "model_name": "LayoutModel",
      "state": {
       "width": "auto"
      }
     },
     "35701542795341ca8256108dc4831daa": {
      "model_module": "@jupyter-widgets/controls",
      "model_module_version": "1.5.0",
      "model_name": "ButtonModel",
      "state": {
       "description": "Amplitude of added noise",
       "disabled": true,
       "layout": "IPY_MODEL_dead269137fb4f02accd751c303d874d",
       "style": "IPY_MODEL_19a6dfc728a64a05ba125b29a74c95fd"
      }
     },
     "35ee87dcd67146f98edfed8f259d030d": {
      "model_module": "@jupyter-widgets/controls",
      "model_module_version": "1.5.0",
      "model_name": "DescriptionStyleModel",
      "state": {
       "description_width": ""
      }
     },
     "36196d78db944ef88a51e9b1d9af532c": {
      "model_module": "@jupyter-widgets/controls",
      "model_module_version": "1.5.0",
      "model_name": "ButtonStyleModel",
      "state": {}
     },
     "363319776ca94bf68b76f98a3e55ffd3": {
      "model_module": "@jupyter-widgets/base",
      "model_module_version": "1.2.0",
      "model_name": "LayoutModel",
      "state": {}
     },
     "365f6addf650414fa68fc673d233d17d": {
      "model_module": "@jupyter-widgets/controls",
      "model_module_version": "1.5.0",
      "model_name": "ButtonModel",
      "state": {
       "description": "Padd signal for FFT calculation",
       "disabled": true,
       "layout": "IPY_MODEL_d6fcd852d9744e1dbbc68e6bdb761c03",
       "style": "IPY_MODEL_dcea01f46aa14556bf1af8e6a0a18ab1"
      }
     },
     "368d1b017190440f9237bbb817845d5e": {
      "model_module": "@jupyter-widgets/base",
      "model_module_version": "1.2.0",
      "model_name": "LayoutModel",
      "state": {}
     },
     "36bfc0c2597043e189f2e6d08a4b34f8": {
      "model_module": "@jupyter-widgets/controls",
      "model_module_version": "1.5.0",
      "model_name": "DescriptionStyleModel",
      "state": {
       "description_width": ""
      }
     },
     "36eb1a28d0df4ab18cc9c52f2a37553b": {
      "model_module": "@jupyter-widgets/controls",
      "model_module_version": "1.5.0",
      "model_name": "DescriptionStyleModel",
      "state": {
       "description_width": ""
      }
     },
     "36f13339427b4f498755958312e9a563": {
      "model_module": "@jupyter-widgets/base",
      "model_module_version": "1.2.0",
      "model_name": "LayoutModel",
      "state": {
       "height": "28px",
       "min_height": "28px",
       "min_width": "400px",
       "width": "400px"
      }
     },
     "37043fc3607340368f11d5c053425ba5": {
      "model_module": "@jupyter-widgets/base",
      "model_module_version": "1.2.0",
      "model_name": "LayoutModel",
      "state": {
       "min_width": "50px",
       "width": "50px"
      }
     },
     "3758df129dd94d0d8c57030ef0df4c93": {
      "model_module": "@jupyter-widgets/controls",
      "model_module_version": "1.5.0",
      "model_name": "HBoxModel",
      "state": {
       "children": [
        "IPY_MODEL_d7d18b639ed74149a12301297408c4c4",
        "IPY_MODEL_6b4c2d05e1874af08124e7ab521f7990"
       ],
       "layout": "IPY_MODEL_cf28ec46d9ee4c809fab60309c3e609d"
      }
     },
     "3770b08dbeba4689aaf83da1817b4acd": {
      "model_module": "@jupyter-widgets/controls",
      "model_module_version": "1.5.0",
      "model_name": "ButtonStyleModel",
      "state": {}
     },
     "377b39e1332143cc9e3a2fcdaa635dff": {
      "model_module": "@jupyter-widgets/controls",
      "model_module_version": "1.5.0",
      "model_name": "HBoxModel",
      "state": {
       "children": [
        "IPY_MODEL_e8883baa27d041828b92a53090be3085",
        "IPY_MODEL_71506e3e5ec041129a7ce468692d39d3",
        "IPY_MODEL_cc00c6c4a7354451ac2847fbc930c370"
       ],
       "layout": "IPY_MODEL_a645a1ee6cef48c79c9f90d32fc63c36"
      }
     },
     "37ab931507094fd29c5ab0dc67ffce18": {
      "model_module": "@jupyter-widgets/controls",
      "model_module_version": "1.5.0",
      "model_name": "DescriptionStyleModel",
      "state": {
       "description_width": ""
      }
     },
     "37bd552dac7f49d0aba9ae7424352f36": {
      "model_module": "@jupyter-widgets/controls",
      "model_module_version": "1.5.0",
      "model_name": "HBoxModel",
      "state": {
       "children": [
        "IPY_MODEL_751f12f140b94458be8178e597477892",
        "IPY_MODEL_66fee193de2c4e54b3e433ac908b0b79",
        "IPY_MODEL_b94dc73b7b8246b78a0d3dcde9e23502"
       ],
       "layout": "IPY_MODEL_e75636f5f6f648c193e1fefebef55d34"
      }
     },
     "37f9df08b2d84be29140432664bffe5e": {
      "model_module": "@jupyter-widgets/controls",
      "model_module_version": "1.5.0",
      "model_name": "LabelModel",
      "state": {
       "layout": "IPY_MODEL_eb5855560acb47c0bbadfa8a793302f5",
       "style": "IPY_MODEL_6d65497cd8c34715b8d32fdb0a969ea5",
       "value": "Signal = generateSine(1000, [50.0], amplitude=[1.0], time=0.3, noise=0.2)"
      }
     },
     "381fb7240a6544d59179aa678c5044a9": {
      "model_module": "@jupyter-widgets/base",
      "model_module_version": "1.2.0",
      "model_name": "LayoutModel",
      "state": {
       "height": "28px",
       "min_height": "28px",
       "min_width": "400px",
       "width": "400px"
      }
     },
     "387d686942b2420bb4edf804813f3bb8": {
      "model_module": "@jupyter-widgets/base",
      "model_module_version": "1.2.0",
      "model_name": "LayoutModel",
      "state": {
       "min_width": "50px",
       "width": "50px"
      }
     },
     "38a8bcba911e4bf1ae0ee01e18626c8e": {
      "model_module": "@jupyter-widgets/base",
      "model_module_version": "1.2.0",
      "model_name": "LayoutModel",
      "state": {}
     },
     "38a99834e1934b57a8dbb9dd7acbb1b4": {
      "model_module": "@jupyter-widgets/controls",
      "model_module_version": "1.5.0",
      "model_name": "HBoxModel",
      "state": {
       "children": [
        "IPY_MODEL_08e40e5733f54c2cb783bf54750099d1",
        "IPY_MODEL_e4b997e0d453460e98f4504d22855690"
       ],
       "layout": "IPY_MODEL_2d729addff9c42f388278d57662f9a8c"
      }
     },
     "38bf57a427504cd3ad19396d4572429b": {
      "model_module": "@jupyter-widgets/controls",
      "model_module_version": "1.5.0",
      "model_name": "DescriptionStyleModel",
      "state": {
       "description_width": ""
      }
     },
     "38c01b7542714ba488be97a86e5ca3f3": {
      "model_module": "@jupyter-widgets/controls",
      "model_module_version": "1.5.0",
      "model_name": "HBoxModel",
      "state": {
       "children": [
        "IPY_MODEL_9bb2aeaedf954883ac36e4eece684ce5",
        "IPY_MODEL_4767eacec81e4416839703d9c3104d81",
        "IPY_MODEL_d3940951212041d4b9d0dcc36ecadfca"
       ],
       "layout": "IPY_MODEL_660a11c0b59f4863b7cfbb1e0c045de2"
      }
     },
     "3902b3960f3a4d81bb98bf2cc6b6eaad": {
      "model_module": "@jupyter-widgets/controls",
      "model_module_version": "1.5.0",
      "model_name": "HBoxModel",
      "state": {
       "children": [
        "IPY_MODEL_13dce0d8ab7c400489c99aed4a3eb359",
        "IPY_MODEL_20096c3e8e9c4a58b2f0f1ebad66d5eb"
       ],
       "layout": "IPY_MODEL_ec8faf7c30354d69b7e192a40886884f"
      }
     },
     "3906023bbfa142a8a7fa7c094e12b1c4": {
      "model_module": "@jupyter-widgets/controls",
      "model_module_version": "1.5.0",
      "model_name": "DescriptionStyleModel",
      "state": {
       "description_width": "initial"
      }
     },
     "392da0d16b75480e98f7b59ab1d98c44": {
      "model_module": "@jupyter-widgets/controls",
      "model_module_version": "1.5.0",
      "model_name": "CheckboxModel",
      "state": {
       "description": "Apply padding",
       "disabled": false,
       "indent": false,
       "layout": "IPY_MODEL_d77a7c3df7254f98992aafe5657a8fe7",
       "style": "IPY_MODEL_1b9c11cde1c5489fa7efc923d6f46b13",
       "value": false
      }
     },
     "39321e03e9d749ff955a86d4765d4352": {
      "model_module": "@jupyter-widgets/controls",
      "model_module_version": "1.5.0",
      "model_name": "ButtonStyleModel",
      "state": {}
     },
     "39580466317845e69e04224c4f0224b9": {
      "model_module": "@jupyter-widgets/controls",
      "model_module_version": "1.5.0",
      "model_name": "ButtonStyleModel",
      "state": {}
     },
     "39631ce5115c4966b8afc348cb2ab09c": {
      "model_module": "@jupyter-widgets/base",
      "model_module_version": "1.2.0",
      "model_name": "LayoutModel",
      "state": {}
     },
     "3a0eb5a2a6d74ad7b41994c897c15ada": {
      "model_module": "@jupyter-widgets/base",
      "model_module_version": "1.2.0",
      "model_name": "LayoutModel",
      "state": {
       "height": "28px",
       "min_height": "28px",
       "min_width": "400px",
       "width": "400px"
      }
     },
     "3a101106604a4e7b891aa88e84f4b2ff": {
      "model_module": "@jupyter-widgets/controls",
      "model_module_version": "1.5.0",
      "model_name": "TextModel",
      "state": {
       "layout": "IPY_MODEL_9d4ff5d89acd4b4abaa6d3d29686e0f9",
       "placeholder": "Amplitude (0 < x < 1)",
       "style": "IPY_MODEL_81cd69a7be534e1fb1cf8dbf803d67e7",
       "value": "1"
      }
     },
     "3ac3f716d77d49768231ab7ac21466d9": {
      "model_module": "@jupyter-widgets/controls",
      "model_module_version": "1.5.0",
      "model_name": "LabelModel",
      "state": {
       "layout": "IPY_MODEL_1a4ac139b683467094118fb5aa5014ab",
       "style": "IPY_MODEL_2a425925b828402086e10ca8ca2f8459",
       "value": "Amplitude spectrum = [0.96, 0.95] [V]]"
      }
     },
     "3ac9dfbc64db402b9ed561a2c3c828c6": {
      "model_module": "@jupyter-widgets/base",
      "model_module_version": "1.2.0",
      "model_name": "LayoutModel",
      "state": {}
     },
     "3b1e9121dafc438bbc413c507cea97a7": {
      "model_module": "@jupyter-widgets/controls",
      "model_module_version": "1.5.0",
      "model_name": "VBoxModel",
      "state": {
       "children": [
        "IPY_MODEL_f55e10be2c194ed284e41567f7f8252e",
        "IPY_MODEL_38c01b7542714ba488be97a86e5ca3f3"
       ],
       "layout": "IPY_MODEL_53a62df18e6042adb89e686cec56ba01"
      }
     },
     "3bb711cee1af4c309a1fe5cb9a911500": {
      "model_module": "@jupyter-widgets/controls",
      "model_module_version": "1.5.0",
      "model_name": "ButtonModel",
      "state": {
       "description": "Signal length [seconds]",
       "disabled": true,
       "layout": "IPY_MODEL_a7e315be9a144ad587f3f40e85aebd1c",
       "style": "IPY_MODEL_1b601fae6add4d50aa239e75b685d90d"
      }
     },
     "3bbe1bdfb8854efc9522fb6527c2410e": {
      "model_module": "@jupyter-widgets/controls",
      "model_module_version": "1.5.0",
      "model_name": "DescriptionStyleModel",
      "state": {
       "description_width": "initial"
      }
     },
     "3c6b6c1ab291494d804cf30090a349fc": {
      "model_module": "@jupyter-widgets/controls",
      "model_module_version": "1.5.0",
      "model_name": "DescriptionStyleModel",
      "state": {
       "description_width": ""
      }
     },
     "3c96e17f05f1492390fde638daa69119": {
      "model_module": "@jupyter-widgets/controls",
      "model_module_version": "1.5.0",
      "model_name": "VBoxModel",
      "state": {
       "children": [
        "IPY_MODEL_63f3e8466e144712aed17b6450becf1e",
        "IPY_MODEL_2979cdb75f3a4183b56dbfbaa49a6f88",
        "IPY_MODEL_3f7122fa8f3746cfad22e7a5d0a8df95",
        "IPY_MODEL_b8e1ee621cea438dbfa10999ea1ddbd0",
        "IPY_MODEL_7e115088967d42adab24f4c6b766376a",
        "IPY_MODEL_f479892bb4e442c4b7e2d94007bcc8cd"
       ],
       "layout": "IPY_MODEL_e3df321f76c24a58835e974b22dbcded"
      }
     },
     "3c9c8b0f7078485ba36c4e604051e2c3": {
      "model_module": "@jupyter-widgets/controls",
      "model_module_version": "1.5.0",
      "model_name": "IntSliderModel",
      "state": {
       "continuous_update": false,
       "layout": "IPY_MODEL_b68c24ed449c4e9f8a3f425beff93e73",
       "max": 3000,
       "min": 100,
       "step": 10,
       "style": "IPY_MODEL_040c355ff7144b57818fb7601d9d5bb8",
       "value": 1000
      }
     },
     "3ca23b5f903f433b9a3ef9e2008eedd9": {
      "model_module": "@jupyter-widgets/base",
      "model_module_version": "1.2.0",
      "model_name": "LayoutModel",
      "state": {
       "height": "28px",
       "min_height": "28px",
       "min_width": "400px",
       "width": "400px"
      }
     },
     "3caf4989da2b4c47b7b90ea727d11ddc": {
      "model_module": "@jupyter-widgets/base",
      "model_module_version": "1.2.0",
      "model_name": "LayoutModel",
      "state": {
       "height": "28px",
       "min_height": "28px",
       "min_width": "400px",
       "width": "400px"
      }
     },
     "3d242d6039b64ad597f5a1199e9f913f": {
      "model_module": "@jupyter-widgets/base",
      "model_module_version": "1.2.0",
      "model_name": "LayoutModel",
      "state": {
       "height": "28px",
       "min_height": "28px",
       "min_width": "400px",
       "width": "400px"
      }
     },
     "3d7dbf92f74d435791e977a12bb5ee1e": {
      "model_module": "@jupyter-widgets/base",
      "model_module_version": "1.2.0",
      "model_name": "LayoutModel",
      "state": {}
     },
     "3dcf22b34c7244ffa06748d9041d0adb": {
      "model_module": "@jupyter-widgets/controls",
      "model_module_version": "1.5.0",
      "model_name": "TextModel",
      "state": {
       "layout": "IPY_MODEL_525baea54ffb498da50720f64034abb3",
       "placeholder": "Additive noise",
       "style": "IPY_MODEL_741288c221a24e41b2156111d92b2002",
       "value": "0.2"
      }
     },
     "3dd10cede73244488565fac474e5f321": {
      "model_module": "@jupyter-widgets/controls",
      "model_module_version": "1.5.0",
      "model_name": "HBoxModel",
      "state": {
       "children": [
        "IPY_MODEL_13651a9f0cd9428c8a58ea6d485c01b2",
        "IPY_MODEL_bfc6658616b841ab82d624e4caf525be"
       ],
       "layout": "IPY_MODEL_2388af1b68e7461cbdfff05ceb2ea5d7"
      }
     },
     "3e13f0443e6a47f3afc71e1397587123": {
      "model_module": "@jupyter-widgets/base",
      "model_module_version": "1.2.0",
      "model_name": "LayoutModel",
      "state": {
       "height": "28px",
       "min_height": "28px",
       "min_width": "400px",
       "width": "400px"
      }
     },
     "3e2f8ddfc5784929ae4df7a4cf2fea2a": {
      "model_module": "@jupyter-widgets/controls",
      "model_module_version": "1.5.0",
      "model_name": "SliderStyleModel",
      "state": {
       "description_width": ""
      }
     },
     "3e87ddb2749845758686fec2aefafc87": {
      "model_module": "@jupyter-widgets/base",
      "model_module_version": "1.2.0",
      "model_name": "LayoutModel",
      "state": {
       "min_width": "50px",
       "width": "50px"
      }
     },
     "3ef6ce1273084f1fbc9aadd1580bc480": {
      "model_module": "@jupyter-widgets/controls",
      "model_module_version": "1.5.0",
      "model_name": "SliderStyleModel",
      "state": {
       "description_width": ""
      }
     },
     "3ef9ce02a256475ea19d8c73e8571004": {
      "model_module": "@jupyter-widgets/base",
      "model_module_version": "1.2.0",
      "model_name": "LayoutModel",
      "state": {
       "height": "28px",
       "min_height": "28px",
       "min_width": "400px",
       "width": "400px"
      }
     },
     "3f21ccf3186642ab92129f3a57b08a13": {
      "model_module": "@jupyter-widgets/controls",
      "model_module_version": "1.5.0",
      "model_name": "DescriptionStyleModel",
      "state": {
       "description_width": ""
      }
     },
     "3f7122fa8f3746cfad22e7a5d0a8df95": {
      "model_module": "@jupyter-widgets/controls",
      "model_module_version": "1.5.0",
      "model_name": "HBoxModel",
      "state": {
       "children": [
        "IPY_MODEL_6c00ecccb5784e80a1115622708bb947",
        "IPY_MODEL_226a0b8d25ba476a8003e587759b02f8"
       ],
       "layout": "IPY_MODEL_06641bd22dc24dda847eb094b39ccaf5"
      }
     },
     "40a5d5425b304c9094544834b3297327": {
      "model_module": "@jupyter-widgets/base",
      "model_module_version": "1.2.0",
      "model_name": "LayoutModel",
      "state": {}
     },
     "40b00562df8c47088d67a28ec6f7ee77": {
      "model_module": "@jupyter-widgets/controls",
      "model_module_version": "1.5.0",
      "model_name": "ButtonModel",
      "state": {
       "description": "Signal amplitude (0 < x < 1)",
       "disabled": true,
       "layout": "IPY_MODEL_143740ede61147c781f133dbc5da6eaf",
       "style": "IPY_MODEL_0f9e64ea4d7c47a2b94a89964549137a"
      }
     },
     "40f90f6d9d9e42b7aae8ade43e33e185": {
      "model_module": "@jupyter-widgets/controls",
      "model_module_version": "1.5.0",
      "model_name": "ButtonStyleModel",
      "state": {}
     },
     "41249c72f5444088991c8ca3110fc053": {
      "model_module": "@jupyter-widgets/base",
      "model_module_version": "1.2.0",
      "model_name": "LayoutModel",
      "state": {}
     },
     "4184a4e7ddf14ee08d4e7e7a477f817c": {
      "model_module": "@jupyter-widgets/controls",
      "model_module_version": "1.5.0",
      "model_name": "ButtonStyleModel",
      "state": {}
     },
     "419754047e584d89b1cdc240c98a1e98": {
      "model_module": "@jupyter-widgets/base",
      "model_module_version": "1.2.0",
      "model_name": "LayoutModel",
      "state": {}
     },
     "41c6e4f62f5d49acb1f241f6939a2b71": {
      "model_module": "@jupyter-widgets/base",
      "model_module_version": "1.2.0",
      "model_name": "LayoutModel",
      "state": {
       "height": "28px",
       "min_height": "28px",
       "min_width": "400px",
       "width": "400px"
      }
     },
     "41d32234d353440d925691dd153ada95": {
      "model_module": "@jupyter-widgets/base",
      "model_module_version": "1.2.0",
      "model_name": "LayoutModel",
      "state": {}
     },
     "424796e237a844c1883f7cf09ad81145": {
      "model_module": "@jupyter-widgets/controls",
      "model_module_version": "1.5.0",
      "model_name": "ButtonStyleModel",
      "state": {}
     },
     "424af557fada40b78ccc6b81527870d9": {
      "model_module": "@jupyter-widgets/controls",
      "model_module_version": "1.5.0",
      "model_name": "CheckboxModel",
      "state": {
       "description": "50 Hz",
       "disabled": false,
       "indent": false,
       "layout": "IPY_MODEL_6bf162694fcd41daae2d16833c984a43",
       "style": "IPY_MODEL_a38ff4bcbd5d4da2bd5062269fbbe333",
       "value": true
      }
     },
     "4270878b8dc64d4bb2b9851efd537b39": {
      "model_module": "@jupyter-widgets/controls",
      "model_module_version": "1.5.0",
      "model_name": "ButtonStyleModel",
      "state": {}
     },
     "42cec0eb4e18424f9cf9bb35af27b564": {
      "model_module": "@jupyter-widgets/base",
      "model_module_version": "1.2.0",
      "model_name": "LayoutModel",
      "state": {}
     },
     "42e6af3239144c21a9b67d6755c7586a": {
      "model_module": "@jupyter-widgets/controls",
      "model_module_version": "1.5.0",
      "model_name": "DescriptionStyleModel",
      "state": {
       "description_width": "initial"
      }
     },
     "435dfbd8974745b1bb88e8f0b8b324fd": {
      "model_module": "@jupyter-widgets/base",
      "model_module_version": "1.2.0",
      "model_name": "LayoutModel",
      "state": {}
     },
     "436d8e22291742e0b6cf11236df0f114": {
      "model_module": "@jupyter-widgets/controls",
      "model_module_version": "1.5.0",
      "model_name": "TextModel",
      "state": {
       "layout": "IPY_MODEL_f0a2a005621a4a93bf79aa0fa719226e",
       "placeholder": "Signal length [s]",
       "style": "IPY_MODEL_949113bf387947c78005929931786483",
       "value": "0.3"
      }
     },
     "437a14bf99a64d778a0e5a28ed172b48": {
      "model_module": "@jupyter-widgets/base",
      "model_module_version": "1.2.0",
      "model_name": "LayoutModel",
      "state": {
       "height": "28px",
       "min_height": "28px",
       "min_width": "400px",
       "width": "400px"
      }
     },
     "438c2b3c3eac45939dd01d0be442770c": {
      "model_module": "@jupyter-widgets/controls",
      "model_module_version": "1.5.0",
      "model_name": "ButtonStyleModel",
      "state": {}
     },
     "43f22dacc5f843e0909c45c88082b606": {
      "model_module": "@jupyter-widgets/controls",
      "model_module_version": "1.5.0",
      "model_name": "ButtonStyleModel",
      "state": {}
     },
     "4441ce32e5964572bc1abe481d343d5c": {
      "model_module": "@jupyter-widgets/base",
      "model_module_version": "1.2.0",
      "model_name": "LayoutModel",
      "state": {
       "height": "28px",
       "min_height": "28px",
       "min_width": "400px",
       "width": "400px"
      }
     },
     "447cfbee24914f9e843d3c49a9f1cc16": {
      "model_module": "@jupyter-widgets/base",
      "model_module_version": "1.2.0",
      "model_name": "LayoutModel",
      "state": {}
     },
     "44b768e2ab3f4006aca257cab42ac89c": {
      "model_module": "@jupyter-widgets/controls",
      "model_module_version": "1.5.0",
      "model_name": "ButtonStyleModel",
      "state": {}
     },
     "452292dc32c1499fbf0dc4661b752fd9": {
      "model_module": "@jupyter-widgets/base",
      "model_module_version": "1.2.0",
      "model_name": "LayoutModel",
      "state": {}
     },
     "4527508f72964ff2a00849c3260c1b1d": {
      "model_module": "@jupyter-widgets/controls",
      "model_module_version": "1.5.0",
      "model_name": "ButtonStyleModel",
      "state": {}
     },
     "45373415ca484df6b2265b93200ee7c5": {
      "model_module": "@jupyter-widgets/base",
      "model_module_version": "1.2.0",
      "model_name": "LayoutModel",
      "state": {
       "height": "28px",
       "min_height": "28px",
       "min_width": "400px",
       "width": "400px"
      }
     },
     "45800eeb0f764ff39ae1ac0ab5871c75": {
      "model_module": "@jupyter-widgets/controls",
      "model_module_version": "1.5.0",
      "model_name": "ButtonModel",
      "state": {
       "description": "Signal amplitude (0 < x < 1)",
       "disabled": true,
       "layout": "IPY_MODEL_edd9d78104cc4dfbbe587c9cfc387507",
       "style": "IPY_MODEL_a78ab95322784eb9a672251ddb4db6c8"
      }
     },
     "45c7196fd6ac47c2ac236c53b8b31b19": {
      "model_module": "@jupyter-widgets/base",
      "model_module_version": "1.2.0",
      "model_name": "LayoutModel",
      "state": {}
     },
     "45cee5a90b8f450e8fd77f739342bb6c": {
      "model_module": "@jupyter-widgets/controls",
      "model_module_version": "1.5.0",
      "model_name": "ButtonModel",
      "state": {
       "description": "Signal length [seconds]",
       "disabled": true,
       "layout": "IPY_MODEL_3e13f0443e6a47f3afc71e1397587123",
       "style": "IPY_MODEL_f96651ee85c84b728c42e43fc3dc9f0f"
      }
     },
     "4618ffee37aa4824a600f8da65abf7d4": {
      "model_module": "@jupyter-widgets/controls",
      "model_module_version": "1.5.0",
      "model_name": "DescriptionStyleModel",
      "state": {
       "description_width": ""
      }
     },
     "46274400d2984cad971a3430f69933f6": {
      "model_module": "@jupyter-widgets/controls",
      "model_module_version": "1.5.0",
      "model_name": "CheckboxModel",
      "state": {
       "description": "Apply padding",
       "disabled": false,
       "indent": false,
       "layout": "IPY_MODEL_de2a945d7f434b48bc48ca25e5be0eeb",
       "style": "IPY_MODEL_ab1c2d32a05749abaca31fcbdd35e0ff",
       "value": false
      }
     },
     "462d1275847549e2ab03d767aaa86d0c": {
      "model_module": "@jupyter-widgets/controls",
      "model_module_version": "1.5.0",
      "model_name": "TextModel",
      "state": {
       "layout": "IPY_MODEL_7a60a8c3326d48f8b6838b15d5703ab6",
       "placeholder": "Amplitude (0 < x < 1)",
       "style": "IPY_MODEL_dcbb2302c994497eba1864a616923a89",
       "value": "1"
      }
     },
     "4637305460244b62b868f941446322d7": {
      "model_module": "@jupyter-widgets/controls",
      "model_module_version": "1.5.0",
      "model_name": "TextModel",
      "state": {
       "layout": "IPY_MODEL_993accab8e4c49b187a6ae952e747c07",
       "placeholder": "Signal length [s]",
       "style": "IPY_MODEL_1c098cab79d340fabf7ca063f3061bce",
       "value": "0.3"
      }
     },
     "46829c7ef9f54ddb8adae2ea618a15b8": {
      "model_module": "@jupyter-widgets/controls",
      "model_module_version": "1.5.0",
      "model_name": "HBoxModel",
      "state": {
       "children": [
        "IPY_MODEL_2147653cdbbd40d1afb5fabe39bfa9fc",
        "IPY_MODEL_328939fc147144b091eb28fd7fe70a13"
       ],
       "layout": "IPY_MODEL_d0dc1ace567e4ccba4ccf80004f3c037"
      }
     },
     "468b9aacac0946dd8a29e187eafab1e5": {
      "model_module": "@jupyter-widgets/controls",
      "model_module_version": "1.5.0",
      "model_name": "DescriptionStyleModel",
      "state": {
       "description_width": ""
      }
     },
     "46cfe07859ed4587997f05778c441cc5": {
      "model_module": "@jupyter-widgets/base",
      "model_module_version": "1.2.0",
      "model_name": "LayoutModel",
      "state": {}
     },
     "4704294fc0a140c182920f88adc4c5c2": {
      "model_module": "@jupyter-widgets/base",
      "model_module_version": "1.2.0",
      "model_name": "LayoutModel",
      "state": {
       "height": "28px",
       "min_height": "28px",
       "min_width": "400px",
       "width": "400px"
      }
     },
     "472dc061c50543a690bfd50339dbc76e": {
      "model_module": "@jupyter-widgets/controls",
      "model_module_version": "1.5.0",
      "model_name": "ButtonModel",
      "state": {
       "description": "Samples per seconds [Hz]",
       "disabled": true,
       "layout": "IPY_MODEL_00ab8d2ee85a4365bb2ac6bb0b7d2581",
       "style": "IPY_MODEL_8fbce24fe6b148baa2293d352ba3856b"
      }
     },
     "4759c365fc204e79b9cde24cd17d0fcd": {
      "model_module": "@jupyter-widgets/controls",
      "model_module_version": "1.5.0",
      "model_name": "IntSliderModel",
      "state": {
       "continuous_update": false,
       "layout": "IPY_MODEL_61b315db34324a2c809a9fd42ca34bf2",
       "max": 3000,
       "min": 100,
       "step": 10,
       "style": "IPY_MODEL_3ef6ce1273084f1fbc9aadd1580bc480",
       "value": 1000
      }
     },
     "4767eacec81e4416839703d9c3104d81": {
      "model_module": "@jupyter-widgets/controls",
      "model_module_version": "1.5.0",
      "model_name": "TextModel",
      "state": {
       "layout": "IPY_MODEL_93882fabdd4e413fbcb95a71a527623c",
       "placeholder": "Amplitude (0 < x < 1)",
       "style": "IPY_MODEL_c0d716f207164ae1978b7255d3bf6d9c",
       "value": "1"
      }
     },
     "47842564ca304dcb9e69e1375b47966d": {
      "model_module": "@jupyter-widgets/controls",
      "model_module_version": "1.5.0",
      "model_name": "ButtonModel",
      "state": {
       "description": "Amplitude of added noise",
       "disabled": true,
       "layout": "IPY_MODEL_0dcaec3931d1484fa6e7948d9b1f8b35",
       "style": "IPY_MODEL_179ba3ba1b8b41819f722ba28f0c1cd9"
      }
     },
     "47a8bc6fe6ca4a79b9fa203f3a9fc512": {
      "model_module": "@jupyter-widgets/controls",
      "model_module_version": "1.5.0",
      "model_name": "ButtonModel",
      "state": {
       "description": "Signal amplitude (0 < x < 1)",
       "disabled": true,
       "layout": "IPY_MODEL_0f0df029198a476cbaa3e45fb46714df",
       "style": "IPY_MODEL_39580466317845e69e04224c4f0224b9"
      }
     },
     "47aede3182dc41afaee353526df7d8b1": {
      "model_module": "@jupyter-widgets/controls",
      "model_module_version": "1.5.0",
      "model_name": "ButtonModel",
      "state": {
       "description": "Samples per seconds [Hz]",
       "disabled": true,
       "layout": "IPY_MODEL_437a14bf99a64d778a0e5a28ed172b48",
       "style": "IPY_MODEL_9024ea55e9524f5397fcbc7c17183f21"
      }
     },
     "47bea0ed95d540318ed535291d9542e2": {
      "model_module": "@jupyter-widgets/controls",
      "model_module_version": "1.5.0",
      "model_name": "LabelModel",
      "state": {
       "layout": "IPY_MODEL_4c37b0a6416a41ccabeeb3ad38ab6171",
       "style": "IPY_MODEL_09e3787507294384b6c4095a38ad58ee",
       "value": "Amplitude spectrum = [1.00, 0.30] [V]]"
      }
     },
     "47ffaa6a2fec49318e49ab04ede24332": {
      "model_module": "@jupyter-widgets/base",
      "model_module_version": "1.2.0",
      "model_name": "LayoutModel",
      "state": {}
     },
     "484945648e594469bd5cc459c1e24e53": {
      "model_module": "@jupyter-widgets/controls",
      "model_module_version": "1.5.0",
      "model_name": "DescriptionStyleModel",
      "state": {
       "description_width": "initial"
      }
     },
     "484ec1dca215409390b7d39b126894d4": {
      "model_module": "@jupyter-widgets/controls",
      "model_module_version": "1.5.0",
      "model_name": "CheckboxModel",
      "state": {
       "description": "50 Hz",
       "disabled": false,
       "indent": false,
       "layout": "IPY_MODEL_e06de5f2e6b743ccbfae3746d37b0e50",
       "style": "IPY_MODEL_76d44ea525124f0d8fc2ae0bde31d6ab",
       "value": true
      }
     },
     "489e284d76644409a4800757fa19638a": {
      "model_module": "@jupyter-widgets/controls",
      "model_module_version": "1.5.0",
      "model_name": "ButtonStyleModel",
      "state": {}
     },
     "4920636f9a4d499caf6a21135fca0c09": {
      "model_module": "@jupyter-widgets/controls",
      "model_module_version": "1.5.0",
      "model_name": "HBoxModel",
      "state": {
       "children": [
        "IPY_MODEL_923df1bbc97b4fa99a48f6d321c774e9",
        "IPY_MODEL_fbfaeab205844aaca06f9946cd4f2384",
        "IPY_MODEL_968f32712ba14e7ea36e650c1cf3ec5a"
       ],
       "layout": "IPY_MODEL_739146ca3f66429fb0bd337d53045d31"
      }
     },
     "49f2c084e3c6496b86ea581bdae89099": {
      "model_module": "@jupyter-widgets/base",
      "model_module_version": "1.2.0",
      "model_name": "LayoutModel",
      "state": {}
     },
     "4a4f4eec55d446e5ab8657edf4ac60a7": {
      "model_module": "@jupyter-widgets/base",
      "model_module_version": "1.2.0",
      "model_name": "LayoutModel",
      "state": {
       "min_width": "50px",
       "width": "50px"
      }
     },
     "4a65928ae81b4406907f2d5493a1c047": {
      "model_module": "@jupyter-widgets/base",
      "model_module_version": "1.2.0",
      "model_name": "LayoutModel",
      "state": {
       "min_width": "50px",
       "width": "50px"
      }
     },
     "4aa1c666126d4343a1a30ac0f4242774": {
      "model_module": "@jupyter-widgets/base",
      "model_module_version": "1.2.0",
      "model_name": "LayoutModel",
      "state": {
       "height": "28px",
       "min_height": "28px",
       "min_width": "400px",
       "width": "400px"
      }
     },
     "4aaff6eacccd41e39e8ab30ba26eee67": {
      "model_module": "@jupyter-widgets/controls",
      "model_module_version": "1.5.0",
      "model_name": "SliderStyleModel",
      "state": {
       "description_width": ""
      }
     },
     "4add2385a5f94ea7ba821ac1bd000b26": {
      "model_module": "@jupyter-widgets/base",
      "model_module_version": "1.2.0",
      "model_name": "LayoutModel",
      "state": {
       "min_width": "50px",
       "width": "50px"
      }
     },
     "4af64a89177349ab89f0929c57a1a7bf": {
      "model_module": "@jupyter-widgets/base",
      "model_module_version": "1.2.0",
      "model_name": "LayoutModel",
      "state": {
       "height": "28px",
       "min_height": "28px",
       "min_width": "400px",
       "width": "400px"
      }
     },
     "4afba4d858f643e3a1992dfc686e34ab": {
      "model_module": "@jupyter-widgets/base",
      "model_module_version": "1.2.0",
      "model_name": "LayoutModel",
      "state": {}
     },
     "4b39bdc587a04db79baf1ff908734b87": {
      "model_module": "@jupyter-widgets/base",
      "model_module_version": "1.2.0",
      "model_name": "LayoutModel",
      "state": {}
     },
     "4b4a8d7461ff43f3a933b8d4f043d5ac": {
      "model_module": "@jupyter-widgets/controls",
      "model_module_version": "1.5.0",
      "model_name": "TextModel",
      "state": {
       "layout": "IPY_MODEL_ed53f22639844d5cad91aae6aab7949a",
       "placeholder": "Amplitude (0 < x < 1)",
       "style": "IPY_MODEL_d94010170fd74648a08cdb1b4fe3fa7f",
       "value": "1"
      }
     },
     "4b79bd0a7a174e3bbeb2f042275c5088": {
      "model_module": "@jupyter-widgets/controls",
      "model_module_version": "1.5.0",
      "model_name": "ButtonModel",
      "state": {
       "description": "Signal amplitude (0 < x < 1)",
       "disabled": true,
       "layout": "IPY_MODEL_297bc64ac48f4e9d8661bf0b1b753d1e",
       "style": "IPY_MODEL_c48d3f6f4f894c028b76c79e1fab573b"
      }
     },
     "4c007e41b9234b458ea802dee4e832fe": {
      "model_module": "@jupyter-widgets/controls",
      "model_module_version": "1.5.0",
      "model_name": "ButtonModel",
      "state": {
       "description": "Padd signal for FFT calculation",
       "disabled": true,
       "layout": "IPY_MODEL_dc1e2515d6774289a7db300fede46f36",
       "style": "IPY_MODEL_867eac548ad04432964dea023cb7638d"
      }
     },
     "4c1dba949007422e9b9c170e8acc5001": {
      "model_module": "@jupyter-widgets/controls",
      "model_module_version": "1.5.0",
      "model_name": "ButtonStyleModel",
      "state": {}
     },
     "4c35e54026394ba0b39b56147fb0eb77": {
      "model_module": "@jupyter-widgets/base",
      "model_module_version": "1.2.0",
      "model_name": "LayoutModel",
      "state": {
       "height": "28px",
       "min_height": "28px",
       "min_width": "400px",
       "width": "400px"
      }
     },
     "4c37b0a6416a41ccabeeb3ad38ab6171": {
      "model_module": "@jupyter-widgets/base",
      "model_module_version": "1.2.0",
      "model_name": "LayoutModel",
      "state": {}
     },
     "4c4ea390782f416d8d7496f62d1c573c": {
      "model_module": "@jupyter-widgets/base",
      "model_module_version": "1.2.0",
      "model_name": "LayoutModel",
      "state": {
       "min_width": "50px",
       "width": "50px"
      }
     },
     "4cf5b4a51dcb48fab7f284296a3abe85": {
      "model_module": "@jupyter-widgets/controls",
      "model_module_version": "1.5.0",
      "model_name": "CheckboxModel",
      "state": {
       "description": "70 Hz",
       "disabled": false,
       "indent": false,
       "layout": "IPY_MODEL_4f680fdc7bc043f59e8a600c36ea4e8d",
       "style": "IPY_MODEL_97350f3ba8c8493ba90577bb9ebbb84d",
       "value": false
      }
     },
     "4dcec216a7354d04aeeb9267fc260645": {
      "model_module": "@jupyter-widgets/controls",
      "model_module_version": "1.5.0",
      "model_name": "CheckboxModel",
      "state": {
       "description": "Apply padding",
       "disabled": false,
       "indent": false,
       "layout": "IPY_MODEL_a1369c83e5424e138a90fe097de90d61",
       "style": "IPY_MODEL_3c6b6c1ab291494d804cf30090a349fc",
       "value": true
      }
     },
     "4e18518eaf5e4145bee723fee65dc7df": {
      "model_module": "@jupyter-widgets/base",
      "model_module_version": "1.2.0",
      "model_name": "LayoutModel",
      "state": {}
     },
     "4e5f36f780b64de893b13c099961d357": {
      "model_module": "@jupyter-widgets/controls",
      "model_module_version": "1.5.0",
      "model_name": "DescriptionStyleModel",
      "state": {
       "description_width": ""
      }
     },
     "4e640aba58a642359a5cb47bd998cc80": {
      "model_module": "@jupyter-widgets/controls",
      "model_module_version": "1.5.0",
      "model_name": "HBoxModel",
      "state": {
       "children": [
        "IPY_MODEL_56b5ce5be1f943d1bccd98e8e21c4066",
        "IPY_MODEL_685cfda7188945e884b97c495729e66e",
        "IPY_MODEL_8a32f860684648fe9ce1c4513632cd9f"
       ],
       "layout": "IPY_MODEL_07867b71a5594cccb2c84a33acc4240e"
      }
     },
     "4e79a57909844fc2b56c6b10d2654e01": {
      "model_module": "@jupyter-widgets/base",
      "model_module_version": "1.2.0",
      "model_name": "LayoutModel",
      "state": {}
     },
     "4e7e220516e14d4892f886364f0f3811": {
      "model_module": "@jupyter-widgets/controls",
      "model_module_version": "1.5.0",
      "model_name": "ButtonModel",
      "state": {
       "description": "Signal frequency",
       "disabled": true,
       "layout": "IPY_MODEL_99782bb23b2847b69342e0ffd70b7f7f",
       "style": "IPY_MODEL_904b2ea96c8740c3b1f6c9f1db4b1723"
      }
     },
     "4ef8f12bae8f4de2b35047a35e3b10f7": {
      "model_module": "@jupyter-widgets/controls",
      "model_module_version": "1.5.0",
      "model_name": "CheckboxModel",
      "state": {
       "description": "50 Hz",
       "disabled": false,
       "indent": false,
       "layout": "IPY_MODEL_c6b47d0da075474f83fb51c3ce5131a5",
       "style": "IPY_MODEL_4e5f36f780b64de893b13c099961d357",
       "value": true
      }
     },
     "4f11dfa47fb741a98fcd66350180d3bc": {
      "model_module": "@jupyter-widgets/controls",
      "model_module_version": "1.5.0",
      "model_name": "ButtonModel",
      "state": {
       "description": "Padd signal for FFT calculation",
       "disabled": true,
       "layout": "IPY_MODEL_e9ea45e8128d47e6b59c8260b7b25796",
       "style": "IPY_MODEL_634c6d7fbca240d1ad2efd8083285b51"
      }
     },
     "4f1c46a67cc2494b92e76557b0da430b": {
      "model_module": "@jupyter-widgets/base",
      "model_module_version": "1.2.0",
      "model_name": "LayoutModel",
      "state": {}
     },
     "4f4511038ec2469f8011af773cc97a0b": {
      "model_module": "@jupyter-widgets/controls",
      "model_module_version": "1.5.0",
      "model_name": "SliderStyleModel",
      "state": {
       "description_width": ""
      }
     },
     "4f46d2d0889d4b04b5c02caebc005aa6": {
      "model_module": "@jupyter-widgets/base",
      "model_module_version": "1.2.0",
      "model_name": "LayoutModel",
      "state": {
       "height": "28px",
       "min_height": "28px",
       "min_width": "400px",
       "width": "400px"
      }
     },
     "4f680fdc7bc043f59e8a600c36ea4e8d": {
      "model_module": "@jupyter-widgets/base",
      "model_module_version": "1.2.0",
      "model_name": "LayoutModel",
      "state": {}
     },
     "4f94bdb7f1a54c5197a804da6bbf8a2f": {
      "model_module": "@jupyter-widgets/controls",
      "model_module_version": "1.5.0",
      "model_name": "HBoxModel",
      "state": {
       "children": [
        "IPY_MODEL_8144450c2c2b4d89a6e1f412a52a6d32",
        "IPY_MODEL_25b5e69e8c2a4e2cb714cc8204ba747b"
       ],
       "layout": "IPY_MODEL_0e19b57d41b641718db370c5599c3eba"
      }
     },
     "4f97e6de0c5648eea007c6b6e2592261": {
      "model_module": "@jupyter-widgets/controls",
      "model_module_version": "1.5.0",
      "model_name": "CheckboxModel",
      "state": {
       "description": "50 Hz",
       "disabled": false,
       "indent": false,
       "layout": "IPY_MODEL_363319776ca94bf68b76f98a3e55ffd3",
       "style": "IPY_MODEL_d2b3418960b0471da702dd261f4d3311",
       "value": true
      }
     },
     "4f9f79df1eae464e9a790cb35725171b": {
      "model_module": "@jupyter-widgets/controls",
      "model_module_version": "1.5.0",
      "model_name": "DescriptionStyleModel",
      "state": {
       "description_width": ""
      }
     },
     "4fbedc397f9e499481bbb13db30b7287": {
      "model_module": "@jupyter-widgets/controls",
      "model_module_version": "1.5.0",
      "model_name": "ButtonModel",
      "state": {
       "description": "Padd signal for FFT calculation",
       "disabled": true,
       "layout": "IPY_MODEL_16c4405b15e04ba39707a41f71f4b036",
       "style": "IPY_MODEL_abd06e35ba7c47d297d8b2a1ed042713"
      }
     },
     "4fd8781c9410427fae4be7096b7532ce": {
      "model_module": "@jupyter-widgets/controls",
      "model_module_version": "1.5.0",
      "model_name": "LabelModel",
      "state": {
       "layout": "IPY_MODEL_5d0b227be397464b881074c977d5e51e",
       "style": "IPY_MODEL_998e28dd1efb4cf9a4ae52ca1b94d808",
       "value": "Signal = generateSine(1000, [50.0], amplitude=[1.0], time=0.3, noise=0.0)"
      }
     },
     "500e1137f918411286ce529a9ee578fa": {
      "model_module": "@jupyter-widgets/controls",
      "model_module_version": "1.5.0",
      "model_name": "TextModel",
      "state": {
       "layout": "IPY_MODEL_0711bb20b76f4c3eacd13f3427a47d84",
       "placeholder": "Additive noise",
       "style": "IPY_MODEL_74e6ef25229049bca0b4ca4da3c644bc",
       "value": "0"
      }
     },
     "50a36d0bec334e1b93470827c9171e9b": {
      "model_module": "@jupyter-widgets/controls",
      "model_module_version": "1.5.0",
      "model_name": "IntSliderModel",
      "state": {
       "continuous_update": false,
       "layout": "IPY_MODEL_a6a468753c8340c3b1409d0eae13ad46",
       "max": 3000,
       "min": 100,
       "step": 10,
       "style": "IPY_MODEL_a8f044b8fc1e4bc5a75711193be3c1b3",
       "value": 1000
      }
     },
     "510d0a4d1bbe4e048e82d795adea34a6": {
      "model_module": "@jupyter-widgets/base",
      "model_module_version": "1.2.0",
      "model_name": "LayoutModel",
      "state": {
       "height": "28px",
       "min_height": "28px",
       "min_width": "400px",
       "width": "400px"
      }
     },
     "5193b7c808534622af9fb7c0c47c0ace": {
      "model_module": "@jupyter-widgets/controls",
      "model_module_version": "1.5.0",
      "model_name": "CheckboxModel",
      "state": {
       "description": "50 Hz",
       "disabled": false,
       "indent": false,
       "layout": "IPY_MODEL_6a5aada329d74937bb223fd88d2a8faf",
       "style": "IPY_MODEL_3f21ccf3186642ab92129f3a57b08a13",
       "value": true
      }
     },
     "51ba98a2cb244a03a882016a6f0f7686": {
      "model_module": "@jupyter-widgets/base",
      "model_module_version": "1.2.0",
      "model_name": "LayoutModel",
      "state": {
       "min_width": "50px",
       "width": "50px"
      }
     },
     "5220127d482541e1a6be0ef27c42fd63": {
      "model_module": "@jupyter-widgets/controls",
      "model_module_version": "1.5.0",
      "model_name": "TextModel",
      "state": {
       "layout": "IPY_MODEL_9490a63b8d3245d9935ab494479d7b04",
       "placeholder": "Additive noise",
       "style": "IPY_MODEL_db62375ba0a244d9abc583d8e6f89e76",
       "value": "0"
      }
     },
     "522b3ffbe5ee44b9b32640488cddfe6c": {
      "model_module": "@jupyter-widgets/controls",
      "model_module_version": "1.5.0",
      "model_name": "DescriptionStyleModel",
      "state": {
       "description_width": ""
      }
     },
     "524c07660a8946c7b80882ba52125900": {
      "model_module": "@jupyter-widgets/base",
      "model_module_version": "1.2.0",
      "model_name": "LayoutModel",
      "state": {
       "width": "auto"
      }
     },
     "525baea54ffb498da50720f64034abb3": {
      "model_module": "@jupyter-widgets/base",
      "model_module_version": "1.2.0",
      "model_name": "LayoutModel",
      "state": {
       "min_width": "50px",
       "width": "50px"
      }
     },
     "525caa9b4eb04f83bc30246efc10e3ed": {
      "model_module": "@jupyter-widgets/controls",
      "model_module_version": "1.5.0",
      "model_name": "DescriptionStyleModel",
      "state": {
       "description_width": ""
      }
     },
     "526a045e796b47799b0220586295457b": {
      "model_module": "@jupyter-widgets/base",
      "model_module_version": "1.2.0",
      "model_name": "LayoutModel",
      "state": {
       "height": "28px",
       "min_height": "28px",
       "min_width": "400px",
       "width": "400px"
      }
     },
     "5283a07242014dbeb814596e8361f33f": {
      "model_module": "@jupyter-widgets/controls",
      "model_module_version": "1.5.0",
      "model_name": "DescriptionStyleModel",
      "state": {
       "description_width": ""
      }
     },
     "52b3118a066d49bb99c701f778733afa": {
      "model_module": "@jupyter-widgets/base",
      "model_module_version": "1.2.0",
      "model_name": "LayoutModel",
      "state": {
       "height": "28px",
       "min_height": "28px",
       "min_width": "400px",
       "width": "400px"
      }
     },
     "52c17e246cbc42dbab4b671d90801609": {
      "model_module": "@jupyter-widgets/controls",
      "model_module_version": "1.5.0",
      "model_name": "ButtonStyleModel",
      "state": {}
     },
     "5362cd3e79bd4fa8824dc0e099a9d2b6": {
      "model_module": "@jupyter-widgets/base",
      "model_module_version": "1.2.0",
      "model_name": "LayoutModel",
      "state": {}
     },
     "53a62df18e6042adb89e686cec56ba01": {
      "model_module": "@jupyter-widgets/base",
      "model_module_version": "1.2.0",
      "model_name": "LayoutModel",
      "state": {}
     },
     "53cd276a32604b299a00798a676b51e9": {
      "model_module": "@jupyter-widgets/base",
      "model_module_version": "1.2.0",
      "model_name": "LayoutModel",
      "state": {}
     },
     "53dfadadfa3f4134a50959421d785012": {
      "model_module": "@jupyter-widgets/controls",
      "model_module_version": "1.5.0",
      "model_name": "ButtonStyleModel",
      "state": {}
     },
     "54c66d98e215470fa21ea7ae91d9f03f": {
      "model_module": "@jupyter-widgets/controls",
      "model_module_version": "1.5.0",
      "model_name": "ButtonModel",
      "state": {
       "description": "Signal amplitude (0 < x < 1)",
       "disabled": true,
       "layout": "IPY_MODEL_f775432c2668435fa208585802e23e05",
       "style": "IPY_MODEL_5e208277ad4348afb38ddc85c6739086"
      }
     },
     "54e9de365d6643bfb3c2319fc5201c58": {
      "model_module": "@jupyter-widgets/controls",
      "model_module_version": "1.5.0",
      "model_name": "ButtonStyleModel",
      "state": {}
     },
     "555796131b4342e59248bf0e92f87399": {
      "model_module": "@jupyter-widgets/base",
      "model_module_version": "1.2.0",
      "model_name": "LayoutModel",
      "state": {
       "height": "28px",
       "min_height": "28px",
       "min_width": "400px",
       "width": "400px"
      }
     },
     "5567b61edc3e4c52832fde9b5e563d41": {
      "model_module": "@jupyter-widgets/controls",
      "model_module_version": "1.5.0",
      "model_name": "HBoxModel",
      "state": {
       "children": [
        "IPY_MODEL_22c03937c1994035b0ee81fb7d87038a",
        "IPY_MODEL_0af457c0242447a0876664178487fcab"
       ],
       "layout": "IPY_MODEL_e4e9051ef9eb482bb2a6be32a4737b54"
      }
     },
     "55b1e4cfea0b44558dbdf06e144e3582": {
      "model_module": "@jupyter-widgets/controls",
      "model_module_version": "1.5.0",
      "model_name": "HBoxModel",
      "state": {
       "children": [
        "IPY_MODEL_bf36b6bff16546fc93bca326c3a5882e",
        "IPY_MODEL_3a101106604a4e7b891aa88e84f4b2ff",
        "IPY_MODEL_9aebb2e6674f43a2b8f2ab4f1487a293"
       ],
       "layout": "IPY_MODEL_0e3ef805f3904377ac0fffb2d3238638"
      }
     },
     "55ca2e92205d4eeda76f36a88281a3a2": {
      "model_module": "@jupyter-widgets/controls",
      "model_module_version": "1.5.0",
      "model_name": "CheckboxModel",
      "state": {
       "description": "50 Hz",
       "disabled": false,
       "indent": false,
       "layout": "IPY_MODEL_be06f599ab5b49258bf9a3034c25c9a9",
       "style": "IPY_MODEL_24edb03ce6b24bceb9fba013bd22e597",
       "value": true
      }
     },
     "55cd200ac4e24a3fb88de7f37211b0c9": {
      "model_module": "@jupyter-widgets/base",
      "model_module_version": "1.2.0",
      "model_name": "LayoutModel",
      "state": {}
     },
     "563ebcbcca8840b4a812f0433657db65": {
      "model_module": "@jupyter-widgets/controls",
      "model_module_version": "1.5.0",
      "model_name": "TextModel",
      "state": {
       "layout": "IPY_MODEL_e0b8bb13184046e89a2f7dc13dc2061d",
       "placeholder": "Signal length [s]",
       "style": "IPY_MODEL_42e6af3239144c21a9b67d6755c7586a",
       "value": "0.3"
      }
     },
     "5647493124074048ae680ca565d4a754": {
      "model_module": "@jupyter-widgets/base",
      "model_module_version": "1.2.0",
      "model_name": "LayoutModel",
      "state": {}
     },
     "56999dd3bfe14759bcb0863c1027aa4b": {
      "model_module": "@jupyter-widgets/base",
      "model_module_version": "1.2.0",
      "model_name": "LayoutModel",
      "state": {}
     },
     "569b9e6d01474775bc3ac115fdaa0d03": {
      "model_module": "@jupyter-widgets/controls",
      "model_module_version": "1.5.0",
      "model_name": "ButtonModel",
      "state": {
       "description": "Generate plot",
       "layout": "IPY_MODEL_729b2ef61d18410aabb9bbdb1c2a6303",
       "style": "IPY_MODEL_2bc0232e1bb8489cab8d39820a178e85"
      }
     },
     "56b5ce5be1f943d1bccd98e8e21c4066": {
      "model_module": "@jupyter-widgets/controls",
      "model_module_version": "1.5.0",
      "model_name": "CheckboxModel",
      "state": {
       "description": "70 Hz",
       "disabled": false,
       "indent": false,
       "layout": "IPY_MODEL_032ad1636d60496c8685c9436c00334f",
       "style": "IPY_MODEL_56f6871756b44a19825734d80c0208b2",
       "value": true
      }
     },
     "56f6871756b44a19825734d80c0208b2": {
      "model_module": "@jupyter-widgets/controls",
      "model_module_version": "1.5.0",
      "model_name": "DescriptionStyleModel",
      "state": {
       "description_width": ""
      }
     },
     "56fe77cbd01444ee965dcdf99f63f0c4": {
      "model_module": "@jupyter-widgets/controls",
      "model_module_version": "1.5.0",
      "model_name": "LabelModel",
      "state": {
       "layout": "IPY_MODEL_f28fe343cf2245d5a19a10fa2315ac89",
       "style": "IPY_MODEL_f4db60013c124855bc693efa7c217376",
       "value": "Signal = generateSine(1000, [50.0, 70.0], amplitude=[1.0, 0.3], time=0.3, noise=0.0)"
      }
     },
     "5701fda3c5e84fcc8319071dff1a1b17": {
      "model_module": "@jupyter-widgets/controls",
      "model_module_version": "1.5.0",
      "model_name": "ButtonStyleModel",
      "state": {}
     },
     "571b3c15474f4108882bb6a16e9c3f7c": {
      "model_module": "@jupyter-widgets/base",
      "model_module_version": "1.2.0",
      "model_name": "LayoutModel",
      "state": {
       "min_width": "50px",
       "width": "50px"
      }
     },
     "5749ddea0ffb4eeca34485f7eff9307b": {
      "model_module": "@jupyter-widgets/controls",
      "model_module_version": "1.5.0",
      "model_name": "IntSliderModel",
      "state": {
       "continuous_update": false,
       "layout": "IPY_MODEL_53cd276a32604b299a00798a676b51e9",
       "max": 3000,
       "min": 100,
       "step": 10,
       "style": "IPY_MODEL_ee8df54e282147cc884177176054d8f8",
       "value": 1000
      }
     },
     "5764b4b03c654ce9b068cc52856a0146": {
      "model_module": "@jupyter-widgets/controls",
      "model_module_version": "1.5.0",
      "model_name": "HBoxModel",
      "state": {
       "children": [
        "IPY_MODEL_67ced29b214143ddbd1ed78041fee4a2",
        "IPY_MODEL_2d226e6cdf474bab831f834ffe7b712b"
       ],
       "layout": "IPY_MODEL_5c6ee9871c9d461b8083c4ac39d73a81"
      }
     },
     "5777c65f58b544cf896ea157ba1f24ad": {
      "model_module": "@jupyter-widgets/controls",
      "model_module_version": "1.5.0",
      "model_name": "DescriptionStyleModel",
      "state": {
       "description_width": "initial"
      }
     },
     "577d6e032eb947288df6755a521cd562": {
      "model_module": "@jupyter-widgets/controls",
      "model_module_version": "1.5.0",
      "model_name": "TextModel",
      "state": {
       "layout": "IPY_MODEL_adc2261583ba4311949fbb5c3422937d",
       "placeholder": "Amplitude (0 < x < 1)",
       "style": "IPY_MODEL_8ed4dec6fe7a4899b68c547ab0a0c469",
       "value": "1"
      }
     },
     "577f353adba74562adc41f3cc3acbb22": {
      "model_module": "@jupyter-widgets/base",
      "model_module_version": "1.2.0",
      "model_name": "LayoutModel",
      "state": {}
     },
     "57a45d2c8abb49539a883d7f9fabb16a": {
      "model_module": "@jupyter-widgets/controls",
      "model_module_version": "1.5.0",
      "model_name": "ButtonStyleModel",
      "state": {}
     },
     "57b98e7b42fa462dafb8b18441b5816e": {
      "model_module": "@jupyter-widgets/controls",
      "model_module_version": "1.5.0",
      "model_name": "SliderStyleModel",
      "state": {
       "description_width": ""
      }
     },
     "581355fbd7624d5fa3d825b520609fa2": {
      "model_module": "@jupyter-widgets/controls",
      "model_module_version": "1.5.0",
      "model_name": "DescriptionStyleModel",
      "state": {
       "description_width": "initial"
      }
     },
     "5816036327f643449b19fc35d17c8ad5": {
      "model_module": "@jupyter-widgets/controls",
      "model_module_version": "1.5.0",
      "model_name": "SliderStyleModel",
      "state": {
       "description_width": ""
      }
     },
     "581cd259c2df431a9411127146ff0426": {
      "model_module": "@jupyter-widgets/base",
      "model_module_version": "1.2.0",
      "model_name": "LayoutModel",
      "state": {}
     },
     "5832b1a0a76848c8bce45ab538d6af34": {
      "model_module": "@jupyter-widgets/controls",
      "model_module_version": "1.5.0",
      "model_name": "SliderStyleModel",
      "state": {
       "description_width": ""
      }
     },
     "58474abed4bb44deb49d04177a0fd5ba": {
      "model_module": "@jupyter-widgets/controls",
      "model_module_version": "1.5.0",
      "model_name": "ButtonStyleModel",
      "state": {}
     },
     "587c5061dc014e21b6c1e58ad713305b": {
      "model_module": "@jupyter-widgets/controls",
      "model_module_version": "1.5.0",
      "model_name": "ButtonStyleModel",
      "state": {}
     },
     "5898efdc746e4129af88dd02d8bdb0c0": {
      "model_module": "@jupyter-widgets/controls",
      "model_module_version": "1.5.0",
      "model_name": "SliderStyleModel",
      "state": {
       "description_width": ""
      }
     },
     "5a1aebd8c47440288a05bab5dddfe53a": {
      "model_module": "@jupyter-widgets/controls",
      "model_module_version": "1.5.0",
      "model_name": "DescriptionStyleModel",
      "state": {
       "description_width": ""
      }
     },
     "5a26f8a7910245cba7ec6dea98dc2f29": {
      "model_module": "@jupyter-widgets/base",
      "model_module_version": "1.2.0",
      "model_name": "LayoutModel",
      "state": {
       "min_width": "50px",
       "width": "50px"
      }
     },
     "5a2bf0d140374b3da2288f8f6978371c": {
      "model_module": "@jupyter-widgets/base",
      "model_module_version": "1.2.0",
      "model_name": "LayoutModel",
      "state": {}
     },
     "5a5de74ac57c455e82f295b2d0160705": {
      "model_module": "@jupyter-widgets/controls",
      "model_module_version": "1.5.0",
      "model_name": "CheckboxModel",
      "state": {
       "description": "70 Hz",
       "disabled": false,
       "indent": false,
       "layout": "IPY_MODEL_67f6b78ce74d4135911bf915d6c398a9",
       "style": "IPY_MODEL_525caa9b4eb04f83bc30246efc10e3ed",
       "value": true
      }
     },
     "5a65d403e60f463fb543a4a31cc0d2c8": {
      "model_module": "@jupyter-widgets/controls",
      "model_module_version": "1.5.0",
      "model_name": "VBoxModel",
      "state": {
       "children": [
        "IPY_MODEL_377b39e1332143cc9e3a2fcdaa635dff",
        "IPY_MODEL_2ad66a4458e546ee90818b85dacebf73"
       ],
       "layout": "IPY_MODEL_f4e783b08ff44b84a8d0f060ac9685ae"
      }
     },
     "5a676c71090d40d7b29455beb3f4ed1d": {
      "model_module": "@jupyter-widgets/controls",
      "model_module_version": "1.5.0",
      "model_name": "ButtonModel",
      "state": {
       "description": "Signal amplitude (0 < x < 1)",
       "disabled": true,
       "layout": "IPY_MODEL_25dc3c558b594a7f80f14f3d5f27a359",
       "style": "IPY_MODEL_9ec2a63de4f24cb49f3cc94d79478fd0"
      }
     },
     "5ab5e7844f6541af87f443647a5a9567": {
      "model_module": "@jupyter-widgets/controls",
      "model_module_version": "1.5.0",
      "model_name": "ButtonModel",
      "state": {
       "description": "Amplitude of added noise",
       "disabled": true,
       "layout": "IPY_MODEL_18242a5149ee4c63bc4e74a5b4c0bb3f",
       "style": "IPY_MODEL_8b0764859a01403097fb5b930ae76f04"
      }
     },
     "5ab9a29be4694365ab7ae00e1453a2a4": {
      "model_module": "@jupyter-widgets/base",
      "model_module_version": "1.2.0",
      "model_name": "LayoutModel",
      "state": {}
     },
     "5b1ab81f79b049db91cd263707be78cc": {
      "model_module": "@jupyter-widgets/controls",
      "model_module_version": "1.5.0",
      "model_name": "ButtonStyleModel",
      "state": {}
     },
     "5b51426318c44e1390c05984cff6cb7c": {
      "model_module": "@jupyter-widgets/controls",
      "model_module_version": "1.5.0",
      "model_name": "ButtonModel",
      "state": {
       "description": "Samples per seconds [Hz]",
       "disabled": true,
       "layout": "IPY_MODEL_fef683c8046b4e17bc842c4f72257c8a",
       "style": "IPY_MODEL_8d6203c210ed48ff88a22248517b4cc9"
      }
     },
     "5b8d4d7496574c70a7b13320b2ae0278": {
      "model_module": "@jupyter-widgets/base",
      "model_module_version": "1.2.0",
      "model_name": "LayoutModel",
      "state": {}
     },
     "5bdd35d8f22d4f7db24e24806627b6b5": {
      "model_module": "@jupyter-widgets/controls",
      "model_module_version": "1.5.0",
      "model_name": "ButtonStyleModel",
      "state": {}
     },
     "5c379c7902084a45b7b2476ce5e227db": {
      "model_module": "@jupyter-widgets/controls",
      "model_module_version": "1.5.0",
      "model_name": "DescriptionStyleModel",
      "state": {
       "description_width": "initial"
      }
     },
     "5c386a8ad35142c7b6430848ddb1f5c0": {
      "model_module": "@jupyter-widgets/controls",
      "model_module_version": "1.5.0",
      "model_name": "HBoxModel",
      "state": {
       "children": [
        "IPY_MODEL_5a5de74ac57c455e82f295b2d0160705",
        "IPY_MODEL_cbb374991fa5420e82c99a9e3da03b76",
        "IPY_MODEL_0cef3c23bd5e47cdba5659e022eacf58"
       ],
       "layout": "IPY_MODEL_cc39ded5d4f248f3ab57496f2981fe82"
      }
     },
     "5c6ee9871c9d461b8083c4ac39d73a81": {
      "model_module": "@jupyter-widgets/base",
      "model_module_version": "1.2.0",
      "model_name": "LayoutModel",
      "state": {}
     },
     "5ca5979865c94656a11cdd32e407d396": {
      "model_module": "@jupyter-widgets/controls",
      "model_module_version": "1.5.0",
      "model_name": "DescriptionStyleModel",
      "state": {
       "description_width": ""
      }
     },
     "5cb6c94d6f85480c8d17191d6a640484": {
      "model_module": "@jupyter-widgets/controls",
      "model_module_version": "1.5.0",
      "model_name": "CheckboxModel",
      "state": {
       "description": "70 Hz",
       "disabled": false,
       "indent": false,
       "layout": "IPY_MODEL_d866a500f37746ed88ef6c42bec967fe",
       "style": "IPY_MODEL_c5a7e2f7c733443e95ccf5076bfd13ff",
       "value": false
      }
     },
     "5ce42484ba5f46e88476da301d74f38c": {
      "model_module": "@jupyter-widgets/controls",
      "model_module_version": "1.5.0",
      "model_name": "ButtonStyleModel",
      "state": {}
     },
     "5d05411ada284ba290a03cff136d72b9": {
      "model_module": "@jupyter-widgets/controls",
      "model_module_version": "1.5.0",
      "model_name": "SliderStyleModel",
      "state": {
       "description_width": ""
      }
     },
     "5d05fd1abd514f92ab2fccc475b9e72c": {
      "model_module": "@jupyter-widgets/controls",
      "model_module_version": "1.5.0",
      "model_name": "TextModel",
      "state": {
       "layout": "IPY_MODEL_d92c8e3cc06c45debff76048388b76e4",
       "placeholder": "Amplitude (0 < x < 1)",
       "style": "IPY_MODEL_fd7675c303e14eeb8bd541100a438659",
       "value": "1"
      }
     },
     "5d0b227be397464b881074c977d5e51e": {
      "model_module": "@jupyter-widgets/base",
      "model_module_version": "1.2.0",
      "model_name": "LayoutModel",
      "state": {}
     },
     "5d2bf4394cfd4846870455577fc9c242": {
      "model_module": "@jupyter-widgets/base",
      "model_module_version": "1.2.0",
      "model_name": "LayoutModel",
      "state": {
       "min_width": "50px",
       "width": "50px"
      }
     },
     "5d8ab084cca9492b8c8447b378994a24": {
      "model_module": "@jupyter-widgets/base",
      "model_module_version": "1.2.0",
      "model_name": "LayoutModel",
      "state": {}
     },
     "5dade929a7b44db9aa2867a5d5d95aef": {
      "model_module": "@jupyter-widgets/controls",
      "model_module_version": "1.5.0",
      "model_name": "HBoxModel",
      "state": {
       "children": [
        "IPY_MODEL_6b1d726a901448d6991f5bb9162f52fe",
        "IPY_MODEL_90fee897ccfa4e75a84aeb2f5af9fd39"
       ],
       "layout": "IPY_MODEL_c86d48f52765437191a749bab0db4e45"
      }
     },
     "5e208277ad4348afb38ddc85c6739086": {
      "model_module": "@jupyter-widgets/controls",
      "model_module_version": "1.5.0",
      "model_name": "ButtonStyleModel",
      "state": {}
     },
     "5e2682d5c6bb41959f0dcd1df12ba454": {
      "model_module": "@jupyter-widgets/controls",
      "model_module_version": "1.5.0",
      "model_name": "ButtonStyleModel",
      "state": {}
     },
     "5e35970337b94664877e6c58a9804fb2": {
      "model_module": "@jupyter-widgets/controls",
      "model_module_version": "1.5.0",
      "model_name": "DescriptionStyleModel",
      "state": {
       "description_width": "initial"
      }
     },
     "5ee75c6d327a4a9db5461a5565cf886d": {
      "model_module": "@jupyter-widgets/base",
      "model_module_version": "1.2.0",
      "model_name": "LayoutModel",
      "state": {
       "height": "28px",
       "min_height": "28px",
       "min_width": "400px",
       "width": "400px"
      }
     },
     "5ef53d3db41a4bcf9fdfc1e9e15488b7": {
      "model_module": "@jupyter-widgets/base",
      "model_module_version": "1.2.0",
      "model_name": "LayoutModel",
      "state": {}
     },
     "5f376c6f07e2473290cadfeb32a15814": {
      "model_module": "@jupyter-widgets/controls",
      "model_module_version": "1.5.0",
      "model_name": "ButtonModel",
      "state": {
       "description": "Generate plot",
       "layout": "IPY_MODEL_e3536bf84ff643679ce88773258d179c",
       "style": "IPY_MODEL_afe037b56f6a4544b491872fc9442996"
      }
     },
     "5f461ec0fcba4f1899bf4261d29a75c6": {
      "model_module": "@jupyter-widgets/controls",
      "model_module_version": "1.5.0",
      "model_name": "HBoxModel",
      "state": {
       "children": [
        "IPY_MODEL_5193b7c808534622af9fb7c0c47c0ace",
        "IPY_MODEL_4b4a8d7461ff43f3a933b8d4f043d5ac",
        "IPY_MODEL_2004a4ef9ff14065b511ee1e03037105"
       ],
       "layout": "IPY_MODEL_7b44b027f9f14b118bb84323aa787ed1"
      }
     },
     "5f5c069c0d724353913c6d99b1ecaa08": {
      "model_module": "@jupyter-widgets/base",
      "model_module_version": "1.2.0",
      "model_name": "LayoutModel",
      "state": {
       "height": "28px",
       "min_height": "28px",
       "min_width": "400px",
       "width": "400px"
      }
     },
     "5fabba87af32493da21e5a38601c38ce": {
      "model_module": "@jupyter-widgets/controls",
      "model_module_version": "1.5.0",
      "model_name": "HBoxModel",
      "state": {
       "children": [
        "IPY_MODEL_8ea48eeaa0344534a1cfb0bfe488a382",
        "IPY_MODEL_9108a8eacd7f42e8abbca4d1aabc4e8e"
       ],
       "layout": "IPY_MODEL_c006cbe669da4be787242058927836cd"
      }
     },
     "5fc9466f099e455eaaa65b00c2f2ad62": {
      "model_module": "@jupyter-widgets/controls",
      "model_module_version": "1.5.0",
      "model_name": "ButtonModel",
      "state": {
       "description": "Padd signal for FFT calculation",
       "disabled": true,
       "layout": "IPY_MODEL_2b881d1737144a1999118f0d551b71cd",
       "style": "IPY_MODEL_fa3e78516d2144279e6615a9ed0342b5"
      }
     },
     "605ba32f9fe54e0f9f5899996c8e720c": {
      "model_module": "@jupyter-widgets/base",
      "model_module_version": "1.2.0",
      "model_name": "LayoutModel",
      "state": {
       "width": "auto"
      }
     },
     "60984fa302a9411793993c13ed5ed95c": {
      "model_module": "@jupyter-widgets/base",
      "model_module_version": "1.2.0",
      "model_name": "LayoutModel",
      "state": {}
     },
     "60c0cbfebbaa4593be9106e51ac563f9": {
      "model_module": "@jupyter-widgets/controls",
      "model_module_version": "1.5.0",
      "model_name": "ButtonStyleModel",
      "state": {}
     },
     "6128d8655ff440fab1fc3ab7432ab10e": {
      "model_module": "@jupyter-widgets/controls",
      "model_module_version": "1.5.0",
      "model_name": "ButtonStyleModel",
      "state": {}
     },
     "61b315db34324a2c809a9fd42ca34bf2": {
      "model_module": "@jupyter-widgets/base",
      "model_module_version": "1.2.0",
      "model_name": "LayoutModel",
      "state": {}
     },
     "61be5fbba3194e509c498a5cf53556f2": {
      "model_module": "@jupyter-widgets/base",
      "model_module_version": "1.2.0",
      "model_name": "LayoutModel",
      "state": {}
     },
     "622f74dfe6b745d1b767b5ccc96c3061": {
      "model_module": "@jupyter-widgets/base",
      "model_module_version": "1.2.0",
      "model_name": "LayoutModel",
      "state": {
       "height": "28px",
       "min_height": "28px",
       "min_width": "400px",
       "width": "400px"
      }
     },
     "629a7d65e05e47d28d8b6c9c4d69f2a2": {
      "model_module": "@jupyter-widgets/base",
      "model_module_version": "1.2.0",
      "model_name": "LayoutModel",
      "state": {}
     },
     "62af0b786d6140ce8ca2c71ee8befd52": {
      "model_module": "@jupyter-widgets/controls",
      "model_module_version": "1.5.0",
      "model_name": "LabelModel",
      "state": {
       "layout": "IPY_MODEL_28384ba7a8724ac081f4496ed348a495",
       "style": "IPY_MODEL_0990e5e42cd04ef8a19ae3837c698d3a",
       "value": "Amplitude spectrum = [1.00, 0.00] [V]]"
      }
     },
     "62d113c90d28426484d7e96532c4393e": {
      "model_module": "@jupyter-widgets/controls",
      "model_module_version": "1.5.0",
      "model_name": "DescriptionStyleModel",
      "state": {
       "description_width": "initial"
      }
     },
     "62ecaab01fed44a183f714c5e570ea75": {
      "model_module": "@jupyter-widgets/controls",
      "model_module_version": "1.5.0",
      "model_name": "VBoxModel",
      "state": {
       "children": [
        "IPY_MODEL_d215ddc6fb084c61a9b301270cd6d21f",
        "IPY_MODEL_124fd7744bf0445a8aa00f2487dff50b"
       ],
       "layout": "IPY_MODEL_09a6f112b9c949eeb28c51130a762bd8"
      }
     },
     "6301a3dad4fb4120b4562ede7255fc59": {
      "model_module": "@jupyter-widgets/base",
      "model_module_version": "1.2.0",
      "model_name": "LayoutModel",
      "state": {}
     },
     "634c6d7fbca240d1ad2efd8083285b51": {
      "model_module": "@jupyter-widgets/controls",
      "model_module_version": "1.5.0",
      "model_name": "ButtonStyleModel",
      "state": {}
     },
     "6377568fe20244f3a2f9fd4b484fef06": {
      "model_module": "@jupyter-widgets/controls",
      "model_module_version": "1.5.0",
      "model_name": "VBoxModel",
      "state": {
       "children": [
        "IPY_MODEL_89e2e1132d934d889ff919d3d1a4df22",
        "IPY_MODEL_26f51b472fe5446cb40525ec65dce5ee"
       ],
       "layout": "IPY_MODEL_e5a195f87b974b1592d3a95258551315"
      }
     },
     "638c71ec3efa4476869673fbd951c640": {
      "model_module": "@jupyter-widgets/base",
      "model_module_version": "1.2.0",
      "model_name": "LayoutModel",
      "state": {}
     },
     "63f3e8466e144712aed17b6450becf1e": {
      "model_module": "@jupyter-widgets/controls",
      "model_module_version": "1.5.0",
      "model_name": "HBoxModel",
      "state": {
       "children": [
        "IPY_MODEL_89a911f718ce47799cffc45d79cc7cca",
        "IPY_MODEL_70d0d1c72e7f455983cfc20ede81db4b"
       ],
       "layout": "IPY_MODEL_a419eecbfb5a4a8fb409ba95c047a9d6"
      }
     },
     "63f7a605739d4e1295de2e57633ee47a": {
      "model_module": "@jupyter-widgets/controls",
      "model_module_version": "1.5.0",
      "model_name": "HBoxModel",
      "state": {
       "children": [
        "IPY_MODEL_47aede3182dc41afaee353526df7d8b1",
        "IPY_MODEL_4759c365fc204e79b9cde24cd17d0fcd"
       ],
       "layout": "IPY_MODEL_cf0a4f73f8454466aaa48841cd35d13d"
      }
     },
     "6401f4b09112476f9f3ac10d449060eb": {
      "model_module": "@jupyter-widgets/base",
      "model_module_version": "1.2.0",
      "model_name": "LayoutModel",
      "state": {
       "height": "28px",
       "min_height": "28px",
       "min_width": "400px",
       "width": "400px"
      }
     },
     "64a728f2f44c43aeb06c7a835e814135": {
      "model_module": "@jupyter-widgets/controls",
      "model_module_version": "1.5.0",
      "model_name": "ButtonModel",
      "state": {
       "description": "Signal frequency",
       "disabled": true,
       "layout": "IPY_MODEL_ac816d3f245e4332bafbcec23e3cf56a",
       "style": "IPY_MODEL_34f67e91e4a044ee899f7d0ac5bc7716"
      }
     },
     "6546e007bd4a493e95ae903182fd8181": {
      "model_module": "@jupyter-widgets/controls",
      "model_module_version": "1.5.0",
      "model_name": "CheckboxModel",
      "state": {
       "description": "70 Hz",
       "disabled": false,
       "indent": false,
       "layout": "IPY_MODEL_1488e5e0eaf24e3884f827eb7a81aefe",
       "style": "IPY_MODEL_468b9aacac0946dd8a29e187eafab1e5",
       "value": false
      }
     },
     "654c20a74aed444ba128a854116cb0ab": {
      "model_module": "@jupyter-widgets/controls",
      "model_module_version": "1.5.0",
      "model_name": "ButtonModel",
      "state": {
       "description": "Signal length [seconds]",
       "disabled": true,
       "layout": "IPY_MODEL_a68d80a0f9ad4b05adbb8e0be1139ad0",
       "style": "IPY_MODEL_cdc035b4b61c49e9a7d71df6aafd2f21"
      }
     },
     "6561cdcf67224b8dbb7f28764f0759b3": {
      "model_module": "@jupyter-widgets/controls",
      "model_module_version": "1.5.0",
      "model_name": "HBoxModel",
      "state": {
       "children": [
        "IPY_MODEL_28d681ee3b85493d9335a76e426d9be3",
        "IPY_MODEL_62ecaab01fed44a183f714c5e570ea75"
       ],
       "layout": "IPY_MODEL_21183f5b786e4cd0ba2c0c15cb4b4f33"
      }
     },
     "656e2d8407a749feb5e737667d11b02d": {
      "model_module": "@jupyter-widgets/controls",
      "model_module_version": "1.5.0",
      "model_name": "HBoxModel",
      "state": {
       "children": [
        "IPY_MODEL_739e4b6da92641ee98ca8c2942532ff5",
        "IPY_MODEL_237c9ac609894574a31bb3e9eda1b973"
       ],
       "layout": "IPY_MODEL_cfdb5f0bbd6742ebaafc7bcf0b3ab8ba"
      }
     },
     "65dabf6b2d1a412bbd7111cc7fbfec67": {
      "model_module": "@jupyter-widgets/controls",
      "model_module_version": "1.5.0",
      "model_name": "HBoxModel",
      "state": {
       "children": [
        "IPY_MODEL_ad0bbeab50d94ebd90e0c6cba37e24f3",
        "IPY_MODEL_1dbc590f3d4c47c8bbb0a9107f012b72"
       ],
       "layout": "IPY_MODEL_aadd9c698cc94e8bb4fd9880cf95be2b"
      }
     },
     "65e503388eb3421699588a5399a2f3ca": {
      "model_module": "@jupyter-widgets/base",
      "model_module_version": "1.2.0",
      "model_name": "LayoutModel",
      "state": {}
     },
     "660a11c0b59f4863b7cfbb1e0c045de2": {
      "model_module": "@jupyter-widgets/base",
      "model_module_version": "1.2.0",
      "model_name": "LayoutModel",
      "state": {}
     },
     "660b8b55dcd646b6aba1be834eaa3a3a": {
      "model_module": "@jupyter-widgets/controls",
      "model_module_version": "1.5.0",
      "model_name": "HBoxModel",
      "state": {
       "children": [
        "IPY_MODEL_5fc9466f099e455eaaa65b00c2f2ad62",
        "IPY_MODEL_16fa4da9051d410bb555708c15a458cf"
       ],
       "layout": "IPY_MODEL_cc8a2c339b8440f59197a03143fbde88"
      }
     },
     "664be4a77aaf40ee873d34dd1f90d1f7": {
      "model_module": "@jupyter-widgets/controls",
      "model_module_version": "1.5.0",
      "model_name": "HBoxModel",
      "state": {
       "children": [
        "IPY_MODEL_cbc07310af664b809fd032507b92e386",
        "IPY_MODEL_f318e9334f4d4243aaaa7743cd4c035d"
       ],
       "layout": "IPY_MODEL_12fcc8ef57e84c3bbe4bea0de237cd16"
      }
     },
     "667858722786474e993286542fdf53be": {
      "model_module": "@jupyter-widgets/controls",
      "model_module_version": "1.5.0",
      "model_name": "ButtonModel",
      "state": {
       "description": "Signal amplitude (0 < x < 1)",
       "disabled": true,
       "layout": "IPY_MODEL_e10e6a1ae19a4dd29f659e1b986c3810",
       "style": "IPY_MODEL_dea15eadf38b46cd94e388fa039563d4"
      }
     },
     "6687fb1c650a4511ba13808cf01bb1a7": {
      "model_module": "@jupyter-widgets/base",
      "model_module_version": "1.2.0",
      "model_name": "LayoutModel",
      "state": {}
     },
     "66bf7122be3047ed89673af280cb976d": {
      "model_module": "@jupyter-widgets/controls",
      "model_module_version": "1.5.0",
      "model_name": "ButtonStyleModel",
      "state": {}
     },
     "66f22714776147b7aee5c6e9ede10593": {
      "model_module": "@jupyter-widgets/controls",
      "model_module_version": "1.5.0",
      "model_name": "DescriptionStyleModel",
      "state": {
       "description_width": ""
      }
     },
     "66fee193de2c4e54b3e433ac908b0b79": {
      "model_module": "@jupyter-widgets/controls",
      "model_module_version": "1.5.0",
      "model_name": "TextModel",
      "state": {
       "layout": "IPY_MODEL_8e1d3511b006452fae15e43f638ab0f2",
       "placeholder": "Amplitude (0 < x < 1)",
       "style": "IPY_MODEL_ceade8f835a14f12a3e7b4bae450230a",
       "value": "1"
      }
     },
     "6710fb29a75148a3b7a6dcdb6850cadc": {
      "model_module": "@jupyter-widgets/controls",
      "model_module_version": "1.5.0",
      "model_name": "DescriptionStyleModel",
      "state": {
       "description_width": "initial"
      }
     },
     "672dc4ce33a64cc19a1cce6670b39901": {
      "model_module": "@jupyter-widgets/controls",
      "model_module_version": "1.5.0",
      "model_name": "SliderStyleModel",
      "state": {
       "description_width": ""
      }
     },
     "67ced29b214143ddbd1ed78041fee4a2": {
      "model_module": "@jupyter-widgets/controls",
      "model_module_version": "1.5.0",
      "model_name": "ButtonModel",
      "state": {
       "description": "Amplitude of added noise",
       "disabled": true,
       "layout": "IPY_MODEL_decdd9768560425f831f261eb35468f7",
       "style": "IPY_MODEL_09dc10d0dbe848468e9d4f8fd4fc3a4f"
      }
     },
     "67dcd1fc86354039bdd3b88872b1cbb6": {
      "model_module": "@jupyter-widgets/controls",
      "model_module_version": "1.5.0",
      "model_name": "HBoxModel",
      "state": {
       "children": [
        "IPY_MODEL_2cd03df9acdc4623b60b635b9b9b2d65",
        "IPY_MODEL_04feee54529c48d294a6b98684d4cdb9"
       ],
       "layout": "IPY_MODEL_e61922d84de94a3f8bdf8c6a69833fc2"
      }
     },
     "67e8cbd3c9eb4887b37d745dc87a83d7": {
      "model_module": "@jupyter-widgets/base",
      "model_module_version": "1.2.0",
      "model_name": "LayoutModel",
      "state": {}
     },
     "67f6b78ce74d4135911bf915d6c398a9": {
      "model_module": "@jupyter-widgets/base",
      "model_module_version": "1.2.0",
      "model_name": "LayoutModel",
      "state": {}
     },
     "680d36cf1284453d90d8ea5907fd34c5": {
      "model_module": "@jupyter-widgets/controls",
      "model_module_version": "1.5.0",
      "model_name": "DescriptionStyleModel",
      "state": {
       "description_width": "initial"
      }
     },
     "68416a64af764ee181a5d86e4117d679": {
      "model_module": "@jupyter-widgets/controls",
      "model_module_version": "1.5.0",
      "model_name": "ButtonStyleModel",
      "state": {}
     },
     "685cfda7188945e884b97c495729e66e": {
      "model_module": "@jupyter-widgets/controls",
      "model_module_version": "1.5.0",
      "model_name": "TextModel",
      "state": {
       "layout": "IPY_MODEL_d817ad4ac6ff4ce3a7367872ce182c09",
       "placeholder": "Amplitude (0 < x < 1)",
       "style": "IPY_MODEL_eee9f77f2eee4b589c4cd340c5bf2c5e",
       "value": "0.3"
      }
     },
     "68752818ae194e72a190d907f4b1e501": {
      "model_module": "@jupyter-widgets/base",
      "model_module_version": "1.2.0",
      "model_name": "LayoutModel",
      "state": {
       "min_width": "50px",
       "width": "50px"
      }
     },
     "69478b4d8a8c44d595b00e2e77a177d7": {
      "model_module": "@jupyter-widgets/controls",
      "model_module_version": "1.5.0",
      "model_name": "TextModel",
      "state": {
       "layout": "IPY_MODEL_2fe5c8c06f094db6959ad719efcf9ca2",
       "placeholder": "Additive noise",
       "style": "IPY_MODEL_3906023bbfa142a8a7fa7c094e12b1c4",
       "value": "0"
      }
     },
     "6996794466274b25809867779d9ed875": {
      "model_module": "@jupyter-widgets/controls",
      "model_module_version": "1.5.0",
      "model_name": "ButtonStyleModel",
      "state": {}
     },
     "699e8bdf4bff48e0aeecea4ed6bf6c50": {
      "model_module": "@jupyter-widgets/base",
      "model_module_version": "1.2.0",
      "model_name": "LayoutModel",
      "state": {}
     },
     "69aaa567a863468c95d19ce1459d1f01": {
      "model_module": "@jupyter-widgets/base",
      "model_module_version": "1.2.0",
      "model_name": "LayoutModel",
      "state": {
       "height": "28px",
       "min_height": "28px",
       "min_width": "400px",
       "width": "400px"
      }
     },
     "69b78c98505d41f38f76a085781a87c7": {
      "model_module": "@jupyter-widgets/base",
      "model_module_version": "1.2.0",
      "model_name": "LayoutModel",
      "state": {
       "width": "auto"
      }
     },
     "6a18533e4b664100b8bb83e84353cb60": {
      "model_module": "@jupyter-widgets/base",
      "model_module_version": "1.2.0",
      "model_name": "LayoutModel",
      "state": {
       "height": "28px",
       "min_height": "28px",
       "min_width": "400px",
       "width": "400px"
      }
     },
     "6a37a912f3b440baa6c401bc99cc3928": {
      "model_module": "@jupyter-widgets/controls",
      "model_module_version": "1.5.0",
      "model_name": "DescriptionStyleModel",
      "state": {
       "description_width": ""
      }
     },
     "6a3bdf13a3b240cb8798883927481f33": {
      "model_module": "@jupyter-widgets/controls",
      "model_module_version": "1.5.0",
      "model_name": "DescriptionStyleModel",
      "state": {
       "description_width": ""
      }
     },
     "6a59b8f2bfbb46d9b4c8cbe62ab059ae": {
      "model_module": "@jupyter-widgets/controls",
      "model_module_version": "1.5.0",
      "model_name": "ButtonModel",
      "state": {
       "description": "Signal length [seconds]",
       "disabled": true,
       "layout": "IPY_MODEL_3d242d6039b64ad597f5a1199e9f913f",
       "style": "IPY_MODEL_e5faac32cf7f4917bea88d0b2da9a79b"
      }
     },
     "6a5aada329d74937bb223fd88d2a8faf": {
      "model_module": "@jupyter-widgets/base",
      "model_module_version": "1.2.0",
      "model_name": "LayoutModel",
      "state": {}
     },
     "6a9f5e5df5b8466db1c1ad198dc09b42": {
      "model_module": "@jupyter-widgets/controls",
      "model_module_version": "1.5.0",
      "model_name": "ButtonStyleModel",
      "state": {}
     },
     "6ad53fa88a5243ab934ec5cb9f9d5039": {
      "model_module": "@jupyter-widgets/controls",
      "model_module_version": "1.5.0",
      "model_name": "DescriptionStyleModel",
      "state": {
       "description_width": ""
      }
     },
     "6affcbce37a4468588e7d7fa9bbc2b3b": {
      "model_module": "@jupyter-widgets/controls",
      "model_module_version": "1.5.0",
      "model_name": "DescriptionStyleModel",
      "state": {
       "description_width": "initial"
      }
     },
     "6b1d726a901448d6991f5bb9162f52fe": {
      "model_module": "@jupyter-widgets/controls",
      "model_module_version": "1.5.0",
      "model_name": "ButtonModel",
      "state": {
       "description": "Padd signal for FFT calculation",
       "disabled": true,
       "layout": "IPY_MODEL_4c35e54026394ba0b39b56147fb0eb77",
       "style": "IPY_MODEL_bc80faca973b42a89d52db1ff86653f3"
      }
     },
     "6b28a33f349b40b5a0fd53c21b20565b": {
      "model_module": "@jupyter-widgets/base",
      "model_module_version": "1.2.0",
      "model_name": "LayoutModel",
      "state": {
       "height": "28px",
       "min_height": "28px",
       "min_width": "400px",
       "width": "400px"
      }
     },
     "6b4c2d05e1874af08124e7ab521f7990": {
      "model_module": "@jupyter-widgets/controls",
      "model_module_version": "1.5.0",
      "model_name": "TextModel",
      "state": {
       "layout": "IPY_MODEL_18249ce48b8b481895e8918f0fef8b2c",
       "placeholder": "Signal length [s]",
       "style": "IPY_MODEL_3bbe1bdfb8854efc9522fb6527c2410e",
       "value": "0.3"
      }
     },
     "6ba17ad15a0540ddb2414e7f151a4dd4": {
      "model_module": "@jupyter-widgets/controls",
      "model_module_version": "1.5.0",
      "model_name": "ButtonModel",
      "state": {
       "description": "Generate plot",
       "layout": "IPY_MODEL_69b78c98505d41f38f76a085781a87c7",
       "style": "IPY_MODEL_031cde479a9148ddb7c9c140290f1bf6"
      }
     },
     "6becc7cb48aa41008f5918445acb751c": {
      "model_module": "@jupyter-widgets/controls",
      "model_module_version": "1.5.0",
      "model_name": "HBoxModel",
      "state": {
       "children": [
        "IPY_MODEL_e7322b53a96b4075bc1f9902f1d173b5",
        "IPY_MODEL_6e4fa9e1241e443c9f8a746908a524ef",
        "IPY_MODEL_9544fe842743454c816784fd00a8d640"
       ],
       "layout": "IPY_MODEL_9e3648489acf4058a6df925b8e54de1b"
      }
     },
     "6bf162694fcd41daae2d16833c984a43": {
      "model_module": "@jupyter-widgets/base",
      "model_module_version": "1.2.0",
      "model_name": "LayoutModel",
      "state": {}
     },
     "6c00ecccb5784e80a1115622708bb947": {
      "model_module": "@jupyter-widgets/controls",
      "model_module_version": "1.5.0",
      "model_name": "ButtonModel",
      "state": {
       "description": "Signal frequency",
       "disabled": true,
       "layout": "IPY_MODEL_f37a8803195e46ef88b5ec7d83ef33ce",
       "style": "IPY_MODEL_900e372c51ab47c0823da4e9d2495812"
      }
     },
     "6c1dfc0a284a4f1b995902ede7161d9d": {
      "model_module": "@jupyter-widgets/controls",
      "model_module_version": "1.5.0",
      "model_name": "ButtonStyleModel",
      "state": {}
     },
     "6c802df5e5644ba8a637810ff838df8b": {
      "model_module": "@jupyter-widgets/base",
      "model_module_version": "1.2.0",
      "model_name": "LayoutModel",
      "state": {}
     },
     "6c94d38e5ee44ada9b431617855c5a21": {
      "model_module": "@jupyter-widgets/base",
      "model_module_version": "1.2.0",
      "model_name": "LayoutModel",
      "state": {
       "min_width": "50px",
       "width": "50px"
      }
     },
     "6cc2a06046c84878bac49fe7448eba39": {
      "model_module": "@jupyter-widgets/controls",
      "model_module_version": "1.5.0",
      "model_name": "TextModel",
      "state": {
       "layout": "IPY_MODEL_5d2bf4394cfd4846870455577fc9c242",
       "placeholder": "Additive noise",
       "style": "IPY_MODEL_2cbe672f51ad4256b0a3a84fa0a3ccc8",
       "value": "0"
      }
     },
     "6cf0bbe033414daca878f4f962471973": {
      "model_module": "@jupyter-widgets/controls",
      "model_module_version": "1.5.0",
      "model_name": "DescriptionStyleModel",
      "state": {
       "description_width": "initial"
      }
     },
     "6d10b7dd40e94b659a8015dcb88e8e3c": {
      "model_module": "@jupyter-widgets/base",
      "model_module_version": "1.2.0",
      "model_name": "LayoutModel",
      "state": {
       "min_width": "50px",
       "width": "50px"
      }
     },
     "6d2b2d009c854357849859febab47253": {
      "model_module": "@jupyter-widgets/controls",
      "model_module_version": "1.5.0",
      "model_name": "DescriptionStyleModel",
      "state": {
       "description_width": "initial"
      }
     },
     "6d57d0c656934c9f9246915e59ecf941": {
      "model_module": "@jupyter-widgets/controls",
      "model_module_version": "1.5.0",
      "model_name": "LabelModel",
      "state": {
       "layout": "IPY_MODEL_03e52709f8e148d8b2cf8dae46c3fcce",
       "style": "IPY_MODEL_ec22ba2188fc42688ba37ca043e71729",
       "value": "Signal = generateSine(1000, [50.0], amplitude=[1.0], time=1.0, noise=0.0)"
      }
     },
     "6d65497cd8c34715b8d32fdb0a969ea5": {
      "model_module": "@jupyter-widgets/controls",
      "model_module_version": "1.5.0",
      "model_name": "DescriptionStyleModel",
      "state": {
       "description_width": ""
      }
     },
     "6dc839a907d344dda73ca0dde391bfbe": {
      "model_module": "@jupyter-widgets/base",
      "model_module_version": "1.2.0",
      "model_name": "LayoutModel",
      "state": {}
     },
     "6e4fa9e1241e443c9f8a746908a524ef": {
      "model_module": "@jupyter-widgets/controls",
      "model_module_version": "1.5.0",
      "model_name": "TextModel",
      "state": {
       "layout": "IPY_MODEL_6e569716f442415bbd3c7be7e10ca5fd",
       "placeholder": "Amplitude (0 < x < 1)",
       "style": "IPY_MODEL_7b66a67f8548434d88e44ab77c1ca61b",
       "value": "1"
      }
     },
     "6e569716f442415bbd3c7be7e10ca5fd": {
      "model_module": "@jupyter-widgets/base",
      "model_module_version": "1.2.0",
      "model_name": "LayoutModel",
      "state": {
       "min_width": "50px",
       "width": "50px"
      }
     },
     "6e61a2ec37bf4f37b33f57fa2b305659": {
      "model_module": "@jupyter-widgets/controls",
      "model_module_version": "1.5.0",
      "model_name": "HBoxModel",
      "state": {
       "children": [
        "IPY_MODEL_91f30105c48b44da8324fbea7472e5c4",
        "IPY_MODEL_9dd2013131684d01aae0cd3aaa8fe734"
       ],
       "layout": "IPY_MODEL_78f8e951b1ac4a97a11b95cee3e5a0c5"
      }
     },
     "6ede9944ae9f4a81a02e00e7cf35bf7d": {
      "model_module": "@jupyter-widgets/controls",
      "model_module_version": "1.5.0",
      "model_name": "HBoxModel",
      "state": {
       "children": [
        "IPY_MODEL_47842564ca304dcb9e69e1375b47966d",
        "IPY_MODEL_bfd39589cc934388a8990b3721aab529"
       ],
       "layout": "IPY_MODEL_cbb421cd81184505b8e248f19f6ac5d4"
      }
     },
     "6f51827052d14239a50e74193b98644e": {
      "model_module": "@jupyter-widgets/controls",
      "model_module_version": "1.5.0",
      "model_name": "DescriptionStyleModel",
      "state": {
       "description_width": ""
      }
     },
     "6f93dc6733eb400a9348707b1b2c27a9": {
      "model_module": "@jupyter-widgets/base",
      "model_module_version": "1.2.0",
      "model_name": "LayoutModel",
      "state": {}
     },
     "6fa89b72d01a49afa4310a513efc010f": {
      "model_module": "@jupyter-widgets/controls",
      "model_module_version": "1.5.0",
      "model_name": "HBoxModel",
      "state": {
       "children": [
        "IPY_MODEL_f422f49084024bfd9a01e186a2537bd3",
        "IPY_MODEL_6377568fe20244f3a2f9fd4b484fef06"
       ],
       "layout": "IPY_MODEL_c669def315e8492682e69628c8299c42"
      }
     },
     "6fa8faccbd6f4caeb165edb685f45f5d": {
      "model_module": "@jupyter-widgets/controls",
      "model_module_version": "1.5.0",
      "model_name": "ButtonModel",
      "state": {
       "description": "Padd signal for FFT calculation",
       "disabled": true,
       "layout": "IPY_MODEL_02d5211f8fd14184b8ce35d5949676aa",
       "style": "IPY_MODEL_b4fb5d9ca7164f339b31bc4fce6ba482"
      }
     },
     "6fb7a8a95cc048a4ad7bce97e84d94ea": {
      "model_module": "@jupyter-widgets/base",
      "model_module_version": "1.2.0",
      "model_name": "LayoutModel",
      "state": {}
     },
     "6fcbb4684c024cb4a2198523bafa0a9f": {
      "model_module": "@jupyter-widgets/base",
      "model_module_version": "1.2.0",
      "model_name": "LayoutModel",
      "state": {}
     },
     "702da1870318420e8364745539f089e7": {
      "model_module": "@jupyter-widgets/base",
      "model_module_version": "1.2.0",
      "model_name": "LayoutModel",
      "state": {
       "height": "28px",
       "min_height": "28px",
       "min_width": "400px",
       "width": "400px"
      }
     },
     "70639128317143beb0c209a1c7ca54b9": {
      "model_module": "@jupyter-widgets/base",
      "model_module_version": "1.2.0",
      "model_name": "LayoutModel",
      "state": {
       "min_width": "50px",
       "width": "50px"
      }
     },
     "7069c3897c8e44ea80d0debdc922e5b7": {
      "model_module": "@jupyter-widgets/controls",
      "model_module_version": "1.5.0",
      "model_name": "ButtonModel",
      "state": {
       "description": "Signal frequency",
       "disabled": true,
       "layout": "IPY_MODEL_7eddbd8bcabe4902b3d102254aa022a9",
       "style": "IPY_MODEL_15d16fa5fc30472c84b1adba55047f0c"
      }
     },
     "70724b171d0b40c0b4ec58facf9d7bc7": {
      "model_module": "@jupyter-widgets/controls",
      "model_module_version": "1.5.0",
      "model_name": "ButtonStyleModel",
      "state": {}
     },
     "70d0d1c72e7f455983cfc20ede81db4b": {
      "model_module": "@jupyter-widgets/controls",
      "model_module_version": "1.5.0",
      "model_name": "TextModel",
      "state": {
       "layout": "IPY_MODEL_aab41b1abcf348aeaec12e21bb711467",
       "placeholder": "Signal length [s]",
       "style": "IPY_MODEL_fee152902426439bb9112583bd88bf11",
       "value": "0.3"
      }
     },
     "70fbef50e0554f159a14bc2d02bf32cb": {
      "model_module": "@jupyter-widgets/base",
      "model_module_version": "1.2.0",
      "model_name": "LayoutModel",
      "state": {
       "min_width": "50px",
       "width": "50px"
      }
     },
     "71506e3e5ec041129a7ce468692d39d3": {
      "model_module": "@jupyter-widgets/controls",
      "model_module_version": "1.5.0",
      "model_name": "TextModel",
      "state": {
       "layout": "IPY_MODEL_3e87ddb2749845758686fec2aefafc87",
       "placeholder": "Amplitude (0 < x < 1)",
       "style": "IPY_MODEL_db93105b25cf4f55ab11aeee85bf6b58",
       "value": "1"
      }
     },
     "71a420aec1b1402cb2368fff50a67c16": {
      "model_module": "@jupyter-widgets/controls",
      "model_module_version": "1.5.0",
      "model_name": "DescriptionStyleModel",
      "state": {
       "description_width": ""
      }
     },
     "71b22febbfe943708b89f1b16dab94ed": {
      "model_module": "@jupyter-widgets/base",
      "model_module_version": "1.2.0",
      "model_name": "LayoutModel",
      "state": {}
     },
     "71b3d4f1abb3455e9579b9074c40a179": {
      "model_module": "@jupyter-widgets/base",
      "model_module_version": "1.2.0",
      "model_name": "LayoutModel",
      "state": {}
     },
     "71c41ce5bdca4c06aae55321b88cd937": {
      "model_module": "@jupyter-widgets/controls",
      "model_module_version": "1.5.0",
      "model_name": "HBoxModel",
      "state": {
       "children": [
        "IPY_MODEL_a68e3e8de7154dd7b2af91c1d8e5a89f",
        "IPY_MODEL_a80fa70fc09648d8b670827648c4424e"
       ],
       "layout": "IPY_MODEL_42cec0eb4e18424f9cf9bb35af27b564"
      }
     },
     "71c9947a835a409fadd4428825b91c38": {
      "model_module": "@jupyter-widgets/base",
      "model_module_version": "1.2.0",
      "model_name": "LayoutModel",
      "state": {
       "width": "auto"
      }
     },
     "71d92bba7185469a920bba457532c433": {
      "model_module": "@jupyter-widgets/base",
      "model_module_version": "1.2.0",
      "model_name": "LayoutModel",
      "state": {}
     },
     "72247c2cafa34bc182895dbc52fec114": {
      "model_module": "@jupyter-widgets/base",
      "model_module_version": "1.2.0",
      "model_name": "LayoutModel",
      "state": {}
     },
     "72465d4cdf984493b8c2ddca6a990e5f": {
      "model_module": "@jupyter-widgets/base",
      "model_module_version": "1.2.0",
      "model_name": "LayoutModel",
      "state": {}
     },
     "729b2ef61d18410aabb9bbdb1c2a6303": {
      "model_module": "@jupyter-widgets/base",
      "model_module_version": "1.2.0",
      "model_name": "LayoutModel",
      "state": {
       "width": "auto"
      }
     },
     "72fcc28e10fe4974a748587b674a2411": {
      "model_module": "@jupyter-widgets/controls",
      "model_module_version": "1.5.0",
      "model_name": "ButtonStyleModel",
      "state": {}
     },
     "72fe8061c68041cbb25cf8f0e3647e63": {
      "model_module": "@jupyter-widgets/base",
      "model_module_version": "1.2.0",
      "model_name": "LayoutModel",
      "state": {}
     },
     "730f60f2220a4066afb4c975e44df3ca": {
      "model_module": "@jupyter-widgets/controls",
      "model_module_version": "1.5.0",
      "model_name": "ButtonStyleModel",
      "state": {}
     },
     "731b10c0f20d4005a7e5127e922da91a": {
      "model_module": "@jupyter-widgets/controls",
      "model_module_version": "1.5.0",
      "model_name": "VBoxModel",
      "state": {
       "children": [
        "IPY_MODEL_cd15a0d8850941bbb724f650d806dfdb",
        "IPY_MODEL_6becc7cb48aa41008f5918445acb751c"
       ],
       "layout": "IPY_MODEL_181e5033380c4cd2b3a4a210ae591937"
      }
     },
     "7337ff58d3444cadbaee2533f5f8a504": {
      "model_module": "@jupyter-widgets/controls",
      "model_module_version": "1.5.0",
      "model_name": "ButtonModel",
      "state": {
       "description": "Generate plot",
       "layout": "IPY_MODEL_35161470c92d46e49f915efd2d60095f",
       "style": "IPY_MODEL_f8e494c97f68455a8df643c5fdf079d6"
      }
     },
     "73490538052143719087cfefa229ea5c": {
      "model_module": "@jupyter-widgets/controls",
      "model_module_version": "1.5.0",
      "model_name": "HBoxModel",
      "state": {
       "children": [
        "IPY_MODEL_0f48ceac5c654cfb830776d5141c35d0",
        "IPY_MODEL_daa2be5d67b44ff89007c9d87a396978"
       ],
       "layout": "IPY_MODEL_759bb227d2934b2fa03e6a28635bcfcc"
      }
     },
     "73744b56bef84f4a9c0df3b73f09d0db": {
      "model_module": "@jupyter-widgets/base",
      "model_module_version": "1.2.0",
      "model_name": "LayoutModel",
      "state": {}
     },
     "738bd389917f4de2bbd501cec9413c51": {
      "model_module": "@jupyter-widgets/controls",
      "model_module_version": "1.5.0",
      "model_name": "LabelModel",
      "state": {
       "layout": "IPY_MODEL_60984fa302a9411793993c13ed5ed95c",
       "style": "IPY_MODEL_aa816f774432423ca2f0c4a0381a87c0",
       "value": "Fundamental frequency from FFT = [50.00, 63.33] [Hz]"
      }
     },
     "739146ca3f66429fb0bd337d53045d31": {
      "model_module": "@jupyter-widgets/base",
      "model_module_version": "1.2.0",
      "model_name": "LayoutModel",
      "state": {}
     },
     "739e4b6da92641ee98ca8c2942532ff5": {
      "model_module": "@jupyter-widgets/controls",
      "model_module_version": "1.5.0",
      "model_name": "ButtonModel",
      "state": {
       "description": "Signal length [seconds]",
       "disabled": true,
       "layout": "IPY_MODEL_148ffbb1437d4cfbaf7e048c9440a54c",
       "style": "IPY_MODEL_9825056f95f248448b0a8317f949035c"
      }
     },
     "73af6462fabf42ba82060eda2e30c7a1": {
      "model_module": "@jupyter-widgets/base",
      "model_module_version": "1.2.0",
      "model_name": "LayoutModel",
      "state": {
       "height": "28px",
       "min_height": "28px",
       "min_width": "400px",
       "width": "400px"
      }
     },
     "73b3d62e840146f1afb88c99b31bf900": {
      "model_module": "@jupyter-widgets/base",
      "model_module_version": "1.2.0",
      "model_name": "LayoutModel",
      "state": {}
     },
     "73b84070ae844adf9d364cfffe3f992f": {
      "model_module": "@jupyter-widgets/base",
      "model_module_version": "1.2.0",
      "model_name": "LayoutModel",
      "state": {
       "height": "28px",
       "min_height": "28px",
       "min_width": "400px",
       "width": "400px"
      }
     },
     "73c2e8d6ac484754936266ed18a3ab6e": {
      "model_module": "@jupyter-widgets/base",
      "model_module_version": "1.2.0",
      "model_name": "LayoutModel",
      "state": {
       "width": "auto"
      }
     },
     "73c3b655ee7b4c49b88098790c1d5cc2": {
      "model_module": "@jupyter-widgets/base",
      "model_module_version": "1.2.0",
      "model_name": "LayoutModel",
      "state": {
       "min_width": "50px",
       "width": "50px"
      }
     },
     "73cd429dcb6f4d57b00c7926c494db0d": {
      "model_module": "@jupyter-widgets/base",
      "model_module_version": "1.2.0",
      "model_name": "LayoutModel",
      "state": {
       "height": "28px",
       "min_height": "28px",
       "min_width": "400px",
       "width": "400px"
      }
     },
     "74016ec7cbc24b3abccf36debbfd0a1e": {
      "model_module": "@jupyter-widgets/controls",
      "model_module_version": "1.5.0",
      "model_name": "ButtonModel",
      "state": {
       "description": "Padd signal for FFT calculation",
       "disabled": true,
       "layout": "IPY_MODEL_4441ce32e5964572bc1abe481d343d5c",
       "style": "IPY_MODEL_2bac29daaa6645e791cdda936803dc07"
      }
     },
     "741288c221a24e41b2156111d92b2002": {
      "model_module": "@jupyter-widgets/controls",
      "model_module_version": "1.5.0",
      "model_name": "DescriptionStyleModel",
      "state": {
       "description_width": "initial"
      }
     },
     "7423023ecd17427d8d2443d5e7a3ef2e": {
      "model_module": "@jupyter-widgets/controls",
      "model_module_version": "1.5.0",
      "model_name": "VBoxModel",
      "state": {
       "children": [
        "IPY_MODEL_928ea9281086423f93d55167498a2602",
        "IPY_MODEL_0aa238fc60864d08866c49d2fad2659a",
        "IPY_MODEL_bd0b7b551fb24c1da9d20c3c94f2e5a6",
        "IPY_MODEL_0666cfe9715245fea4257a8982969573",
        "IPY_MODEL_63f7a605739d4e1295de2e57633ee47a",
        "IPY_MODEL_33a3f8c8b81441a1922b419401d6ef49"
       ],
       "layout": "IPY_MODEL_5362cd3e79bd4fa8824dc0e099a9d2b6"
      }
     },
     "743f022882d04bf4b3b794848a1f82c5": {
      "model_module": "@jupyter-widgets/controls",
      "model_module_version": "1.5.0",
      "model_name": "ButtonModel",
      "state": {
       "description": "Samples per seconds [Hz]",
       "disabled": true,
       "layout": "IPY_MODEL_dafec1a430ae4a89b77d6d6539123151",
       "style": "IPY_MODEL_c349a4105d72464dabd00a2b6df8af2c"
      }
     },
     "747ab40deecb4194b08d7425b797ad96": {
      "model_module": "@jupyter-widgets/controls",
      "model_module_version": "1.5.0",
      "model_name": "TextModel",
      "state": {
       "layout": "IPY_MODEL_70639128317143beb0c209a1c7ca54b9",
       "placeholder": "Additive noise",
       "style": "IPY_MODEL_ccd4bf84a11a4f53872f32bfac8b156c",
       "value": "0"
      }
     },
     "747fc05bcdda41b698286a20da75f607": {
      "model_module": "@jupyter-widgets/controls",
      "model_module_version": "1.5.0",
      "model_name": "TextModel",
      "state": {
       "layout": "IPY_MODEL_a09104b3e77b4240be71ff6d300ffebf",
       "placeholder": "Amplitude (0 < x < 1)",
       "style": "IPY_MODEL_62d113c90d28426484d7e96532c4393e",
       "value": "1"
      }
     },
     "749833b888d8435a8a471b8c680a9a3d": {
      "model_module": "@jupyter-widgets/base",
      "model_module_version": "1.2.0",
      "model_name": "LayoutModel",
      "state": {}
     },
     "74a5cc498a164bf3a321aa2b12c73235": {
      "model_module": "@jupyter-widgets/base",
      "model_module_version": "1.2.0",
      "model_name": "LayoutModel",
      "state": {}
     },
     "74e127a0d98a4cc29ad94b5730a641f8": {
      "model_module": "@jupyter-widgets/controls",
      "model_module_version": "1.5.0",
      "model_name": "ButtonModel",
      "state": {
       "description": "Signal length [seconds]",
       "disabled": true,
       "layout": "IPY_MODEL_a5e5a0920441435b9a3ac566e353470f",
       "style": "IPY_MODEL_34b2d12bd1824f85a7cfb500f92d87d8"
      }
     },
     "74e6ef25229049bca0b4ca4da3c644bc": {
      "model_module": "@jupyter-widgets/controls",
      "model_module_version": "1.5.0",
      "model_name": "DescriptionStyleModel",
      "state": {
       "description_width": "initial"
      }
     },
     "74f5f7ec1bf44044916aa7a1bdc1b779": {
      "model_module": "@jupyter-widgets/base",
      "model_module_version": "1.2.0",
      "model_name": "LayoutModel",
      "state": {}
     },
     "751f12f140b94458be8178e597477892": {
      "model_module": "@jupyter-widgets/controls",
      "model_module_version": "1.5.0",
      "model_name": "CheckboxModel",
      "state": {
       "description": "70 Hz",
       "disabled": false,
       "indent": false,
       "layout": "IPY_MODEL_f738d8414ee64d1ebe3cee5ac7fc12eb",
       "style": "IPY_MODEL_b6fdb5d168284922a71632a69ecdd3ca",
       "value": false
      }
     },
     "759bb227d2934b2fa03e6a28635bcfcc": {
      "model_module": "@jupyter-widgets/base",
      "model_module_version": "1.2.0",
      "model_name": "LayoutModel",
      "state": {}
     },
     "75e292cd486a4b83bb4773c573e34f10": {
      "model_module": "@jupyter-widgets/controls",
      "model_module_version": "1.5.0",
      "model_name": "TextModel",
      "state": {
       "layout": "IPY_MODEL_8bcf61c3120d410a947282aae785c6be",
       "placeholder": "Signal length [s]",
       "style": "IPY_MODEL_2a8c1123c28b4d6e975419de7a32c040",
       "value": "0.3"
      }
     },
     "7674cccd367d4305bd5aa351d7cac06d": {
      "model_module": "@jupyter-widgets/controls",
      "model_module_version": "1.5.0",
      "model_name": "CheckboxModel",
      "state": {
       "description": "70 Hz",
       "disabled": false,
       "indent": false,
       "layout": "IPY_MODEL_6687fb1c650a4511ba13808cf01bb1a7",
       "style": "IPY_MODEL_e8aac3cf340e4e2396bc30e14d845d62",
       "value": false
      }
     },
     "768948da89ab43cbbb5ccd801ca9f528": {
      "model_module": "@jupyter-widgets/base",
      "model_module_version": "1.2.0",
      "model_name": "LayoutModel",
      "state": {
       "height": "28px",
       "min_height": "28px",
       "min_width": "400px",
       "width": "400px"
      }
     },
     "768a7684b889427f9e7b8ecfd3921b89": {
      "model_module": "@jupyter-widgets/base",
      "model_module_version": "1.2.0",
      "model_name": "LayoutModel",
      "state": {}
     },
     "76ccc14c566e41c2ad7226e6e22c75af": {
      "model_module": "@jupyter-widgets/controls",
      "model_module_version": "1.5.0",
      "model_name": "HBoxModel",
      "state": {
       "children": [
        "IPY_MODEL_4fbedc397f9e499481bbb13db30b7287",
        "IPY_MODEL_dcaf0596f3c841cb9aea10d7012f4efa"
       ],
       "layout": "IPY_MODEL_5ab9a29be4694365ab7ae00e1453a2a4"
      }
     },
     "76d44ea525124f0d8fc2ae0bde31d6ab": {
      "model_module": "@jupyter-widgets/controls",
      "model_module_version": "1.5.0",
      "model_name": "DescriptionStyleModel",
      "state": {
       "description_width": ""
      }
     },
     "7743b6e86bbd4efab0b0e1d42856792b": {
      "model_module": "@jupyter-widgets/controls",
      "model_module_version": "1.5.0",
      "model_name": "DescriptionStyleModel",
      "state": {
       "description_width": ""
      }
     },
     "7753aa1118da4062a1818d14a293d671": {
      "model_module": "@jupyter-widgets/controls",
      "model_module_version": "1.5.0",
      "model_name": "ButtonStyleModel",
      "state": {}
     },
     "775c199374b442dea0034128a6443fb5": {
      "model_module": "@jupyter-widgets/controls",
      "model_module_version": "1.5.0",
      "model_name": "ButtonStyleModel",
      "state": {}
     },
     "777e79d3863748448369bfb9a0088ed1": {
      "model_module": "@jupyter-widgets/base",
      "model_module_version": "1.2.0",
      "model_name": "LayoutModel",
      "state": {
       "height": "28px",
       "min_height": "28px",
       "min_width": "400px",
       "width": "400px"
      }
     },
     "778e83e6a52d4afcbc9d3708ec0687b9": {
      "model_module": "@jupyter-widgets/base",
      "model_module_version": "1.2.0",
      "model_name": "LayoutModel",
      "state": {
       "width": "auto"
      }
     },
     "77b67a81bcf1477b92607344d804b7c6": {
      "model_module": "@jupyter-widgets/base",
      "model_module_version": "1.2.0",
      "model_name": "LayoutModel",
      "state": {
       "height": "28px",
       "min_height": "28px",
       "min_width": "400px",
       "width": "400px"
      }
     },
     "77cd8b659029484f946b9c51ed2a127a": {
      "model_module": "@jupyter-widgets/base",
      "model_module_version": "1.2.0",
      "model_name": "LayoutModel",
      "state": {
       "height": "28px",
       "min_height": "28px",
       "min_width": "400px",
       "width": "400px"
      }
     },
     "77dddf9dd845406bb9d5d871e3840368": {
      "model_module": "@jupyter-widgets/base",
      "model_module_version": "1.2.0",
      "model_name": "LayoutModel",
      "state": {
       "height": "28px",
       "min_height": "28px",
       "min_width": "400px",
       "width": "400px"
      }
     },
     "77e0320a08424b6aba1bb9a052e96694": {
      "model_module": "@jupyter-widgets/base",
      "model_module_version": "1.2.0",
      "model_name": "LayoutModel",
      "state": {
       "height": "28px",
       "min_height": "28px",
       "min_width": "400px",
       "width": "400px"
      }
     },
     "78136c5f75274733878551c30af1cf9b": {
      "model_module": "@jupyter-widgets/controls",
      "model_module_version": "1.5.0",
      "model_name": "HBoxModel",
      "state": {
       "children": [
        "IPY_MODEL_e14f38a3ad6b462199e63b462dc46ade",
        "IPY_MODEL_2ae303d2391249e3aa04fb13507afc05"
       ],
       "layout": "IPY_MODEL_8ca06755beac48ccb11fd212285a1a23"
      }
     },
     "789bece5909d40d8ae8d1027be1dd705": {
      "model_module": "@jupyter-widgets/controls",
      "model_module_version": "1.5.0",
      "model_name": "DescriptionStyleModel",
      "state": {
       "description_width": "initial"
      }
     },
     "78c92fcab2344c0cb53c468cfae409bf": {
      "model_module": "@jupyter-widgets/controls",
      "model_module_version": "1.5.0",
      "model_name": "ButtonModel",
      "state": {
       "description": "Signal amplitude (0 < x < 1)",
       "disabled": true,
       "layout": "IPY_MODEL_22e856ad010a4cf7b5b3134823ae1506",
       "style": "IPY_MODEL_8c6a3721d43a4d26bed43d90c189ddb1"
      }
     },
     "78f8e951b1ac4a97a11b95cee3e5a0c5": {
      "model_module": "@jupyter-widgets/base",
      "model_module_version": "1.2.0",
      "model_name": "LayoutModel",
      "state": {}
     },
     "7997bb6ea9fc4ff9858894905a3bb8ee": {
      "model_module": "@jupyter-widgets/base",
      "model_module_version": "1.2.0",
      "model_name": "LayoutModel",
      "state": {
       "height": "28px",
       "min_height": "28px",
       "min_width": "400px",
       "width": "400px"
      }
     },
     "79b6871ff778463fa3375507147d841f": {
      "model_module": "@jupyter-widgets/base",
      "model_module_version": "1.2.0",
      "model_name": "LayoutModel",
      "state": {
       "height": "28px",
       "min_height": "28px",
       "min_width": "400px",
       "width": "400px"
      }
     },
     "79bccac2f92040cf826990f4ff173b57": {
      "model_module": "@jupyter-widgets/controls",
      "model_module_version": "1.5.0",
      "model_name": "TextModel",
      "state": {
       "layout": "IPY_MODEL_dcac76d364fd445bb69a2a8812e583bf",
       "placeholder": "Amplitude (0 < x < 1)",
       "style": "IPY_MODEL_ebeb6e6f4ff7443e81495345316ed556",
       "value": "1"
      }
     },
     "7a155d6765a74264998e85238a32b5f4": {
      "model_module": "@jupyter-widgets/base",
      "model_module_version": "1.2.0",
      "model_name": "LayoutModel",
      "state": {}
     },
     "7a2613900110485e8e1299afc2fb646c": {
      "model_module": "@jupyter-widgets/controls",
      "model_module_version": "1.5.0",
      "model_name": "VBoxModel",
      "state": {
       "children": [
        "IPY_MODEL_b6c2d08d9d904d2290e91d6117ffdd90",
        "IPY_MODEL_000e79c1c0d24dc3bc6e6b3310c13843"
       ],
       "layout": "IPY_MODEL_ad3f0f51479144fdb1582cf4ae961664"
      }
     },
     "7a419be84e8f4dfa9eb2788a718bf187": {
      "model_module": "@jupyter-widgets/base",
      "model_module_version": "1.2.0",
      "model_name": "LayoutModel",
      "state": {
       "height": "28px",
       "min_height": "28px",
       "min_width": "400px",
       "width": "400px"
      }
     },
     "7a4df0f6a61b440395185e082833609b": {
      "model_module": "@jupyter-widgets/controls",
      "model_module_version": "1.5.0",
      "model_name": "HBoxModel",
      "state": {
       "children": [
        "IPY_MODEL_cc9414c7e02741a495406113392100f9",
        "IPY_MODEL_e8b042839ba34c29aa44102629ba9ad6"
       ],
       "layout": "IPY_MODEL_581cd259c2df431a9411127146ff0426"
      }
     },
     "7a5299a940244d08b0df2e431c9c45ea": {
      "model_module": "@jupyter-widgets/controls",
      "model_module_version": "1.5.0",
      "model_name": "ButtonStyleModel",
      "state": {}
     },
     "7a60a8c3326d48f8b6838b15d5703ab6": {
      "model_module": "@jupyter-widgets/base",
      "model_module_version": "1.2.0",
      "model_name": "LayoutModel",
      "state": {
       "min_width": "50px",
       "width": "50px"
      }
     },
     "7aa3ed5140c548a5a8f25bb2572a8048": {
      "model_module": "@jupyter-widgets/base",
      "model_module_version": "1.2.0",
      "model_name": "LayoutModel",
      "state": {
       "width": "auto"
      }
     },
     "7aab42d646d3424c88450b3499bc2e79": {
      "model_module": "@jupyter-widgets/controls",
      "model_module_version": "1.5.0",
      "model_name": "HBoxModel",
      "state": {
       "children": [
        "IPY_MODEL_8913e53ef80946ceac19a1e53361a647",
        "IPY_MODEL_436d8e22291742e0b6cf11236df0f114"
       ],
       "layout": "IPY_MODEL_09412538a9654b2cb58ec58f10bed982"
      }
     },
     "7ab693fcc7f94fb29ece9ab0cc381679": {
      "model_module": "@jupyter-widgets/controls",
      "model_module_version": "1.5.0",
      "model_name": "HBoxModel",
      "state": {
       "children": [
        "IPY_MODEL_a4cdf0880ed74a10b99417ffedd0b1f3",
        "IPY_MODEL_cbc726db43554af28941bb7aa2c1a5cf",
        "IPY_MODEL_f877c126b9f745f79a8b401673d480a0"
       ],
       "layout": "IPY_MODEL_f5eceb235d8840c88e6cad78f2cfb983"
      }
     },
     "7b0fa198b7424de8b0a582c791364838": {
      "model_module": "@jupyter-widgets/base",
      "model_module_version": "1.2.0",
      "model_name": "LayoutModel",
      "state": {}
     },
     "7b44b027f9f14b118bb84323aa787ed1": {
      "model_module": "@jupyter-widgets/base",
      "model_module_version": "1.2.0",
      "model_name": "LayoutModel",
      "state": {}
     },
     "7b5ee51d00af4ab8ac1ddb4876a43164": {
      "model_module": "@jupyter-widgets/controls",
      "model_module_version": "1.5.0",
      "model_name": "LabelModel",
      "state": {
       "layout": "IPY_MODEL_c783a575e5f24a7a8a06e1879544cbfd",
       "style": "IPY_MODEL_2c87be10a1de410ba12dc027a946044f",
       "value": "Fundamental frequency from FFT = [50.78, 48.83] [Hz]"
      }
     },
     "7b5f557fede04e7ea677ab5a713da94e": {
      "model_module": "@jupyter-widgets/controls",
      "model_module_version": "1.5.0",
      "model_name": "HBoxModel",
      "state": {
       "children": [
        "IPY_MODEL_b2ed0460afe04fde8fd90dcc78ecaef5",
        "IPY_MODEL_b98e075f07e942cb9eb36a2c0341ed06"
       ],
       "layout": "IPY_MODEL_3ac9dfbc64db402b9ed561a2c3c828c6"
      }
     },
     "7b66a67f8548434d88e44ab77c1ca61b": {
      "model_module": "@jupyter-widgets/controls",
      "model_module_version": "1.5.0",
      "model_name": "DescriptionStyleModel",
      "state": {
       "description_width": "initial"
      }
     },
     "7c2319ca98cb4c60a07e4681228a21c0": {
      "model_module": "@jupyter-widgets/base",
      "model_module_version": "1.2.0",
      "model_name": "LayoutModel",
      "state": {
       "min_width": "50px",
       "width": "50px"
      }
     },
     "7c51f00c9cfa48dc9e7fe992d1a2cb74": {
      "model_module": "@jupyter-widgets/base",
      "model_module_version": "1.2.0",
      "model_name": "LayoutModel",
      "state": {}
     },
     "7d47660c310b4549941e49d2351eb6a3": {
      "model_module": "@jupyter-widgets/controls",
      "model_module_version": "1.5.0",
      "model_name": "LabelModel",
      "state": {
       "layout": "IPY_MODEL_d732878c5e9d4c67b5bc20be9bff9739",
       "style": "IPY_MODEL_0faccd2f212d48c1811ed6f0b0f548d0",
       "value": "Signal = generateSine(1000, [50.0], amplitude=[1.0], time=0.3, noise=0.0)"
      }
     },
     "7dd7d87aa60446a3a079a8bef779f33c": {
      "model_module": "@jupyter-widgets/base",
      "model_module_version": "1.2.0",
      "model_name": "LayoutModel",
      "state": {}
     },
     "7df96992054b4da9bc4754f82a1c1390": {
      "model_module": "@jupyter-widgets/base",
      "model_module_version": "1.2.0",
      "model_name": "LayoutModel",
      "state": {
       "min_width": "50px",
       "width": "50px"
      }
     },
     "7dfb8775e69d4aa3875f5badf221b673": {
      "model_module": "@jupyter-widgets/controls",
      "model_module_version": "1.5.0",
      "model_name": "DescriptionStyleModel",
      "state": {
       "description_width": "initial"
      }
     },
     "7e115088967d42adab24f4c6b766376a": {
      "model_module": "@jupyter-widgets/controls",
      "model_module_version": "1.5.0",
      "model_name": "HBoxModel",
      "state": {
       "children": [
        "IPY_MODEL_ebca3dbaa5c84ded99048fcc7f167c0d",
        "IPY_MODEL_8efcd5198fcb43db95336c1c2628c1fb"
       ],
       "layout": "IPY_MODEL_d53137d9cb274102bdb7661aff1f84a2"
      }
     },
     "7e20db0f0b904e87ac50859089e0503c": {
      "model_module": "@jupyter-widgets/controls",
      "model_module_version": "1.5.0",
      "model_name": "SliderStyleModel",
      "state": {
       "description_width": ""
      }
     },
     "7e69a0b02f414e48b15f6cbb964bc8bd": {
      "model_module": "@jupyter-widgets/base",
      "model_module_version": "1.2.0",
      "model_name": "LayoutModel",
      "state": {}
     },
     "7eddbd8bcabe4902b3d102254aa022a9": {
      "model_module": "@jupyter-widgets/base",
      "model_module_version": "1.2.0",
      "model_name": "LayoutModel",
      "state": {
       "height": "28px",
       "min_height": "28px",
       "min_width": "400px",
       "width": "400px"
      }
     },
     "7ee83997d0724316928c3eb00a149e02": {
      "model_module": "@jupyter-widgets/controls",
      "model_module_version": "1.5.0",
      "model_name": "ButtonModel",
      "state": {
       "description": "Signal frequency",
       "disabled": true,
       "layout": "IPY_MODEL_d7225ab2f5dc4227858298099edcabad",
       "style": "IPY_MODEL_d46cfd1554bc4521bbadf7c5e27bc7e1"
      }
     },
     "7f0510cb77264d788e93cd963147ac72": {
      "model_module": "@jupyter-widgets/base",
      "model_module_version": "1.2.0",
      "model_name": "LayoutModel",
      "state": {
       "min_width": "50px",
       "width": "50px"
      }
     },
     "7f3276e69a844082b0b50fa270be4b32": {
      "model_module": "@jupyter-widgets/base",
      "model_module_version": "1.2.0",
      "model_name": "LayoutModel",
      "state": {}
     },
     "7fabef3e504c42219377eda3ba38dca9": {
      "model_module": "@jupyter-widgets/controls",
      "model_module_version": "1.5.0",
      "model_name": "DescriptionStyleModel",
      "state": {
       "description_width": ""
      }
     },
     "805ecbbbd5264f2aaa2f2465abdc7ff8": {
      "model_module": "@jupyter-widgets/base",
      "model_module_version": "1.2.0",
      "model_name": "LayoutModel",
      "state": {}
     },
     "8061b0ff4fa44a46bfe3d6a0f9a6258f": {
      "model_module": "@jupyter-widgets/controls",
      "model_module_version": "1.5.0",
      "model_name": "DescriptionStyleModel",
      "state": {
       "description_width": ""
      }
     },
     "80d64576e3404678912b3f41e079df24": {
      "model_module": "@jupyter-widgets/controls",
      "model_module_version": "1.5.0",
      "model_name": "ButtonStyleModel",
      "state": {}
     },
     "8144450c2c2b4d89a6e1f412a52a6d32": {
      "model_module": "@jupyter-widgets/controls",
      "model_module_version": "1.5.0",
      "model_name": "ButtonModel",
      "state": {
       "description": "Signal length [seconds]",
       "disabled": true,
       "layout": "IPY_MODEL_f11809e442554d13bc15961f9196a2a5",
       "style": "IPY_MODEL_dad50e9cea664a4491863aa8f483ec6f"
      }
     },
     "818df1daadf54447a8be86ce4cd59d6e": {
      "model_module": "@jupyter-widgets/base",
      "model_module_version": "1.2.0",
      "model_name": "LayoutModel",
      "state": {}
     },
     "81b801a4b6464a4b960bb5495f72bd3c": {
      "model_module": "@jupyter-widgets/controls",
      "model_module_version": "1.5.0",
      "model_name": "ButtonModel",
      "state": {
       "description": "Amplitude of added noise",
       "disabled": true,
       "layout": "IPY_MODEL_777e79d3863748448369bfb9a0088ed1",
       "style": "IPY_MODEL_4c1dba949007422e9b9c170e8acc5001"
      }
     },
     "81cd69a7be534e1fb1cf8dbf803d67e7": {
      "model_module": "@jupyter-widgets/controls",
      "model_module_version": "1.5.0",
      "model_name": "DescriptionStyleModel",
      "state": {
       "description_width": "initial"
      }
     },
     "821551c0062b4381925cd3f990e02581": {
      "model_module": "@jupyter-widgets/controls",
      "model_module_version": "1.5.0",
      "model_name": "CheckboxModel",
      "state": {
       "description": "70 Hz",
       "disabled": false,
       "indent": false,
       "layout": "IPY_MODEL_82f20901d57946a8a4adec017f91f04a",
       "style": "IPY_MODEL_843b520fb43f4fc1bc745ae0bc9da918",
       "value": false
      }
     },
     "82677a611e6d479bb544bf17a4181e34": {
      "model_module": "@jupyter-widgets/controls",
      "model_module_version": "1.5.0",
      "model_name": "ButtonStyleModel",
      "state": {}
     },
     "828d2893861f4365b03ff22244630540": {
      "model_module": "@jupyter-widgets/controls",
      "model_module_version": "1.5.0",
      "model_name": "IntSliderModel",
      "state": {
       "continuous_update": false,
       "layout": "IPY_MODEL_39631ce5115c4966b8afc348cb2ab09c",
       "max": 3000,
       "min": 100,
       "step": 10,
       "style": "IPY_MODEL_5816036327f643449b19fc35d17c8ad5",
       "value": 1000
      }
     },
     "8299cf11dfe74d1ca7f750012a0155df": {
      "model_module": "@jupyter-widgets/base",
      "model_module_version": "1.2.0",
      "model_name": "LayoutModel",
      "state": {}
     },
     "82f20901d57946a8a4adec017f91f04a": {
      "model_module": "@jupyter-widgets/base",
      "model_module_version": "1.2.0",
      "model_name": "LayoutModel",
      "state": {}
     },
     "8353dc071a4a45d3b615cff230433451": {
      "model_module": "@jupyter-widgets/base",
      "model_module_version": "1.2.0",
      "model_name": "LayoutModel",
      "state": {
       "min_width": "50px",
       "width": "50px"
      }
     },
     "83623035cfe1402f9cae13164f548ec2": {
      "model_module": "@jupyter-widgets/controls",
      "model_module_version": "1.5.0",
      "model_name": "ButtonStyleModel",
      "state": {}
     },
     "83c6cf4fd5cc458fa0817a01a463701b": {
      "model_module": "@jupyter-widgets/controls",
      "model_module_version": "1.5.0",
      "model_name": "ButtonModel",
      "state": {
       "description": "Signal amplitude (0 < x < 1)",
       "disabled": true,
       "layout": "IPY_MODEL_31cd51d5f00d42ea8b909d044cc57994",
       "style": "IPY_MODEL_44b768e2ab3f4006aca257cab42ac89c"
      }
     },
     "83d4b27a31ad4a4b9569dec8f76f83a6": {
      "model_module": "@jupyter-widgets/base",
      "model_module_version": "1.2.0",
      "model_name": "LayoutModel",
      "state": {}
     },
     "83d875f815fc47aea974b9bade383baa": {
      "model_module": "@jupyter-widgets/base",
      "model_module_version": "1.2.0",
      "model_name": "LayoutModel",
      "state": {}
     },
     "843b520fb43f4fc1bc745ae0bc9da918": {
      "model_module": "@jupyter-widgets/controls",
      "model_module_version": "1.5.0",
      "model_name": "DescriptionStyleModel",
      "state": {
       "description_width": ""
      }
     },
     "84a1efd68957442db393a7ba82eca54b": {
      "model_module": "@jupyter-widgets/controls",
      "model_module_version": "1.5.0",
      "model_name": "ButtonStyleModel",
      "state": {}
     },
     "84d92ac83c4b41499e56c4685fe44573": {
      "model_module": "@jupyter-widgets/base",
      "model_module_version": "1.2.0",
      "model_name": "LayoutModel",
      "state": {}
     },
     "84eed27de30942d795071f3f01295aef": {
      "model_module": "@jupyter-widgets/controls",
      "model_module_version": "1.5.0",
      "model_name": "LabelModel",
      "state": {
       "layout": "IPY_MODEL_9b1f33898f7647e9842fcb444920cf99",
       "style": "IPY_MODEL_f820032709e741bb9caa3a1589465860",
       "value": "Signal = generateSine(1000, [50.0], amplitude=[1.0], time=0.3, noise=0.0)"
      }
     },
     "854d97cd907c4fb6a70982f54aa430da": {
      "model_module": "@jupyter-widgets/controls",
      "model_module_version": "1.5.0",
      "model_name": "CheckboxModel",
      "state": {
       "description": "Apply padding",
       "disabled": false,
       "indent": false,
       "layout": "IPY_MODEL_38a8bcba911e4bf1ae0ee01e18626c8e",
       "style": "IPY_MODEL_37ab931507094fd29c5ab0dc67ffce18",
       "value": true
      }
     },
     "85aa0246834541a18bf8488d18a948e7": {
      "model_module": "@jupyter-widgets/controls",
      "model_module_version": "1.5.0",
      "model_name": "TextModel",
      "state": {
       "layout": "IPY_MODEL_e718fb49e4814875aa690a1ef42d3ded",
       "placeholder": "Amplitude (0 < x < 1)",
       "style": "IPY_MODEL_e40d1135d0fb4d5a9583b8025e03cff0",
       "value": "1"
      }
     },
     "85b95b6be2934149b2f362496a6ea803": {
      "model_module": "@jupyter-widgets/controls",
      "model_module_version": "1.5.0",
      "model_name": "HBoxModel",
      "state": {
       "children": [
        "IPY_MODEL_5cb6c94d6f85480c8d17191d6a640484",
        "IPY_MODEL_24cb67ebd9ca4af3b1739dbde6f718d2",
        "IPY_MODEL_caefee04150e4ec0af9dc69a69f5f315"
       ],
       "layout": "IPY_MODEL_c80e2e34430349edb667e1f8d02546ab"
      }
     },
     "85f033a9b9c547d7ae4f2a6862191bbc": {
      "model_module": "@jupyter-widgets/base",
      "model_module_version": "1.2.0",
      "model_name": "LayoutModel",
      "state": {}
     },
     "86019d3cfd334e3c945a016b4391a096": {
      "model_module": "@jupyter-widgets/controls",
      "model_module_version": "1.5.0",
      "model_name": "DescriptionStyleModel",
      "state": {
       "description_width": ""
      }
     },
     "86285db6035e41a9910ca07de17910f5": {
      "model_module": "@jupyter-widgets/controls",
      "model_module_version": "1.5.0",
      "model_name": "ButtonModel",
      "state": {
       "description": "Generate plot",
       "layout": "IPY_MODEL_524c07660a8946c7b80882ba52125900",
       "style": "IPY_MODEL_70724b171d0b40c0b4ec58facf9d7bc7"
      }
     },
     "862b2924b0d84232b1f30bc564c101aa": {
      "model_module": "@jupyter-widgets/controls",
      "model_module_version": "1.5.0",
      "model_name": "HBoxModel",
      "state": {
       "children": [
        "IPY_MODEL_35701542795341ca8256108dc4831daa",
        "IPY_MODEL_500e1137f918411286ce529a9ee578fa"
       ],
       "layout": "IPY_MODEL_e62b2c0d9dbc4f60ac75b6c44e550e25"
      }
     },
     "867eac548ad04432964dea023cb7638d": {
      "model_module": "@jupyter-widgets/controls",
      "model_module_version": "1.5.0",
      "model_name": "ButtonStyleModel",
      "state": {}
     },
     "86840f76b4304c1ca864f3e8d6c64e91": {
      "model_module": "@jupyter-widgets/base",
      "model_module_version": "1.2.0",
      "model_name": "LayoutModel",
      "state": {
       "height": "28px",
       "min_height": "28px",
       "min_width": "400px",
       "width": "400px"
      }
     },
     "86c4ef725dc641159753945c5519f4de": {
      "model_module": "@jupyter-widgets/controls",
      "model_module_version": "1.5.0",
      "model_name": "VBoxModel",
      "state": {
       "children": [
        "IPY_MODEL_da91b5f9a55343859be940d93a2fd69f",
        "IPY_MODEL_ca59371ac1f24ecab9c91d585d82a226",
        "IPY_MODEL_a097fcef2ca8432cb8603a1b22958ca9",
        "IPY_MODEL_a51163a9cb0046b280dbcca66c402abe",
        "IPY_MODEL_664be4a77aaf40ee873d34dd1f90d1f7",
        "IPY_MODEL_86285db6035e41a9910ca07de17910f5"
       ],
       "layout": "IPY_MODEL_7dd7d87aa60446a3a079a8bef779f33c"
      }
     },
     "86d13cce8df14207b8eb627caf73a6bb": {
      "model_module": "@jupyter-widgets/controls",
      "model_module_version": "1.5.0",
      "model_name": "ButtonStyleModel",
      "state": {}
     },
     "86ddf90a51db4fbf9682643841c6969a": {
      "model_module": "@jupyter-widgets/controls",
      "model_module_version": "1.5.0",
      "model_name": "HBoxModel",
      "state": {
       "children": [
        "IPY_MODEL_5ab5e7844f6541af87f443647a5a9567",
        "IPY_MODEL_e89a3a674c234842b7966fe8f8f31603"
       ],
       "layout": "IPY_MODEL_4e79a57909844fc2b56c6b10d2654e01"
      }
     },
     "8701e0c1c765431e8fc86a5413914260": {
      "model_module": "@jupyter-widgets/controls",
      "model_module_version": "1.5.0",
      "model_name": "ButtonStyleModel",
      "state": {}
     },
     "874bf39824cb4d6883321eaa143769e2": {
      "model_module": "@jupyter-widgets/controls",
      "model_module_version": "1.5.0",
      "model_name": "DescriptionStyleModel",
      "state": {
       "description_width": ""
      }
     },
     "880fa91e26984917a82ed4a72e9f1f9f": {
      "model_module": "@jupyter-widgets/base",
      "model_module_version": "1.2.0",
      "model_name": "LayoutModel",
      "state": {
       "height": "28px",
       "min_height": "28px",
       "min_width": "400px",
       "width": "400px"
      }
     },
     "88233dd2f3ff4dbead63fe13c3325443": {
      "model_module": "@jupyter-widgets/base",
      "model_module_version": "1.2.0",
      "model_name": "LayoutModel",
      "state": {
       "height": "28px",
       "min_height": "28px",
       "min_width": "400px",
       "width": "400px"
      }
     },
     "88692eea4ec048849b7b94d070766337": {
      "model_module": "@jupyter-widgets/controls",
      "model_module_version": "1.5.0",
      "model_name": "CheckboxModel",
      "state": {
       "description": "50 Hz",
       "disabled": false,
       "indent": false,
       "layout": "IPY_MODEL_47ffaa6a2fec49318e49ab04ede24332",
       "style": "IPY_MODEL_4618ffee37aa4824a600f8da65abf7d4",
       "value": true
      }
     },
     "88d932b06f134f21b2163e91ff3fe069": {
      "model_module": "@jupyter-widgets/controls",
      "model_module_version": "1.5.0",
      "model_name": "ButtonModel",
      "state": {
       "description": "Signal amplitude (0 < x < 1)",
       "disabled": true,
       "layout": "IPY_MODEL_e552677276b14a3782e1a70725ab4617",
       "style": "IPY_MODEL_afb608f79ed04dcc8a3d32cd000c39d3"
      }
     },
     "88f61b227cfd40239daa863c14d55e53": {
      "model_module": "@jupyter-widgets/base",
      "model_module_version": "1.2.0",
      "model_name": "LayoutModel",
      "state": {}
     },
     "8913e53ef80946ceac19a1e53361a647": {
      "model_module": "@jupyter-widgets/controls",
      "model_module_version": "1.5.0",
      "model_name": "ButtonModel",
      "state": {
       "description": "Signal length [seconds]",
       "disabled": true,
       "layout": "IPY_MODEL_5f5c069c0d724353913c6d99b1ecaa08",
       "style": "IPY_MODEL_de5d7d447dad4569870966884fc79ad5"
      }
     },
     "896ccda729c54b6f8b6e4441e99066fa": {
      "model_module": "@jupyter-widgets/controls",
      "model_module_version": "1.5.0",
      "model_name": "ButtonStyleModel",
      "state": {}
     },
     "89954ca2dc1f4e918d1a6d1dee575b4a": {
      "model_module": "@jupyter-widgets/base",
      "model_module_version": "1.2.0",
      "model_name": "LayoutModel",
      "state": {}
     },
     "899eb944ea544adcb2034c1a4a0980e5": {
      "model_module": "@jupyter-widgets/base",
      "model_module_version": "1.2.0",
      "model_name": "LayoutModel",
      "state": {
       "height": "28px",
       "min_height": "28px",
       "min_width": "400px",
       "width": "400px"
      }
     },
     "89a911f718ce47799cffc45d79cc7cca": {
      "model_module": "@jupyter-widgets/controls",
      "model_module_version": "1.5.0",
      "model_name": "ButtonModel",
      "state": {
       "description": "Signal length [seconds]",
       "disabled": true,
       "layout": "IPY_MODEL_7a419be84e8f4dfa9eb2788a718bf187",
       "style": "IPY_MODEL_a9ff660af8434adfb8b0493909d926bd"
      }
     },
     "89b89230bddd4e81bd02bc0902c2108e": {
      "model_module": "@jupyter-widgets/base",
      "model_module_version": "1.2.0",
      "model_name": "LayoutModel",
      "state": {
       "min_width": "50px",
       "width": "50px"
      }
     },
     "89e09dcf38ea414c8b34e2db5cca26b1": {
      "model_module": "@jupyter-widgets/controls",
      "model_module_version": "1.5.0",
      "model_name": "HBoxModel",
      "state": {
       "children": [
        "IPY_MODEL_4ef8f12bae8f4de2b35047a35e3b10f7",
        "IPY_MODEL_462d1275847549e2ab03d767aaa86d0c",
        "IPY_MODEL_54c66d98e215470fa21ea7ae91d9f03f"
       ],
       "layout": "IPY_MODEL_72fe8061c68041cbb25cf8f0e3647e63"
      }
     },
     "89e2e1132d934d889ff919d3d1a4df22": {
      "model_module": "@jupyter-widgets/controls",
      "model_module_version": "1.5.0",
      "model_name": "HBoxModel",
      "state": {
       "children": [
        "IPY_MODEL_55ca2e92205d4eeda76f36a88281a3a2",
        "IPY_MODEL_e1d40bc3a86e406691a0cc0d6dabe8a7",
        "IPY_MODEL_47a8bc6fe6ca4a79b9fa203f3a9fc512"
       ],
       "layout": "IPY_MODEL_41249c72f5444088991c8ca3110fc053"
      }
     },
     "8a0009b215484908bac68bf6e48bf637": {
      "model_module": "@jupyter-widgets/controls",
      "model_module_version": "1.5.0",
      "model_name": "TextModel",
      "state": {
       "layout": "IPY_MODEL_70fbef50e0554f159a14bc2d02bf32cb",
       "placeholder": "Amplitude (0 < x < 1)",
       "style": "IPY_MODEL_2a768c698e4a4c3d9e1b203d2e758014",
       "value": "1"
      }
     },
     "8a2f7ebb1a1047498ef78556fc495810": {
      "model_module": "@jupyter-widgets/base",
      "model_module_version": "1.2.0",
      "model_name": "LayoutModel",
      "state": {}
     },
     "8a32f860684648fe9ce1c4513632cd9f": {
      "model_module": "@jupyter-widgets/controls",
      "model_module_version": "1.5.0",
      "model_name": "ButtonModel",
      "state": {
       "description": "Signal amplitude (0 < x < 1)",
       "disabled": true,
       "layout": "IPY_MODEL_0bcbda4c8c8144f58dd584d5640c5326",
       "style": "IPY_MODEL_5b1ab81f79b049db91cd263707be78cc"
      }
     },
     "8aaef3ada23547478b085aa1ddd428be": {
      "model_module": "@jupyter-widgets/base",
      "model_module_version": "1.2.0",
      "model_name": "LayoutModel",
      "state": {
       "height": "28px",
       "min_height": "28px",
       "min_width": "400px",
       "width": "400px"
      }
     },
     "8b0764859a01403097fb5b930ae76f04": {
      "model_module": "@jupyter-widgets/controls",
      "model_module_version": "1.5.0",
      "model_name": "ButtonStyleModel",
      "state": {}
     },
     "8bb15bad983b40caac1f077f7b3013bc": {
      "model_module": "@jupyter-widgets/controls",
      "model_module_version": "1.5.0",
      "model_name": "HBoxModel",
      "state": {
       "children": [
        "IPY_MODEL_743f022882d04bf4b3b794848a1f82c5",
        "IPY_MODEL_fcd0f6cc4555421ba018e770b0f47c35"
       ],
       "layout": "IPY_MODEL_56999dd3bfe14759bcb0863c1027aa4b"
      }
     },
     "8bcf61c3120d410a947282aae785c6be": {
      "model_module": "@jupyter-widgets/base",
      "model_module_version": "1.2.0",
      "model_name": "LayoutModel",
      "state": {
       "min_width": "50px",
       "width": "50px"
      }
     },
     "8c6a3721d43a4d26bed43d90c189ddb1": {
      "model_module": "@jupyter-widgets/controls",
      "model_module_version": "1.5.0",
      "model_name": "ButtonStyleModel",
      "state": {}
     },
     "8ca06755beac48ccb11fd212285a1a23": {
      "model_module": "@jupyter-widgets/base",
      "model_module_version": "1.2.0",
      "model_name": "LayoutModel",
      "state": {}
     },
     "8cda9ae750714fac986662725091b2f3": {
      "model_module": "@jupyter-widgets/controls",
      "model_module_version": "1.5.0",
      "model_name": "CheckboxModel",
      "state": {
       "description": "50 Hz",
       "disabled": false,
       "indent": false,
       "layout": "IPY_MODEL_a8da650315c24bc18b7738cbe2525266",
       "style": "IPY_MODEL_36bfc0c2597043e189f2e6d08a4b34f8",
       "value": true
      }
     },
     "8d0d2d12a94d4f70a19417574cb2f45b": {
      "model_module": "@jupyter-widgets/controls",
      "model_module_version": "1.5.0",
      "model_name": "ButtonStyleModel",
      "state": {}
     },
     "8d1ce0b8155746158e4558dace9a71aa": {
      "model_module": "@jupyter-widgets/controls",
      "model_module_version": "1.5.0",
      "model_name": "DescriptionStyleModel",
      "state": {
       "description_width": ""
      }
     },
     "8d6203c210ed48ff88a22248517b4cc9": {
      "model_module": "@jupyter-widgets/controls",
      "model_module_version": "1.5.0",
      "model_name": "ButtonStyleModel",
      "state": {}
     },
     "8df56d1527ac47f282b93c6eb011a908": {
      "model_module": "@jupyter-widgets/controls",
      "model_module_version": "1.5.0",
      "model_name": "ButtonModel",
      "state": {
       "description": "Generate plot",
       "layout": "IPY_MODEL_aaae7b5055c74800bd7c9c5a9223c4a5",
       "style": "IPY_MODEL_c9a7b6bd721f4bc18323af90b113b325"
      }
     },
     "8e1d3511b006452fae15e43f638ab0f2": {
      "model_module": "@jupyter-widgets/base",
      "model_module_version": "1.2.0",
      "model_name": "LayoutModel",
      "state": {
       "min_width": "50px",
       "width": "50px"
      }
     },
     "8e8a23ac15df4e079b013dbc6e223c4c": {
      "model_module": "@jupyter-widgets/controls",
      "model_module_version": "1.5.0",
      "model_name": "LabelModel",
      "state": {
       "layout": "IPY_MODEL_a80f31097bb04b1296565144afef50cb",
       "style": "IPY_MODEL_5283a07242014dbeb814596e8361f33f",
       "value": "Signal = generateSine(1000, [50.0], amplitude=[1.0], time=0.3, noise=0.2)"
      }
     },
     "8ea48eeaa0344534a1cfb0bfe488a382": {
      "model_module": "@jupyter-widgets/controls",
      "model_module_version": "1.5.0",
      "model_name": "ButtonModel",
      "state": {
       "description": "Samples per seconds [Hz]",
       "disabled": true,
       "layout": "IPY_MODEL_4aa1c666126d4343a1a30ac0f4242774",
       "style": "IPY_MODEL_d564dd4dc82243e49c57587589adfd6d"
      }
     },
     "8eb8052313cc4c7c83c133ba2ec4ca47": {
      "model_module": "@jupyter-widgets/controls",
      "model_module_version": "1.5.0",
      "model_name": "ButtonModel",
      "state": {
       "description": "Signal amplitude (0 < x < 1)",
       "disabled": true,
       "layout": "IPY_MODEL_c18a62da1f114673895ede01d313f569",
       "style": "IPY_MODEL_66bf7122be3047ed89673af280cb976d"
      }
     },
     "8ed4dec6fe7a4899b68c547ab0a0c469": {
      "model_module": "@jupyter-widgets/controls",
      "model_module_version": "1.5.0",
      "model_name": "DescriptionStyleModel",
      "state": {
       "description_width": "initial"
      }
     },
     "8efcd5198fcb43db95336c1c2628c1fb": {
      "model_module": "@jupyter-widgets/controls",
      "model_module_version": "1.5.0",
      "model_name": "IntSliderModel",
      "state": {
       "continuous_update": false,
       "layout": "IPY_MODEL_768a7684b889427f9e7b8ecfd3921b89",
       "max": 3000,
       "min": 100,
       "step": 10,
       "style": "IPY_MODEL_4aaff6eacccd41e39e8ab30ba26eee67",
       "value": 1000
      }
     },
     "8f46ecd996a140cb9a980a8f132570f2": {
      "model_module": "@jupyter-widgets/controls",
      "model_module_version": "1.5.0",
      "model_name": "ButtonModel",
      "state": {
       "description": "Signal frequency",
       "disabled": true,
       "layout": "IPY_MODEL_73cd429dcb6f4d57b00c7926c494db0d",
       "style": "IPY_MODEL_8701e0c1c765431e8fc86a5413914260"
      }
     },
     "8fbce24fe6b148baa2293d352ba3856b": {
      "model_module": "@jupyter-widgets/controls",
      "model_module_version": "1.5.0",
      "model_name": "ButtonStyleModel",
      "state": {}
     },
     "8fd5552207a74ee6bdf91eb41feffcf3": {
      "model_module": "@jupyter-widgets/controls",
      "model_module_version": "1.5.0",
      "model_name": "HBoxModel",
      "state": {
       "children": [
        "IPY_MODEL_2790675ef3664f27b6ff5e3a8e0f58db",
        "IPY_MODEL_cffabd16a07b42afa56ebe434ebc637e"
       ],
       "layout": "IPY_MODEL_73744b56bef84f4a9c0df3b73f09d0db"
      }
     },
     "90010bd7a3ab45fe891318aba86587c9": {
      "model_module": "@jupyter-widgets/base",
      "model_module_version": "1.2.0",
      "model_name": "LayoutModel",
      "state": {}
     },
     "90078441fc1146d59e2fb08994d57e51": {
      "model_module": "@jupyter-widgets/controls",
      "model_module_version": "1.5.0",
      "model_name": "DescriptionStyleModel",
      "state": {
       "description_width": ""
      }
     },
     "900e372c51ab47c0823da4e9d2495812": {
      "model_module": "@jupyter-widgets/controls",
      "model_module_version": "1.5.0",
      "model_name": "ButtonStyleModel",
      "state": {}
     },
     "9024ea55e9524f5397fcbc7c17183f21": {
      "model_module": "@jupyter-widgets/controls",
      "model_module_version": "1.5.0",
      "model_name": "ButtonStyleModel",
      "state": {}
     },
     "904b2ea96c8740c3b1f6c9f1db4b1723": {
      "model_module": "@jupyter-widgets/controls",
      "model_module_version": "1.5.0",
      "model_name": "ButtonStyleModel",
      "state": {}
     },
     "90f768460ce9457cacca28a2531f0572": {
      "model_module": "@jupyter-widgets/base",
      "model_module_version": "1.2.0",
      "model_name": "LayoutModel",
      "state": {
       "width": "auto"
      }
     },
     "90fee897ccfa4e75a84aeb2f5af9fd39": {
      "model_module": "@jupyter-widgets/controls",
      "model_module_version": "1.5.0",
      "model_name": "CheckboxModel",
      "state": {
       "description": "Apply padding",
       "disabled": false,
       "indent": false,
       "layout": "IPY_MODEL_5647493124074048ae680ca565d4a754",
       "style": "IPY_MODEL_b80b5a43e70a40ddb6c159fbc883b199",
       "value": false
      }
     },
     "9103f3ce52054a159b9c642e867cf54c": {
      "model_module": "@jupyter-widgets/controls",
      "model_module_version": "1.5.0",
      "model_name": "DescriptionStyleModel",
      "state": {
       "description_width": "initial"
      }
     },
     "9108a8eacd7f42e8abbca4d1aabc4e8e": {
      "model_module": "@jupyter-widgets/controls",
      "model_module_version": "1.5.0",
      "model_name": "IntSliderModel",
      "state": {
       "continuous_update": false,
       "layout": "IPY_MODEL_9f17d96c4fd2430a8f9c8e85f6876756",
       "max": 3000,
       "min": 100,
       "step": 10,
       "style": "IPY_MODEL_cd1a8f79ee0d480d82033d6f0b295b0e",
       "value": 1000
      }
     },
     "91912cb75b474e1b8369a1c2aea5d178": {
      "model_module": "@jupyter-widgets/controls",
      "model_module_version": "1.5.0",
      "model_name": "ButtonStyleModel",
      "state": {}
     },
     "91b09652290645a881b90af3b380ecab": {
      "model_module": "@jupyter-widgets/base",
      "model_module_version": "1.2.0",
      "model_name": "LayoutModel",
      "state": {}
     },
     "91f30105c48b44da8324fbea7472e5c4": {
      "model_module": "@jupyter-widgets/controls",
      "model_module_version": "1.5.0",
      "model_name": "ButtonModel",
      "state": {
       "description": "Padd signal for FFT calculation",
       "disabled": true,
       "layout": "IPY_MODEL_77e0320a08424b6aba1bb9a052e96694",
       "style": "IPY_MODEL_424796e237a844c1883f7cf09ad81145"
      }
     },
     "92040ea182d340199b2a2a257fb389dd": {
      "model_module": "@jupyter-widgets/base",
      "model_module_version": "1.2.0",
      "model_name": "LayoutModel",
      "state": {}
     },
     "923df1bbc97b4fa99a48f6d321c774e9": {
      "model_module": "@jupyter-widgets/controls",
      "model_module_version": "1.5.0",
      "model_name": "CheckboxModel",
      "state": {
       "description": "50 Hz",
       "disabled": false,
       "indent": false,
       "layout": "IPY_MODEL_84d92ac83c4b41499e56c4685fe44573",
       "style": "IPY_MODEL_c33e6dfa1e16416ca89b40e87702b8ad",
       "value": true
      }
     },
     "928ea9281086423f93d55167498a2602": {
      "model_module": "@jupyter-widgets/controls",
      "model_module_version": "1.5.0",
      "model_name": "HBoxModel",
      "state": {
       "children": [
        "IPY_MODEL_ae8e116dbc41496ab723cb9c9301736d",
        "IPY_MODEL_1bcf9e211bea4c20a2ea33dd24a90051"
       ],
       "layout": "IPY_MODEL_08799d123cf44452b1ed84dd3e2f89f8"
      }
     },
     "9312fc00c084421788f20b8a01fe89c7": {
      "model_module": "@jupyter-widgets/controls",
      "model_module_version": "1.5.0",
      "model_name": "IntSliderModel",
      "state": {
       "continuous_update": false,
       "layout": "IPY_MODEL_73b3d62e840146f1afb88c99b31bf900",
       "max": 3000,
       "min": 100,
       "step": 10,
       "style": "IPY_MODEL_0898ebeabca94002830e75e2be92b1b3",
       "value": 1000
      }
     },
     "938330a09fe84880aea7e0fd6e081be6": {
      "model_module": "@jupyter-widgets/base",
      "model_module_version": "1.2.0",
      "model_name": "LayoutModel",
      "state": {}
     },
     "93882fabdd4e413fbcb95a71a527623c": {
      "model_module": "@jupyter-widgets/base",
      "model_module_version": "1.2.0",
      "model_name": "LayoutModel",
      "state": {
       "min_width": "50px",
       "width": "50px"
      }
     },
     "938ab123ba93485792a754aa2d4f527a": {
      "model_module": "@jupyter-widgets/controls",
      "model_module_version": "1.5.0",
      "model_name": "CheckboxModel",
      "state": {
       "description": "50 Hz",
       "disabled": false,
       "indent": false,
       "layout": "IPY_MODEL_a691054b76134a08a7ff785dece300bf",
       "style": "IPY_MODEL_f41ad250d7f04c74959abc122e6ab840",
       "value": true
      }
     },
     "939fcebba6f84dcbb78229537e4abbe3": {
      "model_module": "@jupyter-widgets/controls",
      "model_module_version": "1.5.0",
      "model_name": "VBoxModel",
      "state": {
       "children": [
        "IPY_MODEL_26a327994e244290b1d14ffb2c4ee767",
        "IPY_MODEL_86ddf90a51db4fbf9682643841c6969a",
        "IPY_MODEL_c2f7876519004cce90bb1c98b4659065",
        "IPY_MODEL_1304e08deb334501b8537baf0748c72c",
        "IPY_MODEL_d51891f933444983ae207c6510897648",
        "IPY_MODEL_f867ffbbf8fd4a4fa1b9e1c26fbb0b6a"
       ],
       "layout": "IPY_MODEL_2e4443f6d5184d6899ecad38eb51e693"
      }
     },
     "93aa35a3f1a54b28ab018b63e144d99a": {
      "model_module": "@jupyter-widgets/base",
      "model_module_version": "1.2.0",
      "model_name": "LayoutModel",
      "state": {}
     },
     "941732bf88fa40afaa05eb157ad95463": {
      "model_module": "@jupyter-widgets/controls",
      "model_module_version": "1.5.0",
      "model_name": "ButtonModel",
      "state": {
       "description": "Padd signal for FFT calculation",
       "disabled": true,
       "layout": "IPY_MODEL_24653896ffdf48caae3f200fe86d3318",
       "style": "IPY_MODEL_36196d78db944ef88a51e9b1d9af532c"
      }
     },
     "94257ba1137a4bc6b0d5bcbcee418c9d": {
      "model_module": "@jupyter-widgets/controls",
      "model_module_version": "1.5.0",
      "model_name": "TextModel",
      "state": {
       "layout": "IPY_MODEL_2e1219945405465c9a90bd4b975e2068",
       "placeholder": "Amplitude (0 < x < 1)",
       "style": "IPY_MODEL_c4829baec6af4e70a170ad71ebc57679",
       "value": "1"
      }
     },
     "94465503e7b449a4906155cf54a0f82e": {
      "model_module": "@jupyter-widgets/controls",
      "model_module_version": "1.5.0",
      "model_name": "ButtonStyleModel",
      "state": {}
     },
     "94473ab668204831b6c2a147514b353d": {
      "model_module": "@jupyter-widgets/base",
      "model_module_version": "1.2.0",
      "model_name": "LayoutModel",
      "state": {}
     },
     "9490a63b8d3245d9935ab494479d7b04": {
      "model_module": "@jupyter-widgets/base",
      "model_module_version": "1.2.0",
      "model_name": "LayoutModel",
      "state": {
       "min_width": "50px",
       "width": "50px"
      }
     },
     "949113bf387947c78005929931786483": {
      "model_module": "@jupyter-widgets/controls",
      "model_module_version": "1.5.0",
      "model_name": "DescriptionStyleModel",
      "state": {
       "description_width": "initial"
      }
     },
     "9517378492ef4cb4ad90d42f177b4175": {
      "model_module": "@jupyter-widgets/controls",
      "model_module_version": "1.5.0",
      "model_name": "HBoxModel",
      "state": {
       "children": [
        "IPY_MODEL_3bb711cee1af4c309a1fe5cb9a911500",
        "IPY_MODEL_d0701439ccf64efb9c79ba9a39d67b27"
       ],
       "layout": "IPY_MODEL_ae1a1155cc3843a28503176ea209d704"
      }
     },
     "9523274050c64c75a916809c23410d4e": {
      "model_module": "@jupyter-widgets/base",
      "model_module_version": "1.2.0",
      "model_name": "LayoutModel",
      "state": {}
     },
     "95355b5afc1640fe88592f5d256e687c": {
      "model_module": "@jupyter-widgets/controls",
      "model_module_version": "1.5.0",
      "model_name": "ButtonModel",
      "state": {
       "description": "Signal amplitude (0 < x < 1)",
       "disabled": true,
       "layout": "IPY_MODEL_bd973ecda4994aed863c182758791ae0",
       "style": "IPY_MODEL_6128d8655ff440fab1fc3ab7432ab10e"
      }
     },
     "9539b8b548aa4180be28fbb059b308fe": {
      "model_module": "@jupyter-widgets/base",
      "model_module_version": "1.2.0",
      "model_name": "LayoutModel",
      "state": {}
     },
     "9542cc8acece43e8ab3b6715ad816012": {
      "model_module": "@jupyter-widgets/base",
      "model_module_version": "1.2.0",
      "model_name": "LayoutModel",
      "state": {}
     },
     "9544fe842743454c816784fd00a8d640": {
      "model_module": "@jupyter-widgets/controls",
      "model_module_version": "1.5.0",
      "model_name": "ButtonModel",
      "state": {
       "description": "Signal amplitude (0 < x < 1)",
       "disabled": true,
       "layout": "IPY_MODEL_6b28a33f349b40b5a0fd53c21b20565b",
       "style": "IPY_MODEL_9c77a250fdbc4eb1928f5c5d7a5c8e56"
      }
     },
     "9568ab78929b48f8b4aa140233ff8751": {
      "model_module": "@jupyter-widgets/controls",
      "model_module_version": "1.5.0",
      "model_name": "HBoxModel",
      "state": {
       "children": [
        "IPY_MODEL_a12f5979692345759b739b9563c12b1a",
        "IPY_MODEL_9662752f8c064b06a6849009d814fa80",
        "IPY_MODEL_5a676c71090d40d7b29455beb3f4ed1d"
       ],
       "layout": "IPY_MODEL_72247c2cafa34bc182895dbc52fec114"
      }
     },
     "9609c416f5b24c808fffee0093bd2eed": {
      "model_module": "@jupyter-widgets/controls",
      "model_module_version": "1.5.0",
      "model_name": "DescriptionStyleModel",
      "state": {
       "description_width": "initial"
      }
     },
     "9613558615674c03b4f1b4c1afe7996b": {
      "model_module": "@jupyter-widgets/controls",
      "model_module_version": "1.5.0",
      "model_name": "ButtonModel",
      "state": {
       "description": "Amplitude of added noise",
       "disabled": true,
       "layout": "IPY_MODEL_880fa91e26984917a82ed4a72e9f1f9f",
       "style": "IPY_MODEL_0f43aa431cc24ee4af8aecb08e8a3050"
      }
     },
     "9629d7d38eca47248981cc522eed4d01": {
      "model_module": "@jupyter-widgets/base",
      "model_module_version": "1.2.0",
      "model_name": "LayoutModel",
      "state": {
       "min_width": "50px",
       "width": "50px"
      }
     },
     "9662752f8c064b06a6849009d814fa80": {
      "model_module": "@jupyter-widgets/controls",
      "model_module_version": "1.5.0",
      "model_name": "TextModel",
      "state": {
       "layout": "IPY_MODEL_4c4ea390782f416d8d7496f62d1c573c",
       "placeholder": "Amplitude (0 < x < 1)",
       "style": "IPY_MODEL_03f53a0723d54a90a8058f3e24b65e24",
       "value": "1"
      }
     },
     "968f32712ba14e7ea36e650c1cf3ec5a": {
      "model_module": "@jupyter-widgets/controls",
      "model_module_version": "1.5.0",
      "model_name": "ButtonModel",
      "state": {
       "description": "Signal amplitude (0 < x < 1)",
       "disabled": true,
       "layout": "IPY_MODEL_f824de52b4084a6b849ccd85baf0ae26",
       "style": "IPY_MODEL_b18107ca1fc84ac38d6428a892b44fe1"
      }
     },
     "96c653bd162d44a4abc9e780a27b19f8": {
      "model_module": "@jupyter-widgets/base",
      "model_module_version": "1.2.0",
      "model_name": "LayoutModel",
      "state": {
       "height": "28px",
       "min_height": "28px",
       "min_width": "400px",
       "width": "400px"
      }
     },
     "9717369ef2524cf7816aab34da4a5e69": {
      "model_module": "@jupyter-widgets/controls",
      "model_module_version": "1.5.0",
      "model_name": "VBoxModel",
      "state": {
       "children": [
        "IPY_MODEL_ca2091c7461a4687af738c61e83fd3c4",
        "IPY_MODEL_71c41ce5bdca4c06aae55321b88cd937",
        "IPY_MODEL_6561cdcf67224b8dbb7f28764f0759b3",
        "IPY_MODEL_8fd5552207a74ee6bdf91eb41feffcf3",
        "IPY_MODEL_8bb15bad983b40caac1f077f7b3013bc",
        "IPY_MODEL_c378a12f918c485ca65fb957c7befb26"
       ],
       "layout": "IPY_MODEL_85f033a9b9c547d7ae4f2a6862191bbc"
      }
     },
     "97350f3ba8c8493ba90577bb9ebbb84d": {
      "model_module": "@jupyter-widgets/controls",
      "model_module_version": "1.5.0",
      "model_name": "DescriptionStyleModel",
      "state": {
       "description_width": ""
      }
     },
     "9750c46359dc4f41a7d5a994120670af": {
      "model_module": "@jupyter-widgets/base",
      "model_module_version": "1.2.0",
      "model_name": "LayoutModel",
      "state": {
       "min_width": "50px",
       "width": "50px"
      }
     },
     "97cf007493d8427d8656491bf17b918e": {
      "model_module": "@jupyter-widgets/controls",
      "model_module_version": "1.5.0",
      "model_name": "CheckboxModel",
      "state": {
       "description": "50 Hz",
       "disabled": false,
       "indent": false,
       "layout": "IPY_MODEL_2807ef4f8532499ca97e23364186aaad",
       "style": "IPY_MODEL_7fabef3e504c42219377eda3ba38dca9",
       "value": true
      }
     },
     "9825056f95f248448b0a8317f949035c": {
      "model_module": "@jupyter-widgets/controls",
      "model_module_version": "1.5.0",
      "model_name": "ButtonStyleModel",
      "state": {}
     },
     "9861390998ab488c94e30e091a4d295f": {
      "model_module": "@jupyter-widgets/controls",
      "model_module_version": "1.5.0",
      "model_name": "HBoxModel",
      "state": {
       "children": [
        "IPY_MODEL_efc55c51cf924217b796a20dea3127d2",
        "IPY_MODEL_5749ddea0ffb4eeca34485f7eff9307b"
       ],
       "layout": "IPY_MODEL_a6911d4753e04d4198d4e12427461ba8"
      }
     },
     "989db3da0da74f73acd5ccda926eaaef": {
      "model_module": "@jupyter-widgets/controls",
      "model_module_version": "1.5.0",
      "model_name": "VBoxModel",
      "state": {
       "children": [
        "IPY_MODEL_b796e71831004c0db0a30ef82e8d74f9",
        "IPY_MODEL_c7d9c8759c3a452291fac43a18107515",
        "IPY_MODEL_18864695482742238991025a06188139",
        "IPY_MODEL_5dade929a7b44db9aa2867a5d5d95aef",
        "IPY_MODEL_d7e50c0f96df4969b39bd1e1b43aaf5f",
        "IPY_MODEL_dee537a765824ca1ac41d052984de341"
       ],
       "layout": "IPY_MODEL_71b3d4f1abb3455e9579b9074c40a179"
      }
     },
     "98c39c8ad2bb4e3fbc63d1a866c25e3f": {
      "model_module": "@jupyter-widgets/controls",
      "model_module_version": "1.5.0",
      "model_name": "DescriptionStyleModel",
      "state": {
       "description_width": ""
      }
     },
     "993accab8e4c49b187a6ae952e747c07": {
      "model_module": "@jupyter-widgets/base",
      "model_module_version": "1.2.0",
      "model_name": "LayoutModel",
      "state": {
       "min_width": "50px",
       "width": "50px"
      }
     },
     "99782bb23b2847b69342e0ffd70b7f7f": {
      "model_module": "@jupyter-widgets/base",
      "model_module_version": "1.2.0",
      "model_name": "LayoutModel",
      "state": {
       "height": "28px",
       "min_height": "28px",
       "min_width": "400px",
       "width": "400px"
      }
     },
     "998e28dd1efb4cf9a4ae52ca1b94d808": {
      "model_module": "@jupyter-widgets/controls",
      "model_module_version": "1.5.0",
      "model_name": "DescriptionStyleModel",
      "state": {
       "description_width": ""
      }
     },
     "9a1a8340a7f4488b9346b87f3473a8f6": {
      "model_module": "@jupyter-widgets/base",
      "model_module_version": "1.2.0",
      "model_name": "LayoutModel",
      "state": {
       "height": "28px",
       "min_height": "28px",
       "min_width": "400px",
       "width": "400px"
      }
     },
     "9a7ccb0e6e244025a91ef3708b96cc38": {
      "model_module": "@jupyter-widgets/controls",
      "model_module_version": "1.5.0",
      "model_name": "HBoxModel",
      "state": {
       "children": [
        "IPY_MODEL_4f11dfa47fb741a98fcd66350180d3bc",
        "IPY_MODEL_a01bda87191143749963291dbfe50972"
       ],
       "layout": "IPY_MODEL_749833b888d8435a8a471b8c680a9a3d"
      }
     },
     "9aac2c2aff824ba086613e7feb6d6318": {
      "model_module": "@jupyter-widgets/controls",
      "model_module_version": "1.5.0",
      "model_name": "DescriptionStyleModel",
      "state": {
       "description_width": ""
      }
     },
     "9aeaedb55a4a4cc8aa33d569ea8efea1": {
      "model_module": "@jupyter-widgets/controls",
      "model_module_version": "1.5.0",
      "model_name": "CheckboxModel",
      "state": {
       "description": "Apply padding",
       "disabled": false,
       "indent": false,
       "layout": "IPY_MODEL_06f2b32bbc2348c59260ae1b142aec02",
       "style": "IPY_MODEL_36eb1a28d0df4ab18cc9c52f2a37553b",
       "value": true
      }
     },
     "9aebb2e6674f43a2b8f2ab4f1487a293": {
      "model_module": "@jupyter-widgets/controls",
      "model_module_version": "1.5.0",
      "model_name": "ButtonModel",
      "state": {
       "description": "Signal amplitude (0 < x < 1)",
       "disabled": true,
       "layout": "IPY_MODEL_f6795ec8adba4e22ad9af6467b3c26b5",
       "style": "IPY_MODEL_4184a4e7ddf14ee08d4e7e7a477f817c"
      }
     },
     "9b1f33898f7647e9842fcb444920cf99": {
      "model_module": "@jupyter-widgets/base",
      "model_module_version": "1.2.0",
      "model_name": "LayoutModel",
      "state": {}
     },
     "9b360917616047e1aae8b73b9c62179e": {
      "model_module": "@jupyter-widgets/controls",
      "model_module_version": "1.5.0",
      "model_name": "TextModel",
      "state": {
       "layout": "IPY_MODEL_7df96992054b4da9bc4754f82a1c1390",
       "placeholder": "Signal length [s]",
       "style": "IPY_MODEL_9609c416f5b24c808fffee0093bd2eed",
       "value": "0.3"
      }
     },
     "9bb2aeaedf954883ac36e4eece684ce5": {
      "model_module": "@jupyter-widgets/controls",
      "model_module_version": "1.5.0",
      "model_name": "CheckboxModel",
      "state": {
       "description": "70 Hz",
       "disabled": false,
       "indent": false,
       "layout": "IPY_MODEL_ad63a26439714617a0e8f1288eb71142",
       "style": "IPY_MODEL_90078441fc1146d59e2fb08994d57e51",
       "value": false
      }
     },
     "9c1b8fe4c1d441b1a2aac51e4ad65cb1": {
      "model_module": "@jupyter-widgets/controls",
      "model_module_version": "1.5.0",
      "model_name": "HBoxModel",
      "state": {
       "children": [
        "IPY_MODEL_258dbfd1aee8446c81dd2419a073e946",
        "IPY_MODEL_e47d274260e84669b52bcc20c5c163c9"
       ],
       "layout": "IPY_MODEL_ecb8a427307d4d00a4d8dff55d5015ea"
      }
     },
     "9c27718625154ab8a3634fbfca8be8b5": {
      "model_module": "@jupyter-widgets/base",
      "model_module_version": "1.2.0",
      "model_name": "LayoutModel",
      "state": {}
     },
     "9c68ef3fa3c8444f9909bd59edab3b01": {
      "model_module": "@jupyter-widgets/controls",
      "model_module_version": "1.5.0",
      "model_name": "LabelModel",
      "state": {
       "layout": "IPY_MODEL_fe7d77ed93ca4c17810b7f07d33dfd11",
       "style": "IPY_MODEL_1eda0e0215be4893a0f02f88d88d8fae",
       "value": "Fundamental frequency from FFT = [50.00, 63.33] [Hz]"
      }
     },
     "9c77a250fdbc4eb1928f5c5d7a5c8e56": {
      "model_module": "@jupyter-widgets/controls",
      "model_module_version": "1.5.0",
      "model_name": "ButtonStyleModel",
      "state": {}
     },
     "9d3a685954ea436eace29efdb0a9b86d": {
      "model_module": "@jupyter-widgets/controls",
      "model_module_version": "1.5.0",
      "model_name": "ButtonModel",
      "state": {
       "description": "Signal amplitude (0 < x < 1)",
       "disabled": true,
       "layout": "IPY_MODEL_b9f762aace5341d4a75e4e4596a42e93",
       "style": "IPY_MODEL_0b70a637c4274972b26dd8358956fa90"
      }
     },
     "9d4ff5d89acd4b4abaa6d3d29686e0f9": {
      "model_module": "@jupyter-widgets/base",
      "model_module_version": "1.2.0",
      "model_name": "LayoutModel",
      "state": {
       "min_width": "50px",
       "width": "50px"
      }
     },
     "9d632a2687e748c2b76c5b6c446fea10": {
      "model_module": "@jupyter-widgets/controls",
      "model_module_version": "1.5.0",
      "model_name": "DescriptionStyleModel",
      "state": {
       "description_width": ""
      }
     },
     "9d6565fee4c54d9c989b0b425bba361f": {
      "model_module": "@jupyter-widgets/base",
      "model_module_version": "1.2.0",
      "model_name": "LayoutModel",
      "state": {}
     },
     "9dd2013131684d01aae0cd3aaa8fe734": {
      "model_module": "@jupyter-widgets/controls",
      "model_module_version": "1.5.0",
      "model_name": "CheckboxModel",
      "state": {
       "description": "Apply padding",
       "disabled": false,
       "indent": false,
       "layout": "IPY_MODEL_72465d4cdf984493b8c2ddca6a990e5f",
       "style": "IPY_MODEL_feaefa8b5a8e4cab8c9c2aac27f2a8fe",
       "value": false
      }
     },
     "9df635257e8848a8a5b6289df465220a": {
      "model_module": "@jupyter-widgets/controls",
      "model_module_version": "1.5.0",
      "model_name": "LabelModel",
      "state": {
       "layout": "IPY_MODEL_435dfbd8974745b1bb88e8f0b8b324fd",
       "style": "IPY_MODEL_00539ac1351b475782a1bbb2df332f91",
       "value": "Signal = generateSine(1000, [50.0], amplitude=[1.0], time=0.3, noise=0.0)"
      }
     },
     "9dfc553488f7426eb457cda791fce409": {
      "model_module": "@jupyter-widgets/controls",
      "model_module_version": "1.5.0",
      "model_name": "HBoxModel",
      "state": {
       "children": [
        "IPY_MODEL_ade62d029bfe4db6b008a918e468d78f",
        "IPY_MODEL_c79ab233bf91428d8962296270079342"
       ],
       "layout": "IPY_MODEL_c920123d273b4b66ada31356491d7250"
      }
     },
     "9e3648489acf4058a6df925b8e54de1b": {
      "model_module": "@jupyter-widgets/base",
      "model_module_version": "1.2.0",
      "model_name": "LayoutModel",
      "state": {}
     },
     "9e3f5599a19349a99dd7ddb4660babe0": {
      "model_module": "@jupyter-widgets/controls",
      "model_module_version": "1.5.0",
      "model_name": "ButtonModel",
      "state": {
       "description": "Amplitude of added noise",
       "disabled": true,
       "layout": "IPY_MODEL_f45341ad976e4c918e3ed3eaecc6bdbd",
       "style": "IPY_MODEL_18e34c7b8ddb4a28bfb3dd92d4e901b9"
      }
     },
     "9e55d61c1fb64771a0c17b3cbf89e230": {
      "model_module": "@jupyter-widgets/base",
      "model_module_version": "1.2.0",
      "model_name": "LayoutModel",
      "state": {}
     },
     "9eb7183567f64eb2bc6e19ab8e96256d": {
      "model_module": "@jupyter-widgets/controls",
      "model_module_version": "1.5.0",
      "model_name": "ButtonModel",
      "state": {
       "description": "Generate plot",
       "layout": "IPY_MODEL_c2b1b0126ef345a3ad15649c1244199b",
       "style": "IPY_MODEL_5e2682d5c6bb41959f0dcd1df12ba454"
      }
     },
     "9ec2a63de4f24cb49f3cc94d79478fd0": {
      "model_module": "@jupyter-widgets/controls",
      "model_module_version": "1.5.0",
      "model_name": "ButtonStyleModel",
      "state": {}
     },
     "9ef56b46635944beb1be01884041a4f6": {
      "model_module": "@jupyter-widgets/controls",
      "model_module_version": "1.5.0",
      "model_name": "HBoxModel",
      "state": {
       "children": [
        "IPY_MODEL_6a59b8f2bfbb46d9b4c8cbe62ab059ae",
        "IPY_MODEL_75e292cd486a4b83bb4773c573e34f10"
       ],
       "layout": "IPY_MODEL_0bd4cde090b64f07a9e05c6ac28f0094"
      }
     },
     "9f17d96c4fd2430a8f9c8e85f6876756": {
      "model_module": "@jupyter-widgets/base",
      "model_module_version": "1.2.0",
      "model_name": "LayoutModel",
      "state": {}
     },
     "9f664e7a2be44777afaaa09c8f384850": {
      "model_module": "@jupyter-widgets/controls",
      "model_module_version": "1.5.0",
      "model_name": "ButtonStyleModel",
      "state": {}
     },
     "9fa26710bae741249e1ef63446728623": {
      "model_module": "@jupyter-widgets/controls",
      "model_module_version": "1.5.0",
      "model_name": "ButtonStyleModel",
      "state": {}
     },
     "9fcf344a94134dbb82976f21bc097bbb": {
      "model_module": "@jupyter-widgets/base",
      "model_module_version": "1.2.0",
      "model_name": "LayoutModel",
      "state": {}
     },
     "a00b848274a449a0bed94926244721e2": {
      "model_module": "@jupyter-widgets/controls",
      "model_module_version": "1.5.0",
      "model_name": "HBoxModel",
      "state": {
       "children": [
        "IPY_MODEL_a897ce30c88f4b1ebffe0edaae0f970b",
        "IPY_MODEL_9312fc00c084421788f20b8a01fe89c7"
       ],
       "layout": "IPY_MODEL_71d92bba7185469a920bba457532c433"
      }
     },
     "a015b42ce12c4896b2db4a318d941e1e": {
      "model_module": "@jupyter-widgets/controls",
      "model_module_version": "1.5.0",
      "model_name": "LabelModel",
      "state": {
       "layout": "IPY_MODEL_f81492fbce96457384a1d871da7c709a",
       "style": "IPY_MODEL_b6e58b0fbcb94cf19000ccf766e4d00d",
       "value": "Amplitude spectrum = [0.81, 0.79] [V]]"
      }
     },
     "a01bda87191143749963291dbfe50972": {
      "model_module": "@jupyter-widgets/controls",
      "model_module_version": "1.5.0",
      "model_name": "CheckboxModel",
      "state": {
       "description": "Apply padding",
       "disabled": false,
       "indent": false,
       "layout": "IPY_MODEL_41d32234d353440d925691dd153ada95",
       "style": "IPY_MODEL_f57181ffa72d4d598c11c1c78aff42f3",
       "value": false
      }
     },
     "a09104b3e77b4240be71ff6d300ffebf": {
      "model_module": "@jupyter-widgets/base",
      "model_module_version": "1.2.0",
      "model_name": "LayoutModel",
      "state": {
       "min_width": "50px",
       "width": "50px"
      }
     },
     "a097fcef2ca8432cb8603a1b22958ca9": {
      "model_module": "@jupyter-widgets/controls",
      "model_module_version": "1.5.0",
      "model_name": "HBoxModel",
      "state": {
       "children": [
        "IPY_MODEL_8f46ecd996a140cb9a980a8f132570f2",
        "IPY_MODEL_731b10c0f20d4005a7e5127e922da91a"
       ],
       "layout": "IPY_MODEL_0084480a89694e8cb0a28b390bdd5cc3"
      }
     },
     "a12f5979692345759b739b9563c12b1a": {
      "model_module": "@jupyter-widgets/controls",
      "model_module_version": "1.5.0",
      "model_name": "CheckboxModel",
      "state": {
       "description": "70 Hz",
       "disabled": false,
       "indent": false,
       "layout": "IPY_MODEL_71b22febbfe943708b89f1b16dab94ed",
       "style": "IPY_MODEL_bae7a0d2160f4e68ab5dcc5e52c3042e",
       "value": false
      }
     },
     "a1369c83e5424e138a90fe097de90d61": {
      "model_module": "@jupyter-widgets/base",
      "model_module_version": "1.2.0",
      "model_name": "LayoutModel",
      "state": {}
     },
     "a13942a8c8384b46928645a13a936a38": {
      "model_module": "@jupyter-widgets/controls",
      "model_module_version": "1.5.0",
      "model_name": "VBoxModel",
      "state": {
       "children": [
        "IPY_MODEL_3758df129dd94d0d8c57030ef0df4c93",
        "IPY_MODEL_862b2924b0d84232b1f30bc564c101aa",
        "IPY_MODEL_d1c991b79fba45b49c03d00422073664",
        "IPY_MODEL_aed853cb35e4472b9c71d6885dd0415f",
        "IPY_MODEL_ff4a1a16d813466d8340b40d739c7afc",
        "IPY_MODEL_7337ff58d3444cadbaee2533f5f8a504"
       ],
       "layout": "IPY_MODEL_d82a4adc582e43a4bcd85e920efbd80c"
      }
     },
     "a2080a738a484a86afe227440e8a81cd": {
      "model_module": "@jupyter-widgets/base",
      "model_module_version": "1.2.0",
      "model_name": "LayoutModel",
      "state": {
       "height": "28px",
       "min_height": "28px",
       "min_width": "400px",
       "width": "400px"
      }
     },
     "a28c305a8c784ea28a308063a6c394b4": {
      "model_module": "@jupyter-widgets/controls",
      "model_module_version": "1.5.0",
      "model_name": "LabelModel",
      "state": {
       "layout": "IPY_MODEL_699e8bdf4bff48e0aeecea4ed6bf6c50",
       "style": "IPY_MODEL_c16b86c508b8482295b4e6de0bd492d0",
       "value": "Amplitude spectrum = [1.00, 0.30] [V]]"
      }
     },
     "a2cbdeae8a054a458c63bd594aebc91b": {
      "model_module": "@jupyter-widgets/controls",
      "model_module_version": "1.5.0",
      "model_name": "ButtonStyleModel",
      "state": {}
     },
     "a2d5cd44aed643c89b1713f7ce16996a": {
      "model_module": "@jupyter-widgets/controls",
      "model_module_version": "1.5.0",
      "model_name": "VBoxModel",
      "state": {
       "children": [
        "IPY_MODEL_2d98f1104bbe4d36b95a8acd1e08bb15",
        "IPY_MODEL_d525204d6f4a463ab2e2eb5ddff35ed1",
        "IPY_MODEL_02b4b5d8219e40f4850d22df970e7c67",
        "IPY_MODEL_660b8b55dcd646b6aba1be834eaa3a3a",
        "IPY_MODEL_d2600e128fe148bba78e7b233bcc1690",
        "IPY_MODEL_5f376c6f07e2473290cadfeb32a15814"
       ],
       "layout": "IPY_MODEL_9fcf344a94134dbb82976f21bc097bbb"
      }
     },
     "a38ff4bcbd5d4da2bd5062269fbbe333": {
      "model_module": "@jupyter-widgets/controls",
      "model_module_version": "1.5.0",
      "model_name": "DescriptionStyleModel",
      "state": {
       "description_width": ""
      }
     },
     "a3f4948528744e509a1f5cb7b0b40c3a": {
      "model_module": "@jupyter-widgets/controls",
      "model_module_version": "1.5.0",
      "model_name": "TextModel",
      "state": {
       "layout": "IPY_MODEL_7f0510cb77264d788e93cd963147ac72",
       "placeholder": "Signal length [s]",
       "style": "IPY_MODEL_789bece5909d40d8ae8d1027be1dd705",
       "value": "1"
      }
     },
     "a419eecbfb5a4a8fb409ba95c047a9d6": {
      "model_module": "@jupyter-widgets/base",
      "model_module_version": "1.2.0",
      "model_name": "LayoutModel",
      "state": {}
     },
     "a4cdf0880ed74a10b99417ffedd0b1f3": {
      "model_module": "@jupyter-widgets/controls",
      "model_module_version": "1.5.0",
      "model_name": "CheckboxModel",
      "state": {
       "description": "50 Hz",
       "disabled": false,
       "indent": false,
       "layout": "IPY_MODEL_46cfe07859ed4587997f05778c441cc5",
       "style": "IPY_MODEL_2ee57ea15a2f4067a6cb909e2d575dc2",
       "value": true
      }
     },
     "a4cf7e2087654b9f842540be69cc76c6": {
      "model_module": "@jupyter-widgets/controls",
      "model_module_version": "1.5.0",
      "model_name": "HBoxModel",
      "state": {
       "children": [
        "IPY_MODEL_b926d69b51514866846b05e51b084f7e",
        "IPY_MODEL_79bccac2f92040cf826990f4ff173b57",
        "IPY_MODEL_4b79bd0a7a174e3bbeb2f042275c5088"
       ],
       "layout": "IPY_MODEL_ac326e1be7de49df9b38fd7bdd30cb52"
      }
     },
     "a4ee980aaeda4941a558f1e0ce0a3a5a": {
      "model_module": "@jupyter-widgets/controls",
      "model_module_version": "1.5.0",
      "model_name": "DescriptionStyleModel",
      "state": {
       "description_width": "initial"
      }
     },
     "a4ef907135304474bf812130c30313a6": {
      "model_module": "@jupyter-widgets/controls",
      "model_module_version": "1.5.0",
      "model_name": "ButtonStyleModel",
      "state": {}
     },
     "a51163a9cb0046b280dbcca66c402abe": {
      "model_module": "@jupyter-widgets/controls",
      "model_module_version": "1.5.0",
      "model_name": "HBoxModel",
      "state": {
       "children": [
        "IPY_MODEL_dfa4291abfe04a4396166a4bc467676c",
        "IPY_MODEL_46274400d2984cad971a3430f69933f6"
       ],
       "layout": "IPY_MODEL_4afba4d858f643e3a1992dfc686e34ab"
      }
     },
     "a5e198b3dbfc4792b273370e35701644": {
      "model_module": "@jupyter-widgets/base",
      "model_module_version": "1.2.0",
      "model_name": "LayoutModel",
      "state": {}
     },
     "a5e5a0920441435b9a3ac566e353470f": {
      "model_module": "@jupyter-widgets/base",
      "model_module_version": "1.2.0",
      "model_name": "LayoutModel",
      "state": {
       "height": "28px",
       "min_height": "28px",
       "min_width": "400px",
       "width": "400px"
      }
     },
     "a6019b8a1b804b8a972ecb6e8ee783be": {
      "model_module": "@jupyter-widgets/base",
      "model_module_version": "1.2.0",
      "model_name": "LayoutModel",
      "state": {}
     },
     "a613577ff2a9420e9109fb80a09fc972": {
      "model_module": "@jupyter-widgets/controls",
      "model_module_version": "1.5.0",
      "model_name": "ButtonModel",
      "state": {
       "description": "Signal amplitude (0 < x < 1)",
       "disabled": true,
       "layout": "IPY_MODEL_cd2da9894d714fe0bc17e793095a9b54",
       "style": "IPY_MODEL_82677a611e6d479bb544bf17a4181e34"
      }
     },
     "a645a1ee6cef48c79c9f90d32fc63c36": {
      "model_module": "@jupyter-widgets/base",
      "model_module_version": "1.2.0",
      "model_name": "LayoutModel",
      "state": {}
     },
     "a66a464b4bb44d46ada6c3033f7fad7e": {
      "model_module": "@jupyter-widgets/base",
      "model_module_version": "1.2.0",
      "model_name": "LayoutModel",
      "state": {
       "height": "28px",
       "min_height": "28px",
       "min_width": "400px",
       "width": "400px"
      }
     },
     "a68c814a4f8d40adb16d7970a61dbce2": {
      "model_module": "@jupyter-widgets/controls",
      "model_module_version": "1.5.0",
      "model_name": "ButtonStyleModel",
      "state": {}
     },
     "a68d80a0f9ad4b05adbb8e0be1139ad0": {
      "model_module": "@jupyter-widgets/base",
      "model_module_version": "1.2.0",
      "model_name": "LayoutModel",
      "state": {
       "height": "28px",
       "min_height": "28px",
       "min_width": "400px",
       "width": "400px"
      }
     },
     "a68e3e8de7154dd7b2af91c1d8e5a89f": {
      "model_module": "@jupyter-widgets/controls",
      "model_module_version": "1.5.0",
      "model_name": "ButtonModel",
      "state": {
       "description": "Amplitude of added noise",
       "disabled": true,
       "layout": "IPY_MODEL_1715ff128a8c476aa922a6f0c061c308",
       "style": "IPY_MODEL_6a9f5e5df5b8466db1c1ad198dc09b42"
      }
     },
     "a691054b76134a08a7ff785dece300bf": {
      "model_module": "@jupyter-widgets/base",
      "model_module_version": "1.2.0",
      "model_name": "LayoutModel",
      "state": {}
     },
     "a6911d4753e04d4198d4e12427461ba8": {
      "model_module": "@jupyter-widgets/base",
      "model_module_version": "1.2.0",
      "model_name": "LayoutModel",
      "state": {}
     },
     "a6a468753c8340c3b1409d0eae13ad46": {
      "model_module": "@jupyter-widgets/base",
      "model_module_version": "1.2.0",
      "model_name": "LayoutModel",
      "state": {}
     },
     "a6c99f6ddf1a4a1b8f594f2f7351db1b": {
      "model_module": "@jupyter-widgets/controls",
      "model_module_version": "1.5.0",
      "model_name": "HBoxModel",
      "state": {
       "children": [
        "IPY_MODEL_4f97e6de0c5648eea007c6b6e2592261",
        "IPY_MODEL_bf1dace47cd7477594e692d61b58e194",
        "IPY_MODEL_40b00562df8c47088d67a28ec6f7ee77"
       ],
       "layout": "IPY_MODEL_55cd200ac4e24a3fb88de7f37211b0c9"
      }
     },
     "a6d2cd67988d4fafb41c0d7dd5d4fb85": {
      "model_module": "@jupyter-widgets/base",
      "model_module_version": "1.2.0",
      "model_name": "LayoutModel",
      "state": {}
     },
     "a6ebeb4fc8a5442fbb23cb2af5adf113": {
      "model_module": "@jupyter-widgets/controls",
      "model_module_version": "1.5.0",
      "model_name": "LabelModel",
      "state": {
       "layout": "IPY_MODEL_94473ab668204831b6c2a147514b353d",
       "style": "IPY_MODEL_4f9f79df1eae464e9a790cb35725171b",
       "value": "Fundamental frequency from FFT = [50.00, 43.00] [Hz]"
      }
     },
     "a7117a0022e5488a8f8159f8740221bb": {
      "model_module": "@jupyter-widgets/base",
      "model_module_version": "1.2.0",
      "model_name": "LayoutModel",
      "state": {}
     },
     "a71542669f924665a25320f0ddd1ca49": {
      "model_module": "@jupyter-widgets/base",
      "model_module_version": "1.2.0",
      "model_name": "LayoutModel",
      "state": {}
     },
     "a7316be347fd4053813d6833aa7b463f": {
      "model_module": "@jupyter-widgets/controls",
      "model_module_version": "1.5.0",
      "model_name": "HBoxModel",
      "state": {
       "children": [
        "IPY_MODEL_365f6addf650414fa68fc673d233d17d",
        "IPY_MODEL_02706d2c30094b43b37d75dce8d35545"
       ],
       "layout": "IPY_MODEL_74a5cc498a164bf3a321aa2b12c73235"
      }
     },
     "a78ab95322784eb9a672251ddb4db6c8": {
      "model_module": "@jupyter-widgets/controls",
      "model_module_version": "1.5.0",
      "model_name": "ButtonStyleModel",
      "state": {}
     },
     "a7e315be9a144ad587f3f40e85aebd1c": {
      "model_module": "@jupyter-widgets/base",
      "model_module_version": "1.2.0",
      "model_name": "LayoutModel",
      "state": {
       "height": "28px",
       "min_height": "28px",
       "min_width": "400px",
       "width": "400px"
      }
     },
     "a80f31097bb04b1296565144afef50cb": {
      "model_module": "@jupyter-widgets/base",
      "model_module_version": "1.2.0",
      "model_name": "LayoutModel",
      "state": {}
     },
     "a80fa70fc09648d8b670827648c4424e": {
      "model_module": "@jupyter-widgets/controls",
      "model_module_version": "1.5.0",
      "model_name": "TextModel",
      "state": {
       "layout": "IPY_MODEL_37043fc3607340368f11d5c053425ba5",
       "placeholder": "Additive noise",
       "style": "IPY_MODEL_6affcbce37a4468588e7d7fa9bbc2b3b",
       "value": "0"
      }
     },
     "a810173c4c4141c099d9814e3ab4a069": {
      "model_module": "@jupyter-widgets/controls",
      "model_module_version": "1.5.0",
      "model_name": "ButtonModel",
      "state": {
       "description": "Amplitude of added noise",
       "disabled": true,
       "layout": "IPY_MODEL_fd21c2960aa6404eaec46f8fcd1b6dbb",
       "style": "IPY_MODEL_eb11b0f8176944b48cc31d29fdbed159"
      }
     },
     "a83042f8e53c4fd98bd61ef41b5b85dc": {
      "model_module": "@jupyter-widgets/controls",
      "model_module_version": "1.5.0",
      "model_name": "DescriptionStyleModel",
      "state": {
       "description_width": ""
      }
     },
     "a869a6f78d674646915eff70821f3c49": {
      "model_module": "@jupyter-widgets/base",
      "model_module_version": "1.2.0",
      "model_name": "LayoutModel",
      "state": {}
     },
     "a87e8af3abcc436e84e9c7ea78cd3358": {
      "model_module": "@jupyter-widgets/controls",
      "model_module_version": "1.5.0",
      "model_name": "ButtonModel",
      "state": {
       "description": "Amplitude of added noise",
       "disabled": true,
       "layout": "IPY_MODEL_0d5e1200dac54b289ed2fe4218ecf2f0",
       "style": "IPY_MODEL_d9a6302824a343d99f1a30905435befc"
      }
     },
     "a882dffa5086496b89acdc1961b69279": {
      "model_module": "@jupyter-widgets/controls",
      "model_module_version": "1.5.0",
      "model_name": "DescriptionStyleModel",
      "state": {
       "description_width": "initial"
      }
     },
     "a897ce30c88f4b1ebffe0edaae0f970b": {
      "model_module": "@jupyter-widgets/controls",
      "model_module_version": "1.5.0",
      "model_name": "ButtonModel",
      "state": {
       "description": "Samples per seconds [Hz]",
       "disabled": true,
       "layout": "IPY_MODEL_8aaef3ada23547478b085aa1ddd428be",
       "style": "IPY_MODEL_0cdb9ee7c0da4536b4e917c1da5235cc"
      }
     },
     "a8a715727daa4b9481a0d006b9ff2d4e": {
      "model_module": "@jupyter-widgets/base",
      "model_module_version": "1.2.0",
      "model_name": "LayoutModel",
      "state": {
       "height": "28px",
       "min_height": "28px",
       "min_width": "400px",
       "width": "400px"
      }
     },
     "a8c965857a2a403e840999e1a892fd8c": {
      "model_module": "@jupyter-widgets/base",
      "model_module_version": "1.2.0",
      "model_name": "LayoutModel",
      "state": {
       "height": "28px",
       "min_height": "28px",
       "min_width": "400px",
       "width": "400px"
      }
     },
     "a8da650315c24bc18b7738cbe2525266": {
      "model_module": "@jupyter-widgets/base",
      "model_module_version": "1.2.0",
      "model_name": "LayoutModel",
      "state": {}
     },
     "a8f044b8fc1e4bc5a75711193be3c1b3": {
      "model_module": "@jupyter-widgets/controls",
      "model_module_version": "1.5.0",
      "model_name": "SliderStyleModel",
      "state": {
       "description_width": ""
      }
     },
     "a8ff19ea70a24642a326cf58eea9fd91": {
      "model_module": "@jupyter-widgets/base",
      "model_module_version": "1.2.0",
      "model_name": "LayoutModel",
      "state": {
       "min_width": "50px",
       "width": "50px"
      }
     },
     "a93a2c04d25f4cf1889ff96428d1e017": {
      "model_module": "@jupyter-widgets/controls",
      "model_module_version": "1.5.0",
      "model_name": "VBoxModel",
      "state": {
       "children": [
        "IPY_MODEL_d53cd0ab8abf4154ae52c5c2342b9fc2",
        "IPY_MODEL_f4e7927c9c274a9492c2c259819f3b16",
        "IPY_MODEL_5567b61edc3e4c52832fde9b5e563d41",
        "IPY_MODEL_1ac274e984ab4cd39765c42d7f1a5340",
        "IPY_MODEL_ec4237215336413f90a26f7fa6e1984f",
        "IPY_MODEL_569b9e6d01474775bc3ac115fdaa0d03"
       ],
       "layout": "IPY_MODEL_a93e6587064144e89f7fc6439cda47ea"
      }
     },
     "a93e6587064144e89f7fc6439cda47ea": {
      "model_module": "@jupyter-widgets/base",
      "model_module_version": "1.2.0",
      "model_name": "LayoutModel",
      "state": {}
     },
     "a9e7758f4f1e45da8c3ea0f1f283207f": {
      "model_module": "@jupyter-widgets/controls",
      "model_module_version": "1.5.0",
      "model_name": "DescriptionStyleModel",
      "state": {
       "description_width": "initial"
      }
     },
     "a9fe941b1c52441297b65d9b695a3486": {
      "model_module": "@jupyter-widgets/base",
      "model_module_version": "1.2.0",
      "model_name": "LayoutModel",
      "state": {
       "height": "28px",
       "min_height": "28px",
       "min_width": "400px",
       "width": "400px"
      }
     },
     "a9ff660af8434adfb8b0493909d926bd": {
      "model_module": "@jupyter-widgets/controls",
      "model_module_version": "1.5.0",
      "model_name": "ButtonStyleModel",
      "state": {}
     },
     "aa816f774432423ca2f0c4a0381a87c0": {
      "model_module": "@jupyter-widgets/controls",
      "model_module_version": "1.5.0",
      "model_name": "DescriptionStyleModel",
      "state": {
       "description_width": ""
      }
     },
     "aaae7b5055c74800bd7c9c5a9223c4a5": {
      "model_module": "@jupyter-widgets/base",
      "model_module_version": "1.2.0",
      "model_name": "LayoutModel",
      "state": {
       "width": "auto"
      }
     },
     "aab41b1abcf348aeaec12e21bb711467": {
      "model_module": "@jupyter-widgets/base",
      "model_module_version": "1.2.0",
      "model_name": "LayoutModel",
      "state": {
       "min_width": "50px",
       "width": "50px"
      }
     },
     "aadd9c698cc94e8bb4fd9880cf95be2b": {
      "model_module": "@jupyter-widgets/base",
      "model_module_version": "1.2.0",
      "model_name": "LayoutModel",
      "state": {}
     },
     "aaef9db6db834d2b83daeb0666ce3417": {
      "model_module": "@jupyter-widgets/base",
      "model_module_version": "1.2.0",
      "model_name": "LayoutModel",
      "state": {}
     },
     "ab01733bda09461ca1fc45133c3a3b98": {
      "model_module": "@jupyter-widgets/controls",
      "model_module_version": "1.5.0",
      "model_name": "HBoxModel",
      "state": {
       "children": [
        "IPY_MODEL_eb5b5466e5b44096a1329bc37b67b649",
        "IPY_MODEL_5a65d403e60f463fb543a4a31cc0d2c8"
       ],
       "layout": "IPY_MODEL_447cfbee24914f9e843d3c49a9f1cc16"
      }
     },
     "ab1c2d32a05749abaca31fcbdd35e0ff": {
      "model_module": "@jupyter-widgets/controls",
      "model_module_version": "1.5.0",
      "model_name": "DescriptionStyleModel",
      "state": {
       "description_width": ""
      }
     },
     "ab46fa9f04dc4a98b86d514a289d3c6a": {
      "model_module": "@jupyter-widgets/base",
      "model_module_version": "1.2.0",
      "model_name": "LayoutModel",
      "state": {}
     },
     "ab6c4f46f1af43a58d85d97520615b85": {
      "model_module": "@jupyter-widgets/controls",
      "model_module_version": "1.5.0",
      "model_name": "DescriptionStyleModel",
      "state": {
       "description_width": "initial"
      }
     },
     "abc73dc4ecfd408ab94e0bfa90ff3042": {
      "model_module": "@jupyter-widgets/controls",
      "model_module_version": "1.5.0",
      "model_name": "TextModel",
      "state": {
       "layout": "IPY_MODEL_4add2385a5f94ea7ba821ac1bd000b26",
       "placeholder": "Amplitude (0 < x < 1)",
       "style": "IPY_MODEL_bcb76590e46343a7a35e3c3df7f4edb2",
       "value": "1"
      }
     },
     "abd06e35ba7c47d297d8b2a1ed042713": {
      "model_module": "@jupyter-widgets/controls",
      "model_module_version": "1.5.0",
      "model_name": "ButtonStyleModel",
      "state": {}
     },
     "ac326e1be7de49df9b38fd7bdd30cb52": {
      "model_module": "@jupyter-widgets/base",
      "model_module_version": "1.2.0",
      "model_name": "LayoutModel",
      "state": {}
     },
     "ac816d3f245e4332bafbcec23e3cf56a": {
      "model_module": "@jupyter-widgets/base",
      "model_module_version": "1.2.0",
      "model_name": "LayoutModel",
      "state": {
       "height": "28px",
       "min_height": "28px",
       "min_width": "400px",
       "width": "400px"
      }
     },
     "ac972f6c9fc3474aa47aeb09f4ff5b98": {
      "model_module": "@jupyter-widgets/controls",
      "model_module_version": "1.5.0",
      "model_name": "ButtonStyleModel",
      "state": {}
     },
     "ac9eb81764a243569f8a72c22bc41b68": {
      "model_module": "@jupyter-widgets/controls",
      "model_module_version": "1.5.0",
      "model_name": "TextModel",
      "state": {
       "layout": "IPY_MODEL_e48e38de6cfc43659d72dcb3bc4fc135",
       "placeholder": "Amplitude (0 < x < 1)",
       "style": "IPY_MODEL_5e35970337b94664877e6c58a9804fb2",
       "value": "1"
      }
     },
     "ad0bbeab50d94ebd90e0c6cba37e24f3": {
      "model_module": "@jupyter-widgets/controls",
      "model_module_version": "1.5.0",
      "model_name": "ButtonModel",
      "state": {
       "description": "Padd signal for FFT calculation",
       "disabled": true,
       "layout": "IPY_MODEL_be6185890db54bb3b0a94f0d843b4f65",
       "style": "IPY_MODEL_fcb4b1a8782c4069857e313c0a8a3a89"
      }
     },
     "ad3f0f51479144fdb1582cf4ae961664": {
      "model_module": "@jupyter-widgets/base",
      "model_module_version": "1.2.0",
      "model_name": "LayoutModel",
      "state": {}
     },
     "ad63a26439714617a0e8f1288eb71142": {
      "model_module": "@jupyter-widgets/base",
      "model_module_version": "1.2.0",
      "model_name": "LayoutModel",
      "state": {}
     },
     "adc2261583ba4311949fbb5c3422937d": {
      "model_module": "@jupyter-widgets/base",
      "model_module_version": "1.2.0",
      "model_name": "LayoutModel",
      "state": {
       "min_width": "50px",
       "width": "50px"
      }
     },
     "addacc53d3c44933b08f8d6e57a82ec6": {
      "model_module": "@jupyter-widgets/controls",
      "model_module_version": "1.5.0",
      "model_name": "VBoxModel",
      "state": {
       "children": [
        "IPY_MODEL_33a50d6c7f7e43aba032605a3556b12c",
        "IPY_MODEL_37bd552dac7f49d0aba9ae7424352f36"
       ],
       "layout": "IPY_MODEL_a71542669f924665a25320f0ddd1ca49"
      }
     },
     "ade62d029bfe4db6b008a918e468d78f": {
      "model_module": "@jupyter-widgets/controls",
      "model_module_version": "1.5.0",
      "model_name": "ButtonModel",
      "state": {
       "description": "Samples per seconds [Hz]",
       "disabled": true,
       "layout": "IPY_MODEL_79b6871ff778463fa3375507147d841f",
       "style": "IPY_MODEL_31b30fa6e5b147699e3987ef489cac64"
      }
     },
     "adf3bc74465d498aa8921dfaffa9911b": {
      "model_module": "@jupyter-widgets/controls",
      "model_module_version": "1.5.0",
      "model_name": "DescriptionStyleModel",
      "state": {
       "description_width": "initial"
      }
     },
     "ae1a1155cc3843a28503176ea209d704": {
      "model_module": "@jupyter-widgets/base",
      "model_module_version": "1.2.0",
      "model_name": "LayoutModel",
      "state": {}
     },
     "ae808f7fb0fb42a3b327df9063bb0a19": {
      "model_module": "@jupyter-widgets/controls",
      "model_module_version": "1.5.0",
      "model_name": "ButtonModel",
      "state": {
       "description": "Amplitude of added noise",
       "disabled": true,
       "layout": "IPY_MODEL_4f46d2d0889d4b04b5c02caebc005aa6",
       "style": "IPY_MODEL_489e284d76644409a4800757fa19638a"
      }
     },
     "ae8e116dbc41496ab723cb9c9301736d": {
      "model_module": "@jupyter-widgets/controls",
      "model_module_version": "1.5.0",
      "model_name": "ButtonModel",
      "state": {
       "description": "Signal length [seconds]",
       "disabled": true,
       "layout": "IPY_MODEL_45373415ca484df6b2265b93200ee7c5",
       "style": "IPY_MODEL_f40530fe87bb4710a2e9b9fa3da111ca"
      }
     },
     "ae91ffa316544ced83b03ea9faba5d73": {
      "model_module": "@jupyter-widgets/controls",
      "model_module_version": "1.5.0",
      "model_name": "ButtonModel",
      "state": {
       "description": "Signal length [seconds]",
       "disabled": true,
       "layout": "IPY_MODEL_88233dd2f3ff4dbead63fe13c3325443",
       "style": "IPY_MODEL_1c07e6cd56f7494082e741824c11c333"
      }
     },
     "ae9e1eefcc6d41ca8d415efb42e430d5": {
      "model_module": "@jupyter-widgets/controls",
      "model_module_version": "1.5.0",
      "model_name": "LabelModel",
      "state": {
       "layout": "IPY_MODEL_7e69a0b02f414e48b15f6cbb964bc8bd",
       "style": "IPY_MODEL_9d632a2687e748c2b76c5b6c446fea10",
       "value": "Fundamental frequency from FFT = [50.00, 70.00] [Hz]"
      }
     },
     "aeb9def544eb43289905c5bf9f8a603c": {
      "model_module": "@jupyter-widgets/base",
      "model_module_version": "1.2.0",
      "model_name": "LayoutModel",
      "state": {}
     },
     "aec74326c58f4778b9a8377ff988316e": {
      "model_module": "@jupyter-widgets/base",
      "model_module_version": "1.2.0",
      "model_name": "LayoutModel",
      "state": {
       "min_width": "50px",
       "width": "50px"
      }
     },
     "aec8249ff5ec43d6adcaca270ee7c363": {
      "model_module": "@jupyter-widgets/controls",
      "model_module_version": "1.5.0",
      "model_name": "ButtonModel",
      "state": {
       "description": "Amplitude of added noise",
       "disabled": true,
       "layout": "IPY_MODEL_526a045e796b47799b0220586295457b",
       "style": "IPY_MODEL_b97616dce8ac4cc2b05f8e22749d91d5"
      }
     },
     "aed263a374084566a689c83ad0e6d4f0": {
      "model_module": "@jupyter-widgets/base",
      "model_module_version": "1.2.0",
      "model_name": "LayoutModel",
      "state": {
       "min_width": "50px",
       "width": "50px"
      }
     },
     "aed853cb35e4472b9c71d6885dd0415f": {
      "model_module": "@jupyter-widgets/controls",
      "model_module_version": "1.5.0",
      "model_name": "HBoxModel",
      "state": {
       "children": [
        "IPY_MODEL_baf6337da75b4572a543b4e2d3cf84a9",
        "IPY_MODEL_efa6fd8cf4804f5898ecb464548992e3"
       ],
       "layout": "IPY_MODEL_c3acfee501404c818bde3c1465f77055"
      }
     },
     "af203412150e4881be9e2a7afdc79135": {
      "model_module": "@jupyter-widgets/controls",
      "model_module_version": "1.5.0",
      "model_name": "TextModel",
      "state": {
       "layout": "IPY_MODEL_26d18497a41b4bee8d886eb13bb7dbc1",
       "placeholder": "Additive noise",
       "style": "IPY_MODEL_680d36cf1284453d90d8ea5907fd34c5",
       "value": "0"
      }
     },
     "afb608f79ed04dcc8a3d32cd000c39d3": {
      "model_module": "@jupyter-widgets/controls",
      "model_module_version": "1.5.0",
      "model_name": "ButtonStyleModel",
      "state": {}
     },
     "afd0e8d1e8d14bcea7361a9a92b3023e": {
      "model_module": "@jupyter-widgets/controls",
      "model_module_version": "1.5.0",
      "model_name": "TextModel",
      "state": {
       "layout": "IPY_MODEL_2dda276329194a19a3542b8405eb84cc",
       "placeholder": "Amplitude (0 < x < 1)",
       "style": "IPY_MODEL_07efad0e48e14da1842443e311c2f303",
       "value": "1"
      }
     },
     "afd9d7c77846422e86282258899b042d": {
      "model_module": "@jupyter-widgets/controls",
      "model_module_version": "1.5.0",
      "model_name": "LabelModel",
      "state": {
       "layout": "IPY_MODEL_65e503388eb3421699588a5399a2f3ca",
       "style": "IPY_MODEL_c3b7339fc9104bb686cc49979bd8d1bd",
       "value": "Amplitude spectrum = [1.00, 0.00] [V]]"
      }
     },
     "afe037b56f6a4544b491872fc9442996": {
      "model_module": "@jupyter-widgets/controls",
      "model_module_version": "1.5.0",
      "model_name": "ButtonStyleModel",
      "state": {}
     },
     "b0f3085193b743be8ce697c9d3b037ef": {
      "model_module": "@jupyter-widgets/controls",
      "model_module_version": "1.5.0",
      "model_name": "ButtonModel",
      "state": {
       "description": "Samples per seconds [Hz]",
       "disabled": true,
       "layout": "IPY_MODEL_77b67a81bcf1477b92607344d804b7c6",
       "style": "IPY_MODEL_c3b8d61c13324bb89b08ab8d46dc2d0a"
      }
     },
     "b10e42d9081640a5bc7032529e437e6e": {
      "model_module": "@jupyter-widgets/base",
      "model_module_version": "1.2.0",
      "model_name": "LayoutModel",
      "state": {}
     },
     "b18107ca1fc84ac38d6428a892b44fe1": {
      "model_module": "@jupyter-widgets/controls",
      "model_module_version": "1.5.0",
      "model_name": "ButtonStyleModel",
      "state": {}
     },
     "b187f7039e8641a385b24766c639d37e": {
      "model_module": "@jupyter-widgets/base",
      "model_module_version": "1.2.0",
      "model_name": "LayoutModel",
      "state": {}
     },
     "b1c9d5bcf4af4a0bb313f08e8a9c4896": {
      "model_module": "@jupyter-widgets/base",
      "model_module_version": "1.2.0",
      "model_name": "LayoutModel",
      "state": {
       "height": "28px",
       "min_height": "28px",
       "min_width": "400px",
       "width": "400px"
      }
     },
     "b1f823d0dc5f4e57b596a01ed121bd84": {
      "model_module": "@jupyter-widgets/base",
      "model_module_version": "1.2.0",
      "model_name": "LayoutModel",
      "state": {}
     },
     "b259029fae2e4326ab670a12c4a2309c": {
      "model_module": "@jupyter-widgets/controls",
      "model_module_version": "1.5.0",
      "model_name": "DescriptionStyleModel",
      "state": {
       "description_width": ""
      }
     },
     "b2ed0460afe04fde8fd90dcc78ecaef5": {
      "model_module": "@jupyter-widgets/controls",
      "model_module_version": "1.5.0",
      "model_name": "ButtonModel",
      "state": {
       "description": "Amplitude of added noise",
       "disabled": true,
       "layout": "IPY_MODEL_702da1870318420e8364745539f089e7",
       "style": "IPY_MODEL_e2f5f4d679de4e32bb6c3c19781d0150"
      }
     },
     "b3116d26c1b145679d64d57c872cf2d7": {
      "model_module": "@jupyter-widgets/base",
      "model_module_version": "1.2.0",
      "model_name": "LayoutModel",
      "state": {}
     },
     "b31d8058d4cd4294a0c51aff662b1d78": {
      "model_module": "@jupyter-widgets/controls",
      "model_module_version": "1.5.0",
      "model_name": "HBoxModel",
      "state": {
       "children": [
        "IPY_MODEL_a87e8af3abcc436e84e9c7ea78cd3358",
        "IPY_MODEL_69478b4d8a8c44d595b00e2e77a177d7"
       ],
       "layout": "IPY_MODEL_189bac9bbe2d4230a4e738831b48f095"
      }
     },
     "b3fa7125e9834748b1c5bfc23579345d": {
      "model_module": "@jupyter-widgets/controls",
      "model_module_version": "1.5.0",
      "model_name": "ButtonStyleModel",
      "state": {}
     },
     "b412b6ce50e74f95ac33f887f3bd4616": {
      "model_module": "@jupyter-widgets/controls",
      "model_module_version": "1.5.0",
      "model_name": "HBoxModel",
      "state": {
       "children": [
        "IPY_MODEL_7ee83997d0724316928c3eb00a149e02",
        "IPY_MODEL_07cb9c4846134d80ba3e43f9f7375748"
       ],
       "layout": "IPY_MODEL_26b386d2ccbe40eebbefb4dbc612db0c"
      }
     },
     "b48194f08a594c67a268f8bdba7cb5d0": {
      "model_module": "@jupyter-widgets/base",
      "model_module_version": "1.2.0",
      "model_name": "LayoutModel",
      "state": {
       "height": "28px",
       "min_height": "28px",
       "min_width": "400px",
       "width": "400px"
      }
     },
     "b4d02d1ffbe0477289392041fcd373c4": {
      "model_module": "@jupyter-widgets/controls",
      "model_module_version": "1.5.0",
      "model_name": "LabelModel",
      "state": {
       "layout": "IPY_MODEL_30399ca28186406590f95dfd2f9d65d0",
       "style": "IPY_MODEL_66f22714776147b7aee5c6e9ede10593",
       "value": "Fundamental frequency from FFT = [48.83, 50.78] [Hz]"
      }
     },
     "b4fb5d9ca7164f339b31bc4fce6ba482": {
      "model_module": "@jupyter-widgets/controls",
      "model_module_version": "1.5.0",
      "model_name": "ButtonStyleModel",
      "state": {}
     },
     "b604eddc83494a81a9fb82c731387656": {
      "model_module": "@jupyter-widgets/controls",
      "model_module_version": "1.5.0",
      "model_name": "LabelModel",
      "state": {
       "layout": "IPY_MODEL_7c51f00c9cfa48dc9e7fe992d1a2cb74",
       "style": "IPY_MODEL_86019d3cfd334e3c945a016b4391a096",
       "value": "Fundamental frequency from FFT = [50.78, 48.83] [Hz]"
      }
     },
     "b60b8ada33bc462eb0d7bc7a2c93824b": {
      "model_module": "@jupyter-widgets/controls",
      "model_module_version": "1.5.0",
      "model_name": "CheckboxModel",
      "state": {
       "description": "70 Hz",
       "disabled": false,
       "indent": false,
       "layout": "IPY_MODEL_b10e42d9081640a5bc7032529e437e6e",
       "style": "IPY_MODEL_27440cc1b5094eab93f78159d906473f",
       "value": true
      }
     },
     "b61691bc8aa848c98ff09fcfbc30a894": {
      "model_module": "@jupyter-widgets/controls",
      "model_module_version": "1.5.0",
      "model_name": "CheckboxModel",
      "state": {
       "description": "Apply padding",
       "disabled": false,
       "indent": false,
       "layout": "IPY_MODEL_ca435ae1ead3427591731fae7394730d",
       "style": "IPY_MODEL_e1a72bc73ec94e69829cd1f8382643e8",
       "value": false
      }
     },
     "b68c24ed449c4e9f8a3f425beff93e73": {
      "model_module": "@jupyter-widgets/base",
      "model_module_version": "1.2.0",
      "model_name": "LayoutModel",
      "state": {}
     },
     "b6a81a5c92d2425dbefe6917a15b1e07": {
      "model_module": "@jupyter-widgets/controls",
      "model_module_version": "1.5.0",
      "model_name": "DescriptionStyleModel",
      "state": {
       "description_width": ""
      }
     },
     "b6c2d08d9d904d2290e91d6117ffdd90": {
      "model_module": "@jupyter-widgets/controls",
      "model_module_version": "1.5.0",
      "model_name": "HBoxModel",
      "state": {
       "children": [
        "IPY_MODEL_e02c63897a324a7d919bdbbcd1d6a970",
        "IPY_MODEL_ac9eb81764a243569f8a72c22bc41b68",
        "IPY_MODEL_83c6cf4fd5cc458fa0817a01a463701b"
       ],
       "layout": "IPY_MODEL_45c7196fd6ac47c2ac236c53b8b31b19"
      }
     },
     "b6d24e84457246548c687d9003109c23": {
      "model_module": "@jupyter-widgets/controls",
      "model_module_version": "1.5.0",
      "model_name": "VBoxModel",
      "state": {
       "children": [
        "IPY_MODEL_9ef56b46635944beb1be01884041a4f6",
        "IPY_MODEL_b8d90ec80df1404db96ca53b19cf0df0",
        "IPY_MODEL_ab01733bda09461ca1fc45133c3a3b98",
        "IPY_MODEL_3dd10cede73244488565fac474e5f321",
        "IPY_MODEL_9861390998ab488c94e30e091a4d295f",
        "IPY_MODEL_b8453ec9b9e946ab96311151cbc117cc"
       ],
       "layout": "IPY_MODEL_b3116d26c1b145679d64d57c872cf2d7"
      }
     },
     "b6e58b0fbcb94cf19000ccf766e4d00d": {
      "model_module": "@jupyter-widgets/controls",
      "model_module_version": "1.5.0",
      "model_name": "DescriptionStyleModel",
      "state": {
       "description_width": ""
      }
     },
     "b6fdb5d168284922a71632a69ecdd3ca": {
      "model_module": "@jupyter-widgets/controls",
      "model_module_version": "1.5.0",
      "model_name": "DescriptionStyleModel",
      "state": {
       "description_width": ""
      }
     },
     "b796e71831004c0db0a30ef82e8d74f9": {
      "model_module": "@jupyter-widgets/controls",
      "model_module_version": "1.5.0",
      "model_name": "HBoxModel",
      "state": {
       "children": [
        "IPY_MODEL_74e127a0d98a4cc29ad94b5730a641f8",
        "IPY_MODEL_9b360917616047e1aae8b73b9c62179e"
       ],
       "layout": "IPY_MODEL_dc5b9a38fb4441bba5156377c51c1043"
      }
     },
     "b805d177081e4992952453230a3a4187": {
      "model_module": "@jupyter-widgets/base",
      "model_module_version": "1.2.0",
      "model_name": "LayoutModel",
      "state": {
       "height": "28px",
       "min_height": "28px",
       "min_width": "400px",
       "width": "400px"
      }
     },
     "b80b5a43e70a40ddb6c159fbc883b199": {
      "model_module": "@jupyter-widgets/controls",
      "model_module_version": "1.5.0",
      "model_name": "DescriptionStyleModel",
      "state": {
       "description_width": ""
      }
     },
     "b83ba9047290492b8020b2cc2eec3bce": {
      "model_module": "@jupyter-widgets/controls",
      "model_module_version": "1.5.0",
      "model_name": "DescriptionStyleModel",
      "state": {
       "description_width": ""
      }
     },
     "b8453ec9b9e946ab96311151cbc117cc": {
      "model_module": "@jupyter-widgets/controls",
      "model_module_version": "1.5.0",
      "model_name": "ButtonModel",
      "state": {
       "description": "Generate plot",
       "layout": "IPY_MODEL_fd5c25943de841698b2b9b8969587b98",
       "style": "IPY_MODEL_86d13cce8df14207b8eb627caf73a6bb"
      }
     },
     "b8d90ec80df1404db96ca53b19cf0df0": {
      "model_module": "@jupyter-widgets/controls",
      "model_module_version": "1.5.0",
      "model_name": "HBoxModel",
      "state": {
       "children": [
        "IPY_MODEL_d2113da7e985450e8b42c5985e3d489c",
        "IPY_MODEL_d718678b16644543a1414a61bb74ba3e"
       ],
       "layout": "IPY_MODEL_0425accb3c954bc4af3c051cbfebd9cb"
      }
     },
     "b8e1ee621cea438dbfa10999ea1ddbd0": {
      "model_module": "@jupyter-widgets/controls",
      "model_module_version": "1.5.0",
      "model_name": "HBoxModel",
      "state": {
       "children": [
        "IPY_MODEL_4c007e41b9234b458ea802dee4e832fe",
        "IPY_MODEL_854d97cd907c4fb6a70982f54aa430da"
       ],
       "layout": "IPY_MODEL_f89e523986934ac295c5f8ca4f008f46"
      }
     },
     "b926d69b51514866846b05e51b084f7e": {
      "model_module": "@jupyter-widgets/controls",
      "model_module_version": "1.5.0",
      "model_name": "CheckboxModel",
      "state": {
       "description": "50 Hz",
       "disabled": false,
       "indent": false,
       "layout": "IPY_MODEL_938330a09fe84880aea7e0fd6e081be6",
       "style": "IPY_MODEL_e8409eb12dd741d3a47abd89bb2f9964",
       "value": true
      }
     },
     "b94dc73b7b8246b78a0d3dcde9e23502": {
      "model_module": "@jupyter-widgets/controls",
      "model_module_version": "1.5.0",
      "model_name": "ButtonModel",
      "state": {
       "description": "Signal amplitude (0 < x < 1)",
       "disabled": true,
       "layout": "IPY_MODEL_41c6e4f62f5d49acb1f241f6939a2b71",
       "style": "IPY_MODEL_53dfadadfa3f4134a50959421d785012"
      }
     },
     "b97616dce8ac4cc2b05f8e22749d91d5": {
      "model_module": "@jupyter-widgets/controls",
      "model_module_version": "1.5.0",
      "model_name": "ButtonStyleModel",
      "state": {}
     },
     "b98e075f07e942cb9eb36a2c0341ed06": {
      "model_module": "@jupyter-widgets/controls",
      "model_module_version": "1.5.0",
      "model_name": "TextModel",
      "state": {
       "layout": "IPY_MODEL_d966abc56ce841dc93ad0ef04956750b",
       "placeholder": "Additive noise",
       "style": "IPY_MODEL_10c39accdd06497ba004be7d5b1bb83a",
       "value": "0"
      }
     },
     "b9f762aace5341d4a75e4e4596a42e93": {
      "model_module": "@jupyter-widgets/base",
      "model_module_version": "1.2.0",
      "model_name": "LayoutModel",
      "state": {
       "height": "28px",
       "min_height": "28px",
       "min_width": "400px",
       "width": "400px"
      }
     },
     "ba2c7199cf274e9d8086c284cc7bd1d3": {
      "model_module": "@jupyter-widgets/controls",
      "model_module_version": "1.5.0",
      "model_name": "ButtonModel",
      "state": {
       "description": "Signal frequency",
       "disabled": true,
       "layout": "IPY_MODEL_d82178508d2a46088b062f02c0e546ca",
       "style": "IPY_MODEL_ffacb5b2b7974e069999c49b5b73eef2"
      }
     },
     "ba54884f11584ed8abcb94ba36a19188": {
      "model_module": "@jupyter-widgets/controls",
      "model_module_version": "1.5.0",
      "model_name": "TextModel",
      "state": {
       "layout": "IPY_MODEL_4a4f4eec55d446e5ab8657edf4ac60a7",
       "placeholder": "Amplitude (0 < x < 1)",
       "style": "IPY_MODEL_bd53837b71094b81b031c9c21689ea56",
       "value": "1"
      }
     },
     "babb448682bd44aaa7b32f68b51be77a": {
      "model_module": "@jupyter-widgets/controls",
      "model_module_version": "1.5.0",
      "model_name": "ButtonModel",
      "state": {
       "description": "Amplitude of added noise",
       "disabled": true,
       "layout": "IPY_MODEL_03ca3d400bd74795a378acb3b8feca95",
       "style": "IPY_MODEL_57a45d2c8abb49539a883d7f9fabb16a"
      }
     },
     "bae7a0d2160f4e68ab5dcc5e52c3042e": {
      "model_module": "@jupyter-widgets/controls",
      "model_module_version": "1.5.0",
      "model_name": "DescriptionStyleModel",
      "state": {
       "description_width": ""
      }
     },
     "baf6337da75b4572a543b4e2d3cf84a9": {
      "model_module": "@jupyter-widgets/controls",
      "model_module_version": "1.5.0",
      "model_name": "ButtonModel",
      "state": {
       "description": "Padd signal for FFT calculation",
       "disabled": true,
       "layout": "IPY_MODEL_622f74dfe6b745d1b767b5ccc96c3061",
       "style": "IPY_MODEL_587c5061dc014e21b6c1e58ad713305b"
      }
     },
     "bb0d7b93d8b140f1bd10f77de9bd629d": {
      "model_module": "@jupyter-widgets/controls",
      "model_module_version": "1.5.0",
      "model_name": "TextModel",
      "state": {
       "layout": "IPY_MODEL_2b4659cb74bf43888d27d142379fdc33",
       "placeholder": "Amplitude (0 < x < 1)",
       "style": "IPY_MODEL_085585ed9cdc427ea371b83516264cc6",
       "value": "1"
      }
     },
     "bb4cc559f2c44b8794f54276b0e8a87c": {
      "model_module": "@jupyter-widgets/controls",
      "model_module_version": "1.5.0",
      "model_name": "CheckboxModel",
      "state": {
       "description": "50 Hz",
       "disabled": false,
       "indent": false,
       "layout": "IPY_MODEL_23d6ae8dd1c0469faf5f248b8c43575d",
       "style": "IPY_MODEL_13c4acffe3e143e58b77e4f69a91073c",
       "value": true
      }
     },
     "bb82c04262864fb7a61e7373d230f59e": {
      "model_module": "@jupyter-widgets/base",
      "model_module_version": "1.2.0",
      "model_name": "LayoutModel",
      "state": {
       "min_width": "50px",
       "width": "50px"
      }
     },
     "bb841ea201444a5f9d72397e0589e546": {
      "model_module": "@jupyter-widgets/controls",
      "model_module_version": "1.5.0",
      "model_name": "HBoxModel",
      "state": {
       "children": [
        "IPY_MODEL_dc6cb9373f904ae599260c935ac732b8",
        "IPY_MODEL_5d05fd1abd514f92ab2fccc475b9e72c",
        "IPY_MODEL_45800eeb0f764ff39ae1ac0ab5871c75"
       ],
       "layout": "IPY_MODEL_20e8faaa4ee24fd08aceab84a96d8680"
      }
     },
     "bc5b0ba2d9c841e09390d25b24734ce6": {
      "model_module": "@jupyter-widgets/controls",
      "model_module_version": "1.5.0",
      "model_name": "DescriptionStyleModel",
      "state": {
       "description_width": "initial"
      }
     },
     "bc80faca973b42a89d52db1ff86653f3": {
      "model_module": "@jupyter-widgets/controls",
      "model_module_version": "1.5.0",
      "model_name": "ButtonStyleModel",
      "state": {}
     },
     "bca6afcb996746868093745a7c916e17": {
      "model_module": "@jupyter-widgets/base",
      "model_module_version": "1.2.0",
      "model_name": "LayoutModel",
      "state": {}
     },
     "bcb0dc70523a4d92b4eeee460689fd2c": {
      "model_module": "@jupyter-widgets/controls",
      "model_module_version": "1.5.0",
      "model_name": "ButtonModel",
      "state": {
       "description": "Signal length [seconds]",
       "disabled": true,
       "layout": "IPY_MODEL_15c6a8a71f464ba599fd647f6181d81a",
       "style": "IPY_MODEL_5bdd35d8f22d4f7db24e24806627b6b5"
      }
     },
     "bcb76590e46343a7a35e3c3df7f4edb2": {
      "model_module": "@jupyter-widgets/controls",
      "model_module_version": "1.5.0",
      "model_name": "DescriptionStyleModel",
      "state": {
       "description_width": "initial"
      }
     },
     "bcd4e07f22f0437088d77111c86befe5": {
      "model_module": "@jupyter-widgets/base",
      "model_module_version": "1.2.0",
      "model_name": "LayoutModel",
      "state": {
       "min_width": "50px",
       "width": "50px"
      }
     },
     "bd0b7b551fb24c1da9d20c3c94f2e5a6": {
      "model_module": "@jupyter-widgets/controls",
      "model_module_version": "1.5.0",
      "model_name": "HBoxModel",
      "state": {
       "children": [
        "IPY_MODEL_ba2c7199cf274e9d8086c284cc7bd1d3",
        "IPY_MODEL_db5281b3767848869651b2ba3bcc9095"
       ],
       "layout": "IPY_MODEL_419754047e584d89b1cdc240c98a1e98"
      }
     },
     "bd53837b71094b81b031c9c21689ea56": {
      "model_module": "@jupyter-widgets/controls",
      "model_module_version": "1.5.0",
      "model_name": "DescriptionStyleModel",
      "state": {
       "description_width": "initial"
      }
     },
     "bd69bcc747044d20865e1b0d17ff4138": {
      "model_module": "@jupyter-widgets/base",
      "model_module_version": "1.2.0",
      "model_name": "LayoutModel",
      "state": {
       "min_width": "50px",
       "width": "50px"
      }
     },
     "bd973ecda4994aed863c182758791ae0": {
      "model_module": "@jupyter-widgets/base",
      "model_module_version": "1.2.0",
      "model_name": "LayoutModel",
      "state": {
       "height": "28px",
       "min_height": "28px",
       "min_width": "400px",
       "width": "400px"
      }
     },
     "bdc78dff37af492bb6b11bd8ab17faa6": {
      "model_module": "@jupyter-widgets/controls",
      "model_module_version": "1.5.0",
      "model_name": "HBoxModel",
      "state": {
       "children": [
        "IPY_MODEL_a810173c4c4141c099d9814e3ab4a069",
        "IPY_MODEL_6cc2a06046c84878bac49fe7448eba39"
       ],
       "layout": "IPY_MODEL_fbcb06c8e84c400fb65c13965a2c1177"
      }
     },
     "be06f599ab5b49258bf9a3034c25c9a9": {
      "model_module": "@jupyter-widgets/base",
      "model_module_version": "1.2.0",
      "model_name": "LayoutModel",
      "state": {}
     },
     "be167bdf64c34f6da08324109ad645b0": {
      "model_module": "@jupyter-widgets/controls",
      "model_module_version": "1.5.0",
      "model_name": "VBoxModel",
      "state": {
       "children": [
        "IPY_MODEL_24c9503fa36d4699846dd3b25f7318ff",
        "IPY_MODEL_e5d394c39e494115a8bdcbfc98179fa6"
       ],
       "layout": "IPY_MODEL_5a2bf0d140374b3da2288f8f6978371c"
      }
     },
     "be56f046447e4231b51b59e7f84d8911": {
      "model_module": "@jupyter-widgets/base",
      "model_module_version": "1.2.0",
      "model_name": "LayoutModel",
      "state": {
       "height": "28px",
       "min_height": "28px",
       "min_width": "400px",
       "width": "400px"
      }
     },
     "be6185890db54bb3b0a94f0d843b4f65": {
      "model_module": "@jupyter-widgets/base",
      "model_module_version": "1.2.0",
      "model_name": "LayoutModel",
      "state": {
       "height": "28px",
       "min_height": "28px",
       "min_width": "400px",
       "width": "400px"
      }
     },
     "beb6c51b6ca84b838214a61798fdef7c": {
      "model_module": "@jupyter-widgets/controls",
      "model_module_version": "1.5.0",
      "model_name": "ButtonModel",
      "state": {
       "description": "Signal amplitude (0 < x < 1)",
       "disabled": true,
       "layout": "IPY_MODEL_be56f046447e4231b51b59e7f84d8911",
       "style": "IPY_MODEL_a2cbdeae8a054a458c63bd594aebc91b"
      }
     },
     "bf1dace47cd7477594e692d61b58e194": {
      "model_module": "@jupyter-widgets/controls",
      "model_module_version": "1.5.0",
      "model_name": "TextModel",
      "state": {
       "layout": "IPY_MODEL_32f236e3bd0c48a896bab5a1ffcc3cb2",
       "placeholder": "Amplitude (0 < x < 1)",
       "style": "IPY_MODEL_344b4f327b474f788890485cdddd11b6",
       "value": "1"
      }
     },
     "bf36b6bff16546fc93bca326c3a5882e": {
      "model_module": "@jupyter-widgets/controls",
      "model_module_version": "1.5.0",
      "model_name": "CheckboxModel",
      "state": {
       "description": "70 Hz",
       "disabled": false,
       "indent": false,
       "layout": "IPY_MODEL_6f93dc6733eb400a9348707b1b2c27a9",
       "style": "IPY_MODEL_b83ba9047290492b8020b2cc2eec3bce",
       "value": false
      }
     },
     "bf6a59e51f85439d9e716169fd461cd3": {
      "model_module": "@jupyter-widgets/controls",
      "model_module_version": "1.5.0",
      "model_name": "TextModel",
      "state": {
       "layout": "IPY_MODEL_2a249d84e8874353a033017c3e7070d9",
       "placeholder": "Additive noise",
       "style": "IPY_MODEL_d69f0bea808c41b9b1dd1eae8f927a80",
       "value": "0"
      }
     },
     "bf6ed718900545f384301e3c8726a13d": {
      "model_module": "@jupyter-widgets/controls",
      "model_module_version": "1.5.0",
      "model_name": "ButtonStyleModel",
      "state": {}
     },
     "bfc6658616b841ab82d624e4caf525be": {
      "model_module": "@jupyter-widgets/controls",
      "model_module_version": "1.5.0",
      "model_name": "CheckboxModel",
      "state": {
       "description": "Apply padding",
       "disabled": false,
       "indent": false,
       "layout": "IPY_MODEL_577f353adba74562adc41f3cc3acbb22",
       "style": "IPY_MODEL_8061b0ff4fa44a46bfe3d6a0f9a6258f",
       "value": false
      }
     },
     "bfd39589cc934388a8990b3721aab529": {
      "model_module": "@jupyter-widgets/controls",
      "model_module_version": "1.5.0",
      "model_name": "TextModel",
      "state": {
       "layout": "IPY_MODEL_387d686942b2420bb4edf804813f3bb8",
       "placeholder": "Additive noise",
       "style": "IPY_MODEL_247554b2e96847769094f7a58dc0abd1",
       "value": "0"
      }
     },
     "c006cbe669da4be787242058927836cd": {
      "model_module": "@jupyter-widgets/base",
      "model_module_version": "1.2.0",
      "model_name": "LayoutModel",
      "state": {}
     },
     "c0075e83b8034d44ada234fdbf440235": {
      "model_module": "@jupyter-widgets/controls",
      "model_module_version": "1.5.0",
      "model_name": "TextModel",
      "state": {
       "layout": "IPY_MODEL_aec74326c58f4778b9a8377ff988316e",
       "placeholder": "Additive noise",
       "style": "IPY_MODEL_d5034e1763e545c08db3ef9a5f902d4d",
       "value": "0.2"
      }
     },
     "c03aa06e12de4d399df3cce577eb266e": {
      "model_module": "@jupyter-widgets/base",
      "model_module_version": "1.2.0",
      "model_name": "LayoutModel",
      "state": {}
     },
     "c08d28f7f2bd44b5870369a97ed61f6a": {
      "model_module": "@jupyter-widgets/controls",
      "model_module_version": "1.5.0",
      "model_name": "ButtonStyleModel",
      "state": {}
     },
     "c0d716f207164ae1978b7255d3bf6d9c": {
      "model_module": "@jupyter-widgets/controls",
      "model_module_version": "1.5.0",
      "model_name": "DescriptionStyleModel",
      "state": {
       "description_width": "initial"
      }
     },
     "c11bda8811c84635850c6a61fea8981e": {
      "model_module": "@jupyter-widgets/controls",
      "model_module_version": "1.5.0",
      "model_name": "LabelModel",
      "state": {
       "layout": "IPY_MODEL_1a2097342b674d9cb14a16a6ea1260eb",
       "style": "IPY_MODEL_b6a81a5c92d2425dbefe6917a15b1e07",
       "value": "Amplitude spectrum = [1.00, 0.00] [V]]"
      }
     },
     "c1315743a2ae47399f12ef806a7593e8": {
      "model_module": "@jupyter-widgets/controls",
      "model_module_version": "1.5.0",
      "model_name": "LabelModel",
      "state": {
       "layout": "IPY_MODEL_249e9f5371054becaf16e1c792f312ff",
       "style": "IPY_MODEL_5a1aebd8c47440288a05bab5dddfe53a",
       "value": "Signal = generateSine(1000, [50.0], amplitude=[1.0], time=0.3, noise=0.0)"
      }
     },
     "c16b86c508b8482295b4e6de0bd492d0": {
      "model_module": "@jupyter-widgets/controls",
      "model_module_version": "1.5.0",
      "model_name": "DescriptionStyleModel",
      "state": {
       "description_width": ""
      }
     },
     "c171dbc5888d4f3fb1b8fb8e379189fc": {
      "model_module": "@jupyter-widgets/controls",
      "model_module_version": "1.5.0",
      "model_name": "ButtonStyleModel",
      "state": {}
     },
     "c1742d5298ba46adb661c1ba0031dc26": {
      "model_module": "@jupyter-widgets/controls",
      "model_module_version": "1.5.0",
      "model_name": "HBoxModel",
      "state": {
       "children": [
        "IPY_MODEL_7069c3897c8e44ea80d0debdc922e5b7",
        "IPY_MODEL_addacc53d3c44933b08f8d6e57a82ec6"
       ],
       "layout": "IPY_MODEL_8a2f7ebb1a1047498ef78556fc495810"
      }
     },
     "c18a62da1f114673895ede01d313f569": {
      "model_module": "@jupyter-widgets/base",
      "model_module_version": "1.2.0",
      "model_name": "LayoutModel",
      "state": {
       "height": "28px",
       "min_height": "28px",
       "min_width": "400px",
       "width": "400px"
      }
     },
     "c1ae5bc3c25f4cf6b50427b8343160ce": {
      "model_module": "@jupyter-widgets/base",
      "model_module_version": "1.2.0",
      "model_name": "LayoutModel",
      "state": {
       "min_width": "50px",
       "width": "50px"
      }
     },
     "c2b1b0126ef345a3ad15649c1244199b": {
      "model_module": "@jupyter-widgets/base",
      "model_module_version": "1.2.0",
      "model_name": "LayoutModel",
      "state": {
       "width": "auto"
      }
     },
     "c2d97cf24ffe4d7aaa460fea8e384dde": {
      "model_module": "@jupyter-widgets/base",
      "model_module_version": "1.2.0",
      "model_name": "LayoutModel",
      "state": {
       "height": "28px",
       "min_height": "28px",
       "min_width": "400px",
       "width": "400px"
      }
     },
     "c2e6a1d4f3fd4c2094dac79cdda5de42": {
      "model_module": "@jupyter-widgets/controls",
      "model_module_version": "1.5.0",
      "model_name": "HBoxModel",
      "state": {
       "children": [
        "IPY_MODEL_b60b8ada33bc462eb0d7bc7a2c93824b",
        "IPY_MODEL_c639efc6caec4084adbba4332b9488cf",
        "IPY_MODEL_1a8f9327086a483ab6113f55288dccdf"
       ],
       "layout": "IPY_MODEL_0c1bb92b3dc545c9ac9c15b144db1549"
      }
     },
     "c2f7876519004cce90bb1c98b4659065": {
      "model_module": "@jupyter-widgets/controls",
      "model_module_version": "1.5.0",
      "model_name": "HBoxModel",
      "state": {
       "children": [
        "IPY_MODEL_4e7e220516e14d4892f886364f0f3811",
        "IPY_MODEL_d68a48230cd54925874c24b0e5812a00"
       ],
       "layout": "IPY_MODEL_c8c26643a3194e11bcba0d57771fa13f"
      }
     },
     "c3298db9171e4b89a1844c025d0d75ed": {
      "model_module": "@jupyter-widgets/controls",
      "model_module_version": "1.5.0",
      "model_name": "TextModel",
      "state": {
       "layout": "IPY_MODEL_aed263a374084566a689c83ad0e6d4f0",
       "placeholder": "Amplitude (0 < x < 1)",
       "style": "IPY_MODEL_c4df343622f64914af89f2227aa72c40",
       "value": "1"
      }
     },
     "c33e10bac27c4a09a1d5062255d20bb5": {
      "model_module": "@jupyter-widgets/controls",
      "model_module_version": "1.5.0",
      "model_name": "ButtonStyleModel",
      "state": {}
     },
     "c33e6dfa1e16416ca89b40e87702b8ad": {
      "model_module": "@jupyter-widgets/controls",
      "model_module_version": "1.5.0",
      "model_name": "DescriptionStyleModel",
      "state": {
       "description_width": ""
      }
     },
     "c34880622224404fae4f5a3ad6296adb": {
      "model_module": "@jupyter-widgets/controls",
      "model_module_version": "1.5.0",
      "model_name": "ButtonModel",
      "state": {
       "description": "Amplitude of added noise",
       "disabled": true,
       "layout": "IPY_MODEL_9a1a8340a7f4488b9346b87f3473a8f6",
       "style": "IPY_MODEL_f94c0a7a43e8406cbb7ac2173b2cd0ac"
      }
     },
     "c349a4105d72464dabd00a2b6df8af2c": {
      "model_module": "@jupyter-widgets/controls",
      "model_module_version": "1.5.0",
      "model_name": "ButtonStyleModel",
      "state": {}
     },
     "c378800113574070bd3e23f35d2e69c2": {
      "model_module": "@jupyter-widgets/controls",
      "model_module_version": "1.5.0",
      "model_name": "DescriptionStyleModel",
      "state": {
       "description_width": ""
      }
     },
     "c378a12f918c485ca65fb957c7befb26": {
      "model_module": "@jupyter-widgets/controls",
      "model_module_version": "1.5.0",
      "model_name": "ButtonModel",
      "state": {
       "description": "Generate plot",
       "layout": "IPY_MODEL_778e83e6a52d4afcbc9d3708ec0687b9",
       "style": "IPY_MODEL_94465503e7b449a4906155cf54a0f82e"
      }
     },
     "c3acfee501404c818bde3c1465f77055": {
      "model_module": "@jupyter-widgets/base",
      "model_module_version": "1.2.0",
      "model_name": "LayoutModel",
      "state": {}
     },
     "c3b7339fc9104bb686cc49979bd8d1bd": {
      "model_module": "@jupyter-widgets/controls",
      "model_module_version": "1.5.0",
      "model_name": "DescriptionStyleModel",
      "state": {
       "description_width": ""
      }
     },
     "c3b8d61c13324bb89b08ab8d46dc2d0a": {
      "model_module": "@jupyter-widgets/controls",
      "model_module_version": "1.5.0",
      "model_name": "ButtonStyleModel",
      "state": {}
     },
     "c445ae77f5a248b58b52fec2f7780754": {
      "model_module": "@jupyter-widgets/controls",
      "model_module_version": "1.5.0",
      "model_name": "DescriptionStyleModel",
      "state": {
       "description_width": ""
      }
     },
     "c4829baec6af4e70a170ad71ebc57679": {
      "model_module": "@jupyter-widgets/controls",
      "model_module_version": "1.5.0",
      "model_name": "DescriptionStyleModel",
      "state": {
       "description_width": "initial"
      }
     },
     "c48d3f6f4f894c028b76c79e1fab573b": {
      "model_module": "@jupyter-widgets/controls",
      "model_module_version": "1.5.0",
      "model_name": "ButtonStyleModel",
      "state": {}
     },
     "c4ba925e1121459fa28848e8279b87e6": {
      "model_module": "@jupyter-widgets/controls",
      "model_module_version": "1.5.0",
      "model_name": "LabelModel",
      "state": {
       "layout": "IPY_MODEL_67e8cbd3c9eb4887b37d745dc87a83d7",
       "style": "IPY_MODEL_e8f0f0b4a6d943529325d5693de3aa48",
       "value": "Amplitude spectrum = [0.87, 0.76] [V]]"
      }
     },
     "c4df343622f64914af89f2227aa72c40": {
      "model_module": "@jupyter-widgets/controls",
      "model_module_version": "1.5.0",
      "model_name": "DescriptionStyleModel",
      "state": {
       "description_width": "initial"
      }
     },
     "c5a7e2f7c733443e95ccf5076bfd13ff": {
      "model_module": "@jupyter-widgets/controls",
      "model_module_version": "1.5.0",
      "model_name": "DescriptionStyleModel",
      "state": {
       "description_width": ""
      }
     },
     "c5ffd80bf7644de7b5641fb57301307b": {
      "model_module": "@jupyter-widgets/base",
      "model_module_version": "1.2.0",
      "model_name": "LayoutModel",
      "state": {}
     },
     "c639efc6caec4084adbba4332b9488cf": {
      "model_module": "@jupyter-widgets/controls",
      "model_module_version": "1.5.0",
      "model_name": "TextModel",
      "state": {
       "layout": "IPY_MODEL_4a65928ae81b4406907f2d5493a1c047",
       "placeholder": "Amplitude (0 < x < 1)",
       "style": "IPY_MODEL_ab6c4f46f1af43a58d85d97520615b85",
       "value": "0.3"
      }
     },
     "c666dad1a2cc45e89f0d8100bdd2f7ad": {
      "model_module": "@jupyter-widgets/controls",
      "model_module_version": "1.5.0",
      "model_name": "TextModel",
      "state": {
       "layout": "IPY_MODEL_2a83424515f94033864199a0382cf366",
       "placeholder": "Additive noise",
       "style": "IPY_MODEL_6cf0bbe033414daca878f4f962471973",
       "value": "0"
      }
     },
     "c669def315e8492682e69628c8299c42": {
      "model_module": "@jupyter-widgets/base",
      "model_module_version": "1.2.0",
      "model_name": "LayoutModel",
      "state": {}
     },
     "c6974939fe99414c988975cad93dc023": {
      "model_module": "@jupyter-widgets/controls",
      "model_module_version": "1.5.0",
      "model_name": "HBoxModel",
      "state": {
       "children": [
        "IPY_MODEL_256f032de61b41ecb5ae5146454257e4",
        "IPY_MODEL_1b81721dfe9b4108a3d8b96f353227b1",
        "IPY_MODEL_beb6c51b6ca84b838214a61798fdef7c"
       ],
       "layout": "IPY_MODEL_14bfa6b178c14358afd4a19340fde277"
      }
     },
     "c6b47d0da075474f83fb51c3ce5131a5": {
      "model_module": "@jupyter-widgets/base",
      "model_module_version": "1.2.0",
      "model_name": "LayoutModel",
      "state": {}
     },
     "c6cb27900a0a443eae86b020fe0831a2": {
      "model_module": "@jupyter-widgets/base",
      "model_module_version": "1.2.0",
      "model_name": "LayoutModel",
      "state": {}
     },
     "c7376a02d311473393f0c9e4118fca59": {
      "model_module": "@jupyter-widgets/base",
      "model_module_version": "1.2.0",
      "model_name": "LayoutModel",
      "state": {
       "height": "28px",
       "min_height": "28px",
       "min_width": "400px",
       "width": "400px"
      }
     },
     "c783a575e5f24a7a8a06e1879544cbfd": {
      "model_module": "@jupyter-widgets/base",
      "model_module_version": "1.2.0",
      "model_name": "LayoutModel",
      "state": {}
     },
     "c784576217744f50bd2270f2c6640b26": {
      "model_module": "@jupyter-widgets/controls",
      "model_module_version": "1.5.0",
      "model_name": "ButtonStyleModel",
      "state": {}
     },
     "c79ab233bf91428d8962296270079342": {
      "model_module": "@jupyter-widgets/controls",
      "model_module_version": "1.5.0",
      "model_name": "IntSliderModel",
      "state": {
       "continuous_update": false,
       "layout": "IPY_MODEL_1cc8ccf893434b5090ec8f596e04ac84",
       "max": 3000,
       "min": 100,
       "step": 10,
       "style": "IPY_MODEL_5898efdc746e4129af88dd02d8bdb0c0",
       "value": 1000
      }
     },
     "c7d9c8759c3a452291fac43a18107515": {
      "model_module": "@jupyter-widgets/controls",
      "model_module_version": "1.5.0",
      "model_name": "HBoxModel",
      "state": {
       "children": [
        "IPY_MODEL_259a32f43a9b449398adcfd4ffd40cb0",
        "IPY_MODEL_bf6a59e51f85439d9e716169fd461cd3"
       ],
       "layout": "IPY_MODEL_368d1b017190440f9237bbb817845d5e"
      }
     },
     "c80e2e34430349edb667e1f8d02546ab": {
      "model_module": "@jupyter-widgets/base",
      "model_module_version": "1.2.0",
      "model_name": "LayoutModel",
      "state": {}
     },
     "c86d48f52765437191a749bab0db4e45": {
      "model_module": "@jupyter-widgets/base",
      "model_module_version": "1.2.0",
      "model_name": "LayoutModel",
      "state": {}
     },
     "c8c26643a3194e11bcba0d57771fa13f": {
      "model_module": "@jupyter-widgets/base",
      "model_module_version": "1.2.0",
      "model_name": "LayoutModel",
      "state": {}
     },
     "c920123d273b4b66ada31356491d7250": {
      "model_module": "@jupyter-widgets/base",
      "model_module_version": "1.2.0",
      "model_name": "LayoutModel",
      "state": {}
     },
     "c9a07a9c33264ea68125a52f566c151e": {
      "model_module": "@jupyter-widgets/base",
      "model_module_version": "1.2.0",
      "model_name": "LayoutModel",
      "state": {}
     },
     "c9a7b6bd721f4bc18323af90b113b325": {
      "model_module": "@jupyter-widgets/controls",
      "model_module_version": "1.5.0",
      "model_name": "ButtonStyleModel",
      "state": {}
     },
     "c9d7f5a4a9f240dca576907f0b88cb89": {
      "model_module": "@jupyter-widgets/controls",
      "model_module_version": "1.5.0",
      "model_name": "TextModel",
      "state": {
       "layout": "IPY_MODEL_5a26f8a7910245cba7ec6dea98dc2f29",
       "placeholder": "Additive noise",
       "style": "IPY_MODEL_5c379c7902084a45b7b2476ce5e227db",
       "value": "0"
      }
     },
     "ca0b382737384dd3acf0d30751714a9a": {
      "model_module": "@jupyter-widgets/controls",
      "model_module_version": "1.5.0",
      "model_name": "HBoxModel",
      "state": {
       "children": [
        "IPY_MODEL_fc151145c8a049e6a93928c161f91817",
        "IPY_MODEL_4637305460244b62b868f941446322d7"
       ],
       "layout": "IPY_MODEL_2779417a7c514cdba4df4827a1454449"
      }
     },
     "ca0c73b535954ac4b0f264ce9dfa2393": {
      "model_module": "@jupyter-widgets/controls",
      "model_module_version": "1.5.0",
      "model_name": "CheckboxModel",
      "state": {
       "description": "70 Hz",
       "disabled": false,
       "indent": false,
       "layout": "IPY_MODEL_6dc839a907d344dda73ca0dde391bfbe",
       "style": "IPY_MODEL_c445ae77f5a248b58b52fec2f7780754",
       "value": false
      }
     },
     "ca2091c7461a4687af738c61e83fd3c4": {
      "model_module": "@jupyter-widgets/controls",
      "model_module_version": "1.5.0",
      "model_name": "HBoxModel",
      "state": {
       "children": [
        "IPY_MODEL_e3bde5b392874141a2b3288eb5731505",
        "IPY_MODEL_a3f4948528744e509a1f5cb7b0b40c3a"
       ],
       "layout": "IPY_MODEL_74f5f7ec1bf44044916aa7a1bdc1b779"
      }
     },
     "ca435ae1ead3427591731fae7394730d": {
      "model_module": "@jupyter-widgets/base",
      "model_module_version": "1.2.0",
      "model_name": "LayoutModel",
      "state": {}
     },
     "ca4e9764c5d0455b96feb794dd4fcb9a": {
      "model_module": "@jupyter-widgets/controls",
      "model_module_version": "1.5.0",
      "model_name": "ButtonStyleModel",
      "state": {}
     },
     "ca59371ac1f24ecab9c91d585d82a226": {
      "model_module": "@jupyter-widgets/controls",
      "model_module_version": "1.5.0",
      "model_name": "HBoxModel",
      "state": {
       "children": [
        "IPY_MODEL_aec8249ff5ec43d6adcaca270ee7c363",
        "IPY_MODEL_c666dad1a2cc45e89f0d8100bdd2f7ad"
       ],
       "layout": "IPY_MODEL_9c27718625154ab8a3634fbfca8be8b5"
      }
     },
     "ca59d224d4014163be8e4b98f9c1d5ac": {
      "model_module": "@jupyter-widgets/controls",
      "model_module_version": "1.5.0",
      "model_name": "LabelModel",
      "state": {
       "layout": "IPY_MODEL_08b1a6517d864e58ac83d7124dffa29b",
       "style": "IPY_MODEL_6a3bdf13a3b240cb8798883927481f33",
       "value": "Amplitude spectrum = [1.00, 0.00] [V]]"
      }
     },
     "caefee04150e4ec0af9dc69a69f5f315": {
      "model_module": "@jupyter-widgets/controls",
      "model_module_version": "1.5.0",
      "model_name": "ButtonModel",
      "state": {
       "description": "Signal amplitude (0 < x < 1)",
       "disabled": true,
       "layout": "IPY_MODEL_86840f76b4304c1ca864f3e8d6c64e91",
       "style": "IPY_MODEL_b3fa7125e9834748b1c5bfc23579345d"
      }
     },
     "cb74f88197bd44d8b1faaea43f1295b7": {
      "model_module": "@jupyter-widgets/controls",
      "model_module_version": "1.5.0",
      "model_name": "ButtonStyleModel",
      "state": {}
     },
     "cb8b1dae80b341758070b6b2c1772bff": {
      "model_module": "@jupyter-widgets/controls",
      "model_module_version": "1.5.0",
      "model_name": "DescriptionStyleModel",
      "state": {
       "description_width": "initial"
      }
     },
     "cbb374991fa5420e82c99a9e3da03b76": {
      "model_module": "@jupyter-widgets/controls",
      "model_module_version": "1.5.0",
      "model_name": "TextModel",
      "state": {
       "layout": "IPY_MODEL_18602f6c7d0e4dacadfae84de8ac0aad",
       "placeholder": "Amplitude (0 < x < 1)",
       "style": "IPY_MODEL_adf3bc74465d498aa8921dfaffa9911b",
       "value": "0.3"
      }
     },
     "cbb421cd81184505b8e248f19f6ac5d4": {
      "model_module": "@jupyter-widgets/base",
      "model_module_version": "1.2.0",
      "model_name": "LayoutModel",
      "state": {}
     },
     "cbc07310af664b809fd032507b92e386": {
      "model_module": "@jupyter-widgets/controls",
      "model_module_version": "1.5.0",
      "model_name": "ButtonModel",
      "state": {
       "description": "Samples per seconds [Hz]",
       "disabled": true,
       "layout": "IPY_MODEL_a9fe941b1c52441297b65d9b695a3486",
       "style": "IPY_MODEL_84a1efd68957442db393a7ba82eca54b"
      }
     },
     "cbc726db43554af28941bb7aa2c1a5cf": {
      "model_module": "@jupyter-widgets/controls",
      "model_module_version": "1.5.0",
      "model_name": "TextModel",
      "state": {
       "layout": "IPY_MODEL_9629d7d38eca47248981cc522eed4d01",
       "placeholder": "Amplitude (0 < x < 1)",
       "style": "IPY_MODEL_ff3d05bc9d3343fdb2d7675fb8845dff",
       "value": "1"
      }
     },
     "cbe9620991154708b643ec828a45970f": {
      "model_module": "@jupyter-widgets/controls",
      "model_module_version": "1.5.0",
      "model_name": "DescriptionStyleModel",
      "state": {
       "description_width": "initial"
      }
     },
     "cc00c6c4a7354451ac2847fbc930c370": {
      "model_module": "@jupyter-widgets/controls",
      "model_module_version": "1.5.0",
      "model_name": "ButtonModel",
      "state": {
       "description": "Signal amplitude (0 < x < 1)",
       "disabled": true,
       "layout": "IPY_MODEL_77dddf9dd845406bb9d5d871e3840368",
       "style": "IPY_MODEL_6996794466274b25809867779d9ed875"
      }
     },
     "cc39ded5d4f248f3ab57496f2981fe82": {
      "model_module": "@jupyter-widgets/base",
      "model_module_version": "1.2.0",
      "model_name": "LayoutModel",
      "state": {}
     },
     "cc6e0c075e224319bf92afd28b963511": {
      "model_module": "@jupyter-widgets/controls",
      "model_module_version": "1.5.0",
      "model_name": "TextModel",
      "state": {
       "layout": "IPY_MODEL_7c2319ca98cb4c60a07e4681228a21c0",
       "placeholder": "Amplitude (0 < x < 1)",
       "style": "IPY_MODEL_9103f3ce52054a159b9c642e867cf54c",
       "value": "1"
      }
     },
     "cc8a2c339b8440f59197a03143fbde88": {
      "model_module": "@jupyter-widgets/base",
      "model_module_version": "1.2.0",
      "model_name": "LayoutModel",
      "state": {}
     },
     "cc9414c7e02741a495406113392100f9": {
      "model_module": "@jupyter-widgets/controls",
      "model_module_version": "1.5.0",
      "model_name": "ButtonModel",
      "state": {
       "description": "Signal length [seconds]",
       "disabled": true,
       "layout": "IPY_MODEL_3ef9ce02a256475ea19d8c73e8571004",
       "style": "IPY_MODEL_60c0cbfebbaa4593be9106e51ac563f9"
      }
     },
     "ccd4bf84a11a4f53872f32bfac8b156c": {
      "model_module": "@jupyter-widgets/controls",
      "model_module_version": "1.5.0",
      "model_name": "DescriptionStyleModel",
      "state": {
       "description_width": "initial"
      }
     },
     "ccd582f977204966a22d614c8f70aad8": {
      "model_module": "@jupyter-widgets/base",
      "model_module_version": "1.2.0",
      "model_name": "LayoutModel",
      "state": {}
     },
     "ccdad7510d994076ad512827a948f121": {
      "model_module": "@jupyter-widgets/base",
      "model_module_version": "1.2.0",
      "model_name": "LayoutModel",
      "state": {}
     },
     "cd15a0d8850941bbb724f650d806dfdb": {
      "model_module": "@jupyter-widgets/controls",
      "model_module_version": "1.5.0",
      "model_name": "HBoxModel",
      "state": {
       "children": [
        "IPY_MODEL_97cf007493d8427d8656491bf17b918e",
        "IPY_MODEL_85aa0246834541a18bf8488d18a948e7",
        "IPY_MODEL_e4aa485f097f419a9340282f47ffd4eb"
       ],
       "layout": "IPY_MODEL_452292dc32c1499fbf0dc4661b752fd9"
      }
     },
     "cd1a8f79ee0d480d82033d6f0b295b0e": {
      "model_module": "@jupyter-widgets/controls",
      "model_module_version": "1.5.0",
      "model_name": "SliderStyleModel",
      "state": {
       "description_width": ""
      }
     },
     "cd2c6040d6834dd29b4a5b4f9e4c3318": {
      "model_module": "@jupyter-widgets/controls",
      "model_module_version": "1.5.0",
      "model_name": "TextModel",
      "state": {
       "layout": "IPY_MODEL_08b5466fd5324f348c733a81e541304a",
       "placeholder": "Amplitude (0 < x < 1)",
       "style": "IPY_MODEL_6710fb29a75148a3b7a6dcdb6850cadc",
       "value": "1"
      }
     },
     "cd2da9894d714fe0bc17e793095a9b54": {
      "model_module": "@jupyter-widgets/base",
      "model_module_version": "1.2.0",
      "model_name": "LayoutModel",
      "state": {
       "height": "28px",
       "min_height": "28px",
       "min_width": "400px",
       "width": "400px"
      }
     },
     "cd422a7979f246a993bc614afe5f96e2": {
      "model_module": "@jupyter-widgets/controls",
      "model_module_version": "1.5.0",
      "model_name": "ButtonModel",
      "state": {
       "description": "Signal frequency",
       "disabled": true,
       "layout": "IPY_MODEL_555796131b4342e59248bf0e92f87399",
       "style": "IPY_MODEL_83623035cfe1402f9cae13164f548ec2"
      }
     },
     "cdc035b4b61c49e9a7d71df6aafd2f21": {
      "model_module": "@jupyter-widgets/controls",
      "model_module_version": "1.5.0",
      "model_name": "ButtonStyleModel",
      "state": {}
     },
     "ce7a2813f10b450f9f85dda352964a1b": {
      "model_module": "@jupyter-widgets/base",
      "model_module_version": "1.2.0",
      "model_name": "LayoutModel",
      "state": {}
     },
     "ceade8f835a14f12a3e7b4bae450230a": {
      "model_module": "@jupyter-widgets/controls",
      "model_module_version": "1.5.0",
      "model_name": "DescriptionStyleModel",
      "state": {
       "description_width": "initial"
      }
     },
     "ceae2170323845ca9405d211e254b2f2": {
      "model_module": "@jupyter-widgets/controls",
      "model_module_version": "1.5.0",
      "model_name": "DescriptionStyleModel",
      "state": {
       "description_width": "initial"
      }
     },
     "cebc621c0f194d6381693cc1398be60d": {
      "model_module": "@jupyter-widgets/controls",
      "model_module_version": "1.5.0",
      "model_name": "ButtonStyleModel",
      "state": {}
     },
     "ced46d90e49f40e5bdd400ffab1562dc": {
      "model_module": "@jupyter-widgets/controls",
      "model_module_version": "1.5.0",
      "model_name": "LabelModel",
      "state": {
       "layout": "IPY_MODEL_4f1c46a67cc2494b92e76557b0da430b",
       "style": "IPY_MODEL_e484f9a4ddad4180a9dc1344fa7a90e1",
       "value": "Signal = generateSine(1000, [50.0], amplitude=[1.0], time=0.3, noise=0.0)"
      }
     },
     "cedad8caadec4a1a921afe7fd6a96dae": {
      "model_module": "@jupyter-widgets/base",
      "model_module_version": "1.2.0",
      "model_name": "LayoutModel",
      "state": {}
     },
     "cf0a4f73f8454466aaa48841cd35d13d": {
      "model_module": "@jupyter-widgets/base",
      "model_module_version": "1.2.0",
      "model_name": "LayoutModel",
      "state": {}
     },
     "cf28ec46d9ee4c809fab60309c3e609d": {
      "model_module": "@jupyter-widgets/base",
      "model_module_version": "1.2.0",
      "model_name": "LayoutModel",
      "state": {}
     },
     "cfdb5f0bbd6742ebaafc7bcf0b3ab8ba": {
      "model_module": "@jupyter-widgets/base",
      "model_module_version": "1.2.0",
      "model_name": "LayoutModel",
      "state": {}
     },
     "cffabd16a07b42afa56ebe434ebc637e": {
      "model_module": "@jupyter-widgets/controls",
      "model_module_version": "1.5.0",
      "model_name": "CheckboxModel",
      "state": {
       "description": "Apply padding",
       "disabled": false,
       "indent": false,
       "layout": "IPY_MODEL_d10998dc98184cccba1279f0fc78021e",
       "style": "IPY_MODEL_7743b6e86bbd4efab0b0e1d42856792b",
       "value": false
      }
     },
     "d0701439ccf64efb9c79ba9a39d67b27": {
      "model_module": "@jupyter-widgets/controls",
      "model_module_version": "1.5.0",
      "model_name": "TextModel",
      "state": {
       "layout": "IPY_MODEL_2c9bc39c57dc40dc8ddbc134347b9ca9",
       "placeholder": "Signal length [s]",
       "style": "IPY_MODEL_def8b8d5beac4cd588a6c04739f9e6da",
       "value": "0.3"
      }
     },
     "d0cf418c5ea54255b7c702f59bc83428": {
      "model_module": "@jupyter-widgets/base",
      "model_module_version": "1.2.0",
      "model_name": "LayoutModel",
      "state": {
       "height": "28px",
       "min_height": "28px",
       "min_width": "400px",
       "width": "400px"
      }
     },
     "d0dc1ace567e4ccba4ccf80004f3c037": {
      "model_module": "@jupyter-widgets/base",
      "model_module_version": "1.2.0",
      "model_name": "LayoutModel",
      "state": {}
     },
     "d10998dc98184cccba1279f0fc78021e": {
      "model_module": "@jupyter-widgets/base",
      "model_module_version": "1.2.0",
      "model_name": "LayoutModel",
      "state": {}
     },
     "d1b41fd9b8db4a439014e5ba297abc10": {
      "model_module": "@jupyter-widgets/base",
      "model_module_version": "1.2.0",
      "model_name": "LayoutModel",
      "state": {
       "width": "auto"
      }
     },
     "d1c991b79fba45b49c03d00422073664": {
      "model_module": "@jupyter-widgets/controls",
      "model_module_version": "1.5.0",
      "model_name": "HBoxModel",
      "state": {
       "children": [
        "IPY_MODEL_fd4b58ddf64a48ec8e4a10993f2de47e",
        "IPY_MODEL_d41e5ce75b124f729c8d366ac5c11882"
       ],
       "layout": "IPY_MODEL_40a5d5425b304c9094544834b3297327"
      }
     },
     "d1cb74528f7a4db7b73839f296feaa27": {
      "model_module": "@jupyter-widgets/base",
      "model_module_version": "1.2.0",
      "model_name": "LayoutModel",
      "state": {
       "height": "28px",
       "min_height": "28px",
       "min_width": "400px",
       "width": "400px"
      }
     },
     "d1fb8f07de724af5b8ef5aab083a86ba": {
      "model_module": "@jupyter-widgets/controls",
      "model_module_version": "1.5.0",
      "model_name": "ButtonStyleModel",
      "state": {}
     },
     "d2113da7e985450e8b42c5985e3d489c": {
      "model_module": "@jupyter-widgets/controls",
      "model_module_version": "1.5.0",
      "model_name": "ButtonModel",
      "state": {
       "description": "Amplitude of added noise",
       "disabled": true,
       "layout": "IPY_MODEL_3a0eb5a2a6d74ad7b41994c897c15ada",
       "style": "IPY_MODEL_05a0259a4b984e7cbbd39f9eb0c3d076"
      }
     },
     "d215ddc6fb084c61a9b301270cd6d21f": {
      "model_module": "@jupyter-widgets/controls",
      "model_module_version": "1.5.0",
      "model_name": "HBoxModel",
      "state": {
       "children": [
        "IPY_MODEL_88692eea4ec048849b7b94d070766337",
        "IPY_MODEL_94257ba1137a4bc6b0d5bcbcee418c9d",
        "IPY_MODEL_12fa9d0550e94c9da70f7ff7ed4bd78d"
       ],
       "layout": "IPY_MODEL_f55062d9ba644a7aae9a29a8df1b6e96"
      }
     },
     "d21750ea089e4a3f872bf38840fe9f88": {
      "model_module": "@jupyter-widgets/base",
      "model_module_version": "1.2.0",
      "model_name": "LayoutModel",
      "state": {}
     },
     "d24f5f98c6004503bbfbbb2079975d06": {
      "model_module": "@jupyter-widgets/base",
      "model_module_version": "1.2.0",
      "model_name": "LayoutModel",
      "state": {
       "height": "28px",
       "min_height": "28px",
       "min_width": "400px",
       "width": "400px"
      }
     },
     "d25e49bb46af4a11bf866eef56bfb026": {
      "model_module": "@jupyter-widgets/controls",
      "model_module_version": "1.5.0",
      "model_name": "ButtonStyleModel",
      "state": {}
     },
     "d2600e128fe148bba78e7b233bcc1690": {
      "model_module": "@jupyter-widgets/controls",
      "model_module_version": "1.5.0",
      "model_name": "HBoxModel",
      "state": {
       "children": [
        "IPY_MODEL_1329440b1f59438a98328e686ce5c6f0",
        "IPY_MODEL_1177f8041376480a887c5de5ec9c9910"
       ],
       "layout": "IPY_MODEL_92040ea182d340199b2a2a257fb389dd"
      }
     },
     "d26ecafc00c44f92a4ae1af38f2c9c9d": {
      "model_module": "@jupyter-widgets/base",
      "model_module_version": "1.2.0",
      "model_name": "LayoutModel",
      "state": {}
     },
     "d2b3418960b0471da702dd261f4d3311": {
      "model_module": "@jupyter-widgets/controls",
      "model_module_version": "1.5.0",
      "model_name": "DescriptionStyleModel",
      "state": {
       "description_width": ""
      }
     },
     "d2ee7682b2094348b2431dcfbca1ed34": {
      "model_module": "@jupyter-widgets/controls",
      "model_module_version": "1.5.0",
      "model_name": "VBoxModel",
      "state": {
       "children": [
        "IPY_MODEL_162b1b908d974e47a002699f127b31a8",
        "IPY_MODEL_e847c763d67b42ddb44de87a59f7a611",
        "IPY_MODEL_b412b6ce50e74f95ac33f887f3bd4616",
        "IPY_MODEL_9a7ccb0e6e244025a91ef3708b96cc38",
        "IPY_MODEL_9dfc553488f7426eb457cda791fce409",
        "IPY_MODEL_1dca42aeab8a466eb026733b51a82176"
       ],
       "layout": "IPY_MODEL_30c119c162cb4544bb50f0939069a4be"
      }
     },
     "d2f0f689763b4420810e1906346fa9e0": {
      "model_module": "@jupyter-widgets/controls",
      "model_module_version": "1.5.0",
      "model_name": "ButtonStyleModel",
      "state": {}
     },
     "d384e568829a4950b18ac5ef7b2e9211": {
      "model_module": "@jupyter-widgets/controls",
      "model_module_version": "1.5.0",
      "model_name": "DescriptionStyleModel",
      "state": {
       "description_width": ""
      }
     },
     "d3940951212041d4b9d0dcc36ecadfca": {
      "model_module": "@jupyter-widgets/controls",
      "model_module_version": "1.5.0",
      "model_name": "ButtonModel",
      "state": {
       "description": "Signal amplitude (0 < x < 1)",
       "disabled": true,
       "layout": "IPY_MODEL_a2080a738a484a86afe227440e8a81cd",
       "style": "IPY_MODEL_4527508f72964ff2a00849c3260c1b1d"
      }
     },
     "d4052fcd7c324478896984fa9bc227ee": {
      "model_module": "@jupyter-widgets/controls",
      "model_module_version": "1.5.0",
      "model_name": "TextModel",
      "state": {
       "layout": "IPY_MODEL_1722fb3f36f5466fb161144b623662c8",
       "placeholder": "Signal length [s]",
       "style": "IPY_MODEL_cbe9620991154708b643ec828a45970f",
       "value": "0.3"
      }
     },
     "d41e5ce75b124f729c8d366ac5c11882": {
      "model_module": "@jupyter-widgets/controls",
      "model_module_version": "1.5.0",
      "model_name": "VBoxModel",
      "state": {
       "children": [
        "IPY_MODEL_1be6da5480b04f7080c20c6bad2dc356",
        "IPY_MODEL_55b1e4cfea0b44558dbdf06e144e3582"
       ],
       "layout": "IPY_MODEL_aeb9def544eb43289905c5bf9f8a603c"
      }
     },
     "d422a6496d4442738ccada3d94705668": {
      "model_module": "@jupyter-widgets/controls",
      "model_module_version": "1.5.0",
      "model_name": "ButtonStyleModel",
      "state": {}
     },
     "d442c79fc1424d20a74cc39333274ffb": {
      "model_module": "@jupyter-widgets/base",
      "model_module_version": "1.2.0",
      "model_name": "LayoutModel",
      "state": {
       "min_width": "50px",
       "width": "50px"
      }
     },
     "d46cfd1554bc4521bbadf7c5e27bc7e1": {
      "model_module": "@jupyter-widgets/controls",
      "model_module_version": "1.5.0",
      "model_name": "ButtonStyleModel",
      "state": {}
     },
     "d49dbb9135984597aaf6fb51b3f6e7b4": {
      "model_module": "@jupyter-widgets/base",
      "model_module_version": "1.2.0",
      "model_name": "LayoutModel",
      "state": {}
     },
     "d4e1fd0d805d4951958ce227b81353e6": {
      "model_module": "@jupyter-widgets/controls",
      "model_module_version": "1.5.0",
      "model_name": "DescriptionStyleModel",
      "state": {
       "description_width": "initial"
      }
     },
     "d4ff73f9c6f64a3a9ed9f517365ade91": {
      "model_module": "@jupyter-widgets/controls",
      "model_module_version": "1.5.0",
      "model_name": "HBoxModel",
      "state": {
       "children": [
        "IPY_MODEL_1be098d2c5f940d586c18996b7980644",
        "IPY_MODEL_b61691bc8aa848c98ff09fcfbc30a894"
       ],
       "layout": "IPY_MODEL_c03aa06e12de4d399df3cce577eb266e"
      }
     },
     "d5034e1763e545c08db3ef9a5f902d4d": {
      "model_module": "@jupyter-widgets/controls",
      "model_module_version": "1.5.0",
      "model_name": "DescriptionStyleModel",
      "state": {
       "description_width": "initial"
      }
     },
     "d51891f933444983ae207c6510897648": {
      "model_module": "@jupyter-widgets/controls",
      "model_module_version": "1.5.0",
      "model_name": "HBoxModel",
      "state": {
       "children": [
        "IPY_MODEL_efc2c1448fb04268b67edc4d9b9d7085",
        "IPY_MODEL_feb13dcbf111405bbb996feec4342cb4"
       ],
       "layout": "IPY_MODEL_2f02c9c5be1d4957be738cbe051f90be"
      }
     },
     "d525204d6f4a463ab2e2eb5ddff35ed1": {
      "model_module": "@jupyter-widgets/controls",
      "model_module_version": "1.5.0",
      "model_name": "HBoxModel",
      "state": {
       "children": [
        "IPY_MODEL_81b801a4b6464a4b960bb5495f72bd3c",
        "IPY_MODEL_c9d7f5a4a9f240dca576907f0b88cb89"
       ],
       "layout": "IPY_MODEL_16eae9eb8918482c9a257abf0d27d302"
      }
     },
     "d53137d9cb274102bdb7661aff1f84a2": {
      "model_module": "@jupyter-widgets/base",
      "model_module_version": "1.2.0",
      "model_name": "LayoutModel",
      "state": {}
     },
     "d53cd0ab8abf4154ae52c5c2342b9fc2": {
      "model_module": "@jupyter-widgets/controls",
      "model_module_version": "1.5.0",
      "model_name": "HBoxModel",
      "state": {
       "children": [
        "IPY_MODEL_45cee5a90b8f450e8fd77f739342bb6c",
        "IPY_MODEL_1c27ae15fa584300bbcd02119570f922"
       ],
       "layout": "IPY_MODEL_a7117a0022e5488a8f8159f8740221bb"
      }
     },
     "d54b8d15e0d9496287445c753d5c1576": {
      "model_module": "@jupyter-widgets/controls",
      "model_module_version": "1.5.0",
      "model_name": "DescriptionStyleModel",
      "state": {
       "description_width": ""
      }
     },
     "d564dd4dc82243e49c57587589adfd6d": {
      "model_module": "@jupyter-widgets/controls",
      "model_module_version": "1.5.0",
      "model_name": "ButtonStyleModel",
      "state": {}
     },
     "d600c518432942fb92522f6515128fc8": {
      "model_module": "@jupyter-widgets/controls",
      "model_module_version": "1.5.0",
      "model_name": "LabelModel",
      "state": {
       "layout": "IPY_MODEL_93aa35a3f1a54b28ab018b63e144d99a",
       "style": "IPY_MODEL_f433666244974e2bbbc89d2474ead2bc",
       "value": "Signal = generateSine(1000, [50.0, 70.0], amplitude=[1.0, 0.3], time=0.3, noise=0.2)"
      }
     },
     "d6260e5350884742b34136848c326fa4": {
      "model_module": "@jupyter-widgets/base",
      "model_module_version": "1.2.0",
      "model_name": "LayoutModel",
      "state": {}
     },
     "d644df13a3784ababd8db385b8340d7b": {
      "model_module": "@jupyter-widgets/controls",
      "model_module_version": "1.5.0",
      "model_name": "ButtonModel",
      "state": {
       "description": "Amplitude of added noise",
       "disabled": true,
       "layout": "IPY_MODEL_381fb7240a6544d59179aa678c5044a9",
       "style": "IPY_MODEL_21714580241a49aea7b39efc52882d7a"
      }
     },
     "d68a48230cd54925874c24b0e5812a00": {
      "model_module": "@jupyter-widgets/controls",
      "model_module_version": "1.5.0",
      "model_name": "VBoxModel",
      "state": {
       "children": [
        "IPY_MODEL_a4cf7e2087654b9f842540be69cc76c6",
        "IPY_MODEL_c2e6a1d4f3fd4c2094dac79cdda5de42"
       ],
       "layout": "IPY_MODEL_1f4f49556c63442781013fc257c3d50d"
      }
     },
     "d69f0bea808c41b9b1dd1eae8f927a80": {
      "model_module": "@jupyter-widgets/controls",
      "model_module_version": "1.5.0",
      "model_name": "DescriptionStyleModel",
      "state": {
       "description_width": "initial"
      }
     },
     "d6fcd852d9744e1dbbc68e6bdb761c03": {
      "model_module": "@jupyter-widgets/base",
      "model_module_version": "1.2.0",
      "model_name": "LayoutModel",
      "state": {
       "height": "28px",
       "min_height": "28px",
       "min_width": "400px",
       "width": "400px"
      }
     },
     "d718678b16644543a1414a61bb74ba3e": {
      "model_module": "@jupyter-widgets/controls",
      "model_module_version": "1.5.0",
      "model_name": "TextModel",
      "state": {
       "layout": "IPY_MODEL_081801891ee94ca697297bb12dd00971",
       "placeholder": "Additive noise",
       "style": "IPY_MODEL_a882dffa5086496b89acdc1961b69279",
       "value": "0"
      }
     },
     "d7225ab2f5dc4227858298099edcabad": {
      "model_module": "@jupyter-widgets/base",
      "model_module_version": "1.2.0",
      "model_name": "LayoutModel",
      "state": {
       "height": "28px",
       "min_height": "28px",
       "min_width": "400px",
       "width": "400px"
      }
     },
     "d732878c5e9d4c67b5bc20be9bff9739": {
      "model_module": "@jupyter-widgets/base",
      "model_module_version": "1.2.0",
      "model_name": "LayoutModel",
      "state": {}
     },
     "d77a7c3df7254f98992aafe5657a8fe7": {
      "model_module": "@jupyter-widgets/base",
      "model_module_version": "1.2.0",
      "model_name": "LayoutModel",
      "state": {}
     },
     "d7a664f47d5b4281b19e75b0b0cf92a7": {
      "model_module": "@jupyter-widgets/base",
      "model_module_version": "1.2.0",
      "model_name": "LayoutModel",
      "state": {
       "height": "28px",
       "min_height": "28px",
       "min_width": "400px",
       "width": "400px"
      }
     },
     "d7d18b639ed74149a12301297408c4c4": {
      "model_module": "@jupyter-widgets/controls",
      "model_module_version": "1.5.0",
      "model_name": "ButtonModel",
      "state": {
       "description": "Signal length [seconds]",
       "disabled": true,
       "layout": "IPY_MODEL_69aaa567a863468c95d19ce1459d1f01",
       "style": "IPY_MODEL_c33e10bac27c4a09a1d5062255d20bb5"
      }
     },
     "d7e50c0f96df4969b39bd1e1b43aaf5f": {
      "model_module": "@jupyter-widgets/controls",
      "model_module_version": "1.5.0",
      "model_name": "HBoxModel",
      "state": {
       "children": [
        "IPY_MODEL_0ee509e40a604b4c8dc584a2e08e696d",
        "IPY_MODEL_50a36d0bec334e1b93470827c9171e9b"
       ],
       "layout": "IPY_MODEL_ec8eae5b35d94904b09e94f6b2d86277"
      }
     },
     "d817ad4ac6ff4ce3a7367872ce182c09": {
      "model_module": "@jupyter-widgets/base",
      "model_module_version": "1.2.0",
      "model_name": "LayoutModel",
      "state": {
       "min_width": "50px",
       "width": "50px"
      }
     },
     "d82178508d2a46088b062f02c0e546ca": {
      "model_module": "@jupyter-widgets/base",
      "model_module_version": "1.2.0",
      "model_name": "LayoutModel",
      "state": {
       "height": "28px",
       "min_height": "28px",
       "min_width": "400px",
       "width": "400px"
      }
     },
     "d82a4adc582e43a4bcd85e920efbd80c": {
      "model_module": "@jupyter-widgets/base",
      "model_module_version": "1.2.0",
      "model_name": "LayoutModel",
      "state": {}
     },
     "d866a500f37746ed88ef6c42bec967fe": {
      "model_module": "@jupyter-widgets/base",
      "model_module_version": "1.2.0",
      "model_name": "LayoutModel",
      "state": {}
     },
     "d92c8e3cc06c45debff76048388b76e4": {
      "model_module": "@jupyter-widgets/base",
      "model_module_version": "1.2.0",
      "model_name": "LayoutModel",
      "state": {
       "min_width": "50px",
       "width": "50px"
      }
     },
     "d94010170fd74648a08cdb1b4fe3fa7f": {
      "model_module": "@jupyter-widgets/controls",
      "model_module_version": "1.5.0",
      "model_name": "DescriptionStyleModel",
      "state": {
       "description_width": "initial"
      }
     },
     "d966abc56ce841dc93ad0ef04956750b": {
      "model_module": "@jupyter-widgets/base",
      "model_module_version": "1.2.0",
      "model_name": "LayoutModel",
      "state": {
       "min_width": "50px",
       "width": "50px"
      }
     },
     "d9807fe3dca44f9187e0c9ba26328d03": {
      "model_module": "@jupyter-widgets/base",
      "model_module_version": "1.2.0",
      "model_name": "LayoutModel",
      "state": {}
     },
     "d9a6302824a343d99f1a30905435befc": {
      "model_module": "@jupyter-widgets/controls",
      "model_module_version": "1.5.0",
      "model_name": "ButtonStyleModel",
      "state": {}
     },
     "d9ecaf37a6324b5eadd0c838518f1968": {
      "model_module": "@jupyter-widgets/controls",
      "model_module_version": "1.5.0",
      "model_name": "DescriptionStyleModel",
      "state": {
       "description_width": "initial"
      }
     },
     "da87a59b9e2a47d7b4d07d25e9754b87": {
      "model_module": "@jupyter-widgets/controls",
      "model_module_version": "1.5.0",
      "model_name": "DescriptionStyleModel",
      "state": {
       "description_width": ""
      }
     },
     "da91b5f9a55343859be940d93a2fd69f": {
      "model_module": "@jupyter-widgets/controls",
      "model_module_version": "1.5.0",
      "model_name": "HBoxModel",
      "state": {
       "children": [
        "IPY_MODEL_32292539a0504e5f9097a40ad7c5e18d",
        "IPY_MODEL_02cc0c567836491ba5fe501c73b85f48"
       ],
       "layout": "IPY_MODEL_2841c9efa62a44be97c50177c686aee4"
      }
     },
     "da946eafee7a4f0dbfe7cf99dbdcdeed": {
      "model_module": "@jupyter-widgets/controls",
      "model_module_version": "1.5.0",
      "model_name": "LabelModel",
      "state": {
       "layout": "IPY_MODEL_90010bd7a3ab45fe891318aba86587c9",
       "style": "IPY_MODEL_38bf57a427504cd3ad19396d4572429b",
       "value": "Signal = generateSine(1000, [50.0, 70.0], amplitude=[1.0, 0.3], time=0.3, noise=0.0)"
      }
     },
     "daa2be5d67b44ff89007c9d87a396978": {
      "model_module": "@jupyter-widgets/controls",
      "model_module_version": "1.5.0",
      "model_name": "IntSliderModel",
      "state": {
       "continuous_update": false,
       "layout": "IPY_MODEL_e81200932bf341edbe5d2050831d9cd9",
       "max": 3000,
       "min": 100,
       "step": 10,
       "style": "IPY_MODEL_3e2f8ddfc5784929ae4df7a4cf2fea2a",
       "value": 1000
      }
     },
     "dad50e9cea664a4491863aa8f483ec6f": {
      "model_module": "@jupyter-widgets/controls",
      "model_module_version": "1.5.0",
      "model_name": "ButtonStyleModel",
      "state": {}
     },
     "dafec1a430ae4a89b77d6d6539123151": {
      "model_module": "@jupyter-widgets/base",
      "model_module_version": "1.2.0",
      "model_name": "LayoutModel",
      "state": {
       "height": "28px",
       "min_height": "28px",
       "min_width": "400px",
       "width": "400px"
      }
     },
     "db3b1bef82d6433397725c41e9ce14e0": {
      "model_module": "@jupyter-widgets/controls",
      "model_module_version": "1.5.0",
      "model_name": "LabelModel",
      "state": {
       "layout": "IPY_MODEL_a6d2cd67988d4fafb41c0d7dd5d4fb85",
       "style": "IPY_MODEL_e88800e17fc542719591e37fcc503fe9",
       "value": "Amplitude spectrum = [0.85, 0.74] [V]]"
      }
     },
     "db5281b3767848869651b2ba3bcc9095": {
      "model_module": "@jupyter-widgets/controls",
      "model_module_version": "1.5.0",
      "model_name": "VBoxModel",
      "state": {
       "children": [
        "IPY_MODEL_5f461ec0fcba4f1899bf4261d29a75c6",
        "IPY_MODEL_85b95b6be2934149b2f362496a6ea803"
       ],
       "layout": "IPY_MODEL_2e000f6ae853468e9dae79e20b41bba6"
      }
     },
     "db62375ba0a244d9abc583d8e6f89e76": {
      "model_module": "@jupyter-widgets/controls",
      "model_module_version": "1.5.0",
      "model_name": "DescriptionStyleModel",
      "state": {
       "description_width": "initial"
      }
     },
     "db93105b25cf4f55ab11aeee85bf6b58": {
      "model_module": "@jupyter-widgets/controls",
      "model_module_version": "1.5.0",
      "model_name": "DescriptionStyleModel",
      "state": {
       "description_width": "initial"
      }
     },
     "dbf6864c06414602b246135e14c41c72": {
      "model_module": "@jupyter-widgets/controls",
      "model_module_version": "1.5.0",
      "model_name": "LabelModel",
      "state": {
       "layout": "IPY_MODEL_c9a07a9c33264ea68125a52f566c151e",
       "style": "IPY_MODEL_da87a59b9e2a47d7b4d07d25e9754b87",
       "value": "Fundamental frequency from FFT = [50.78, 48.83] [Hz]"
      }
     },
     "dc1e2515d6774289a7db300fede46f36": {
      "model_module": "@jupyter-widgets/base",
      "model_module_version": "1.2.0",
      "model_name": "LayoutModel",
      "state": {
       "height": "28px",
       "min_height": "28px",
       "min_width": "400px",
       "width": "400px"
      }
     },
     "dc5b9a38fb4441bba5156377c51c1043": {
      "model_module": "@jupyter-widgets/base",
      "model_module_version": "1.2.0",
      "model_name": "LayoutModel",
      "state": {}
     },
     "dc6cb9373f904ae599260c935ac732b8": {
      "model_module": "@jupyter-widgets/controls",
      "model_module_version": "1.5.0",
      "model_name": "CheckboxModel",
      "state": {
       "description": "70 Hz",
       "disabled": false,
       "indent": false,
       "layout": "IPY_MODEL_1dbfc6a03495462ea6133fbcfc19882a",
       "style": "IPY_MODEL_b259029fae2e4326ab670a12c4a2309c",
       "value": false
      }
     },
     "dc8b58227a3b4b478f4c39de96201107": {
      "model_module": "@jupyter-widgets/base",
      "model_module_version": "1.2.0",
      "model_name": "LayoutModel",
      "state": {}
     },
     "dc9fb14497f44ffc8595cfc5e59c4ed7": {
      "model_module": "@jupyter-widgets/base",
      "model_module_version": "1.2.0",
      "model_name": "LayoutModel",
      "state": {}
     },
     "dca70eee10574832811a9f03a3cdf6ee": {
      "model_module": "@jupyter-widgets/controls",
      "model_module_version": "1.5.0",
      "model_name": "DescriptionStyleModel",
      "state": {
       "description_width": "initial"
      }
     },
     "dcac76d364fd445bb69a2a8812e583bf": {
      "model_module": "@jupyter-widgets/base",
      "model_module_version": "1.2.0",
      "model_name": "LayoutModel",
      "state": {
       "min_width": "50px",
       "width": "50px"
      }
     },
     "dcaf0596f3c841cb9aea10d7012f4efa": {
      "model_module": "@jupyter-widgets/controls",
      "model_module_version": "1.5.0",
      "model_name": "CheckboxModel",
      "state": {
       "description": "Apply padding",
       "disabled": false,
       "indent": false,
       "layout": "IPY_MODEL_ccdad7510d994076ad512827a948f121",
       "style": "IPY_MODEL_5ca5979865c94656a11cdd32e407d396",
       "value": false
      }
     },
     "dcbb2302c994497eba1864a616923a89": {
      "model_module": "@jupyter-widgets/controls",
      "model_module_version": "1.5.0",
      "model_name": "DescriptionStyleModel",
      "state": {
       "description_width": "initial"
      }
     },
     "dcea01f46aa14556bf1af8e6a0a18ab1": {
      "model_module": "@jupyter-widgets/controls",
      "model_module_version": "1.5.0",
      "model_name": "ButtonStyleModel",
      "state": {}
     },
     "dcf8530a3b76446eb225922914548b40": {
      "model_module": "@jupyter-widgets/base",
      "model_module_version": "1.2.0",
      "model_name": "LayoutModel",
      "state": {
       "height": "28px",
       "min_height": "28px",
       "min_width": "400px",
       "width": "400px"
      }
     },
     "dd8369ab3a8d4f17a77d60fcf63536ad": {
      "model_module": "@jupyter-widgets/controls",
      "model_module_version": "1.5.0",
      "model_name": "TextModel",
      "state": {
       "layout": "IPY_MODEL_d442c79fc1424d20a74cc39333274ffb",
       "placeholder": "Amplitude (0 < x < 1)",
       "style": "IPY_MODEL_d9ecaf37a6324b5eadd0c838518f1968",
       "value": "1"
      }
     },
     "de2a945d7f434b48bc48ca25e5be0eeb": {
      "model_module": "@jupyter-widgets/base",
      "model_module_version": "1.2.0",
      "model_name": "LayoutModel",
      "state": {}
     },
     "de5d7d447dad4569870966884fc79ad5": {
      "model_module": "@jupyter-widgets/controls",
      "model_module_version": "1.5.0",
      "model_name": "ButtonStyleModel",
      "state": {}
     },
     "dea15eadf38b46cd94e388fa039563d4": {
      "model_module": "@jupyter-widgets/controls",
      "model_module_version": "1.5.0",
      "model_name": "ButtonStyleModel",
      "state": {}
     },
     "dead269137fb4f02accd751c303d874d": {
      "model_module": "@jupyter-widgets/base",
      "model_module_version": "1.2.0",
      "model_name": "LayoutModel",
      "state": {
       "height": "28px",
       "min_height": "28px",
       "min_width": "400px",
       "width": "400px"
      }
     },
     "decdd9768560425f831f261eb35468f7": {
      "model_module": "@jupyter-widgets/base",
      "model_module_version": "1.2.0",
      "model_name": "LayoutModel",
      "state": {
       "height": "28px",
       "min_height": "28px",
       "min_width": "400px",
       "width": "400px"
      }
     },
     "dee537a765824ca1ac41d052984de341": {
      "model_module": "@jupyter-widgets/controls",
      "model_module_version": "1.5.0",
      "model_name": "ButtonModel",
      "state": {
       "description": "Generate plot",
       "layout": "IPY_MODEL_7aa3ed5140c548a5a8f25bb2572a8048",
       "style": "IPY_MODEL_5ce42484ba5f46e88476da301d74f38c"
      }
     },
     "def8b8d5beac4cd588a6c04739f9e6da": {
      "model_module": "@jupyter-widgets/controls",
      "model_module_version": "1.5.0",
      "model_name": "DescriptionStyleModel",
      "state": {
       "description_width": "initial"
      }
     },
     "df6d229850824f06835067eebadccb48": {
      "model_module": "@jupyter-widgets/base",
      "model_module_version": "1.2.0",
      "model_name": "LayoutModel",
      "state": {
       "min_width": "50px",
       "width": "50px"
      }
     },
     "dfa4291abfe04a4396166a4bc467676c": {
      "model_module": "@jupyter-widgets/controls",
      "model_module_version": "1.5.0",
      "model_name": "ButtonModel",
      "state": {
       "description": "Padd signal for FFT calculation",
       "disabled": true,
       "layout": "IPY_MODEL_127cdb337fa1475d8cbf0e16e3091a45",
       "style": "IPY_MODEL_d422a6496d4442738ccada3d94705668"
      }
     },
     "dfae354c88334eb3926e0e1e4ec2159e": {
      "model_module": "@jupyter-widgets/base",
      "model_module_version": "1.2.0",
      "model_name": "LayoutModel",
      "state": {}
     },
     "e02c63897a324a7d919bdbbcd1d6a970": {
      "model_module": "@jupyter-widgets/controls",
      "model_module_version": "1.5.0",
      "model_name": "CheckboxModel",
      "state": {
       "description": "50 Hz",
       "disabled": false,
       "indent": false,
       "layout": "IPY_MODEL_2e988f8059164ce886519ba4a67f0c6e",
       "style": "IPY_MODEL_0551120443e741028efa9b2d8393968a",
       "value": true
      }
     },
     "e030de4037ae4542ab0e84b000ebdc87": {
      "model_module": "@jupyter-widgets/controls",
      "model_module_version": "1.5.0",
      "model_name": "ButtonStyleModel",
      "state": {}
     },
     "e06de5f2e6b743ccbfae3746d37b0e50": {
      "model_module": "@jupyter-widgets/base",
      "model_module_version": "1.2.0",
      "model_name": "LayoutModel",
      "state": {}
     },
     "e0b8bb13184046e89a2f7dc13dc2061d": {
      "model_module": "@jupyter-widgets/base",
      "model_module_version": "1.2.0",
      "model_name": "LayoutModel",
      "state": {
       "min_width": "50px",
       "width": "50px"
      }
     },
     "e0fec48cd6214baab5617f26136a7819": {
      "model_module": "@jupyter-widgets/base",
      "model_module_version": "1.2.0",
      "model_name": "LayoutModel",
      "state": {
       "height": "28px",
       "min_height": "28px",
       "min_width": "400px",
       "width": "400px"
      }
     },
     "e10e6a1ae19a4dd29f659e1b986c3810": {
      "model_module": "@jupyter-widgets/base",
      "model_module_version": "1.2.0",
      "model_name": "LayoutModel",
      "state": {
       "height": "28px",
       "min_height": "28px",
       "min_width": "400px",
       "width": "400px"
      }
     },
     "e14f38a3ad6b462199e63b462dc46ade": {
      "model_module": "@jupyter-widgets/controls",
      "model_module_version": "1.5.0",
      "model_name": "ButtonModel",
      "state": {
       "description": "Samples per seconds [Hz]",
       "disabled": true,
       "layout": "IPY_MODEL_4704294fc0a140c182920f88adc4c5c2",
       "style": "IPY_MODEL_d1fb8f07de724af5b8ef5aab083a86ba"
      }
     },
     "e1a72bc73ec94e69829cd1f8382643e8": {
      "model_module": "@jupyter-widgets/controls",
      "model_module_version": "1.5.0",
      "model_name": "DescriptionStyleModel",
      "state": {
       "description_width": ""
      }
     },
     "e1b52c6ce54346f981b8e608c6c32edb": {
      "model_module": "@jupyter-widgets/controls",
      "model_module_version": "1.5.0",
      "model_name": "HBoxModel",
      "state": {
       "children": [
        "IPY_MODEL_33fb20f770cb4607b6070fdfb58b74e3",
        "IPY_MODEL_3b1e9121dafc438bbc413c507cea97a7"
       ],
       "layout": "IPY_MODEL_a6019b8a1b804b8a972ecb6e8ee783be"
      }
     },
     "e1d40bc3a86e406691a0cc0d6dabe8a7": {
      "model_module": "@jupyter-widgets/controls",
      "model_module_version": "1.5.0",
      "model_name": "TextModel",
      "state": {
       "layout": "IPY_MODEL_51ba98a2cb244a03a882016a6f0f7686",
       "placeholder": "Amplitude (0 < x < 1)",
       "style": "IPY_MODEL_6d2b2d009c854357849859febab47253",
       "value": "1"
      }
     },
     "e1eca33d55cd49738ab13e092abb62ff": {
      "model_module": "@jupyter-widgets/base",
      "model_module_version": "1.2.0",
      "model_name": "LayoutModel",
      "state": {
       "height": "28px",
       "min_height": "28px",
       "min_width": "400px",
       "width": "400px"
      }
     },
     "e2a995ce12f249fa9280b44aa3badd03": {
      "model_module": "@jupyter-widgets/controls",
      "model_module_version": "1.5.0",
      "model_name": "IntSliderModel",
      "state": {
       "continuous_update": false,
       "layout": "IPY_MODEL_9542cc8acece43e8ab3b6715ad816012",
       "max": 3000,
       "min": 100,
       "step": 10,
       "style": "IPY_MODEL_5832b1a0a76848c8bce45ab538d6af34",
       "value": 1000
      }
     },
     "e2f5f4d679de4e32bb6c3c19781d0150": {
      "model_module": "@jupyter-widgets/controls",
      "model_module_version": "1.5.0",
      "model_name": "ButtonStyleModel",
      "state": {}
     },
     "e3536bf84ff643679ce88773258d179c": {
      "model_module": "@jupyter-widgets/base",
      "model_module_version": "1.2.0",
      "model_name": "LayoutModel",
      "state": {
       "width": "auto"
      }
     },
     "e3bde5b392874141a2b3288eb5731505": {
      "model_module": "@jupyter-widgets/controls",
      "model_module_version": "1.5.0",
      "model_name": "ButtonModel",
      "state": {
       "description": "Signal length [seconds]",
       "disabled": true,
       "layout": "IPY_MODEL_ebf035f1f1b74b70863b2fcad4aa18b1",
       "style": "IPY_MODEL_e030de4037ae4542ab0e84b000ebdc87"
      }
     },
     "e3df321f76c24a58835e974b22dbcded": {
      "model_module": "@jupyter-widgets/base",
      "model_module_version": "1.2.0",
      "model_name": "LayoutModel",
      "state": {}
     },
     "e40d1135d0fb4d5a9583b8025e03cff0": {
      "model_module": "@jupyter-widgets/controls",
      "model_module_version": "1.5.0",
      "model_name": "DescriptionStyleModel",
      "state": {
       "description_width": "initial"
      }
     },
     "e47d274260e84669b52bcc20c5c163c9": {
      "model_module": "@jupyter-widgets/controls",
      "model_module_version": "1.5.0",
      "model_name": "VBoxModel",
      "state": {
       "children": [
        "IPY_MODEL_2f4af690f73b4d9c93385937ce80dedb",
        "IPY_MODEL_c6974939fe99414c988975cad93dc023"
       ],
       "layout": "IPY_MODEL_6c802df5e5644ba8a637810ff838df8b"
      }
     },
     "e484f9a4ddad4180a9dc1344fa7a90e1": {
      "model_module": "@jupyter-widgets/controls",
      "model_module_version": "1.5.0",
      "model_name": "DescriptionStyleModel",
      "state": {
       "description_width": ""
      }
     },
     "e48e38de6cfc43659d72dcb3bc4fc135": {
      "model_module": "@jupyter-widgets/base",
      "model_module_version": "1.2.0",
      "model_name": "LayoutModel",
      "state": {
       "min_width": "50px",
       "width": "50px"
      }
     },
     "e49b0f1a341346ad850014d7bb75fe61": {
      "model_module": "@jupyter-widgets/controls",
      "model_module_version": "1.5.0",
      "model_name": "HBoxModel",
      "state": {
       "children": [
        "IPY_MODEL_babb448682bd44aaa7b32f68b51be77a",
        "IPY_MODEL_c0075e83b8034d44ada234fdbf440235"
       ],
       "layout": "IPY_MODEL_4b39bdc587a04db79baf1ff908734b87"
      }
     },
     "e4aa485f097f419a9340282f47ffd4eb": {
      "model_module": "@jupyter-widgets/controls",
      "model_module_version": "1.5.0",
      "model_name": "ButtonModel",
      "state": {
       "description": "Signal amplitude (0 < x < 1)",
       "disabled": true,
       "layout": "IPY_MODEL_a8a715727daa4b9481a0d006b9ff2d4e",
       "style": "IPY_MODEL_54e9de365d6643bfb3c2319fc5201c58"
      }
     },
     "e4b997e0d453460e98f4504d22855690": {
      "model_module": "@jupyter-widgets/controls",
      "model_module_version": "1.5.0",
      "model_name": "VBoxModel",
      "state": {
       "children": [
        "IPY_MODEL_7ab693fcc7f94fb29ece9ab0cc381679",
        "IPY_MODEL_5c386a8ad35142c7b6430848ddb1f5c0"
       ],
       "layout": "IPY_MODEL_1f70d5f074a045de8af60141dc3d4398"
      }
     },
     "e4e9051ef9eb482bb2a6be32a4737b54": {
      "model_module": "@jupyter-widgets/base",
      "model_module_version": "1.2.0",
      "model_name": "LayoutModel",
      "state": {}
     },
     "e5068b00a5344fb1abd3f66309e4d838": {
      "model_module": "@jupyter-widgets/controls",
      "model_module_version": "1.5.0",
      "model_name": "DescriptionStyleModel",
      "state": {
       "description_width": "initial"
      }
     },
     "e552677276b14a3782e1a70725ab4617": {
      "model_module": "@jupyter-widgets/base",
      "model_module_version": "1.2.0",
      "model_name": "LayoutModel",
      "state": {
       "height": "28px",
       "min_height": "28px",
       "min_width": "400px",
       "width": "400px"
      }
     },
     "e5a195f87b974b1592d3a95258551315": {
      "model_module": "@jupyter-widgets/base",
      "model_module_version": "1.2.0",
      "model_name": "LayoutModel",
      "state": {}
     },
     "e5a50012b3be40f781ca607b1bedd08b": {
      "model_module": "@jupyter-widgets/controls",
      "model_module_version": "1.5.0",
      "model_name": "CheckboxModel",
      "state": {
       "description": "50 Hz",
       "disabled": false,
       "indent": false,
       "layout": "IPY_MODEL_83d875f815fc47aea974b9bade383baa",
       "style": "IPY_MODEL_0109bb4d2467417fae6a69af4e4beba8",
       "value": true
      }
     },
     "e5ccc0704fad40a9b4f31e67245d8235": {
      "model_module": "@jupyter-widgets/base",
      "model_module_version": "1.2.0",
      "model_name": "LayoutModel",
      "state": {}
     },
     "e5d394c39e494115a8bdcbfc98179fa6": {
      "model_module": "@jupyter-widgets/controls",
      "model_module_version": "1.5.0",
      "model_name": "HBoxModel",
      "state": {
       "children": [
        "IPY_MODEL_821551c0062b4381925cd3f990e02581",
        "IPY_MODEL_33ae5102e0174773a558a574ae07e75d",
        "IPY_MODEL_2bab9715516a447f9ac37b5dcbde8590"
       ],
       "layout": "IPY_MODEL_f10106ccc5904c7fa83fb0a2ed41d34d"
      }
     },
     "e5faac32cf7f4917bea88d0b2da9a79b": {
      "model_module": "@jupyter-widgets/controls",
      "model_module_version": "1.5.0",
      "model_name": "ButtonStyleModel",
      "state": {}
     },
     "e61922d84de94a3f8bdf8c6a69833fc2": {
      "model_module": "@jupyter-widgets/base",
      "model_module_version": "1.2.0",
      "model_name": "LayoutModel",
      "state": {}
     },
     "e62b2c0d9dbc4f60ac75b6c44e550e25": {
      "model_module": "@jupyter-widgets/base",
      "model_module_version": "1.2.0",
      "model_name": "LayoutModel",
      "state": {}
     },
     "e718fb49e4814875aa690a1ef42d3ded": {
      "model_module": "@jupyter-widgets/base",
      "model_module_version": "1.2.0",
      "model_name": "LayoutModel",
      "state": {
       "min_width": "50px",
       "width": "50px"
      }
     },
     "e7322b53a96b4075bc1f9902f1d173b5": {
      "model_module": "@jupyter-widgets/controls",
      "model_module_version": "1.5.0",
      "model_name": "CheckboxModel",
      "state": {
       "description": "70 Hz",
       "disabled": false,
       "indent": false,
       "layout": "IPY_MODEL_17ca1efdd2ed45c89df8617228d8e328",
       "style": "IPY_MODEL_874bf39824cb4d6883321eaa143769e2",
       "value": false
      }
     },
     "e75636f5f6f648c193e1fefebef55d34": {
      "model_module": "@jupyter-widgets/base",
      "model_module_version": "1.2.0",
      "model_name": "LayoutModel",
      "state": {}
     },
     "e7dd5a6c72cc4394bfb17df1308e0350": {
      "model_module": "@jupyter-widgets/base",
      "model_module_version": "1.2.0",
      "model_name": "LayoutModel",
      "state": {
       "height": "28px",
       "min_height": "28px",
       "min_width": "400px",
       "width": "400px"
      }
     },
     "e81200932bf341edbe5d2050831d9cd9": {
      "model_module": "@jupyter-widgets/base",
      "model_module_version": "1.2.0",
      "model_name": "LayoutModel",
      "state": {}
     },
     "e8409eb12dd741d3a47abd89bb2f9964": {
      "model_module": "@jupyter-widgets/controls",
      "model_module_version": "1.5.0",
      "model_name": "DescriptionStyleModel",
      "state": {
       "description_width": ""
      }
     },
     "e847c763d67b42ddb44de87a59f7a611": {
      "model_module": "@jupyter-widgets/controls",
      "model_module_version": "1.5.0",
      "model_name": "HBoxModel",
      "state": {
       "children": [
        "IPY_MODEL_c34880622224404fae4f5a3ad6296adb",
        "IPY_MODEL_747ab40deecb4194b08d7425b797ad96"
       ],
       "layout": "IPY_MODEL_bca6afcb996746868093745a7c916e17"
      }
     },
     "e87e2d048fca4272b60e0e596122f23e": {
      "model_module": "@jupyter-widgets/controls",
      "model_module_version": "1.5.0",
      "model_name": "TextModel",
      "state": {
       "layout": "IPY_MODEL_68752818ae194e72a190d907f4b1e501",
       "placeholder": "Signal length [s]",
       "style": "IPY_MODEL_dca70eee10574832811a9f03a3cdf6ee",
       "value": "0.3"
      }
     },
     "e88800e17fc542719591e37fcc503fe9": {
      "model_module": "@jupyter-widgets/controls",
      "model_module_version": "1.5.0",
      "model_name": "DescriptionStyleModel",
      "state": {
       "description_width": ""
      }
     },
     "e8883baa27d041828b92a53090be3085": {
      "model_module": "@jupyter-widgets/controls",
      "model_module_version": "1.5.0",
      "model_name": "CheckboxModel",
      "state": {
       "description": "50 Hz",
       "disabled": false,
       "indent": false,
       "layout": "IPY_MODEL_6fb7a8a95cc048a4ad7bce97e84d94ea",
       "style": "IPY_MODEL_6ad53fa88a5243ab934ec5cb9f9d5039",
       "value": true
      }
     },
     "e89a3a674c234842b7966fe8f8f31603": {
      "model_module": "@jupyter-widgets/controls",
      "model_module_version": "1.5.0",
      "model_name": "TextModel",
      "state": {
       "layout": "IPY_MODEL_6d10b7dd40e94b659a8015dcb88e8e3c",
       "placeholder": "Additive noise",
       "style": "IPY_MODEL_a4ee980aaeda4941a558f1e0ce0a3a5a",
       "value": "0.2"
      }
     },
     "e8aac3cf340e4e2396bc30e14d845d62": {
      "model_module": "@jupyter-widgets/controls",
      "model_module_version": "1.5.0",
      "model_name": "DescriptionStyleModel",
      "state": {
       "description_width": ""
      }
     },
     "e8b042839ba34c29aa44102629ba9ad6": {
      "model_module": "@jupyter-widgets/controls",
      "model_module_version": "1.5.0",
      "model_name": "TextModel",
      "state": {
       "layout": "IPY_MODEL_571b3c15474f4108882bb6a16e9c3f7c",
       "placeholder": "Signal length [s]",
       "style": "IPY_MODEL_f7d3c2b4f2774886ac8e9f83e79166aa",
       "value": "0.3"
      }
     },
     "e8d97a64fd3d4b3ea94c125f62c661e0": {
      "model_module": "@jupyter-widgets/base",
      "model_module_version": "1.2.0",
      "model_name": "LayoutModel",
      "state": {
       "min_width": "50px",
       "width": "50px"
      }
     },
     "e8f0f0b4a6d943529325d5693de3aa48": {
      "model_module": "@jupyter-widgets/controls",
      "model_module_version": "1.5.0",
      "model_name": "DescriptionStyleModel",
      "state": {
       "description_width": ""
      }
     },
     "e9ea45e8128d47e6b59c8260b7b25796": {
      "model_module": "@jupyter-widgets/base",
      "model_module_version": "1.2.0",
      "model_name": "LayoutModel",
      "state": {
       "height": "28px",
       "min_height": "28px",
       "min_width": "400px",
       "width": "400px"
      }
     },
     "ea917447925e435bb8467deb16f89496": {
      "model_module": "@jupyter-widgets/controls",
      "model_module_version": "1.5.0",
      "model_name": "ButtonModel",
      "state": {
       "description": "Generate plot",
       "layout": "IPY_MODEL_1fedf46379254695a9571fe36034ca06",
       "style": "IPY_MODEL_4270878b8dc64d4bb2b9851efd537b39"
      }
     },
     "eabfb2a8133746fabda3701fff21df42": {
      "model_module": "@jupyter-widgets/controls",
      "model_module_version": "1.5.0",
      "model_name": "ButtonModel",
      "state": {
       "description": "Signal frequency",
       "disabled": true,
       "layout": "IPY_MODEL_96c653bd162d44a4abc9e780a27b19f8",
       "style": "IPY_MODEL_0a5f5ed41490466c9510c11e6e5a32b0"
      }
     },
     "eb03175ca52c4e3fa3f0bc22fee293e2": {
      "model_module": "@jupyter-widgets/base",
      "model_module_version": "1.2.0",
      "model_name": "LayoutModel",
      "state": {}
     },
     "eb11b0f8176944b48cc31d29fdbed159": {
      "model_module": "@jupyter-widgets/controls",
      "model_module_version": "1.5.0",
      "model_name": "ButtonStyleModel",
      "state": {}
     },
     "eb5855560acb47c0bbadfa8a793302f5": {
      "model_module": "@jupyter-widgets/base",
      "model_module_version": "1.2.0",
      "model_name": "LayoutModel",
      "state": {}
     },
     "eb5b5466e5b44096a1329bc37b67b649": {
      "model_module": "@jupyter-widgets/controls",
      "model_module_version": "1.5.0",
      "model_name": "ButtonModel",
      "state": {
       "description": "Signal frequency",
       "disabled": true,
       "layout": "IPY_MODEL_73b84070ae844adf9d364cfffe3f992f",
       "style": "IPY_MODEL_a68c814a4f8d40adb16d7970a61dbce2"
      }
     },
     "ebac7142aab3425385699c6471d6177b": {
      "model_module": "@jupyter-widgets/base",
      "model_module_version": "1.2.0",
      "model_name": "LayoutModel",
      "state": {}
     },
     "ebca3dbaa5c84ded99048fcc7f167c0d": {
      "model_module": "@jupyter-widgets/controls",
      "model_module_version": "1.5.0",
      "model_name": "ButtonModel",
      "state": {
       "description": "Samples per seconds [Hz]",
       "disabled": true,
       "layout": "IPY_MODEL_7997bb6ea9fc4ff9858894905a3bb8ee",
       "style": "IPY_MODEL_6c1dfc0a284a4f1b995902ede7161d9d"
      }
     },
     "ebeb6e6f4ff7443e81495345316ed556": {
      "model_module": "@jupyter-widgets/controls",
      "model_module_version": "1.5.0",
      "model_name": "DescriptionStyleModel",
      "state": {
       "description_width": "initial"
      }
     },
     "ebf035f1f1b74b70863b2fcad4aa18b1": {
      "model_module": "@jupyter-widgets/base",
      "model_module_version": "1.2.0",
      "model_name": "LayoutModel",
      "state": {
       "height": "28px",
       "min_height": "28px",
       "min_width": "400px",
       "width": "400px"
      }
     },
     "ec22ba2188fc42688ba37ca043e71729": {
      "model_module": "@jupyter-widgets/controls",
      "model_module_version": "1.5.0",
      "model_name": "DescriptionStyleModel",
      "state": {
       "description_width": ""
      }
     },
     "ec4237215336413f90a26f7fa6e1984f": {
      "model_module": "@jupyter-widgets/controls",
      "model_module_version": "1.5.0",
      "model_name": "HBoxModel",
      "state": {
       "children": [
        "IPY_MODEL_5b51426318c44e1390c05984cff6cb7c",
        "IPY_MODEL_828d2893861f4365b03ff22244630540"
       ],
       "layout": "IPY_MODEL_83d4b27a31ad4a4b9569dec8f76f83a6"
      }
     },
     "ec8eae5b35d94904b09e94f6b2d86277": {
      "model_module": "@jupyter-widgets/base",
      "model_module_version": "1.2.0",
      "model_name": "LayoutModel",
      "state": {}
     },
     "ec8faf7c30354d69b7e192a40886884f": {
      "model_module": "@jupyter-widgets/base",
      "model_module_version": "1.2.0",
      "model_name": "LayoutModel",
      "state": {}
     },
     "ecb8a427307d4d00a4d8dff55d5015ea": {
      "model_module": "@jupyter-widgets/base",
      "model_module_version": "1.2.0",
      "model_name": "LayoutModel",
      "state": {}
     },
     "ecd1c7a73ba84d02b50ccbc2a01eb15a": {
      "model_module": "@jupyter-widgets/controls",
      "model_module_version": "1.5.0",
      "model_name": "VBoxModel",
      "state": {
       "children": [
        "IPY_MODEL_ca0b382737384dd3acf0d30751714a9a",
        "IPY_MODEL_5764b4b03c654ce9b068cc52856a0146",
        "IPY_MODEL_67dcd1fc86354039bdd3b88872b1cbb6",
        "IPY_MODEL_21f84e6fe4704369ab5ade8293f884a4",
        "IPY_MODEL_f08523d3b58945689820d6caa8d9603c",
        "IPY_MODEL_21c1496d7239439985cc6bf41fad059f"
       ],
       "layout": "IPY_MODEL_1db0282fc18b471e81542c67f1c2aba8"
      }
     },
     "ed53f22639844d5cad91aae6aab7949a": {
      "model_module": "@jupyter-widgets/base",
      "model_module_version": "1.2.0",
      "model_name": "LayoutModel",
      "state": {
       "min_width": "50px",
       "width": "50px"
      }
     },
     "edc55c3b295142adbbcbadb0580aa0ea": {
      "model_module": "@jupyter-widgets/controls",
      "model_module_version": "1.5.0",
      "model_name": "HBoxModel",
      "state": {
       "children": [
        "IPY_MODEL_64a728f2f44c43aeb06c7a835e814135",
        "IPY_MODEL_f6bd64a13f464514a71faf7a0ec55340"
       ],
       "layout": "IPY_MODEL_aaef9db6db834d2b83daeb0666ce3417"
      }
     },
     "edd9d78104cc4dfbbe587c9cfc387507": {
      "model_module": "@jupyter-widgets/base",
      "model_module_version": "1.2.0",
      "model_name": "LayoutModel",
      "state": {
       "height": "28px",
       "min_height": "28px",
       "min_width": "400px",
       "width": "400px"
      }
     },
     "eddfbb9635ab4436896af690a1211a3b": {
      "model_module": "@jupyter-widgets/controls",
      "model_module_version": "1.5.0",
      "model_name": "SliderStyleModel",
      "state": {
       "description_width": ""
      }
     },
     "ee8df54e282147cc884177176054d8f8": {
      "model_module": "@jupyter-widgets/controls",
      "model_module_version": "1.5.0",
      "model_name": "SliderStyleModel",
      "state": {
       "description_width": ""
      }
     },
     "eee9f77f2eee4b589c4cd340c5bf2c5e": {
      "model_module": "@jupyter-widgets/controls",
      "model_module_version": "1.5.0",
      "model_name": "DescriptionStyleModel",
      "state": {
       "description_width": "initial"
      }
     },
     "efa6f5067b394e8a9a36222de44de1e4": {
      "model_module": "@jupyter-widgets/controls",
      "model_module_version": "1.5.0",
      "model_name": "ButtonStyleModel",
      "state": {}
     },
     "efa6fd8cf4804f5898ecb464548992e3": {
      "model_module": "@jupyter-widgets/controls",
      "model_module_version": "1.5.0",
      "model_name": "CheckboxModel",
      "state": {
       "description": "Apply padding",
       "disabled": false,
       "indent": false,
       "layout": "IPY_MODEL_f156f810400a45fba4d8eb04c5100b9f",
       "style": "IPY_MODEL_9aac2c2aff824ba086613e7feb6d6318",
       "value": false
      }
     },
     "efc2c1448fb04268b67edc4d9b9d7085": {
      "model_module": "@jupyter-widgets/controls",
      "model_module_version": "1.5.0",
      "model_name": "ButtonModel",
      "state": {
       "description": "Samples per seconds [Hz]",
       "disabled": true,
       "layout": "IPY_MODEL_d7a664f47d5b4281b19e75b0b0cf92a7",
       "style": "IPY_MODEL_2855590c096042a5a5b4745e8fc92517"
      }
     },
     "efc55c51cf924217b796a20dea3127d2": {
      "model_module": "@jupyter-widgets/controls",
      "model_module_version": "1.5.0",
      "model_name": "ButtonModel",
      "state": {
       "description": "Samples per seconds [Hz]",
       "disabled": true,
       "layout": "IPY_MODEL_20c338dc141848aa906a371e600bc586",
       "style": "IPY_MODEL_68416a64af764ee181a5d86e4117d679"
      }
     },
     "f057432def094d569fad66e55b449e86": {
      "model_module": "@jupyter-widgets/controls",
      "model_module_version": "1.5.0",
      "model_name": "TextModel",
      "state": {
       "layout": "IPY_MODEL_89b89230bddd4e81bd02bc0902c2108e",
       "placeholder": "Additive noise",
       "style": "IPY_MODEL_ceae2170323845ca9405d211e254b2f2",
       "value": "0"
      }
     },
     "f0757cc23af6490fbac0726143368115": {
      "model_module": "@jupyter-widgets/controls",
      "model_module_version": "1.5.0",
      "model_name": "LabelModel",
      "state": {
       "layout": "IPY_MODEL_139ad2e3a1c0408eaefed6820dd5b2bf",
       "style": "IPY_MODEL_2dc18a365713458fa22e22bd95517185",
       "value": "Fundamental frequency from FFT = [50.00, 70.00] [Hz]"
      }
     },
     "f08523d3b58945689820d6caa8d9603c": {
      "model_module": "@jupyter-widgets/controls",
      "model_module_version": "1.5.0",
      "model_name": "HBoxModel",
      "state": {
       "children": [
        "IPY_MODEL_472dc061c50543a690bfd50339dbc76e",
        "IPY_MODEL_3c9c8b0f7078485ba36c4e604051e2c3"
       ],
       "layout": "IPY_MODEL_d26ecafc00c44f92a4ae1af38f2c9c9d"
      }
     },
     "f0a2a005621a4a93bf79aa0fa719226e": {
      "model_module": "@jupyter-widgets/base",
      "model_module_version": "1.2.0",
      "model_name": "LayoutModel",
      "state": {
       "min_width": "50px",
       "width": "50px"
      }
     },
     "f10106ccc5904c7fa83fb0a2ed41d34d": {
      "model_module": "@jupyter-widgets/base",
      "model_module_version": "1.2.0",
      "model_name": "LayoutModel",
      "state": {}
     },
     "f11809e442554d13bc15961f9196a2a5": {
      "model_module": "@jupyter-widgets/base",
      "model_module_version": "1.2.0",
      "model_name": "LayoutModel",
      "state": {
       "height": "28px",
       "min_height": "28px",
       "min_width": "400px",
       "width": "400px"
      }
     },
     "f156f810400a45fba4d8eb04c5100b9f": {
      "model_module": "@jupyter-widgets/base",
      "model_module_version": "1.2.0",
      "model_name": "LayoutModel",
      "state": {}
     },
     "f18d95b363b54d21bbf673ab93e6a200": {
      "model_module": "@jupyter-widgets/base",
      "model_module_version": "1.2.0",
      "model_name": "LayoutModel",
      "state": {
       "height": "28px",
       "min_height": "28px",
       "min_width": "400px",
       "width": "400px"
      }
     },
     "f1b10107868f486c98c078169c5118d7": {
      "model_module": "@jupyter-widgets/controls",
      "model_module_version": "1.5.0",
      "model_name": "LabelModel",
      "state": {
       "layout": "IPY_MODEL_7a155d6765a74264998e85238a32b5f4",
       "style": "IPY_MODEL_fefc64c195dd4f43abc4606cc5649c7d",
       "value": "Signal = generateSine(1000, [50.0], amplitude=[1.0], time=0.3, noise=0.0)"
      }
     },
     "f23ee60a3e594c36b3794f6b1c69463f": {
      "model_module": "@jupyter-widgets/base",
      "model_module_version": "1.2.0",
      "model_name": "LayoutModel",
      "state": {}
     },
     "f28fe343cf2245d5a19a10fa2315ac89": {
      "model_module": "@jupyter-widgets/base",
      "model_module_version": "1.2.0",
      "model_name": "LayoutModel",
      "state": {}
     },
     "f2b7eb5bf4ca4b6ea5d10fa77b650774": {
      "model_module": "@jupyter-widgets/controls",
      "model_module_version": "1.5.0",
      "model_name": "ButtonStyleModel",
      "state": {}
     },
     "f318e9334f4d4243aaaa7743cd4c035d": {
      "model_module": "@jupyter-widgets/controls",
      "model_module_version": "1.5.0",
      "model_name": "IntSliderModel",
      "state": {
       "continuous_update": false,
       "layout": "IPY_MODEL_638c71ec3efa4476869673fbd951c640",
       "max": 3000,
       "min": 100,
       "step": 10,
       "style": "IPY_MODEL_5d05411ada284ba290a03cff136d72b9",
       "value": 1000
      }
     },
     "f37a8803195e46ef88b5ec7d83ef33ce": {
      "model_module": "@jupyter-widgets/base",
      "model_module_version": "1.2.0",
      "model_name": "LayoutModel",
      "state": {
       "height": "28px",
       "min_height": "28px",
       "min_width": "400px",
       "width": "400px"
      }
     },
     "f3fc3f3444ab48cb9b44782dfc627b44": {
      "model_module": "@jupyter-widgets/base",
      "model_module_version": "1.2.0",
      "model_name": "LayoutModel",
      "state": {}
     },
     "f40530fe87bb4710a2e9b9fa3da111ca": {
      "model_module": "@jupyter-widgets/controls",
      "model_module_version": "1.5.0",
      "model_name": "ButtonStyleModel",
      "state": {}
     },
     "f41ad250d7f04c74959abc122e6ab840": {
      "model_module": "@jupyter-widgets/controls",
      "model_module_version": "1.5.0",
      "model_name": "DescriptionStyleModel",
      "state": {
       "description_width": ""
      }
     },
     "f422f49084024bfd9a01e186a2537bd3": {
      "model_module": "@jupyter-widgets/controls",
      "model_module_version": "1.5.0",
      "model_name": "ButtonModel",
      "state": {
       "description": "Signal frequency",
       "disabled": true,
       "layout": "IPY_MODEL_e0fec48cd6214baab5617f26136a7819",
       "style": "IPY_MODEL_7a5299a940244d08b0df2e431c9c45ea"
      }
     },
     "f433666244974e2bbbc89d2474ead2bc": {
      "model_module": "@jupyter-widgets/controls",
      "model_module_version": "1.5.0",
      "model_name": "DescriptionStyleModel",
      "state": {
       "description_width": ""
      }
     },
     "f45341ad976e4c918e3ed3eaecc6bdbd": {
      "model_module": "@jupyter-widgets/base",
      "model_module_version": "1.2.0",
      "model_name": "LayoutModel",
      "state": {
       "height": "28px",
       "min_height": "28px",
       "min_width": "400px",
       "width": "400px"
      }
     },
     "f479892bb4e442c4b7e2d94007bcc8cd": {
      "model_module": "@jupyter-widgets/controls",
      "model_module_version": "1.5.0",
      "model_name": "ButtonModel",
      "state": {
       "description": "Generate plot",
       "layout": "IPY_MODEL_d1b41fd9b8db4a439014e5ba297abc10",
       "style": "IPY_MODEL_0161be9c221e45ff8adcc48bfd8559c1"
      }
     },
     "f4bd41aea30e4796987fbcfcaae02e9c": {
      "model_module": "@jupyter-widgets/controls",
      "model_module_version": "1.5.0",
      "model_name": "HBoxModel",
      "state": {
       "children": [
        "IPY_MODEL_b0f3085193b743be8ce697c9d3b037ef",
        "IPY_MODEL_e2a995ce12f249fa9280b44aa3badd03"
       ],
       "layout": "IPY_MODEL_d49dbb9135984597aaf6fb51b3f6e7b4"
      }
     },
     "f4db60013c124855bc693efa7c217376": {
      "model_module": "@jupyter-widgets/controls",
      "model_module_version": "1.5.0",
      "model_name": "DescriptionStyleModel",
      "state": {
       "description_width": ""
      }
     },
     "f4e783b08ff44b84a8d0f060ac9685ae": {
      "model_module": "@jupyter-widgets/base",
      "model_module_version": "1.2.0",
      "model_name": "LayoutModel",
      "state": {}
     },
     "f4e7927c9c274a9492c2c259819f3b16": {
      "model_module": "@jupyter-widgets/controls",
      "model_module_version": "1.5.0",
      "model_name": "HBoxModel",
      "state": {
       "children": [
        "IPY_MODEL_d644df13a3784ababd8db385b8340d7b",
        "IPY_MODEL_f057432def094d569fad66e55b449e86"
       ],
       "layout": "IPY_MODEL_ccd582f977204966a22d614c8f70aad8"
      }
     },
     "f55062d9ba644a7aae9a29a8df1b6e96": {
      "model_module": "@jupyter-widgets/base",
      "model_module_version": "1.2.0",
      "model_name": "LayoutModel",
      "state": {}
     },
     "f55e10be2c194ed284e41567f7f8252e": {
      "model_module": "@jupyter-widgets/controls",
      "model_module_version": "1.5.0",
      "model_name": "HBoxModel",
      "state": {
       "children": [
        "IPY_MODEL_1556c7d5ea4c4532ab648372bee2c5fd",
        "IPY_MODEL_afd0e8d1e8d14bcea7361a9a92b3023e",
        "IPY_MODEL_88d932b06f134f21b2163e91ff3fe069"
       ],
       "layout": "IPY_MODEL_cedad8caadec4a1a921afe7fd6a96dae"
      }
     },
     "f57181ffa72d4d598c11c1c78aff42f3": {
      "model_module": "@jupyter-widgets/controls",
      "model_module_version": "1.5.0",
      "model_name": "DescriptionStyleModel",
      "state": {
       "description_width": ""
      }
     },
     "f5800729e3844d3b8a53b1843de8dfbb": {
      "model_module": "@jupyter-widgets/base",
      "model_module_version": "1.2.0",
      "model_name": "LayoutModel",
      "state": {}
     },
     "f5eceb235d8840c88e6cad78f2cfb983": {
      "model_module": "@jupyter-widgets/base",
      "model_module_version": "1.2.0",
      "model_name": "LayoutModel",
      "state": {}
     },
     "f606e10aa8ef465e83605aa7e1aeb81b": {
      "model_module": "@jupyter-widgets/controls",
      "model_module_version": "1.5.0",
      "model_name": "VBoxModel",
      "state": {
       "children": [
        "IPY_MODEL_7aab42d646d3424c88450b3499bc2e79",
        "IPY_MODEL_7b5f557fede04e7ea677ab5a713da94e",
        "IPY_MODEL_edc55c3b295142adbbcbadb0580aa0ea",
        "IPY_MODEL_76ccc14c566e41c2ad7226e6e22c75af",
        "IPY_MODEL_f4bd41aea30e4796987fbcfcaae02e9c",
        "IPY_MODEL_6ba17ad15a0540ddb2414e7f151a4dd4"
       ],
       "layout": "IPY_MODEL_f86ba7ca61754441bacd326b928a3c0e"
      }
     },
     "f650f178c6ed48c28dd34cfeadc2cffb": {
      "model_module": "@jupyter-widgets/base",
      "model_module_version": "1.2.0",
      "model_name": "LayoutModel",
      "state": {
       "width": "auto"
      }
     },
     "f6795ec8adba4e22ad9af6467b3c26b5": {
      "model_module": "@jupyter-widgets/base",
      "model_module_version": "1.2.0",
      "model_name": "LayoutModel",
      "state": {
       "height": "28px",
       "min_height": "28px",
       "min_width": "400px",
       "width": "400px"
      }
     },
     "f6b8957aaefb4a598d448846434e4b70": {
      "model_module": "@jupyter-widgets/base",
      "model_module_version": "1.2.0",
      "model_name": "LayoutModel",
      "state": {
       "height": "28px",
       "min_height": "28px",
       "min_width": "400px",
       "width": "400px"
      }
     },
     "f6bd64a13f464514a71faf7a0ec55340": {
      "model_module": "@jupyter-widgets/controls",
      "model_module_version": "1.5.0",
      "model_name": "VBoxModel",
      "state": {
       "children": [
        "IPY_MODEL_a6c99f6ddf1a4a1b8f594f2f7351db1b",
        "IPY_MODEL_03001568735b404299207dc4f39bd8f3"
       ],
       "layout": "IPY_MODEL_89954ca2dc1f4e918d1a6d1dee575b4a"
      }
     },
     "f738d8414ee64d1ebe3cee5ac7fc12eb": {
      "model_module": "@jupyter-widgets/base",
      "model_module_version": "1.2.0",
      "model_name": "LayoutModel",
      "state": {}
     },
     "f775432c2668435fa208585802e23e05": {
      "model_module": "@jupyter-widgets/base",
      "model_module_version": "1.2.0",
      "model_name": "LayoutModel",
      "state": {
       "height": "28px",
       "min_height": "28px",
       "min_width": "400px",
       "width": "400px"
      }
     },
     "f7d3c2b4f2774886ac8e9f83e79166aa": {
      "model_module": "@jupyter-widgets/controls",
      "model_module_version": "1.5.0",
      "model_name": "DescriptionStyleModel",
      "state": {
       "description_width": "initial"
      }
     },
     "f81492fbce96457384a1d871da7c709a": {
      "model_module": "@jupyter-widgets/base",
      "model_module_version": "1.2.0",
      "model_name": "LayoutModel",
      "state": {}
     },
     "f820032709e741bb9caa3a1589465860": {
      "model_module": "@jupyter-widgets/controls",
      "model_module_version": "1.5.0",
      "model_name": "DescriptionStyleModel",
      "state": {
       "description_width": ""
      }
     },
     "f824de52b4084a6b849ccd85baf0ae26": {
      "model_module": "@jupyter-widgets/base",
      "model_module_version": "1.2.0",
      "model_name": "LayoutModel",
      "state": {
       "height": "28px",
       "min_height": "28px",
       "min_width": "400px",
       "width": "400px"
      }
     },
     "f867ffbbf8fd4a4fa1b9e1c26fbb0b6a": {
      "model_module": "@jupyter-widgets/controls",
      "model_module_version": "1.5.0",
      "model_name": "ButtonModel",
      "state": {
       "description": "Generate plot",
       "layout": "IPY_MODEL_f650f178c6ed48c28dd34cfeadc2cffb",
       "style": "IPY_MODEL_72fcc28e10fe4974a748587b674a2411"
      }
     },
     "f86ba7ca61754441bacd326b928a3c0e": {
      "model_module": "@jupyter-widgets/base",
      "model_module_version": "1.2.0",
      "model_name": "LayoutModel",
      "state": {}
     },
     "f877c126b9f745f79a8b401673d480a0": {
      "model_module": "@jupyter-widgets/controls",
      "model_module_version": "1.5.0",
      "model_name": "ButtonModel",
      "state": {
       "description": "Signal amplitude (0 < x < 1)",
       "disabled": true,
       "layout": "IPY_MODEL_3caf4989da2b4c47b7b90ea727d11ddc",
       "style": "IPY_MODEL_91912cb75b474e1b8369a1c2aea5d178"
      }
     },
     "f899719acbac40948ec2e371bd01d664": {
      "model_module": "@jupyter-widgets/base",
      "model_module_version": "1.2.0",
      "model_name": "LayoutModel",
      "state": {}
     },
     "f89e523986934ac295c5f8ca4f008f46": {
      "model_module": "@jupyter-widgets/base",
      "model_module_version": "1.2.0",
      "model_name": "LayoutModel",
      "state": {}
     },
     "f8b57cda21c04793bf4d6cce6766489c": {
      "model_module": "@jupyter-widgets/controls",
      "model_module_version": "1.5.0",
      "model_name": "LabelModel",
      "state": {
       "layout": "IPY_MODEL_a869a6f78d674646915eff70821f3c49",
       "style": "IPY_MODEL_522b3ffbe5ee44b9b32640488cddfe6c",
       "value": "Signal = generateSine(1000, [50.0, 70.0], amplitude=[1.0, 0.3], time=0.3, noise=0.2)"
      }
     },
     "f8e494c97f68455a8df643c5fdf079d6": {
      "model_module": "@jupyter-widgets/controls",
      "model_module_version": "1.5.0",
      "model_name": "ButtonStyleModel",
      "state": {}
     },
     "f930955d52c9431aa47b9a61de3183bd": {
      "model_module": "@jupyter-widgets/controls",
      "model_module_version": "1.5.0",
      "model_name": "VBoxModel",
      "state": {
       "children": [
        "IPY_MODEL_9517378492ef4cb4ad90d42f177b4175",
        "IPY_MODEL_b31d8058d4cd4294a0c51aff662b1d78",
        "IPY_MODEL_c1742d5298ba46adb661c1ba0031dc26",
        "IPY_MODEL_65dabf6b2d1a412bbd7111cc7fbfec67",
        "IPY_MODEL_5fabba87af32493da21e5a38601c38ce",
        "IPY_MODEL_8df56d1527ac47f282b93c6eb011a908"
       ],
       "layout": "IPY_MODEL_0a513f805d594f5382ffdef1d1532172"
      }
     },
     "f94c0a7a43e8406cbb7ac2173b2cd0ac": {
      "model_module": "@jupyter-widgets/controls",
      "model_module_version": "1.5.0",
      "model_name": "ButtonStyleModel",
      "state": {}
     },
     "f96651ee85c84b728c42e43fc3dc9f0f": {
      "model_module": "@jupyter-widgets/controls",
      "model_module_version": "1.5.0",
      "model_name": "ButtonStyleModel",
      "state": {}
     },
     "fa3e78516d2144279e6615a9ed0342b5": {
      "model_module": "@jupyter-widgets/controls",
      "model_module_version": "1.5.0",
      "model_name": "ButtonStyleModel",
      "state": {}
     },
     "fab8bae8c568454bbba1f0693f3ea3a4": {
      "model_module": "@jupyter-widgets/controls",
      "model_module_version": "1.5.0",
      "model_name": "DescriptionStyleModel",
      "state": {
       "description_width": ""
      }
     },
     "fb81337209e84da395ba6c86446f2b31": {
      "model_module": "@jupyter-widgets/controls",
      "model_module_version": "1.5.0",
      "model_name": "ButtonModel",
      "state": {
       "description": "Signal amplitude (0 < x < 1)",
       "disabled": true,
       "layout": "IPY_MODEL_510d0a4d1bbe4e048e82d795adea34a6",
       "style": "IPY_MODEL_efa6f5067b394e8a9a36222de44de1e4"
      }
     },
     "fb9c481e84204001a970267af89b5093": {
      "model_module": "@jupyter-widgets/controls",
      "model_module_version": "1.5.0",
      "model_name": "DescriptionStyleModel",
      "state": {
       "description_width": "initial"
      }
     },
     "fbb6545ca9894126bb7a3c13bcc449e0": {
      "model_module": "@jupyter-widgets/controls",
      "model_module_version": "1.5.0",
      "model_name": "LabelModel",
      "state": {
       "layout": "IPY_MODEL_fd222e4b264945f6bbb81ad971d86d5d",
       "style": "IPY_MODEL_a83042f8e53c4fd98bd61ef41b5b85dc",
       "value": "Fundamental frequency from FFT = [50.00, 63.33] [Hz]"
      }
     },
     "fbcb06c8e84c400fb65c13965a2c1177": {
      "model_module": "@jupyter-widgets/base",
      "model_module_version": "1.2.0",
      "model_name": "LayoutModel",
      "state": {}
     },
     "fbfaeab205844aaca06f9946cd4f2384": {
      "model_module": "@jupyter-widgets/controls",
      "model_module_version": "1.5.0",
      "model_name": "TextModel",
      "state": {
       "layout": "IPY_MODEL_8353dc071a4a45d3b615cff230433451",
       "placeholder": "Amplitude (0 < x < 1)",
       "style": "IPY_MODEL_581355fbd7624d5fa3d825b520609fa2",
       "value": "1"
      }
     },
     "fc151145c8a049e6a93928c161f91817": {
      "model_module": "@jupyter-widgets/controls",
      "model_module_version": "1.5.0",
      "model_name": "ButtonModel",
      "state": {
       "description": "Signal length [seconds]",
       "disabled": true,
       "layout": "IPY_MODEL_b48194f08a594c67a268f8bdba7cb5d0",
       "style": "IPY_MODEL_cebc621c0f194d6381693cc1398be60d"
      }
     },
     "fcb4b1a8782c4069857e313c0a8a3a89": {
      "model_module": "@jupyter-widgets/controls",
      "model_module_version": "1.5.0",
      "model_name": "ButtonStyleModel",
      "state": {}
     },
     "fcd0f6cc4555421ba018e770b0f47c35": {
      "model_module": "@jupyter-widgets/controls",
      "model_module_version": "1.5.0",
      "model_name": "IntSliderModel",
      "state": {
       "continuous_update": false,
       "layout": "IPY_MODEL_d21750ea089e4a3f872bf38840fe9f88",
       "max": 3000,
       "min": 100,
       "step": 10,
       "style": "IPY_MODEL_57b98e7b42fa462dafb8b18441b5816e",
       "value": 1000
      }
     },
     "fd21c2960aa6404eaec46f8fcd1b6dbb": {
      "model_module": "@jupyter-widgets/base",
      "model_module_version": "1.2.0",
      "model_name": "LayoutModel",
      "state": {
       "height": "28px",
       "min_height": "28px",
       "min_width": "400px",
       "width": "400px"
      }
     },
     "fd222e4b264945f6bbb81ad971d86d5d": {
      "model_module": "@jupyter-widgets/base",
      "model_module_version": "1.2.0",
      "model_name": "LayoutModel",
      "state": {}
     },
     "fd272631f8f64095b6caaf16cd76ea9b": {
      "model_module": "@jupyter-widgets/base",
      "model_module_version": "1.2.0",
      "model_name": "LayoutModel",
      "state": {
       "min_width": "50px",
       "width": "50px"
      }
     },
     "fd4b58ddf64a48ec8e4a10993f2de47e": {
      "model_module": "@jupyter-widgets/controls",
      "model_module_version": "1.5.0",
      "model_name": "ButtonModel",
      "state": {
       "description": "Signal frequency",
       "disabled": true,
       "layout": "IPY_MODEL_77cd8b659029484f946b9c51ed2a127a",
       "style": "IPY_MODEL_7753aa1118da4062a1818d14a293d671"
      }
     },
     "fd5c25943de841698b2b9b8969587b98": {
      "model_module": "@jupyter-widgets/base",
      "model_module_version": "1.2.0",
      "model_name": "LayoutModel",
      "state": {
       "width": "auto"
      }
     },
     "fd7675c303e14eeb8bd541100a438659": {
      "model_module": "@jupyter-widgets/controls",
      "model_module_version": "1.5.0",
      "model_name": "DescriptionStyleModel",
      "state": {
       "description_width": "initial"
      }
     },
     "fdd5995edc7f43ffa0ccafc679f4fe22": {
      "model_module": "@jupyter-widgets/base",
      "model_module_version": "1.2.0",
      "model_name": "LayoutModel",
      "state": {}
     },
     "fdd8c30831cc4c24bed00d02fc34958c": {
      "model_module": "@jupyter-widgets/controls",
      "model_module_version": "1.5.0",
      "model_name": "ButtonStyleModel",
      "state": {}
     },
     "fe7d77ed93ca4c17810b7f07d33dfd11": {
      "model_module": "@jupyter-widgets/base",
      "model_module_version": "1.2.0",
      "model_name": "LayoutModel",
      "state": {}
     },
     "feaefa8b5a8e4cab8c9c2aac27f2a8fe": {
      "model_module": "@jupyter-widgets/controls",
      "model_module_version": "1.5.0",
      "model_name": "DescriptionStyleModel",
      "state": {
       "description_width": ""
      }
     },
     "feb13dcbf111405bbb996feec4342cb4": {
      "model_module": "@jupyter-widgets/controls",
      "model_module_version": "1.5.0",
      "model_name": "IntSliderModel",
      "state": {
       "continuous_update": false,
       "layout": "IPY_MODEL_19bac0c4559a4d66aaac961cfb6a0469",
       "max": 3000,
       "min": 100,
       "step": 10,
       "style": "IPY_MODEL_4f4511038ec2469f8011af773cc97a0b",
       "value": 1000
      }
     },
     "fee152902426439bb9112583bd88bf11": {
      "model_module": "@jupyter-widgets/controls",
      "model_module_version": "1.5.0",
      "model_name": "DescriptionStyleModel",
      "state": {
       "description_width": "initial"
      }
     },
     "fef683c8046b4e17bc842c4f72257c8a": {
      "model_module": "@jupyter-widgets/base",
      "model_module_version": "1.2.0",
      "model_name": "LayoutModel",
      "state": {
       "height": "28px",
       "min_height": "28px",
       "min_width": "400px",
       "width": "400px"
      }
     },
     "fefc64c195dd4f43abc4606cc5649c7d": {
      "model_module": "@jupyter-widgets/controls",
      "model_module_version": "1.5.0",
      "model_name": "DescriptionStyleModel",
      "state": {
       "description_width": ""
      }
     },
     "ff3d05bc9d3343fdb2d7675fb8845dff": {
      "model_module": "@jupyter-widgets/controls",
      "model_module_version": "1.5.0",
      "model_name": "DescriptionStyleModel",
      "state": {
       "description_width": "initial"
      }
     },
     "ff4a1a16d813466d8340b40d739c7afc": {
      "model_module": "@jupyter-widgets/controls",
      "model_module_version": "1.5.0",
      "model_name": "HBoxModel",
      "state": {
       "children": [
        "IPY_MODEL_086601eaad184457aab7bae63236bce0",
        "IPY_MODEL_0c103c7d10f6471ea4419f72242f2602"
       ],
       "layout": "IPY_MODEL_9539b8b548aa4180be28fbb059b308fe"
      }
     },
     "ffacb5b2b7974e069999c49b5b73eef2": {
      "model_module": "@jupyter-widgets/controls",
      "model_module_version": "1.5.0",
      "model_name": "ButtonStyleModel",
      "state": {}
     }
    },
    "version_major": 2,
    "version_minor": 0
   }
  }
 },
 "nbformat": 4,
 "nbformat_minor": 4
}
